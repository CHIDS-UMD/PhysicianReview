{
 "cells": [
  {
   "cell_type": "code",
   "execution_count": null,
   "id": "51e30da0",
   "metadata": {
    "ExecuteTime": {
     "end_time": "2021-08-07T17:12:12.484500Z",
     "start_time": "2021-08-07T17:12:12.476616Z"
    }
   },
   "outputs": [],
   "source": [
    "import pandas as pd\n",
    "import os\n",
    "\n",
    "paths = [i for i in os.listdir('Output/') if '_s' in i and '_e' in i]# 'Data/DocListDF_GoogleSearch_s0_e500.p'\n",
    "\n",
    "paths = ['MD_DocListDF_All_GoogleSearch_s0_e10000.p']\n",
    "\n",
    "\n",
    "paths"
   ]
  },
  {
   "cell_type": "code",
   "execution_count": null,
   "id": "8d656c99",
   "metadata": {
    "ExecuteTime": {
     "end_time": "2021-08-07T17:12:27.173846Z",
     "start_time": "2021-08-07T17:12:27.103111Z"
    }
   },
   "outputs": [],
   "source": [
    "Doc2GoogleURL = pd.concat([pd.read_pickle(os.path.join('Output', path)) for path in paths]).reset_index(drop = True)\n",
    "Doc2GoogleURL"
   ]
  },
  {
   "cell_type": "code",
   "execution_count": null,
   "id": "3f3b607c",
   "metadata": {
    "ExecuteTime": {
     "end_time": "2021-08-07T17:12:40.949650Z",
     "start_time": "2021-08-07T17:12:40.938625Z"
    }
   },
   "outputs": [],
   "source": [
    "data = Doc2GoogleURL['searched_urls'].values[5]\n",
    "data"
   ]
  },
  {
   "cell_type": "code",
   "execution_count": null,
   "id": "f117c9d0",
   "metadata": {
    "ExecuteTime": {
     "end_time": "2021-08-07T17:12:56.378097Z",
     "start_time": "2021-08-07T17:12:56.358252Z"
    }
   },
   "outputs": [],
   "source": [
    "import numpy as np\n",
    "\n",
    "\n",
    "def get_website_fun(name):\n",
    "    \n",
    "    def get_website(data):\n",
    "        results = [i for i in data if 'www.{}.com'.format(name) in i]\n",
    "        \n",
    "        if name == 'healthgrades':\n",
    "            results = [i for i in results if 'physician' in i or 'provider' in i]\n",
    "            \n",
    "        elif name == 'zocdoc':\n",
    "            results = [i for i in results if 'write-review' not in i]\n",
    "            \n",
    "        elif name == 'vitals':\n",
    "            results = [i for i in results if 'doctors' in i and 'review' not in i]\n",
    "        \n",
    "        elif name == 'yelp':\n",
    "            results = [i for i in results if 'search' not in i]\n",
    "            \n",
    "            \n",
    "        results = list(set(results))\n",
    "        \n",
    "        if len(results) == 0:\n",
    "            return np.nan\n",
    "        elif len(results) == 1:\n",
    "            return results[0]\n",
    "        else:\n",
    "            # choose the first one by default.\n",
    "            print('more than one')\n",
    "            print(results)\n",
    "            return results[0]\n",
    "        \n",
    "    return get_website\n",
    " \n",
    "    \n",
    "websites2funcs = {name: get_website_fun(name) for name in ['healthgrades', 'zocdoc', 'vitals', 'ratemds', 'yelp']} \n",
    "websites2funcs\n",
    "# get_healthgrade(data)"
   ]
  },
  {
   "cell_type": "code",
   "execution_count": null,
   "id": "519c8ecf",
   "metadata": {
    "ExecuteTime": {
     "end_time": "2021-08-07T17:12:57.453508Z",
     "start_time": "2021-08-07T17:12:57.188047Z"
    },
    "scrolled": false
   },
   "outputs": [],
   "source": [
    "for name, name_func in websites2funcs.items():\n",
    "\n",
    "    Doc2GoogleURL[name] = Doc2GoogleURL['searched_urls'].apply(name_func)\n",
    "    \n",
    "Doc2GoogleURL"
   ]
  },
  {
   "cell_type": "code",
   "execution_count": null,
   "id": "1d3221e7",
   "metadata": {
    "ExecuteTime": {
     "end_time": "2021-08-07T18:35:43.851144Z",
     "start_time": "2021-08-07T18:35:43.808414Z"
    }
   },
   "outputs": [],
   "source": [
    "d = Doc2GoogleURL[[i for i in websites2funcs]]#.describe()\n",
    "d.describe()"
   ]
  },
  {
   "cell_type": "code",
   "execution_count": null,
   "id": "90457d64",
   "metadata": {
    "ExecuteTime": {
     "end_time": "2021-08-07T18:35:32.653972Z",
     "start_time": "2021-08-07T18:35:32.647332Z"
    }
   },
   "outputs": [],
   "source": [
    "d['zocdoc']"
   ]
  },
  {
   "cell_type": "code",
   "execution_count": null,
   "id": "26c9c850",
   "metadata": {},
   "outputs": [],
   "source": []
  },
  {
   "cell_type": "code",
   "execution_count": null,
   "id": "0d6f6e35",
   "metadata": {},
   "outputs": [],
   "source": []
  },
  {
   "cell_type": "code",
   "execution_count": null,
   "id": "501b29b6",
   "metadata": {},
   "outputs": [],
   "source": []
  },
  {
   "cell_type": "code",
   "execution_count": null,
   "id": "819c703c",
   "metadata": {},
   "outputs": [],
   "source": []
  },
  {
   "cell_type": "code",
   "execution_count": null,
   "id": "981c8a7e",
   "metadata": {
    "ExecuteTime": {
     "end_time": "2021-08-02T16:14:33.251783Z",
     "start_time": "2021-08-02T16:14:33.222365Z"
    }
   },
   "outputs": [],
   "source": [
    "Doc2GoogleURL"
   ]
  },
  {
   "cell_type": "code",
   "execution_count": null,
   "id": "1226670a",
   "metadata": {
    "ExecuteTime": {
     "end_time": "2021-08-02T16:14:33.661470Z",
     "start_time": "2021-08-02T16:14:33.629251Z"
    }
   },
   "outputs": [],
   "source": [
    "Doc2GoogleURL[[i for i in websites2funcs]].describe()"
   ]
  },
  {
   "cell_type": "code",
   "execution_count": null,
   "id": "18a66b30",
   "metadata": {
    "ExecuteTime": {
     "end_time": "2021-08-02T16:34:10.586424Z",
     "start_time": "2021-08-02T16:34:10.546939Z"
    }
   },
   "outputs": [],
   "source": [
    "name = 'vitals'\n",
    "Doc2GoogleURL[-Doc2GoogleURL[name].isna()][name].to_list()"
   ]
  },
  {
   "cell_type": "code",
   "execution_count": null,
   "id": "ffbccd9c",
   "metadata": {
    "ExecuteTime": {
     "end_time": "2021-08-02T16:14:34.652943Z",
     "start_time": "2021-08-02T16:14:34.617523Z"
    }
   },
   "outputs": [],
   "source": [
    "Doc2GoogleURL.to_pickle('Data/Doc2GoogleURL.p')"
   ]
  },
  {
   "cell_type": "markdown",
   "id": "4f472e25",
   "metadata": {},
   "source": [
    "# HealthGrades"
   ]
  },
  {
   "cell_type": "code",
   "execution_count": null,
   "id": "2b28e311",
   "metadata": {
    "ExecuteTime": {
     "end_time": "2021-08-01T03:51:03.820786Z",
     "start_time": "2021-08-01T03:51:03.784921Z"
    }
   },
   "outputs": [],
   "source": [
    "name = 'healthgrades'\n",
    "url_list = Doc2GoogleURL[-Doc2GoogleURL[name].isna()][name].to_list()\n",
    "url_list"
   ]
  },
  {
   "cell_type": "code",
   "execution_count": null,
   "id": "018083f7",
   "metadata": {},
   "outputs": [],
   "source": []
  }
 ],
 "metadata": {
  "kernelspec": {
   "display_name": "Python 3 (ipykernel)",
   "language": "python",
   "name": "python3"
  },
  "language_info": {
   "codemirror_mode": {
    "name": "ipython",
    "version": 3
   },
   "file_extension": ".py",
   "mimetype": "text/x-python",
   "name": "python",
   "nbconvert_exporter": "python",
   "pygments_lexer": "ipython3",
   "version": "3.7.10"
  },
  "toc": {
   "base_numbering": 1,
   "nav_menu": {},
   "number_sections": true,
   "sideBar": true,
   "skip_h1_title": false,
   "title_cell": "Table of Contents",
   "title_sidebar": "Contents",
   "toc_cell": false,
   "toc_position": {},
   "toc_section_display": true,
   "toc_window_display": false
  }
 },
 "nbformat": 4,
 "nbformat_minor": 5
}
