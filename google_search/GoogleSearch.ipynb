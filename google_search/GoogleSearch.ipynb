{
 "cells": [
  {
   "cell_type": "markdown",
   "id": "4bda6e2d",
   "metadata": {},
   "source": [
    "# Doctor List"
   ]
  },
  {
   "cell_type": "code",
   "execution_count": null,
   "id": "4916b60f",
   "metadata": {
    "ExecuteTime": {
     "end_time": "2021-09-06T02:47:56.719933Z",
     "start_time": "2021-09-06T02:47:56.308808Z"
    }
   },
   "outputs": [],
   "source": [
    "import pickle\n",
    "import pandas as pd"
   ]
  },
  {
   "cell_type": "markdown",
   "id": "ab0ad3d9",
   "metadata": {},
   "source": [
    "# Google Search URL"
   ]
  },
  {
   "cell_type": "code",
   "execution_count": null,
   "id": "1be39db1",
   "metadata": {
    "ExecuteTime": {
     "end_time": "2021-09-06T03:16:43.383620Z",
     "start_time": "2021-09-06T03:16:43.340768Z"
    }
   },
   "outputs": [],
   "source": [
    "\n",
    "import pandas as pd\n",
    "# from bs4 import BeautifulSoup\n",
    "import re\n",
    "\n",
    "import requests\n",
    "from scrapy.http import TextResponse\n",
    "\n",
    "import cloudscraper\n",
    "\n",
    "\n",
    "\n",
    "# we need headers to disguise our bot as a browser\n",
    "\n",
    "HEADERS = {\n",
    "    \"Connection\": \"keep-alive\",\n",
    "    \"Cache-Control\": \"max-age=0\",\n",
    "    \"Accept\": \"text/html,application/xhtml+xml,application/xml;q=0.9,image/webp,*/*;q=0.8\",\n",
    "    # \"User-Agent\": \"Mozilla/5.0 (Windows NT 6.1; WOW64) AppleWebKit/537.36 (KHTML, like Gecko) Chrome/34.0.1847.131 Safari/537.36\",\n",
    "    'User-Agent': 'Mozilla/5.0 (X11; CrOS x86_64 12871.102.0) AppleWebKit/537.36 (KHTML, like Gecko) Chrome/81.0.4044.141 Safari/537.36',\n",
    "    \"Accept-Encoding\": \"gzip,deflate,sdch\",\n",
    "    # \"Accept-Language\": \"zh-CN,zh;q=0.8,en-US;q=0.6,en;q=0.4,zh-TW;q=0.2\",\n",
    "}\n",
    "\n",
    "HEADERS = {'User-Agent': 'Mozilla/5.0 (X11; CrOS x86_64 12871.102.0) AppleWebKit/537.36 (KHTML, like Gecko) Chrome/81.0.4044.141 Safari/537.36',}\n",
    "\n",
    "scraper = cloudscraper.create_scraper()\n",
    "\n",
    "# for doctor_info in doctor_infolist:\n",
    "#     NPI, keyword = doctor_info\n",
    "#     # break\n",
    "\n",
    "#     # print(keyword, NPI)\n",
    "    \n",
    "    \n",
    "# page_number = 1\n",
    "# print(NPI, keyword)"
   ]
  },
  {
   "cell_type": "code",
   "execution_count": null,
   "id": "12046891",
   "metadata": {
    "ExecuteTime": {
     "end_time": "2021-09-06T02:49:09.201448Z",
     "start_time": "2021-09-06T02:49:09.197570Z"
    }
   },
   "outputs": [],
   "source": [
    "   \n",
    "# r = requests.get(url, headers=HEADERS, timeout=10)\n",
    "# r.url\n",
    "\n",
    "\n",
    "# load the text to scrapy-type response\n",
    "# response = TextResponse(r.url, body = r.text, encoding = 'utf-8')\n",
    "\n",
    "# have a look at its body\n",
    "# print(str(response.body.decode()))\n",
    "\n",
    "\n",
    "# with open('preview.html', 'w') as f:\n",
    "#     f.write(str(response.body.decode()))\n",
    "    \n",
    "# d = response.selector.xpath('.//div[@class=\"g\"]//div[@data-hveid]//a/@href').extract()\n",
    "# d = [i for i in d if 'http' in i]\n",
    "# print(len(d))"
   ]
  },
  {
   "cell_type": "code",
   "execution_count": null,
   "id": "780319df",
   "metadata": {
    "ExecuteTime": {
     "end_time": "2021-09-06T03:05:05.120083Z",
     "start_time": "2021-09-06T03:05:04.024502Z"
    }
   },
   "outputs": [],
   "source": [
    "from pprint import pprint\n",
    "\n",
    "def get_doctor_google_result(keyword, pages = 2, timeout = 10):\n",
    "    \n",
    "    searched_urls = []\n",
    "    \n",
    "    # first two pages\n",
    "    for page_number in range(pages):\n",
    "        url = \"https://www.google.com/search?q=%s&start=%s\" % (keyword, (page_number)*10)\n",
    "        # print(url)\n",
    "        r = requests.get(url, headers=HEADERS, timeout=timeout)\n",
    "        print(r.status_code)\n",
    "        print(r.headers)\n",
    "        \n",
    "        # try:\n",
    "        #     r = requests.get(url, headers=HEADERS, timeout=10)\n",
    "        # except:\n",
    "        #     r = scraper.get(url, headers=HEADERS, timeout=10)\n",
    "            \n",
    "            \n",
    "        response = TextResponse(r.url, body = r.text, encoding = 'utf-8')\n",
    "\n",
    "        # with open('preview.html', 'w') as f:\n",
    "        #     f.write(str(response.body.decode()))\n",
    "        print(response.text)\n",
    "        \n",
    "        d = response.selector.xpath('.//div[@class=\"g\"]//div[@data-hveid]//a/@href').extract()\n",
    "        # pprint(d)\n",
    "        d = [i for i in d if 'http' in i and 'googleusercontent' not in i and 'translate.google.com' not in i]\n",
    "        \n",
    "        print('From ULR {}'.format(url))\n",
    "        print('Get {} results'.format(len(d)))\n",
    "        searched_urls = searched_urls + d\n",
    "        \n",
    "    return searched_urls\n",
    "\n",
    "\n",
    "keyword = 'BRANDON SCOTT MERRITT Family Medicine Physician HURRICANE WV'\n",
    "\n",
    "\n",
    "searched_urls = get_doctor_google_result(keyword, pages = 2)\n",
    "searched_urls"
   ]
  },
  {
   "cell_type": "code",
   "execution_count": null,
   "id": "e98b608a",
   "metadata": {},
   "outputs": [],
   "source": [
    "\"Retry-After\""
   ]
  },
  {
   "cell_type": "code",
   "execution_count": null,
   "id": "0a8d255f",
   "metadata": {
    "ExecuteTime": {
     "end_time": "2021-09-06T03:16:24.354064Z",
     "start_time": "2021-09-06T03:16:23.940830Z"
    }
   },
   "outputs": [],
   "source": [
    "googleTrendsUrl = 'https://google.com'\n",
    "r = requests.get(googleTrendsUrl)\n",
    "if r.status_code == 200:\n",
    "    g_cookies = r.cookies.get_dict()\n",
    "    \n",
    "    \n",
    "g_cookies"
   ]
  },
  {
   "cell_type": "code",
   "execution_count": null,
   "id": "e1d741f8",
   "metadata": {
    "ExecuteTime": {
     "end_time": "2021-09-06T03:16:24.913682Z",
     "start_time": "2021-09-06T03:16:24.910032Z"
    }
   },
   "outputs": [],
   "source": [
    "# headers = {'User-Agent': 'Mozilla/5.0 (Macintosh; Intel Mac OS X 10_11_5)\\\n",
    "#             AppleWebKit/537.36 (KHTML, like Gecko) Cafari/537.36'}\n",
    "# url = 'https://www.google.com?q=' + query\n",
    "# res = requests.get(url, headers=headers, cookies=g_cookies)\n",
    "headers = {'User-Agent': 'Mozilla/5.0 (Windows NT 6.2; Win64; x64) AppleWebKit/537.36 (KHTML, like Gecko) Chrome/75.0.3770.100 Safari/537.36'}"
   ]
  },
  {
   "cell_type": "code",
   "execution_count": null,
   "id": "3e582576",
   "metadata": {
    "ExecuteTime": {
     "end_time": "2021-09-06T03:16:57.159143Z",
     "start_time": "2021-09-06T03:16:56.506499Z"
    }
   },
   "outputs": [],
   "source": [
    "keyword = 'BRANDON SCOTT MERRITT Family Medicine Physician HURRICANE WV'\n",
    "page_number = 0\n",
    "timeout = 10\n",
    "\n",
    "url = \"https://www.google.com/search?q=%s&start=%s\" % (keyword, (page_number)*10)\n",
    "# print(url)\n",
    "r = requests.get(url, headers=HEADERS, timeout=timeout, cookies = g_cookies)\n",
    "print(r.status_code)\n",
    "print(r.headers)\n",
    "# r.headers[\"Retry-After\"]"
   ]
  },
  {
   "cell_type": "markdown",
   "id": "4b48d8d5",
   "metadata": {},
   "source": [
    "# Loop All"
   ]
  },
  {
   "cell_type": "code",
   "execution_count": null,
   "id": "3d23a9bc",
   "metadata": {},
   "outputs": [],
   "source": [
    "from datetime import datetime\n",
    "import numpy as np\n",
    "import time\n",
    "import os\n",
    "\n",
    "\n",
    "tmp_path = 'DocGoogleURL.p' # df.to_pickle()\n",
    "\n",
    "\n",
    "if os.path.exists(tmp_path):\n",
    "    collected_NPIs = pd.read_pickle(tmp_path)['NPI'].to_list()\n",
    "else:\n",
    "    collected_NPIs = []\n",
    "    \n",
    "print('Collected NPI {}'.format(len(collected_NPIs)))\n",
    "\n",
    "\n",
    "L = []\n",
    "for doctor_info in doctor_infolist:\n",
    "    \n",
    "    NPI, keyword = doctor_info\n",
    "    \n",
    "    if NPI in collected_NPIs:\n",
    "        continue\n",
    "        \n",
    "    \n",
    "    print('\\n\\n', str(datetime.now()), keyword, NPI)\n",
    "    \n",
    "    \n",
    "    try: \n",
    "        searched_urls = get_doctor_google_result(keyword, pages = 2)\n",
    "        status = 1\n",
    "        timestamp = str(datetime.now())\n",
    "        \n",
    "        \n",
    "        second = random.randrange(1, 5)\n",
    "        # time.sleep(second)\n",
    "    \n",
    "    except:\n",
    "        print('No result for:', NPI, keyword)\n",
    "        searched_urls = []\n",
    "        status = 0\n",
    "        timestamp = np.nan\n",
    "    \n",
    "    d = {\n",
    "        'NPI': NPI, \n",
    "        'status': status,\n",
    "        'searched_urls': searched_urls,\n",
    "        'clct_time': timestamp\n",
    "    }\n",
    "    \n",
    "    \n",
    "    L.append(d)\n",
    "    \n",
    "    pd.DataFrame(L).df.to_pickle('DocGoogleURL.p')\n",
    "    \n",
    "    \n",
    "    "
   ]
  },
  {
   "cell_type": "code",
   "execution_count": null,
   "id": "3b8fcec1",
   "metadata": {},
   "outputs": [],
   "source": [
    "df.to_pickle('DocGoogleURL.p')"
   ]
  }
 ],
 "metadata": {
  "kernelspec": {
   "display_name": "Python 3 (ipykernel)",
   "language": "python",
   "name": "python3"
  },
  "language_info": {
   "codemirror_mode": {
    "name": "ipython",
    "version": 3
   },
   "file_extension": ".py",
   "mimetype": "text/x-python",
   "name": "python",
   "nbconvert_exporter": "python",
   "pygments_lexer": "ipython3",
   "version": "3.7.10"
  },
  "toc": {
   "base_numbering": 1,
   "nav_menu": {},
   "number_sections": true,
   "sideBar": true,
   "skip_h1_title": false,
   "title_cell": "Table of Contents",
   "title_sidebar": "Contents",
   "toc_cell": false,
   "toc_position": {},
   "toc_section_display": true,
   "toc_window_display": false
  }
 },
 "nbformat": 4,
 "nbformat_minor": 5
}
