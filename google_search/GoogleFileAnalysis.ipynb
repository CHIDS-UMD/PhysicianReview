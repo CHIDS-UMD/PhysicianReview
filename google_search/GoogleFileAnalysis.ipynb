{
 "cells": [
  {
   "cell_type": "markdown",
   "id": "8fd6e96a",
   "metadata": {},
   "source": [
    "# Data"
   ]
  },
  {
   "cell_type": "code",
   "execution_count": null,
   "id": "d2c1a3d8",
   "metadata": {},
   "outputs": [],
   "source": [
    "import pandas as pd\n",
    "import os\n",
    "\n",
    "\n",
    "folder = 'Output'\n",
    "paths = [i for i in os.listdir(folder) if '_s' in i and '_e' in i]# 'Data/DocListDF_GoogleSearch_s0_e500.p'\n",
    "# paths = ['MD_DocListDF_All_GoogleSearch_s0_e10000.p']\n",
    "\n",
    "paths.sort()\n",
    "\n",
    "\n",
    "\n",
    "for path in paths:\n",
    "    try:\n",
    "        df = pd.read_pickle(os.path.join(folder, path))\n",
    "        print(path, '\\t', len(df))\n",
    "    except:\n",
    "        print('Error', path)\n",
    "    "
   ]
  },
  {
   "cell_type": "markdown",
   "id": "cee5c12b",
   "metadata": {},
   "source": [
    "# Get Links for One File"
   ]
  },
  {
   "cell_type": "code",
   "execution_count": null,
   "id": "b6103ccd",
   "metadata": {},
   "outputs": [],
   "source": [
    "import numpy as np\n",
    "\n",
    "\n",
    "def get_website_fun(name):\n",
    "    \n",
    "    def get_website(data):\n",
    "        results = [i for i in data if 'www.{}.com'.format(name) in i]\n",
    "        \n",
    "        if name == 'healthgrades':\n",
    "            results = [i for i in results if 'physician' in i or 'provider' in i]\n",
    "            results = [i for i in results if 'group-directory' not in i]\n",
    "            \n",
    "        elif name == 'zocdoc':\n",
    "            results = [i for i in results if 'write-review' not in i]\n",
    "            \n",
    "        elif name == 'vitals':\n",
    "            results = [i for i in results if 'doctors' in i and 'review' not in i]\n",
    "        \n",
    "        elif name == 'yelp':\n",
    "            results = [i for i in results if 'search' not in i]\n",
    "            \n",
    "        # input\n",
    "        L = []\n",
    "        for i in results:\n",
    "            if i not in L:\n",
    "                L.append(i)\n",
    "        results = L\n",
    "        \n",
    "        if len(results) == 0:\n",
    "            return np.nan\n",
    "        \n",
    "        elif len(results) == 1:\n",
    "            return results#[0]\n",
    "        \n",
    "        else:\n",
    "            # choose the first one by default.\n",
    "            # print('more than one')\n",
    "            # print(results)\n",
    "            return results# [0] keep all the url, and compare with NPIs.\n",
    "        \n",
    "    return get_website\n",
    " \n",
    "    \n",
    "websites2funcs = {name: get_website_fun(name) for name in ['healthgrades', 'zocdoc', 'vitals', 'ratemds', 'yelp']} \n",
    "websites2funcs\n",
    "# get_healthgrade(data)"
   ]
  },
  {
   "cell_type": "code",
   "execution_count": null,
   "id": "f151e83d",
   "metadata": {},
   "outputs": [],
   "source": [
    "folder = 'Output'\n",
    "path = 'MissingOutputKeywords_GoogleSearch_s50000_e60000.p'\n",
    "\n",
    "\n",
    "\n",
    "def get_PhysicianURL_Dict(path, folder = 'Output'):\n",
    "    df = pd.read_pickle(os.path.join(folder, path))\n",
    "    df = df.groupby('NPI').first().reset_index()\n",
    "\n",
    "    D = {}\n",
    "\n",
    "    for website, name_func in websites2funcs.items():\n",
    "        df[website] = df['searched_urls'].apply(name_func)\n",
    "        # df[-df[website].isna()]\n",
    "        D[website] = df[-df[website].isna()][['NPI', website]]\n",
    "    return df, D \n",
    "\n",
    "\n",
    "df, D = get_PhysicianURL_Dict(path, folder = 'Output')\n",
    "s = {}\n",
    "s['path'] = path\n",
    "s['total'] = len(df)\n",
    "for k, v in D.items(): s[k] = len(v)\n",
    "s"
   ]
  },
  {
   "cell_type": "markdown",
   "id": "06a23a04",
   "metadata": {},
   "source": [
    "# Loop All Google Files"
   ]
  },
  {
   "cell_type": "code",
   "execution_count": null,
   "id": "f117c9d0",
   "metadata": {},
   "outputs": [],
   "source": [
    "import pandas as pd\n",
    "import os\n",
    "\n",
    "\n",
    "folder = 'Output'\n",
    "paths = [i for i in os.listdir(folder) if '_s' in i and '_e' in i]# 'Data/DocListDF_GoogleSearch_s0_e500.p'\n",
    "# paths = ['MD_DocListDF_All_GoogleSearch_s0_e10000.p']\n",
    "\n",
    "paths.sort()\n",
    "\n",
    "\n",
    "L = []\n",
    "PhysicianURL = []\n",
    "for path in paths:\n",
    "    # df = pd.read_pickle(os.path.join(folder, path))\n",
    "    df, D = get_PhysicianURL_Dict(path, folder = 'Output')\n",
    "    # df now is of unique NPI\n",
    "    s = {}\n",
    "    s['path'] = path\n",
    "    s['total'] = len(df)\n",
    "    for k, v in D.items(): s[k] = len(v)\n",
    "    L.append(s)\n",
    "    PhysicianURL.append(D)\n",
    "    print(path, '\\t', len(df))\n",
    "    \n",
    "    \n",
    "Description = pd.DataFrame(L)"
   ]
  },
  {
   "cell_type": "code",
   "execution_count": null,
   "id": "774fc432",
   "metadata": {},
   "outputs": [],
   "source": [
    "Description.iloc[:, 1:].sum()"
   ]
  },
  {
   "cell_type": "markdown",
   "id": "f6e244a1",
   "metadata": {},
   "source": [
    "# HealthGrades"
   ]
  },
  {
   "cell_type": "code",
   "execution_count": null,
   "id": "388fc1ea",
   "metadata": {},
   "outputs": [],
   "source": [
    "website = 'healthgrades'\n",
    "NPI2HealthGrades = pd.concat([D[website] for D in PhysicianURL]).reset_index(drop = True)\n",
    "df = NPI2HealthGrades\n",
    "NPI2HealthGrades"
   ]
  },
  {
   "cell_type": "code",
   "execution_count": null,
   "id": "60f03fa6",
   "metadata": {},
   "outputs": [],
   "source": [
    "import itertools\n",
    "\n",
    "a = df[website].to_list()\n",
    "b = list(itertools.chain.from_iterable(a))\n",
    "c = set(b)\n",
    "len(c)"
   ]
  },
  {
   "cell_type": "markdown",
   "id": "fcd17891",
   "metadata": {},
   "source": [
    "# Vitals"
   ]
  },
  {
   "cell_type": "code",
   "execution_count": null,
   "id": "43464da3",
   "metadata": {},
   "outputs": [],
   "source": [
    "website = 'vitals'\n",
    "NPI2Vitals = pd.concat([D[website] for D in PhysicianURL]).reset_index(drop = True)\n",
    "df = NPI2Vitals\n",
    "NPI2Vitals"
   ]
  },
  {
   "cell_type": "code",
   "execution_count": null,
   "id": "21cb47b4",
   "metadata": {},
   "outputs": [],
   "source": [
    "import itertools\n",
    "\n",
    "a = df[website].to_list()\n",
    "b = list(itertools.chain.from_iterable(a))\n",
    "c = set(b)\n",
    "len(c)"
   ]
  },
  {
   "cell_type": "markdown",
   "id": "78bf3c79",
   "metadata": {},
   "source": [
    "# ZocDoc"
   ]
  },
  {
   "cell_type": "code",
   "execution_count": null,
   "id": "6fca500b",
   "metadata": {},
   "outputs": [],
   "source": [
    "website = 'zocdoc'\n",
    "NPI2ZocDoc = pd.concat([D[website] for D in PhysicianURL]).reset_index(drop = True)\n",
    "df = NPI2ZocDoc\n",
    "NPI2ZocDoc"
   ]
  },
  {
   "cell_type": "code",
   "execution_count": null,
   "id": "c29e3181",
   "metadata": {},
   "outputs": [],
   "source": [
    "import itertools\n",
    "\n",
    "a = df[website].to_list()\n",
    "b = list(itertools.chain.from_iterable(a))\n",
    "c = set(b)\n",
    "len(c)"
   ]
  },
  {
   "cell_type": "markdown",
   "id": "df8ec86c",
   "metadata": {},
   "source": [
    "# RateMDs"
   ]
  },
  {
   "cell_type": "code",
   "execution_count": null,
   "id": "3aecfcb5",
   "metadata": {},
   "outputs": [],
   "source": [
    "website = 'ratemds'\n",
    "NPI2RateMDs = pd.concat([D[website] for D in PhysicianURL]).reset_index(drop = True)\n",
    "df = NPI2RateMDs\n",
    "NPI2RateMDs"
   ]
  },
  {
   "cell_type": "code",
   "execution_count": null,
   "id": "07f70169",
   "metadata": {},
   "outputs": [],
   "source": [
    "import itertools\n",
    "\n",
    "a = df[website].to_list()\n",
    "b = list(itertools.chain.from_iterable(a))\n",
    "c = set(b)\n",
    "len(c)"
   ]
  },
  {
   "cell_type": "markdown",
   "id": "e97fc973",
   "metadata": {},
   "source": [
    "# Yelp"
   ]
  },
  {
   "cell_type": "code",
   "execution_count": null,
   "id": "2504c5a9",
   "metadata": {},
   "outputs": [],
   "source": [
    "website = 'yelp'\n",
    "NPI2Yelp = pd.concat([D[website] for D in PhysicianURL]).reset_index(drop = True)\n",
    "df = NPI2Yelp\n",
    "NPI2Yelp"
   ]
  },
  {
   "cell_type": "code",
   "execution_count": null,
   "id": "2929b6f9",
   "metadata": {},
   "outputs": [],
   "source": [
    "import itertools\n",
    "\n",
    "a = df[website].to_list()\n",
    "b = list(itertools.chain.from_iterable(a))\n",
    "c = set(b)\n",
    "len(c)"
   ]
  },
  {
   "cell_type": "code",
   "execution_count": null,
   "id": "1e7e80f6",
   "metadata": {},
   "outputs": [],
   "source": []
  }
 ],
 "metadata": {
  "kernelspec": {
   "display_name": "Python 3 (ipykernel)",
   "language": "python",
   "name": "python3"
  },
  "language_info": {
   "codemirror_mode": {
    "name": "ipython",
    "version": 3
   },
   "file_extension": ".py",
   "mimetype": "text/x-python",
   "name": "python",
   "nbconvert_exporter": "python",
   "pygments_lexer": "ipython3",
   "version": "3.7.10"
  },
  "toc": {
   "base_numbering": 1,
   "nav_menu": {},
   "number_sections": true,
   "sideBar": true,
   "skip_h1_title": false,
   "title_cell": "Table of Contents",
   "title_sidebar": "Contents",
   "toc_cell": false,
   "toc_position": {},
   "toc_section_display": true,
   "toc_window_display": false
  }
 },
 "nbformat": 4,
 "nbformat_minor": 5
}
