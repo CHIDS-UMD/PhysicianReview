{
 "cells": [
  {
   "cell_type": "markdown",
   "id": "8fd6e96a",
   "metadata": {},
   "source": [
    "# Data"
   ]
  },
  {
   "cell_type": "code",
   "execution_count": null,
   "id": "d2c1a3d8",
   "metadata": {
    "ExecuteTime": {
     "end_time": "2021-11-08T15:34:50.777814Z",
     "start_time": "2021-11-08T15:34:44.801440Z"
    },
    "scrolled": true
   },
   "outputs": [],
   "source": [
    "import pandas as pd\n",
    "import os\n",
    "\n",
    "folder = 'Output'\n",
    "paths = [i for i in os.listdir(folder) if '_s' in i and '_e' in i]# 'Data/DocListDF_GoogleSearch_s0_e500.p'\n",
    "\n",
    "paths.sort()\n",
    "L = []\n",
    "for path in paths:\n",
    "    try:\n",
    "        df = pd.read_pickle(os.path.join(folder, path))\n",
    "        print(path, '\\t', len(df))\n",
    "        \n",
    "        L.append(len(df))\n",
    "    except:\n",
    "        print('Error', path)\n",
    "    "
   ]
  },
  {
   "cell_type": "markdown",
   "id": "9ca18678",
   "metadata": {},
   "source": [
    "# MDDO List"
   ]
  },
  {
   "cell_type": "code",
   "execution_count": null,
   "id": "aca11e49",
   "metadata": {
    "ExecuteTime": {
     "end_time": "2021-11-08T15:34:53.265020Z",
     "start_time": "2021-11-08T15:34:50.778916Z"
    }
   },
   "outputs": [],
   "source": [
    "mddo_path = 'Data/NPPESMDDOPhysician.p'\n",
    "MDDO_NPI_included = pd.read_pickle(mddo_path)['NPI'].to_list()"
   ]
  },
  {
   "cell_type": "markdown",
   "id": "cee5c12b",
   "metadata": {},
   "source": [
    "# Get Links for One File"
   ]
  },
  {
   "cell_type": "code",
   "execution_count": null,
   "id": "b6103ccd",
   "metadata": {
    "ExecuteTime": {
     "end_time": "2021-11-08T15:34:53.285482Z",
     "start_time": "2021-11-08T15:34:53.266756Z"
    }
   },
   "outputs": [],
   "source": [
    "import numpy as np\n",
    "\n",
    "def get_website_fun(name):\n",
    "    def get_website(data):\n",
    "        results = [i for i in data if 'www.{}.com'.format(name) in i]\n",
    "        if name == 'healthgrades':\n",
    "            results = [i for i in results if 'physician' in i or 'provider' in i]\n",
    "            results = [i for i in results if 'group-directory' not in i]\n",
    "            \n",
    "        elif name == 'zocdoc':\n",
    "            results = [i for i in results if 'write-review' not in i]\n",
    "            \n",
    "        elif name == 'vitals':\n",
    "            results = [i for i in results if 'doctors' in i and 'review' not in i]\n",
    "        \n",
    "        elif name == 'yelp':\n",
    "            results = [i for i in results if 'search' not in i]\n",
    "            \n",
    "        # input\n",
    "        L = []\n",
    "        for i in results:\n",
    "            if i not in L:\n",
    "                L.append(i)\n",
    "        results = L\n",
    "        \n",
    "        if len(results) == 0:\n",
    "            return np.nan\n",
    "        \n",
    "        elif len(results) == 1:\n",
    "            return results\n",
    "        \n",
    "        else:\n",
    "            return results\n",
    "        \n",
    "    return get_website\n",
    " \n",
    "    \n",
    "websites2funcs = {name: get_website_fun(name) for name in ['healthgrades', 'zocdoc', 'vitals', 'ratemds', 'yelp']} \n",
    "websites2funcs\n",
    "# get_healthgrade(data)"
   ]
  },
  {
   "cell_type": "code",
   "execution_count": null,
   "id": "f151e83d",
   "metadata": {
    "ExecuteTime": {
     "end_time": "2021-11-08T15:34:56.007462Z",
     "start_time": "2021-11-08T15:34:55.561343Z"
    }
   },
   "outputs": [],
   "source": [
    "folder = 'Output'\n",
    "path = 'MissingOutputKeywords_GoogleSearch_s50000_e60000.p'\n",
    "\n",
    "def get_PhysicianURL_Dict(path, folder = 'Output'):\n",
    "    df = pd.read_pickle(os.path.join(folder, path))\n",
    "    df = df[df['NPI'].isin(MDDO_NPI_included)].reset_index(drop = True)\n",
    "    df = df.groupby('NPI').first().reset_index()\n",
    "\n",
    "    D = {}\n",
    "\n",
    "    for website, name_func in websites2funcs.items():\n",
    "        df[website] = df['searched_urls'].apply(name_func)\n",
    "        # df[-df[website].isna()]\n",
    "        D[website] = df[-df[website].isna()][['NPI', website]]\n",
    "    return df, D \n",
    "\n",
    "\n",
    "df, D = get_PhysicianURL_Dict(path, folder = 'Output')\n",
    "s = {}\n",
    "s['path'] = path\n",
    "s['total'] = len(df)\n",
    "for k, v in D.items(): \n",
    "    s[k] = len(v)\n",
    "    \n",
    "print(s)\n",
    "df['searched_urls'].apply(lambda x: len(x)).sum()"
   ]
  },
  {
   "cell_type": "markdown",
   "id": "06a23a04",
   "metadata": {},
   "source": [
    "# Loop All Google Files"
   ]
  },
  {
   "cell_type": "code",
   "execution_count": null,
   "id": "f117c9d0",
   "metadata": {
    "ExecuteTime": {
     "end_time": "2021-11-08T15:36:07.086260Z",
     "start_time": "2021-11-08T15:35:02.368031Z"
    }
   },
   "outputs": [],
   "source": [
    "import pandas as pd\n",
    "import os\n",
    "\n",
    "folder = 'Output'\n",
    "paths = [i for i in os.listdir(folder) if '_s' in i and '_e' in i]# 'Data/DocListDF_GoogleSearch_s0_e500.p'\n",
    "# paths = ['MD_DocListDF_All_GoogleSearch_s0_e10000.p']\n",
    "\n",
    "paths.sort()\n",
    "L = []\n",
    "PhysicianURL = []\n",
    "for path in paths:\n",
    "    df, D = get_PhysicianURL_Dict(path, folder = 'Output')\n",
    "    s = {}\n",
    "    s['path'] = path\n",
    "    s['total'] = len(df)\n",
    "    s['total_google_urls'] = df['searched_urls'].apply(lambda x: len(x)).sum()\n",
    "    for k, v in D.items(): \n",
    "        s[k] = len(v)\n",
    "    L.append(s)\n",
    "    PhysicianURL.append(D)\n",
    "    print(path, '\\t', len(df))"
   ]
  },
  {
   "cell_type": "code",
   "execution_count": null,
   "id": "95ed67a4",
   "metadata": {
    "ExecuteTime": {
     "end_time": "2021-11-08T16:33:20.413305Z",
     "start_time": "2021-11-08T16:33:20.378943Z"
    }
   },
   "outputs": [],
   "source": [
    "Description = pd.DataFrame(L)\n",
    "d = {}\n",
    "d['path'] = 'AllResult'\n",
    "for k, v in Description.iloc[:, 1:].sum().to_dict().items(): d[k] = v\n",
    "Description = pd.DataFrame([d] + L)\n",
    "Description.to_csv('Output/URLReport.csv', index = False)\n",
    "Description"
   ]
  },
  {
   "cell_type": "markdown",
   "id": "f6e244a1",
   "metadata": {},
   "source": [
    "# HealthGrades"
   ]
  },
  {
   "cell_type": "code",
   "execution_count": null,
   "id": "388fc1ea",
   "metadata": {
    "ExecuteTime": {
     "end_time": "2021-09-11T04:19:03.684123Z",
     "start_time": "2021-09-11T04:19:03.579006Z"
    }
   },
   "outputs": [],
   "source": [
    "website = 'healthgrades'\n",
    "df = pd.concat([D[website] for D in PhysicianURL]).reset_index(drop = True)\n",
    "df = df.loc[df['NPI'].drop_duplicates().index]\n",
    "NPI2HealthGrades = df\n",
    "# NPI2HealthGrades.loc[NPI2HealthGrades['NPI'].drop_duplicates().index]\n",
    "NPI2HealthGrades"
   ]
  },
  {
   "cell_type": "code",
   "execution_count": null,
   "id": "3b577159",
   "metadata": {
    "ExecuteTime": {
     "end_time": "2021-09-11T04:19:05.055918Z",
     "start_time": "2021-09-11T04:19:05.030421Z"
    }
   },
   "outputs": [],
   "source": [
    "NPI2HealthGrades['NPI'].value_counts()"
   ]
  },
  {
   "cell_type": "code",
   "execution_count": null,
   "id": "6d07e626",
   "metadata": {
    "ExecuteTime": {
     "end_time": "2021-09-11T04:19:06.099433Z",
     "start_time": "2021-09-11T04:19:06.088546Z"
    }
   },
   "outputs": [],
   "source": [
    "NPI2HealthGrades['NPI'].nunique()"
   ]
  },
  {
   "cell_type": "code",
   "execution_count": null,
   "id": "cf635760",
   "metadata": {
    "ExecuteTime": {
     "end_time": "2021-09-11T04:19:09.275107Z",
     "start_time": "2021-09-11T04:19:09.090198Z"
    }
   },
   "outputs": [],
   "source": [
    "folder = 'NPI2URL/healthgrades/'\n",
    "path = os.path.join(folder, 'MD_Doc2GoogleURL_healthgrades.p')\n",
    "WholeDF = NPI2HealthGrades\n",
    "length = 100000\n",
    "name = 'healthgrades'\n",
    "\n",
    "\n",
    "initialNPI2URL = pd.read_pickle(path)\n",
    "newdf = WholeDF[-WholeDF['NPI'].isin(initialNPI2URL['NPI'])].sort_values('NPI').reset_index(drop = True)\n",
    "print(len(WholeDF))\n",
    "print(len(initialNPI2URL))\n",
    "print(len(newdf))\n",
    "\n",
    "for i in range(1, int(len(newdf)/length) + 2):\n",
    "    start = (i-1) * length\n",
    "    end = i * length\n",
    "    d = newdf.iloc[start:end, :].reset_index(drop = True)\n",
    "    print(len(d))\n",
    "    path = 'NPI2URL/{}/{}_mddo_v{}.p'.format(name, name, i)\n",
    "    print(path)\n",
    "    d.to_pickle(path)\n",
    "    \n"
   ]
  },
  {
   "cell_type": "markdown",
   "id": "fcd17891",
   "metadata": {},
   "source": [
    "# Vitals"
   ]
  },
  {
   "cell_type": "code",
   "execution_count": null,
   "id": "43464da3",
   "metadata": {
    "ExecuteTime": {
     "end_time": "2021-09-11T04:19:16.725875Z",
     "start_time": "2021-09-11T04:19:16.707698Z"
    }
   },
   "outputs": [],
   "source": [
    "website = 'vitals'\n",
    "NPI2Vitals = pd.concat([D[website] for D in PhysicianURL]).reset_index(drop = True)\n",
    "df = NPI2Vitals\n",
    "NPI2Vitals"
   ]
  },
  {
   "cell_type": "code",
   "execution_count": null,
   "id": "3825a074",
   "metadata": {
    "ExecuteTime": {
     "end_time": "2021-09-11T04:19:18.043915Z",
     "start_time": "2021-09-11T04:19:17.743690Z"
    }
   },
   "outputs": [],
   "source": [
    "\n",
    "path = 'NPI2URL/vitals/MD_Doc2GoogleURL_vitals.p'\n",
    "WholeDF = NPI2Vitals\n",
    "length = 100000\n",
    "name = 'vitals'\n",
    "\n",
    "\n",
    "initialNPI2URL = pd.read_pickle(path)\n",
    "newdf = WholeDF[-WholeDF['NPI'].isin(initialNPI2URL['NPI'])].sort_values('NPI').reset_index(drop = True)\n",
    "print(len(WholeDF))\n",
    "print(len(initialNPI2URL))\n",
    "print(len(newdf))\n",
    "\n",
    "for i in range(1, int(len(newdf)/length) + 2):\n",
    "    start = (i-1) * length\n",
    "    end = i * length\n",
    "    d = newdf.iloc[start:end, :].reset_index(drop = True)\n",
    "    print(len(d))\n",
    "    path = 'NPI2URL/{}/{}_mddo_v{}.p'.format(name, name, i)\n",
    "    print(path)\n",
    "    d.to_pickle(path)\n",
    "    \n"
   ]
  },
  {
   "cell_type": "markdown",
   "id": "78bf3c79",
   "metadata": {},
   "source": [
    "# ZocDoc"
   ]
  },
  {
   "cell_type": "code",
   "execution_count": null,
   "id": "6fca500b",
   "metadata": {
    "ExecuteTime": {
     "end_time": "2021-09-11T04:19:24.103263Z",
     "start_time": "2021-09-11T04:19:24.089719Z"
    }
   },
   "outputs": [],
   "source": [
    "website = 'zocdoc'\n",
    "NPI2ZocDoc = pd.concat([D[website] for D in PhysicianURL]).reset_index(drop = True)\n",
    "df = NPI2ZocDoc\n",
    "NPI2ZocDoc"
   ]
  },
  {
   "cell_type": "code",
   "execution_count": null,
   "id": "2a9f7d90",
   "metadata": {
    "ExecuteTime": {
     "end_time": "2021-09-11T04:19:24.912786Z",
     "start_time": "2021-09-11T04:19:24.851270Z"
    }
   },
   "outputs": [],
   "source": [
    "\n",
    "path = 'NPI2URL/zocdoc/MD_Doc2GoogleURL_zocdoc.p'\n",
    "WholeDF = NPI2ZocDoc\n",
    "length = 100000\n",
    "name = 'zocdoc'\n",
    "\n",
    "\n",
    "initialNPI2URL = pd.read_pickle(path)\n",
    "newdf = WholeDF[-WholeDF['NPI'].isin(initialNPI2URL['NPI'])].sort_values('NPI').reset_index(drop = True)\n",
    "print(len(WholeDF))\n",
    "print(len(initialNPI2URL))\n",
    "print(len(newdf))\n",
    "\n",
    "for i in range(1, int(len(newdf)/length) + 2):\n",
    "    start = (i-1) * length\n",
    "    end = i * length\n",
    "    d = newdf.iloc[start:end, :].reset_index(drop = True)\n",
    "    print(len(d))\n",
    "    path = 'NPI2URL/{}/{}_mddo_v{}.p'.format(name, name, i)\n",
    "    print(path)\n",
    "    d.to_pickle(path)\n",
    "    \n"
   ]
  },
  {
   "cell_type": "markdown",
   "id": "df8ec86c",
   "metadata": {},
   "source": [
    "# RateMDs"
   ]
  },
  {
   "cell_type": "code",
   "execution_count": null,
   "id": "3aecfcb5",
   "metadata": {
    "ExecuteTime": {
     "end_time": "2021-09-11T04:19:26.409096Z",
     "start_time": "2021-09-11T04:19:26.396083Z"
    }
   },
   "outputs": [],
   "source": [
    "website = 'ratemds'\n",
    "NPI2RateMDs = pd.concat([D[website] for D in PhysicianURL]).reset_index(drop = True)\n",
    "df = NPI2RateMDs\n",
    "NPI2RateMDs"
   ]
  },
  {
   "cell_type": "code",
   "execution_count": null,
   "id": "83938d18",
   "metadata": {
    "ExecuteTime": {
     "end_time": "2021-09-11T04:19:33.096350Z",
     "start_time": "2021-09-11T04:19:33.016851Z"
    }
   },
   "outputs": [],
   "source": [
    "\n",
    "path = 'NPI2URL/ratemds/MD_Doc2GoogleURL_ratemds.p'\n",
    "WholeDF = NPI2RateMDs\n",
    "length = 100000\n",
    "name = 'ratemds'\n",
    "\n",
    "\n",
    "initialNPI2URL = pd.read_pickle(path)\n",
    "newdf = WholeDF[-WholeDF['NPI'].isin(initialNPI2URL['NPI'])].sort_values('NPI').reset_index(drop = True)\n",
    "print(len(WholeDF))\n",
    "print(len(initialNPI2URL))\n",
    "print(len(newdf))\n",
    "\n",
    "for i in range(1, int(len(newdf)/length) + 2):\n",
    "    start = (i-1) * length\n",
    "    end = i * length\n",
    "    d = newdf.iloc[start:end, :].reset_index(drop = True)\n",
    "    print(len(d))\n",
    "    path = 'NPI2URL/{}/{}_mddo_v{}.p'.format(name, name, i)\n",
    "    print(path)\n",
    "    d.to_pickle(path)\n",
    "    \n"
   ]
  },
  {
   "cell_type": "markdown",
   "id": "e97fc973",
   "metadata": {},
   "source": [
    "# Yelp"
   ]
  },
  {
   "cell_type": "code",
   "execution_count": null,
   "id": "2504c5a9",
   "metadata": {
    "ExecuteTime": {
     "end_time": "2021-09-11T04:19:37.540868Z",
     "start_time": "2021-09-11T04:19:37.529544Z"
    }
   },
   "outputs": [],
   "source": [
    "website = 'yelp'\n",
    "NPI2Yelp = pd.concat([D[website] for D in PhysicianURL]).reset_index(drop = True)\n",
    "df = NPI2Yelp\n",
    "NPI2Yelp"
   ]
  },
  {
   "cell_type": "code",
   "execution_count": null,
   "id": "8d91609b",
   "metadata": {
    "ExecuteTime": {
     "end_time": "2021-09-11T04:19:38.594610Z",
     "start_time": "2021-09-11T04:19:38.577911Z"
    }
   },
   "outputs": [],
   "source": [
    "path = 'NPI2URL/yelp/MD_Doc2GoogleURL_yelp.p'\n",
    "WholeDF = NPI2Yelp\n",
    "length = 100000\n",
    "name = 'yelp'\n",
    "\n",
    "\n",
    "initialNPI2URL = pd.read_pickle(path)\n",
    "newdf = WholeDF[-WholeDF['NPI'].isin(initialNPI2URL['NPI'])].sort_values('NPI').reset_index(drop = True)\n",
    "print(len(WholeDF))\n",
    "print(len(initialNPI2URL))\n",
    "print(len(newdf))\n",
    "\n",
    "for i in range(1, int(len(newdf)/length) + 2):\n",
    "    start = (i-1) * length\n",
    "    end = i * length\n",
    "    d = newdf.iloc[start:end, :].reset_index(drop = True)\n",
    "    print(len(d))\n",
    "    path = 'NPI2URL/{}/{}_mddo_v{}.p'.format(name, name, i)\n",
    "    print(path)\n",
    "    d.to_pickle(path)"
   ]
  }
 ],
 "metadata": {
  "kernelspec": {
   "display_name": "Python 3 (ipykernel)",
   "language": "python",
   "name": "python3"
  },
  "language_info": {
   "codemirror_mode": {
    "name": "ipython",
    "version": 3
   },
   "file_extension": ".py",
   "mimetype": "text/x-python",
   "name": "python",
   "nbconvert_exporter": "python",
   "pygments_lexer": "ipython3",
   "version": "3.7.10"
  },
  "toc": {
   "base_numbering": 1,
   "nav_menu": {},
   "number_sections": true,
   "sideBar": true,
   "skip_h1_title": false,
   "title_cell": "Table of Contents",
   "title_sidebar": "Contents",
   "toc_cell": false,
   "toc_position": {},
   "toc_section_display": true,
   "toc_window_display": false
  }
 },
 "nbformat": 4,
 "nbformat_minor": 5
}
