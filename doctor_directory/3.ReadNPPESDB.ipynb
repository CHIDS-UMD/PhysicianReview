{
 "cells": [
  {
   "cell_type": "markdown",
   "id": "b1559c9c",
   "metadata": {},
   "source": [
    "# Read NPPES Raw"
   ]
  },
  {
   "cell_type": "code",
   "execution_count": null,
   "id": "46737af8",
   "metadata": {
    "ExecuteTime": {
     "end_time": "2021-11-08T04:26:48.165466Z",
     "start_time": "2021-11-08T04:26:46.408467Z"
    }
   },
   "outputs": [],
   "source": [
    "# from sqlalchemy import create_engine\n",
    "# import pandas as pd\n",
    "# db_connection_str = 'mysql+pymysql://root:@localhost:3306/physicianinfo?charset=utf8'\n",
    "# db_connection = create_engine(db_connection_str)\n",
    "# sql = 'SELECT * FROM physicianinfo.NPPESPhysician where MDDO = 1;'\n",
    "# df = pd.read_sql(sql, con=db_connection)\n",
    "# df.to_pickle('Data/NPPES/NPPESMDDOPhysician.p')\n",
    "# print(len(df))\n",
    "\n",
    "import pandas as pd\n",
    "df = pd.read_pickle('Data/NPPES/NPPESMDDOPhysician.p')\n",
    "print(len(df))\n",
    "df.head()"
   ]
  },
  {
   "cell_type": "markdown",
   "id": "5ae24669",
   "metadata": {},
   "source": [
    "# Zip Information"
   ]
  },
  {
   "cell_type": "code",
   "execution_count": null,
   "id": "181602c0",
   "metadata": {
    "ExecuteTime": {
     "end_time": "2021-11-08T04:27:06.518777Z",
     "start_time": "2021-11-08T04:26:57.284613Z"
    }
   },
   "outputs": [],
   "source": [
    "import numpy as np\n",
    "import json\n",
    "\n",
    "def get_zip_code(x):\n",
    "    try: \n",
    "        zipcode = int(json.loads(x)[\"Postal Code\"]) \n",
    "    except: \n",
    "        zipcode = 0\n",
    "    return zipcode\n",
    "\n",
    "df['BusinessZip'] = df['BusinessMailingAddress'].apply(lambda x: get_zip_code(x))# .astype(int)\n",
    "df['PracticeZip'] = df['PracticeLocationAddress'].apply(lambda x: get_zip_code(x))# .astype(int)\n",
    "df['BusinessZip5'] = df['BusinessZip'].apply(lambda x: int(str(x)[:5]) if len(str(x)) in [5, 9] else np.nan)\n",
    "df['PracticeZip5'] = df['PracticeZip'].apply(lambda x: int(str(x)[:5]) if len(str(x)) in [5, 9] else np.nan)\n",
    "\n",
    "df.columns"
   ]
  },
  {
   "cell_type": "markdown",
   "id": "8413e7ba",
   "metadata": {},
   "source": [
    "# Specialty Information"
   ]
  },
  {
   "cell_type": "code",
   "execution_count": null,
   "id": "14a1d286",
   "metadata": {
    "ExecuteTime": {
     "end_time": "2021-11-08T04:27:26.023132Z",
     "start_time": "2021-11-08T04:27:25.828132Z"
    }
   },
   "outputs": [],
   "source": [
    "path = 'Data/NPPES/nucc_taxonomy_211.csv'\n",
    "RawData = pd.read_csv(path)\n",
    "\n",
    "code2specialty = RawData[['Code', 'Display Name']]\n",
    "code2specialty_dict = dict(zip(code2specialty['Code'].values, code2specialty['Display Name'].values))\n",
    "df['Specialty'] = df['MainTaxonomy'].apply(lambda x: code2specialty_dict.get(x, None))"
   ]
  },
  {
   "cell_type": "markdown",
   "id": "6771b648",
   "metadata": {},
   "source": [
    "# Graduation Year"
   ]
  },
  {
   "cell_type": "code",
   "execution_count": null,
   "id": "c2b027c5",
   "metadata": {
    "ExecuteTime": {
     "end_time": "2021-11-08T04:30:00.732215Z",
     "start_time": "2021-11-08T04:29:45.865293Z"
    }
   },
   "outputs": [],
   "source": [
    "path = 'Data/DAC_NationalDownloadableFile.csv'\n",
    "\n",
    "RawData = pd.read_csv(path, encoding='ISO-8859-1', low_memory=False)\n",
    "RawData.columns = [i.strip() for i in RawData.columns]\n",
    "RawData = RawData[- RawData['NPI'].duplicated()].reset_index(drop = True)\n",
    "tmp = pd.merge(df[['NPI', 'LastName', 'FirstName', 'Gender', 'Credential', 'Sole', \n",
    "                   'BusinessZip', 'PracticeZip', 'Specialty', 'BusinessZip5', 'PracticeZip5']], \n",
    "               RawData[['NPI', 'Med_sch', 'Grd_yr', 'pri_spec', 'zip']],  on = 'NPI', how = 'left')\n",
    "tmp"
   ]
  },
  {
   "cell_type": "code",
   "execution_count": null,
   "id": "aa4972f9",
   "metadata": {
    "ExecuteTime": {
     "end_time": "2021-11-08T04:30:02.228780Z",
     "start_time": "2021-11-08T04:30:00.733439Z"
    }
   },
   "outputs": [],
   "source": [
    "tmp[['NPI', 'LastName', 'FirstName']].to_csv('Output/NPI2Name.csv', index = False)"
   ]
  },
  {
   "cell_type": "markdown",
   "id": "d4c51094",
   "metadata": {},
   "source": [
    "# Race"
   ]
  },
  {
   "cell_type": "code",
   "execution_count": null,
   "id": "2d326ae1",
   "metadata": {
    "ExecuteTime": {
     "end_time": "2021-11-08T04:30:04.563418Z",
     "start_time": "2021-11-08T04:30:03.051052Z"
    }
   },
   "outputs": [],
   "source": [
    "path = 'Data/NPPES/NPI2NameMDDORace.csv'\n",
    "cols = ['NPI', 'race', 'asian', 'hispanic', 'nh_black', 'nh_white']\n",
    "NPI2NameRace = pd.read_csv(path)[cols]\n",
    "FinalData = pd.merge(tmp, NPI2NameRace, on = 'NPI', how = 'left')\n",
    "FinalData"
   ]
  },
  {
   "cell_type": "markdown",
   "id": "db726ec9",
   "metadata": {},
   "source": [
    "# Zip Information"
   ]
  },
  {
   "cell_type": "code",
   "execution_count": null,
   "id": "bd26d7e0",
   "metadata": {
    "ExecuteTime": {
     "end_time": "2021-11-08T04:30:54.871467Z",
     "start_time": "2021-11-08T04:30:54.410178Z"
    }
   },
   "outputs": [],
   "source": [
    "zipSeries = pd.Series(list(set(FinalData['BusinessZip'].to_list() + FinalData['PracticeZip'].to_list())))\n",
    "zipSeries.apply(lambda x: len(str(x))).value_counts().sort_index()"
   ]
  },
  {
   "cell_type": "code",
   "execution_count": null,
   "id": "6af203c8",
   "metadata": {
    "ExecuteTime": {
     "end_time": "2021-11-08T04:30:57.710012Z",
     "start_time": "2021-11-08T04:30:57.481207Z"
    }
   },
   "outputs": [],
   "source": [
    "zipcode2freq = zipSeries.apply(lambda x: str(x)[:5] if len(str(x)) in [5, 9] else np.nan).value_counts().sort_index()\n",
    "zipcode2freq"
   ]
  },
  {
   "cell_type": "code",
   "execution_count": null,
   "id": "097816f0",
   "metadata": {
    "ExecuteTime": {
     "start_time": "2021-11-08T04:31:19.144Z"
    },
    "scrolled": true
   },
   "outputs": [],
   "source": [
    "import pandas as pd\n",
    "from uszipcode import SearchEngine\n",
    "search = SearchEngine(simple_zipcode=False)\n",
    "\n",
    "L = []\n",
    "for zipcode in zipcode2freq.index:\n",
    "    zipcode = str(zipcode)\n",
    "    # print(zipcode)\n",
    "    \n",
    "    d = {}\n",
    "    try:\n",
    "        info = search.by_zipcode(zipcode).to_dict()\n",
    "        d['zipcode'] = zipcode\n",
    "        d['population'] = info['population']\n",
    "        d['population_density'] = info['population_density']\n",
    "        L.append(d)\n",
    "    except:\n",
    "        print(zipcode)\n",
    "\n",
    "Zip2Population = pd.DataFrame(L)\n",
    "Zip2Population.to_pickle('Output/Zip2Population.p')\n",
    "Zip2Population"
   ]
  }
 ],
 "metadata": {
  "kernelspec": {
   "display_name": "Python 3 (ipykernel)",
   "language": "python",
   "name": "python3"
  },
  "language_info": {
   "codemirror_mode": {
    "name": "ipython",
    "version": 3
   },
   "file_extension": ".py",
   "mimetype": "text/x-python",
   "name": "python",
   "nbconvert_exporter": "python",
   "pygments_lexer": "ipython3",
   "version": "3.7.10"
  },
  "toc": {
   "base_numbering": 1,
   "nav_menu": {},
   "number_sections": true,
   "sideBar": true,
   "skip_h1_title": false,
   "title_cell": "Table of Contents",
   "title_sidebar": "Contents",
   "toc_cell": false,
   "toc_position": {},
   "toc_section_display": true,
   "toc_window_display": false
  }
 },
 "nbformat": 4,
 "nbformat_minor": 5
}
