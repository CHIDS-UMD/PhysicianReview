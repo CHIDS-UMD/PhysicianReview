{
 "cells": [
  {
   "cell_type": "markdown",
   "id": "21534bc6",
   "metadata": {},
   "source": [
    "# Raw Data"
   ]
  },
  {
   "cell_type": "code",
   "execution_count": null,
   "id": "e10aba77",
   "metadata": {
    "ExecuteTime": {
     "end_time": "2021-08-15T18:38:06.029163Z",
     "start_time": "2021-08-15T18:37:52.085829Z"
    }
   },
   "outputs": [],
   "source": [
    "import pandas as pd\n",
    "pd.set_option('display.max_columns', None)\n",
    "\n",
    "path = 'Data/DAC_NationalDownloadableFile.csv'\n",
    "RawData = pd.read_csv(path, low_memory = False, encoding = 'ISO-8859-1')\n",
    "RawData.columns = [i.strip() for i in RawData.columns]\n",
    "cols = ['NPI','frst_nm',  'mid_nm', 'lst_nm', 'suff', 'gndr', 'Cred', 'pri_spec', 'cty', 'st', 'zip']\n",
    "\n",
    "RawData = RawData[cols]\n",
    "# RawData = RawData.drop_duplicates().reset_index(drop = True)\n",
    "RawData"
   ]
  },
  {
   "cell_type": "code",
   "execution_count": null,
   "id": "445d1086",
   "metadata": {
    "ExecuteTime": {
     "end_time": "2021-08-12T18:17:51.672394Z",
     "start_time": "2021-08-12T18:17:51.388300Z"
    }
   },
   "outputs": [],
   "source": [
    "# NPI and its accounts\n",
    "print('Unique NPI we have: {}'.format(len(RawData['NPI'].value_counts())))\n",
    "RawData['NPI'].value_counts()"
   ]
  },
  {
   "cell_type": "code",
   "execution_count": null,
   "id": "d5ef88dd",
   "metadata": {
    "ExecuteTime": {
     "end_time": "2021-08-12T18:17:53.832020Z",
     "start_time": "2021-08-12T18:17:51.673227Z"
    }
   },
   "outputs": [],
   "source": [
    "# RawData['Cred'].value_counts()#.sum()\n",
    "UniqueRawData = RawData.groupby('NPI').first().reset_index()\n",
    "UniqueRawData"
   ]
  },
  {
   "cell_type": "code",
   "execution_count": null,
   "id": "c3d8d566",
   "metadata": {
    "ExecuteTime": {
     "end_time": "2021-08-12T18:17:54.475920Z",
     "start_time": "2021-08-12T18:17:53.833343Z"
    }
   },
   "outputs": [],
   "source": [
    "UniqueRawData.fillna('Missing')['Cred'].value_counts()"
   ]
  },
  {
   "cell_type": "markdown",
   "id": "e0669e12",
   "metadata": {},
   "source": [
    "# Generate Keywords"
   ]
  },
  {
   "cell_type": "code",
   "execution_count": null,
   "id": "f9494581",
   "metadata": {
    "ExecuteTime": {
     "end_time": "2021-08-12T18:17:54.479885Z",
     "start_time": "2021-08-12T18:17:54.476707Z"
    }
   },
   "outputs": [],
   "source": [
    "def get_doctor_info(DoctorDF):\n",
    "    doctor_infolist = []\n",
    "    for _, row in DoctorDF.iterrows():\n",
    "        # most results: fistname is before lastname\n",
    "        if row['mid_nm'] == \"NaN\":\n",
    "            doctor_info = \"{} {} {} {} {}\".format(row['frst_nm'], row['lst_nm'], \n",
    "                                                  row['pri_spec'], \n",
    "                                                  row['cty'], row['st'],\n",
    "                                                  # row['zip']\n",
    "                                                    )\n",
    "        else:\n",
    "            doctor_info = \"{} {} {} {} {} {}\".format(row['frst_nm'], row['mid_nm'],  row['lst_nm'], \n",
    "                                                  row['pri_spec'], \n",
    "                                                  row['cty'], row['st'],\n",
    "                                                  # row['zip']\n",
    "                                                )\n",
    "        # print(doctor_info)\n",
    "        doctor_infolist.append([row['NPI'], doctor_info])\n",
    "\n",
    "    return doctor_infolist"
   ]
  },
  {
   "cell_type": "code",
   "execution_count": null,
   "id": "ccde1a7f",
   "metadata": {
    "ExecuteTime": {
     "end_time": "2021-08-12T18:18:17.351116Z",
     "start_time": "2021-08-12T18:18:09.489510Z"
    }
   },
   "outputs": [],
   "source": [
    "RawData2 = RawData[RawData['Cred'] == 'MD'].reset_index(drop = True)\n",
    "MDData = RawData2.groupby('NPI').first().reset_index()\n",
    "MDData = MDData.fillna('NaN')\n",
    "MDData.to_pickle('Output/MDData.p')\n",
    "MDData['keyword'] = get_doctor_info(MDData)\n",
    "MDData[['NPI', 'keyword']].to_pickle('Output/MDDataKeywords.p')\n",
    "print(MDData.shape)"
   ]
  },
  {
   "cell_type": "code",
   "execution_count": null,
   "id": "1833fedb",
   "metadata": {
    "ExecuteTime": {
     "end_time": "2021-08-12T18:18:53.884648Z",
     "start_time": "2021-08-12T18:18:17.352618Z"
    }
   },
   "outputs": [],
   "source": [
    "RawData2 = RawData[RawData['Cred'].isna()].reset_index(drop = True)\n",
    "MDData = RawData2.groupby('NPI').first().reset_index()\n",
    "MDData = MDData.fillna('NaN')\n",
    "MDData.to_pickle('Output/MissingData.p')\n",
    "MDData['keyword'] = get_doctor_info(MDData)\n",
    "MDData[['NPI', 'keyword']].to_pickle('Output/MissingDataKeywords.p')\n",
    "print(MDData.shape)"
   ]
  },
  {
   "cell_type": "code",
   "execution_count": null,
   "id": "4a3a181e",
   "metadata": {
    "ExecuteTime": {
     "end_time": "2021-08-12T18:25:23.887949Z",
     "start_time": "2021-08-12T18:25:23.493727Z"
    }
   },
   "outputs": [],
   "source": [
    "MDData[['NPI', 'keyword']].iloc[:int(len(MDData)/2), ].to_pickle('Output/MissingDataKeywordsPart1.p')\n",
    "MDData[['NPI', 'keyword']].iloc[int(len(MDData)/2):, ].reset_index(drop = True).to_pickle('Output/MissingDataKeywordsPart2.p')"
   ]
  },
  {
   "cell_type": "markdown",
   "id": "0e7a6146",
   "metadata": {},
   "source": [
    "# Split Half and Half"
   ]
  },
  {
   "cell_type": "code",
   "execution_count": null,
   "id": "04359059",
   "metadata": {
    "ExecuteTime": {
     "end_time": "2021-08-08T02:48:52.615234Z",
     "start_time": "2021-08-08T02:48:52.258604Z"
    }
   },
   "outputs": [],
   "source": [
    "old_md_doc_dir = 'Data/MD_DocListDF_All.p'\n",
    "\n",
    "Old_MD_Doc = pd.read_pickle(old_md_doc_dir)\n",
    "existed_npi = Old_MD_Doc.iloc[:100000]['NPI'].unique()\n",
    "len(existed_npi)"
   ]
  },
  {
   "cell_type": "code",
   "execution_count": null,
   "id": "03c905d6",
   "metadata": {
    "ExecuteTime": {
     "end_time": "2021-08-08T02:50:27.672949Z",
     "start_time": "2021-08-08T02:50:27.590307Z"
    }
   },
   "outputs": [],
   "source": [
    "Second_MDData = MDData[-MDData['NPI'].isin(existed_npi)].reset_index(drop = True)\n",
    "Second_MDData"
   ]
  },
  {
   "cell_type": "code",
   "execution_count": null,
   "id": "d6c0417e",
   "metadata": {
    "ExecuteTime": {
     "end_time": "2021-08-08T02:50:53.000802Z",
     "start_time": "2021-08-08T02:50:52.921822Z"
    }
   },
   "outputs": [],
   "source": [
    "Second_MDData[['NPI', 'keyword']].to_pickle('Output/Second_MDDataKeywords.p')"
   ]
  }
 ],
 "metadata": {
  "kernelspec": {
   "display_name": "Python 3 (ipykernel)",
   "language": "python",
   "name": "python3"
  },
  "language_info": {
   "codemirror_mode": {
    "name": "ipython",
    "version": 3
   },
   "file_extension": ".py",
   "mimetype": "text/x-python",
   "name": "python",
   "nbconvert_exporter": "python",
   "pygments_lexer": "ipython3",
   "version": "3.7.10"
  },
  "toc": {
   "base_numbering": 1,
   "nav_menu": {},
   "number_sections": true,
   "sideBar": true,
   "skip_h1_title": false,
   "title_cell": "Table of Contents",
   "title_sidebar": "Contents",
   "toc_cell": false,
   "toc_position": {},
   "toc_section_display": true,
   "toc_window_display": false
  }
 },
 "nbformat": 4,
 "nbformat_minor": 5
}
