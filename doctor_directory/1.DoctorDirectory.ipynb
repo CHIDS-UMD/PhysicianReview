{
 "cells": [
  {
   "cell_type": "markdown",
   "id": "21534bc6",
   "metadata": {},
   "source": [
    "# Source: Physician Compare"
   ]
  },
  {
   "cell_type": "markdown",
   "id": "b39bb203",
   "metadata": {},
   "source": [
    "## Read Raw Data"
   ]
  },
  {
   "cell_type": "code",
   "execution_count": null,
   "id": "e10aba77",
   "metadata": {
    "ExecuteTime": {
     "end_time": "2021-09-04T15:21:08.222586Z",
     "start_time": "2021-09-04T15:20:55.448861Z"
    }
   },
   "outputs": [],
   "source": [
    "import pandas as pd\n",
    "pd.set_option('display.max_columns', None)\n",
    "\n",
    "path = 'Data/DAC_NationalDownloadableFile.csv'\n",
    "RawData = pd.read_csv(path, low_memory = False, encoding = 'ISO-8859-1')\n",
    "RawData.columns = [i.strip() for i in RawData.columns]\n",
    "cols = ['NPI','frst_nm',  'mid_nm', 'lst_nm', 'suff', 'gndr', 'Cred', 'pri_spec', 'cty', 'st', 'zip']\n",
    "\n",
    "RawData = RawData[cols]\n",
    "# RawData = RawData.drop_duplicates().reset_index(drop = True)\n",
    "RawData"
   ]
  },
  {
   "cell_type": "code",
   "execution_count": null,
   "id": "445d1086",
   "metadata": {
    "ExecuteTime": {
     "end_time": "2021-09-04T03:13:42.165823Z",
     "start_time": "2021-09-04T03:13:41.895576Z"
    }
   },
   "outputs": [],
   "source": [
    "# NPI and its accounts\n",
    "print('Unique NPI we have: {}'.format(len(RawData['NPI'].value_counts())))\n",
    "RawData['NPI'].value_counts()"
   ]
  },
  {
   "cell_type": "code",
   "execution_count": null,
   "id": "d5ef88dd",
   "metadata": {
    "ExecuteTime": {
     "end_time": "2021-09-04T03:13:44.354947Z",
     "start_time": "2021-09-04T03:13:42.167320Z"
    }
   },
   "outputs": [],
   "source": [
    "# RawData['Cred'].value_counts()#.sum()\n",
    "UniqueRawData = RawData.groupby('NPI').first().reset_index()\n",
    "UniqueRawData"
   ]
  },
  {
   "cell_type": "code",
   "execution_count": null,
   "id": "c3d8d566",
   "metadata": {
    "ExecuteTime": {
     "end_time": "2021-09-04T03:13:45.003642Z",
     "start_time": "2021-09-04T03:13:44.355867Z"
    }
   },
   "outputs": [],
   "source": [
    "UniqueRawData.fillna('Missing')['Cred'].value_counts()"
   ]
  },
  {
   "cell_type": "markdown",
   "id": "e0669e12",
   "metadata": {},
   "source": [
    "## Generate Keywords"
   ]
  },
  {
   "cell_type": "code",
   "execution_count": null,
   "id": "f9494581",
   "metadata": {
    "ExecuteTime": {
     "end_time": "2021-09-04T03:13:45.008598Z",
     "start_time": "2021-09-04T03:13:45.004545Z"
    }
   },
   "outputs": [],
   "source": [
    "def get_doctor_info(DoctorDF):\n",
    "    doctor_infolist = []\n",
    "    for _, row in DoctorDF.iterrows():\n",
    "        # most results: fistname is before lastname\n",
    "        if row['mid_nm'] == \"NaN\":\n",
    "            doctor_info = \"{} {} {} {} {}\".format(row['frst_nm'], row['lst_nm'], \n",
    "                                                  row['pri_spec'], \n",
    "                                                  row['cty'], row['st'],\n",
    "                                                  # row['zip']\n",
    "                                                    )\n",
    "        else:\n",
    "            doctor_info = \"{} {} {} {} {} {}\".format(row['frst_nm'], row['mid_nm'],  row['lst_nm'], \n",
    "                                                  row['pri_spec'], \n",
    "                                                  row['cty'], row['st'],\n",
    "                                                  # row['zip']\n",
    "                                                )\n",
    "        # print(doctor_info)\n",
    "        doctor_infolist.append([row['NPI'], doctor_info])\n",
    "\n",
    "    return doctor_infolist"
   ]
  },
  {
   "cell_type": "markdown",
   "id": "a118624a",
   "metadata": {},
   "source": [
    "## MDData"
   ]
  },
  {
   "cell_type": "code",
   "execution_count": null,
   "id": "ccde1a7f",
   "metadata": {
    "ExecuteTime": {
     "end_time": "2021-09-04T03:13:52.816840Z",
     "start_time": "2021-09-04T03:13:45.009591Z"
    }
   },
   "outputs": [],
   "source": [
    "RawData2 = RawData[RawData['Cred'] == 'MD'].reset_index(drop = True)\n",
    "MDData = RawData2.groupby('NPI').first().reset_index()\n",
    "MDData = MDData.fillna('NaN')\n",
    "MDData.to_pickle('Output/_MDData.p')\n",
    "MDData['keyword'] = get_doctor_info(MDData)\n",
    "MDData[['NPI', 'keyword']].to_pickle('Output/MDDataKeywords.p')\n",
    "print(MDData.shape)"
   ]
  },
  {
   "cell_type": "markdown",
   "id": "f8348d1c",
   "metadata": {},
   "source": [
    "## MissingData"
   ]
  },
  {
   "cell_type": "code",
   "execution_count": null,
   "id": "1833fedb",
   "metadata": {
    "ExecuteTime": {
     "end_time": "2021-09-04T03:14:28.714521Z",
     "start_time": "2021-09-04T03:13:52.817991Z"
    }
   },
   "outputs": [],
   "source": [
    "RawData2 = RawData[RawData['Cred'].isna()].reset_index(drop = True)\n",
    "MissingData = RawData2.groupby('NPI').first().reset_index()\n",
    "MissingData = MissingData.fillna('NaN')\n",
    "MissingData.to_pickle('Output/_MissingData.p')\n",
    "MissingData['keyword'] = get_doctor_info(MissingData)\n",
    "MissingData[['NPI', 'keyword']].to_pickle('Output/MissingDataKeywords.p')\n",
    "print(MissingData.shape)"
   ]
  },
  {
   "cell_type": "markdown",
   "id": "0e7a6146",
   "metadata": {},
   "source": [
    "## Split Half and Half"
   ]
  },
  {
   "cell_type": "code",
   "execution_count": null,
   "id": "04359059",
   "metadata": {
    "ExecuteTime": {
     "end_time": "2021-09-04T02:57:08.609264Z",
     "start_time": "2021-09-04T02:57:08.328361Z"
    }
   },
   "outputs": [],
   "source": [
    "old_md_doc_dir = 'Output/MD1_DocListDF_All.p'\n",
    "\n",
    "Old_MD_Doc = pd.read_pickle(old_md_doc_dir)\n",
    "existed_npi = Old_MD_Doc.iloc[:100000]['NPI'].unique()\n",
    "len(existed_npi)"
   ]
  },
  {
   "cell_type": "code",
   "execution_count": null,
   "id": "03c905d6",
   "metadata": {
    "ExecuteTime": {
     "end_time": "2021-09-04T02:57:08.812430Z",
     "start_time": "2021-09-04T02:57:08.610660Z"
    }
   },
   "outputs": [],
   "source": [
    "MD2_Data = MDData[-MDData['NPI'].isin(existed_npi)].reset_index(drop = True)\n",
    "MD2_Data"
   ]
  },
  {
   "cell_type": "code",
   "execution_count": null,
   "id": "d6c0417e",
   "metadata": {
    "ExecuteTime": {
     "end_time": "2021-09-04T02:57:09.238704Z",
     "start_time": "2021-09-04T02:57:08.813272Z"
    }
   },
   "outputs": [],
   "source": [
    "Second_MDData[['NPI', 'keyword']].to_pickle('Output/Second_MDDataKeywords.p')"
   ]
  },
  {
   "cell_type": "markdown",
   "id": "11ef242f",
   "metadata": {},
   "source": [
    "# Source: NPPES Data"
   ]
  },
  {
   "cell_type": "markdown",
   "id": "98e91298",
   "metadata": {},
   "source": [
    "## Read Raw Data"
   ]
  },
  {
   "cell_type": "code",
   "execution_count": null,
   "id": "d925107d",
   "metadata": {
    "ExecuteTime": {
     "end_time": "2021-09-04T16:06:22.444419Z",
     "start_time": "2021-09-04T16:06:22.421231Z"
    }
   },
   "outputs": [],
   "source": [
    "import pandas as pd\n",
    "pd.set_option('display.max_columns', None)\n",
    "\n",
    "\n",
    "cols = ['NPI',\n",
    " 'Entity Type Code',\n",
    " 'Replacement NPI',\n",
    " 'Employer Identification Number (EIN)',\n",
    " 'Provider Organization Name (Legal Business Name)',\n",
    " 'Provider Last Name (Legal Name)',\n",
    " 'Provider First Name',\n",
    " 'Provider Middle Name',\n",
    " 'Provider Name Prefix Text',\n",
    " 'Provider Name Suffix Text',\n",
    " 'Provider Credential Text',\n",
    " 'Provider Other Organization Name',\n",
    " 'Provider Other Organization Name Type Code',\n",
    " 'Provider Other Last Name',\n",
    " 'Provider Other First Name',\n",
    " 'Provider Other Middle Name',\n",
    " 'Provider Other Name Prefix Text',\n",
    " 'Provider Other Name Suffix Text',\n",
    " 'Provider Other Credential Text',\n",
    " 'Provider Other Last Name Type Code',\n",
    " 'Provider First Line Business Mailing Address',\n",
    " 'Provider Second Line Business Mailing Address',\n",
    " 'Provider Business Mailing Address City Name',\n",
    " 'Provider Business Mailing Address State Name',\n",
    " 'Provider Business Mailing Address Postal Code',\n",
    " 'Provider Business Mailing Address Country Code (If outside U.S.)',\n",
    " 'Provider Business Mailing Address Telephone Number',\n",
    " 'Provider Business Mailing Address Fax Number',\n",
    " 'Provider First Line Business Practice Location Address',\n",
    " 'Provider Second Line Business Practice Location Address',\n",
    " 'Provider Business Practice Location Address City Name',\n",
    " 'Provider Business Practice Location Address State Name',\n",
    " 'Provider Business Practice Location Address Postal Code',\n",
    " 'Provider Business Practice Location Address Country Code (If outside U.S.)',\n",
    " 'Provider Business Practice Location Address Telephone Number',\n",
    " 'Provider Business Practice Location Address Fax Number',\n",
    " 'Provider Enumeration Date',\n",
    " 'Last Update Date',\n",
    " 'NPI Deactivation Reason Code',\n",
    " 'NPI Deactivation Date',\n",
    " 'NPI Reactivation Date',\n",
    " 'Provider Gender Code',\n",
    " 'Authorized Official Last Name',\n",
    " 'Authorized Official First Name',\n",
    " 'Authorized Official Middle Name',\n",
    " 'Authorized Official Title or Position',\n",
    " 'Authorized Official Telephone Number',\n",
    " 'Healthcare Provider Taxonomy Code_1',\n",
    " 'Provider License Number_1',\n",
    " 'Provider License Number State Code_1',\n",
    " 'Healthcare Provider Primary Taxonomy Switch_1',\n",
    " 'Healthcare Provider Taxonomy Code_2',\n",
    " 'Provider License Number_2',\n",
    " 'Provider License Number State Code_2',\n",
    " 'Healthcare Provider Primary Taxonomy Switch_2',\n",
    " 'Healthcare Provider Taxonomy Code_3',\n",
    " 'Provider License Number_3',\n",
    " 'Provider License Number State Code_3',\n",
    " 'Healthcare Provider Primary Taxonomy Switch_3',\n",
    " 'Healthcare Provider Taxonomy Code_4',\n",
    " \n",
    " 'Other Provider Identifier_1',\n",
    " 'Other Provider Identifier Type Code_1',\n",
    " 'Other Provider Identifier State_1',\n",
    " 'Other Provider Identifier Issuer_1',\n",
    " 'Other Provider Identifier_2',\n",
    " 'Other Provider Identifier Type Code_2',\n",
    " 'Other Provider Identifier State_2',\n",
    " 'Other Provider Identifier Issuer_2',\n",
    " 'Other Provider Identifier_3',\n",
    " 'Other Provider Identifier Type Code_3',\n",
    " 'Other Provider Identifier State_3',\n",
    " 'Other Provider Identifier Issuer_3',\n",
    "\n",
    " \n",
    " 'Is Sole Proprietor',\n",
    " 'Is Organization Subpart',\n",
    " 'Parent Organization LBN',\n",
    " 'Parent Organization TIN',\n",
    " 'Authorized Official Name Prefix Text',\n",
    " 'Authorized Official Name Suffix Text',\n",
    " 'Authorized Official Credential Text',\n",
    " 'Healthcare Provider Taxonomy Group_1',\n",
    " 'Healthcare Provider Taxonomy Group_2',\n",
    " 'Healthcare Provider Taxonomy Group_3',\n",
    " 'Healthcare Provider Taxonomy Group_4',\n",
    " 'Healthcare Provider Taxonomy Group_5',\n",
    " 'Healthcare Provider Taxonomy Group_6',\n",
    " 'Healthcare Provider Taxonomy Group_7',\n",
    " 'Healthcare Provider Taxonomy Group_8',\n",
    " 'Healthcare Provider Taxonomy Group_9',\n",
    " 'Healthcare Provider Taxonomy Group_10',\n",
    " 'Healthcare Provider Taxonomy Group_11',\n",
    " 'Healthcare Provider Taxonomy Group_12',\n",
    " 'Healthcare Provider Taxonomy Group_13',\n",
    " 'Healthcare Provider Taxonomy Group_14',\n",
    " 'Healthcare Provider Taxonomy Group_15',\n",
    " 'Certification Date',]\n",
    "\n",
    "\n",
    "def check_MD_or_DO(x):\n",
    "    if type(x) == str:\n",
    "        x = x.replace(' ', '').replace('.', '').replace(';', '').split(',')\n",
    "        return 'MD' in x or 'DO' in x # or 'MD,' in x or '.MD' \n",
    "    else:\n",
    "        return False"
   ]
  },
  {
   "cell_type": "code",
   "execution_count": null,
   "id": "ea494c98",
   "metadata": {
    "ExecuteTime": {
     "end_time": "2021-09-10T15:02:45.189122Z",
     "start_time": "2021-09-10T15:02:44.541428Z"
    }
   },
   "outputs": [],
   "source": [
    "import pandas as pd\n",
    "\n",
    "filename = 'data/npidata_pfile_20050523-20210808.csv'\n",
    "chunksize = 10000\n",
    "\n",
    "\n",
    "D = {}\n",
    "idx = 1\n",
    "\n",
    "\n",
    "total = 0\n",
    "indtotal = 0\n",
    "indus_total = 0\n",
    "indus_md_ob_total = 0\n",
    "\n",
    "\n",
    "L = []\n",
    "for chunk in pd.read_csv(filename, chunksize=chunksize, low_memory=False):\n",
    "    break\n",
    "    \n",
    "chunk"
   ]
  },
  {
   "cell_type": "code",
   "execution_count": null,
   "id": "3a2de081",
   "metadata": {
    "ExecuteTime": {
     "end_time": "2021-09-10T15:03:11.009042Z",
     "start_time": "2021-09-10T15:03:10.992657Z"
    }
   },
   "outputs": [],
   "source": [
    "list(chunk.columns)"
   ]
  },
  {
   "cell_type": "code",
   "execution_count": null,
   "id": "3afb10b3",
   "metadata": {
    "ExecuteTime": {
     "end_time": "2021-09-04T16:09:01.234726Z",
     "start_time": "2021-09-04T16:06:39.448578Z"
    },
    "scrolled": true
   },
   "outputs": [],
   "source": [
    "import pandas as pd\n",
    "\n",
    "filename = 'data/npidata_pfile_20050523-20210808.csv'\n",
    "chunksize = 10000\n",
    "\n",
    "\n",
    "D = {}\n",
    "idx = 1\n",
    "\n",
    "\n",
    "total = 0\n",
    "indtotal = 0\n",
    "indus_total = 0\n",
    "indus_md_ob_total = 0\n",
    "\n",
    "\n",
    "L = []\n",
    "for chunk in pd.read_csv(filename, chunksize=chunksize, low_memory=False):\n",
    "    df = chunk[cols]\n",
    "    df2 = df[df['Entity Type Code'] == 1.]\n",
    "    df3 = df2[df2['Provider Business Practice Location Address Country Code (If outside U.S.)'] == 'US']\n",
    "    df4 = df3[df3['Provider Credential Text'].apply(check_MD_or_DO)]\n",
    "    L.append(df4)\n",
    "    print(idx, len(df), len(df2), len(df3), len(df4))\n",
    "    total += len(df)\n",
    "    indtotal += len(df2)\n",
    "    indus_total += len(df3)\n",
    "    indus_md_ob_total += len(df4)\n",
    "    idx += 1\n",
    "    "
   ]
  },
  {
   "cell_type": "code",
   "execution_count": null,
   "id": "6214ccfa",
   "metadata": {
    "ExecuteTime": {
     "end_time": "2021-09-04T16:09:01.241712Z",
     "start_time": "2021-09-04T16:09:01.236817Z"
    }
   },
   "outputs": [],
   "source": [
    "print('Total {}, Ind {}, Ind US {}'.format(total, indtotal, indus_md_ob_total))"
   ]
  },
  {
   "cell_type": "code",
   "execution_count": null,
   "id": "9c4aab73",
   "metadata": {
    "ExecuteTime": {
     "end_time": "2021-09-04T16:09:17.031838Z",
     "start_time": "2021-09-04T16:09:10.082575Z"
    }
   },
   "outputs": [],
   "source": [
    "IndUS_MD_OD_DF = pd.concat(L).reset_index(drop = True)\n",
    "IndUS_MD_OD_DF"
   ]
  },
  {
   "cell_type": "code",
   "execution_count": null,
   "id": "06daeee8",
   "metadata": {
    "ExecuteTime": {
     "end_time": "2021-09-04T16:09:25.173267Z",
     "start_time": "2021-09-04T16:09:17.033342Z"
    }
   },
   "outputs": [],
   "source": [
    "def change_cred(x):\n",
    "    if type(x) == str:\n",
    "        x = x.replace(' ', '').replace('.', '').replace(';', '')\n",
    "        x = x[:-1] if x[-1] == ',' else x\n",
    "        return x\n",
    "    else:\n",
    "        return None\n",
    "\n",
    "IndUS_MD_OD_DF['Cred'] = IndUS_MD_OD_DF['Provider Credential Text'].apply(change_cred)\n",
    "# IndUS_MD_OD_DF.to_pickle('Output/IndUS_MD_OD_DF.p')\n",
    "IndUS_MD_OD_DF"
   ]
  },
  {
   "cell_type": "code",
   "execution_count": null,
   "id": "d86ed871",
   "metadata": {
    "ExecuteTime": {
     "end_time": "2021-09-04T16:09:25.269097Z",
     "start_time": "2021-09-04T16:09:25.174125Z"
    }
   },
   "outputs": [],
   "source": [
    "IndUS_MD_OD_DF['Cred'].value_counts()"
   ]
  },
  {
   "cell_type": "markdown",
   "id": "df63f264",
   "metadata": {},
   "source": [
    "## Taxomony Code"
   ]
  },
  {
   "cell_type": "code",
   "execution_count": null,
   "id": "77732d8d",
   "metadata": {
    "ExecuteTime": {
     "end_time": "2021-09-04T20:48:06.918635Z",
     "start_time": "2021-09-04T20:48:06.865239Z"
    }
   },
   "outputs": [],
   "source": [
    "import pandas as pd\n",
    "path = 'Data/nucc_taxonomy_211.csv'\n",
    "\n",
    "TaxoCode = pd.read_csv(path)\n",
    "TaxoCode"
   ]
  },
  {
   "cell_type": "code",
   "execution_count": null,
   "id": "43dea374",
   "metadata": {
    "ExecuteTime": {
     "end_time": "2021-09-04T20:50:00.688389Z",
     "start_time": "2021-09-04T20:50:00.639975Z"
    }
   },
   "outputs": [],
   "source": [
    "# https://nucc.org/index.php/code-sets-mainmenu-41/provider-taxonomy-mainmenu-40/csv-mainmenu-57\n",
    "\n",
    "col = 'Code'\n",
    "keys = list(TaxoCode[col].values)\n",
    "print(len(keys))\n",
    "\n",
    "col = 'Display Name'\n",
    "d = TaxoCode[col].fillna('Missing')# .apply(lambda x: x.split('/')[-1].split(', ')[-1].replace('\\x92s', '').strip())\n",
    "values = list(d.values)\n",
    "print(len(values))\n",
    "\n",
    "\n",
    "Code2Speciality = dict(zip(keys, values))\n",
    "Code2Speciality"
   ]
  },
  {
   "cell_type": "code",
   "execution_count": null,
   "id": "64e52727",
   "metadata": {
    "ExecuteTime": {
     "end_time": "2021-09-04T20:50:06.304771Z",
     "start_time": "2021-09-04T20:50:06.186915Z"
    }
   },
   "outputs": [],
   "source": [
    "IndUS_MD_OD_DF[col].value_counts()# = IndUS_MD_OD_DF[col].apply(lambda x: Code2Speciality[x])"
   ]
  },
  {
   "cell_type": "code",
   "execution_count": null,
   "id": "b0ad4e12",
   "metadata": {
    "ExecuteTime": {
     "end_time": "2021-09-04T20:50:21.807860Z",
     "start_time": "2021-09-04T20:50:21.616819Z"
    }
   },
   "outputs": [],
   "source": [
    "# list(d.values)\n",
    "# col = 'PROVIDER TAXONOMY DESCRIPTION: TYPE, CLASSIFICATION, SPECIALIZATION'\n",
    "col = 'Healthcare Provider Taxonomy Code_1'\n",
    "IndUS_MD_OD_DF['Speciality'] = IndUS_MD_OD_DF[col].apply(lambda x: Code2Speciality.get(x, 'Missing'))"
   ]
  },
  {
   "cell_type": "code",
   "execution_count": null,
   "id": "44665341",
   "metadata": {
    "ExecuteTime": {
     "end_time": "2021-09-04T20:50:23.090495Z",
     "start_time": "2021-09-04T20:50:23.023649Z"
    }
   },
   "outputs": [],
   "source": [
    "IndUS_MD_OD_DF['Speciality'].value_counts()"
   ]
  },
  {
   "cell_type": "code",
   "execution_count": null,
   "id": "3cb2a030",
   "metadata": {
    "ExecuteTime": {
     "end_time": "2021-09-04T20:51:35.769056Z",
     "start_time": "2021-09-04T20:51:26.700770Z"
    }
   },
   "outputs": [],
   "source": [
    "IndUS_MD_OD_DF.to_pickle('Output/IndUS_MD_OD_DF.p')"
   ]
  },
  {
   "cell_type": "markdown",
   "id": "2d603e88",
   "metadata": {},
   "source": [
    "## Remain NPPES"
   ]
  },
  {
   "cell_type": "code",
   "execution_count": null,
   "id": "2aa95cd3",
   "metadata": {
    "ExecuteTime": {
     "end_time": "2021-09-04T20:50:48.659113Z",
     "start_time": "2021-09-04T20:50:48.287124Z"
    }
   },
   "outputs": [],
   "source": [
    "medicare_npis = list(UniqueRawData[UniqueRawData['Cred'].fillna('Missing').isin(['MD', 'Missing'])]['NPI'].values)\n",
    "print(len(medicare_npis))"
   ]
  },
  {
   "cell_type": "code",
   "execution_count": null,
   "id": "7fd46487",
   "metadata": {
    "ExecuteTime": {
     "end_time": "2021-09-04T20:50:55.340498Z",
     "start_time": "2021-09-04T20:50:50.231755Z"
    }
   },
   "outputs": [],
   "source": [
    "df = IndUS_MD_OD_DF\n",
    "IndUS_MD_OD_DF2 = df[-df['NPI'].isin(medicare_npis)].reset_index(drop = True)\n",
    "IndUS_MD_OD_DF2.shape"
   ]
  },
  {
   "cell_type": "code",
   "execution_count": null,
   "id": "e1cd354a",
   "metadata": {
    "ExecuteTime": {
     "end_time": "2021-09-04T20:50:55.396472Z",
     "start_time": "2021-09-04T20:50:55.342318Z"
    }
   },
   "outputs": [],
   "source": [
    "IndUS_MD_OD_DF2"
   ]
  },
  {
   "cell_type": "code",
   "execution_count": null,
   "id": "58003b05",
   "metadata": {
    "ExecuteTime": {
     "end_time": "2021-09-04T20:55:14.236418Z",
     "start_time": "2021-09-04T20:55:14.223571Z"
    }
   },
   "outputs": [],
   "source": [
    "def get_doctor_info_v2(DoctorDF):\n",
    "    doctor_infolist = []\n",
    "    for _, row in DoctorDF.iterrows():\n",
    "        # most results: fistname is before lastname\n",
    "        \n",
    "        if pd.isnull(row['Provider Middle Name']):\n",
    "            doctor_info = \"{} {} {} {} {}\".format(row['Provider First Name'], row['Provider Last Name (Legal Name)'], \n",
    "                                                  row['Speciality'], \n",
    "                                                  row['Provider Business Mailing Address City Name'], row['Provider Business Mailing Address State Name'],\n",
    "                                                  # row['zip']\n",
    "                                                    )\n",
    "        else:\n",
    "            doctor_info = \"{} {} {} {} {} {}\".format(row['Provider First Name'], row['Provider Middle Name'],  row['Provider Last Name (Legal Name)'], \n",
    "                                                  row['Speciality'], \n",
    "                                                  row['Provider Business Mailing Address City Name'], row['Provider Business Mailing Address State Name'],\n",
    "                                                  # row['zip']\n",
    "                                                )\n",
    "        # print(doctor_info)\n",
    "        doctor_infolist.append([row['NPI'], doctor_info])\n",
    "\n",
    "    return doctor_infolist"
   ]
  },
  {
   "cell_type": "code",
   "execution_count": null,
   "id": "74ae527b",
   "metadata": {
    "ExecuteTime": {
     "end_time": "2021-09-04T20:55:52.965214Z",
     "start_time": "2021-09-04T20:55:28.212784Z"
    }
   },
   "outputs": [],
   "source": [
    "IndUS_MD_OD_DF2['keyword'] = get_doctor_info_v2(IndUS_MD_OD_DF2)\n",
    "IndUS_MD_OD_DF2[['NPI', 'keyword']].to_pickle('Output/IndUS2_MD_OD_DF_Keywords.p')"
   ]
  }
 ],
 "metadata": {
  "kernelspec": {
   "display_name": "Python 3 (ipykernel)",
   "language": "python",
   "name": "python3"
  },
  "language_info": {
   "codemirror_mode": {
    "name": "ipython",
    "version": 3
   },
   "file_extension": ".py",
   "mimetype": "text/x-python",
   "name": "python",
   "nbconvert_exporter": "python",
   "pygments_lexer": "ipython3",
   "version": "3.7.10"
  },
  "toc": {
   "base_numbering": 1,
   "nav_menu": {},
   "number_sections": true,
   "sideBar": true,
   "skip_h1_title": false,
   "title_cell": "Table of Contents",
   "title_sidebar": "Contents",
   "toc_cell": false,
   "toc_position": {},
   "toc_section_display": true,
   "toc_window_display": false
  }
 },
 "nbformat": 4,
 "nbformat_minor": 5
}
