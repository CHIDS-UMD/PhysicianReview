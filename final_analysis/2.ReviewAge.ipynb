{
 "cells": [
  {
   "cell_type": "markdown",
   "id": "b9cb24e5",
   "metadata": {},
   "source": [
    "# Setup"
   ]
  },
  {
   "cell_type": "code",
   "execution_count": null,
   "id": "4d172483",
   "metadata": {
    "ExecuteTime": {
     "end_time": "2021-11-09T01:54:34.339672Z",
     "start_time": "2021-11-09T01:54:34.044474Z"
    }
   },
   "outputs": [],
   "source": [
    "import pandas as pd\n",
    "import itertools\n",
    "import os \n",
    "\n",
    "CutOffDate = pd.to_datetime('2021-08-01', utc = 'UTC')\n",
    "Recent1YearDate = pd.to_datetime('2020-08-01', utc = 'UTC')\n",
    "Recent2YearDate = pd.to_datetime('2019-08-01', utc = 'UTC')\n",
    "Recent3YearDate = pd.to_datetime('2018-08-01', utc = 'UTC')"
   ]
  },
  {
   "cell_type": "markdown",
   "id": "ac6aea5d",
   "metadata": {},
   "source": [
    "# Settings"
   ]
  },
  {
   "cell_type": "code",
   "execution_count": null,
   "id": "2f7e83e0",
   "metadata": {
    "ExecuteTime": {
     "end_time": "2021-11-09T01:54:34.342637Z",
     "start_time": "2021-11-09T01:54:34.340925Z"
    }
   },
   "outputs": [],
   "source": [
    "MIN_TEXT_LEN = 0"
   ]
  },
  {
   "cell_type": "markdown",
   "id": "556d6310",
   "metadata": {},
   "source": [
    "# Get Website 2 Review Time"
   ]
  },
  {
   "cell_type": "code",
   "execution_count": null,
   "id": "4d1e6761",
   "metadata": {
    "ExecuteTime": {
     "end_time": "2021-11-09T01:54:34.346793Z",
     "start_time": "2021-11-09T01:54:34.343669Z"
    }
   },
   "outputs": [],
   "source": [
    "def get_website2rvw(Folder):\n",
    "\n",
    "    suffix = ''\n",
    "    website2path = {\n",
    "        'healthgrades': 'healthgrades{}.p'.format(suffix), \n",
    "        'vitals': 'vitals{}.p'.format(suffix), \n",
    "        'ratemds': 'ratemds{}.p'.format(suffix), \n",
    "        'yelp': 'yelp{}.p'.format(suffix),\n",
    "        'zocdoc': 'zocdoc{}.p'.format(suffix)\n",
    "    }\n",
    "    \n",
    "    website2data = {}\n",
    "    for name, path in website2path.items():\n",
    "        path = os.path.join(Folder, path)\n",
    "        df = pd.read_pickle(path)\n",
    "        website2data[name] = df\n",
    "    return website2data\n",
    "        "
   ]
  },
  {
   "cell_type": "code",
   "execution_count": null,
   "id": "5b7992ce",
   "metadata": {
    "ExecuteTime": {
     "end_time": "2021-11-09T01:54:34.350255Z",
     "start_time": "2021-11-09T01:54:34.347754Z"
    }
   },
   "outputs": [],
   "source": [
    "def get_website2time(website2data):\n",
    "    webiste2time = {}\n",
    "    for name, df in website2data.items():\n",
    "        tmp_list = df['final_review'].apply(lambda x: [i['ReviewDate'] for i in x])\n",
    "        reviewdate = pd.DataFrame(list(itertools.chain(*tmp_list)))\n",
    "        reviewdate.columns = ['ReviewDate']\n",
    "        reviewdate['Source'] = 'name'\n",
    "        webiste2time[name] = reviewdate\n",
    "    return webiste2time"
   ]
  },
  {
   "cell_type": "code",
   "execution_count": null,
   "id": "5185dd42",
   "metadata": {
    "ExecuteTime": {
     "end_time": "2021-11-09T01:55:27.486279Z",
     "start_time": "2021-11-09T01:54:34.352149Z"
    }
   },
   "outputs": [],
   "source": [
    "Folder = 'Output/MinText{}'.format(MIN_TEXT_LEN)\n",
    "website2data = get_website2rvw(Folder)"
   ]
  },
  {
   "cell_type": "code",
   "execution_count": null,
   "id": "fa87b5d2",
   "metadata": {
    "ExecuteTime": {
     "end_time": "2021-11-09T01:55:40.488102Z",
     "start_time": "2021-11-09T01:55:27.492641Z"
    }
   },
   "outputs": [],
   "source": [
    "webiste2time = get_website2time(website2data)"
   ]
  },
  {
   "cell_type": "markdown",
   "id": "45c7478b",
   "metadata": {},
   "source": [
    "# Review Recent Year Rate"
   ]
  },
  {
   "cell_type": "code",
   "execution_count": null,
   "id": "7649afcc",
   "metadata": {
    "ExecuteTime": {
     "end_time": "2021-11-09T01:55:40.523719Z",
     "start_time": "2021-11-09T01:55:40.501005Z"
    }
   },
   "outputs": [],
   "source": [
    "def recent_year_rate_per_review(webiste2time):\n",
    "    d = {}\n",
    "    L = {}\n",
    "    \n",
    "    # reviews all the time\n",
    "    for web, df in webiste2time.items():\n",
    "        df2 = df\n",
    "        L[web] = len(df2)\n",
    "    if True:\n",
    "        L['all'] = sum([v for k,v in L.items() if k!= 'zocdoc']) \n",
    "        L['all(zocdoc)'] =  sum([v for k,v in L.items() if k!= 'all']) \n",
    "    d['reviewsalltime'] = L \n",
    "\n",
    "    # recent 3 years\n",
    "    L = {}\n",
    "    for web, df in webiste2time.items():\n",
    "        df2 = df\n",
    "        df2 = df[df['ReviewDate'] > Recent3YearDate]\n",
    "        # print(web, len(df2))\n",
    "        L[web] = len(df2)\n",
    "    if True:\n",
    "        L['all'] = sum([v for k,v in L.items() if k!= 'zocdoc']) \n",
    "        L['all(zocdoc)'] =  sum([v for k,v in L.items() if k!= 'all']) \n",
    "    d['recent3years'] = L \n",
    "\n",
    "    # recent 2 years\n",
    "    L = {}\n",
    "    for web, df in webiste2time.items():\n",
    "        df2 = df\n",
    "        df2 = df[df['ReviewDate'] > Recent2YearDate]\n",
    "        # print(web, len(df2))\n",
    "        L[web] = len(df2)\n",
    "    if True:\n",
    "        L['all'] = sum([v for k,v in L.items() if k!= 'zocdoc']) \n",
    "        L['all(zocdoc)'] =  sum([v for k,v in L.items() if k!= 'all']) \n",
    "    d['recent2years'] = L \n",
    "    \n",
    "    # recent 1 year\n",
    "    L = {}\n",
    "    for web, df in webiste2time.items():\n",
    "        df2 = df\n",
    "        df2 = df[df['ReviewDate'] > Recent1YearDate]\n",
    "        # print(web, len(df2))\n",
    "        L[web] = len(df2)\n",
    "    if True:\n",
    "        L['all'] = sum([v for k,v in L.items() if k!= 'zocdoc']) \n",
    "        L['all(zocdoc)'] =  sum([v for k,v in L.items() if k!= 'all']) \n",
    "    d['recent1years'] = L \n",
    "    \n",
    "    tmp = pd.DataFrame(d)\n",
    "    # for i in [3, 2, 1]:\n",
    "    #     tmp['recent{}years_rate'.format(i)] = tmp['recent{}years'.format(i)]/tmp['reviewsalltime']\n",
    "    L = []\n",
    "    for name, row in tmp.iterrows():\n",
    "        d = {}\n",
    "        d['platform'] = name\n",
    "        \n",
    "        for k, v in row.to_dict().items(): \n",
    "            # print(k)\n",
    "            d[k] = v\n",
    "        \n",
    "        for i in [3, 2, 1]:\n",
    "            col = 'recent{}years'.format(i)\n",
    "            pct = d[col] / d['reviewsalltime'] * 100\n",
    "            d[col] = str(d[col]) + ' ({:.2f}%)'.format(pct)\n",
    "        L.append(d)\n",
    "    tmp = pd.DataFrame(L)\n",
    "    return tmp\n",
    "\n"
   ]
  },
  {
   "cell_type": "code",
   "execution_count": null,
   "id": "efc85443",
   "metadata": {
    "ExecuteTime": {
     "end_time": "2021-11-09T01:55:40.886937Z",
     "start_time": "2021-11-09T01:55:40.527416Z"
    }
   },
   "outputs": [],
   "source": [
    "ReviewCreatedTimeReport = recent_year_rate_per_review(webiste2time)\n",
    "ReviewCreatedTimeReport.to_csv('Output/ReviewAge/MinTxt{}_ReviewCreatedTimeReport.csv'.format(MIN_TEXT_LEN), index = False)\n",
    "ReviewCreatedTimeReport"
   ]
  },
  {
   "cell_type": "markdown",
   "id": "dc6846c5",
   "metadata": {},
   "source": [
    "# Average Age"
   ]
  },
  {
   "cell_type": "code",
   "execution_count": null,
   "id": "bf73be36",
   "metadata": {
    "ExecuteTime": {
     "end_time": "2021-11-08T01:59:03.789805Z",
     "start_time": "2021-11-08T01:59:03.509882Z"
    }
   },
   "outputs": [],
   "source": [
    "def get_platform_review_average_age(webiste2time, CutOffDate):\n",
    "\n",
    "    report = []\n",
    "    for web, df in webiste2time.items():\n",
    "        # L.append(df)\n",
    "        days = CutOffDate - pd.to_datetime(df['ReviewDate'])\n",
    "        days#.apply(lambda x: x.days)\n",
    "        mean_days = days.mean()\n",
    "        days = mean_days.days + mean_days.seconds / (24*60*60)\n",
    "        report.append({'platform': web, 'average_days': days, 'average_years': days/365.25})\n",
    "\n",
    "    # print('\\nAll Review')\n",
    "    df = pd.concat([df for name, df in webiste2time.items() if name != 'zocdoc'])\n",
    "    days = pd.to_datetime('2021-08-01', utc = 'UTC') - pd.to_datetime(df['ReviewDate'])\n",
    "    mean_days = days.mean()\n",
    "    days = mean_days.days + mean_days.seconds / (24*60*60)\n",
    "    report.append({'platform': 'all', 'average_days': days, 'average_years': days/365.25})\n",
    "    # print(mean_days)\n",
    "    \n",
    "    # print('\\nAll Review')\n",
    "    df = pd.concat([df for name, df in webiste2time.items()])\n",
    "    days = pd.to_datetime('2021-08-01', utc = 'UTC') - pd.to_datetime(df['ReviewDate'])\n",
    "    mean_days = days.mean()\n",
    "    days = mean_days.days + mean_days.seconds / (24*60*60)\n",
    "    report.append({'platform': 'all(zocdoc)', 'average_days': days, 'average_years': days/365.25})\n",
    "\n",
    "    report = pd.DataFrame(report)\n",
    "    # report.to_clipboard()\n",
    "    return report\n",
    "\n",
    "ReportAverageTime = get_platform_review_average_age(webiste2time, CutOffDate)\n",
    "ReportAverageTime.to_csv('Output/ReviewAge/MinTxt{}_ReportAverageTime.csv'.format(MIN_TEXT_LEN))\n",
    "ReportAverageTime"
   ]
  },
  {
   "cell_type": "markdown",
   "id": "e13c5edc",
   "metadata": {},
   "source": [
    "# By Date"
   ]
  },
  {
   "cell_type": "code",
   "execution_count": null,
   "id": "b03c8ad6",
   "metadata": {
    "ExecuteTime": {
     "end_time": "2021-11-08T01:59:05.148983Z",
     "start_time": "2021-11-08T01:59:03.791741Z"
    }
   },
   "outputs": [],
   "source": [
    "D = {}\n",
    "for name in webiste2time:\n",
    "    df = webiste2time[name]\n",
    "    tmp = df['ReviewDate'].dt.date\n",
    "    tmp = tmp.value_counts().sort_index()\n",
    "    tmp.name = name\n",
    "    D[name] = tmp\n",
    "\n",
    "DateValue = pd.concat([v for k, v in D.items()], axis = 1).sort_index()\n",
    "DateValue.index = pd.to_datetime(DateValue.index)\n",
    "DateValue.to_csv('Output/ReviewAge/MinTxt{}_ReviewDate.csv'.format(MIN_TEXT_LEN))"
   ]
  },
  {
   "cell_type": "markdown",
   "id": "c2511ded",
   "metadata": {},
   "source": [
    "# By Month"
   ]
  },
  {
   "cell_type": "code",
   "execution_count": null,
   "id": "caff167e",
   "metadata": {
    "ExecuteTime": {
     "end_time": "2021-11-08T01:59:10.276095Z",
     "start_time": "2021-11-08T01:59:05.149904Z"
    }
   },
   "outputs": [],
   "source": [
    "D = {}\n",
    "for name in webiste2time:\n",
    "    df = webiste2time[name]\n",
    "    tmp = df['ReviewDate'].dt.year.astype(str) +'-'+ df['ReviewDate'].dt.month.apply(lambda x: '0'+str(x) if x < 10 else str(x))\n",
    "    tmp = tmp.value_counts().sort_index()\n",
    "    tmp.name = name\n",
    "    D[name] = tmp\n",
    "\n",
    "MonthValue = pd.concat([v for k, v in D.items()], axis = 1).sort_index()\n",
    "MonthValue.index = pd.to_datetime(MonthValue.index)\n",
    "MonthValue.to_csv('Output/ReviewAge/MinTxt{}_ReviewMonth.csv'.format(MIN_TEXT_LEN))\n"
   ]
  },
  {
   "cell_type": "markdown",
   "id": "78ce49f9",
   "metadata": {},
   "source": [
    "# By Year"
   ]
  },
  {
   "cell_type": "code",
   "execution_count": null,
   "id": "3d03822d",
   "metadata": {
    "ExecuteTime": {
     "end_time": "2021-11-08T01:59:13.493562Z",
     "start_time": "2021-11-08T01:59:10.276911Z"
    }
   },
   "outputs": [],
   "source": [
    "D = {}\n",
    "for name in webiste2time:\n",
    "    df = webiste2time[name]\n",
    "    tmp = df['ReviewDate'].dt.year.astype(str) \n",
    "    tmp = tmp.value_counts().sort_index()\n",
    "    tmp.name = name\n",
    "    D[name] = tmp\n",
    "\n",
    "MonthValue = pd.concat([v for k, v in D.items()], axis = 1).sort_index()\n",
    "MonthValue.index = pd.to_datetime(MonthValue.index)\n",
    "MonthValue.to_csv('Output/ReviewAge/MinTxt{}_ReviewYear.csv'.format(MIN_TEXT_LEN))\n"
   ]
  }
 ],
 "metadata": {
  "kernelspec": {
   "display_name": "Python 3 (ipykernel)",
   "language": "python",
   "name": "python3"
  },
  "language_info": {
   "codemirror_mode": {
    "name": "ipython",
    "version": 3
   },
   "file_extension": ".py",
   "mimetype": "text/x-python",
   "name": "python",
   "nbconvert_exporter": "python",
   "pygments_lexer": "ipython3",
   "version": "3.7.10"
  },
  "toc": {
   "base_numbering": 1,
   "nav_menu": {},
   "number_sections": true,
   "sideBar": true,
   "skip_h1_title": false,
   "title_cell": "Table of Contents",
   "title_sidebar": "Contents",
   "toc_cell": false,
   "toc_position": {},
   "toc_section_display": true,
   "toc_window_display": false
  }
 },
 "nbformat": 4,
 "nbformat_minor": 5
}
