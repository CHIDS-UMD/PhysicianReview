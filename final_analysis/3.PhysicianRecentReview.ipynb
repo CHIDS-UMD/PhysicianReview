{
 "cells": [
  {
   "cell_type": "markdown",
   "id": "ab4febc2",
   "metadata": {},
   "source": [
    "# Setup"
   ]
  },
  {
   "cell_type": "code",
   "execution_count": null,
   "id": "dc17b22d",
   "metadata": {
    "ExecuteTime": {
     "end_time": "2021-11-12T04:28:00.117946Z",
     "start_time": "2021-11-12T04:27:59.520942Z"
    }
   },
   "outputs": [],
   "source": [
    "import pandas as pd\n",
    "import itertools\n",
    "import os \n",
    "\n",
    "CutOffDate = pd.to_datetime('2021-08-01', utc = 'UTC')\n",
    "Recent1YearDate = pd.to_datetime('2020-08-01', utc = 'UTC')\n",
    "Recent2YearDate = pd.to_datetime('2019-08-01', utc = 'UTC')\n",
    "Recent3YearDate = pd.to_datetime('2018-08-01', utc = 'UTC')"
   ]
  },
  {
   "cell_type": "markdown",
   "id": "5f9661fd",
   "metadata": {},
   "source": [
    "# Settings"
   ]
  },
  {
   "cell_type": "code",
   "execution_count": null,
   "id": "c8747cf9",
   "metadata": {
    "ExecuteTime": {
     "end_time": "2021-11-12T04:28:00.408728Z",
     "start_time": "2021-11-12T04:28:00.403392Z"
    }
   },
   "outputs": [],
   "source": [
    "MIN_TEXT_LEN = 1"
   ]
  },
  {
   "cell_type": "markdown",
   "id": "706854eb",
   "metadata": {},
   "source": [
    "# Get Website Data"
   ]
  },
  {
   "cell_type": "code",
   "execution_count": null,
   "id": "506b7870",
   "metadata": {
    "ExecuteTime": {
     "end_time": "2021-11-12T04:28:19.648234Z",
     "start_time": "2021-11-12T04:28:01.217194Z"
    }
   },
   "outputs": [],
   "source": [
    "def get_website2rvw(Folder):\n",
    "\n",
    "    suffix = ''\n",
    "    website2path = {\n",
    "        'healthgrades': 'healthgrades{}.p'.format(suffix), \n",
    "        'vitals': 'vitals{}.p'.format(suffix), \n",
    "        'ratemds': 'ratemds{}.p'.format(suffix), \n",
    "        'yelp': 'yelp{}.p'.format(suffix),\n",
    "        'zocdoc': 'zocdoc{}.p'.format(suffix)\n",
    "    }\n",
    "    \n",
    "    website2data = {}\n",
    "    for name, path in website2path.items():\n",
    "        path = os.path.join(Folder, path)\n",
    "        df = pd.read_pickle(path)\n",
    "        website2data[name] = df\n",
    "    return website2data\n",
    "    \n",
    "Folder = 'Output/MinText{}'.format(MIN_TEXT_LEN)\n",
    "website2data = get_website2rvw(Folder)"
   ]
  },
  {
   "cell_type": "markdown",
   "id": "77d76717",
   "metadata": {},
   "source": [
    "# NPPES"
   ]
  },
  {
   "cell_type": "code",
   "execution_count": null,
   "id": "afea9dce",
   "metadata": {
    "ExecuteTime": {
     "end_time": "2021-11-12T04:28:20.688458Z",
     "start_time": "2021-11-12T04:28:19.649336Z"
    }
   },
   "outputs": [],
   "source": [
    "import pandas as pd\n",
    "import numpy as np\n",
    "\n",
    "NPPES = pd.read_pickle('Data/NPPES/NPI2InfoMDDO.p')\n",
    "nppes_cols = ['NPI', 'FirstName', 'LastName']\n",
    "NPPES = NPPES[nppes_cols]\n",
    "print(NPPES.shape)"
   ]
  },
  {
   "cell_type": "code",
   "execution_count": null,
   "id": "c0660c39",
   "metadata": {
    "ExecuteTime": {
     "end_time": "2021-11-12T04:28:21.725793Z",
     "start_time": "2021-11-12T04:28:20.690150Z"
    }
   },
   "outputs": [],
   "source": [
    "import missingno as msno\n",
    "import itertools\n",
    "\n",
    "def get_list_sum(x, finalreview_cols):\n",
    "    tmp = x[finalreview_cols].to_list()\n",
    "    tmp_list = [i for i in tmp if type(i) == list]\n",
    "    if len(tmp_list) == 0:\n",
    "        return np.nan\n",
    "    else:\n",
    "        return list(itertools.chain(*tmp_list))\n",
    "    \n",
    "def get_NPPESReview(NPPES, website2data):\n",
    "    for website, df in website2data.items():\n",
    "        tmp = df[['NPI', 'final_review']]\n",
    "        tmp.columns = ['NPI', 'review_{}'.format(website)]\n",
    "        NPPES = pd.merge(NPPES, tmp, on = 'NPI', how = 'left')\n",
    "\n",
    "    finalreview_cols = ['review_{}'.format(i) for i in website2data if 'zocdoc' not in i]\n",
    "    NPPES['review_all'] = NPPES.apply(lambda x: get_list_sum(x, finalreview_cols), axis = 1)\n",
    "\n",
    "    finalreview_cols = ['review_{}'.format(i) for i in website2data]\n",
    "    NPPES['review_all(zocdoc)'] = NPPES.apply(lambda x: get_list_sum(x, finalreview_cols), axis = 1)\n",
    "    \n",
    "    return NPPES\n",
    "\n"
   ]
  },
  {
   "cell_type": "code",
   "execution_count": null,
   "id": "86ac22e5",
   "metadata": {
    "ExecuteTime": {
     "end_time": "2021-11-12T04:34:23.616728Z",
     "start_time": "2021-11-12T04:28:21.727259Z"
    }
   },
   "outputs": [],
   "source": [
    "NPPESReview = get_NPPESReview(NPPES, website2data)\n",
    "NPPESReview"
   ]
  },
  {
   "cell_type": "markdown",
   "id": "c012a7cd",
   "metadata": {},
   "source": [
    "# Recent Review Report"
   ]
  },
  {
   "cell_type": "code",
   "execution_count": null,
   "id": "28861d57",
   "metadata": {
    "ExecuteTime": {
     "end_time": "2021-11-12T04:34:23.625006Z",
     "start_time": "2021-11-12T04:34:23.618167Z"
    }
   },
   "outputs": [],
   "source": [
    "def get_physician_recent_review(NPPESReview):\n",
    "    Report = []\n",
    "    for platform in [i for i in NPPESReview.columns if 'review' in i]:\n",
    "        d = {}\n",
    "        d['platform'] = platform\n",
    "        d['AllPhysicians'] = len(NPPESReview)\n",
    "\n",
    "        # must dropna here. \n",
    "        tmp = NPPESReview[platform].dropna().reset_index(drop = True)\n",
    "        tmp = tmp.apply(lambda x: [i['ReviewDate'] for i in x])\n",
    "        d['WebPhysicians'] = len(tmp)\n",
    "\n",
    "        # get latest review\n",
    "        tmp = tmp.apply(lambda x:np.max(x) if len(x)>0 else np.nan)\n",
    "        tmp = tmp.dropna().reset_index(drop = True)\n",
    "        d['HasReviews'] = len(tmp)\n",
    "\n",
    "        # get recent reviews\n",
    "        d['HasReviewsRct3Y'] = tmp.apply(lambda x: True if x >= Recent3YearDate else False).sum()\n",
    "        d['HasReviewsRct2Y'] = tmp.apply(lambda x: True if x >= Recent2YearDate else False).sum()\n",
    "        d['HasReviewsRct1Y'] = tmp.apply(lambda x: True if x >= Recent1YearDate else False).sum()\n",
    "\n",
    "        Report.append(d)\n",
    "    return pd.DataFrame(Report)\n",
    "\n",
    "\n",
    "def get_report_df(Report):\n",
    "    L = []\n",
    "    for spc, row in Report.iterrows():\n",
    "        d0 = row.to_dict()\n",
    "        L.append(d0)\n",
    "        for base in ['AllPhysicians', 'WebPhysicians', 'HasReviews',]:\n",
    "            d = {}\n",
    "            d['platform'] = np.nan\n",
    "            for i in  ['AllPhysicians', 'WebPhysicians', 'HasReviews',\n",
    "                       # 'HasRecent5yearsReviews', 'HasRecent4yearsReviews',\n",
    "                       'HasReviewsRct3Y', 'HasReviewsRct2Y', 'HasReviewsRct1Y']:\n",
    "                rate = row[i] / row[base]\n",
    "                if rate > 1: rate = np.nan\n",
    "                d[i] = rate\n",
    "            L.append(d)\n",
    "        L.append({})\n",
    "\n",
    "    NewReport = pd.DataFrame(L)\n",
    "    return NewReport\n"
   ]
  },
  {
   "cell_type": "code",
   "execution_count": null,
   "id": "a5d8f3e1",
   "metadata": {
    "ExecuteTime": {
     "end_time": "2021-11-12T04:35:13.053574Z",
     "start_time": "2021-11-12T04:34:23.626147Z"
    }
   },
   "outputs": [],
   "source": [
    "Report = get_physician_recent_review(NPPESReview)\n",
    "Report.to_csv('Output/PhysicianRecentReview/MinTxt{}_Report.csv'.format(MIN_TEXT_LEN), index = False)\n",
    "Report"
   ]
  },
  {
   "cell_type": "code",
   "execution_count": null,
   "id": "35457c05",
   "metadata": {
    "ExecuteTime": {
     "end_time": "2021-11-12T04:35:13.068978Z",
     "start_time": "2021-11-12T04:35:13.054422Z"
    }
   },
   "outputs": [],
   "source": [
    "NewReport = get_report_df(Report)\n",
    "NewReport.to_csv('Output/PhysicianRecentReview/MinTxt{}_ReportPercent.csv'.format(MIN_TEXT_LEN), index = False)\n",
    "NewReport"
   ]
  },
  {
   "cell_type": "markdown",
   "id": "2ad94b7d",
   "metadata": {},
   "source": [
    "# Physician's Review Average Age"
   ]
  },
  {
   "cell_type": "code",
   "execution_count": null,
   "id": "6bc79942",
   "metadata": {
    "ExecuteTime": {
     "end_time": "2021-11-12T04:48:57.709283Z",
     "start_time": "2021-11-12T04:48:57.660263Z"
    }
   },
   "outputs": [],
   "source": [
    "NPPESReview"
   ]
  },
  {
   "cell_type": "code",
   "execution_count": null,
   "id": "9bad44ce",
   "metadata": {
    "ExecuteTime": {
     "end_time": "2021-11-12T14:56:01.335748Z",
     "start_time": "2021-11-12T14:42:22.509560Z"
    }
   },
   "outputs": [],
   "source": [
    "def get_physician_recent_review_average_age(NPPESReview):\n",
    "    Report = []\n",
    "    for platform in [i for i in NPPESReview.columns if 'review' in i]:\n",
    "        d = {}\n",
    "        d['platform'] = platform\n",
    "        d['AllPhysicians'] = len(NPPESReview)\n",
    "\n",
    "        # must dropna here. \n",
    "        tmp = NPPESReview[platform].dropna().reset_index(drop = True)\n",
    "        tmp = tmp.apply(lambda x: [i['ReviewDate'] for i in x])\n",
    "        d['WebPhysicians'] = len(tmp)\n",
    "\n",
    "        # get latest review\n",
    "        tmp = tmp.apply(lambda x: [(pd.to_datetime('2021-08-01', utc = 'UTC') - i) for i in x] if len(x)>0 else np.nan)\n",
    "        tmp = tmp.dropna().reset_index(drop = True)\n",
    "        d['HasReviews'] = len(tmp)\n",
    "        tmp = tmp.apply(lambda x: np.mean([i.days + i.seconds /(24*60*60) for i in x]))\n",
    "        d['PhysicianReviewAverageAge(days)'] = tmp.mean()\n",
    "        d['PhysicianReviewAverageAge(years)'] = d['PhysicianReviewAverageAge(days)'] / (365.25)\n",
    "        Report.append(d)\n",
    "    \n",
    "    return pd.DataFrame(Report)\n",
    "\n",
    "\n",
    "get_physician_recent_review_average_age(NPPESReview)"
   ]
  },
  {
   "cell_type": "code",
   "execution_count": null,
   "id": "e17e2690",
   "metadata": {},
   "outputs": [],
   "source": []
  }
 ],
 "metadata": {
  "kernelspec": {
   "display_name": "Python 3 (ipykernel)",
   "language": "python",
   "name": "python3"
  },
  "language_info": {
   "codemirror_mode": {
    "name": "ipython",
    "version": 3
   },
   "file_extension": ".py",
   "mimetype": "text/x-python",
   "name": "python",
   "nbconvert_exporter": "python",
   "pygments_lexer": "ipython3",
   "version": "3.7.10"
  },
  "toc": {
   "base_numbering": 1,
   "nav_menu": {},
   "number_sections": true,
   "sideBar": true,
   "skip_h1_title": false,
   "title_cell": "Table of Contents",
   "title_sidebar": "Contents",
   "toc_cell": false,
   "toc_position": {},
   "toc_section_display": true,
   "toc_window_display": false
  }
 },
 "nbformat": 4,
 "nbformat_minor": 5
}
