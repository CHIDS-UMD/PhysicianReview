{
 "cells": [
  {
   "cell_type": "markdown",
   "id": "855d31e6",
   "metadata": {},
   "source": [
    "# Setup"
   ]
  },
  {
   "cell_type": "code",
   "execution_count": null,
   "id": "01bdbaa6",
   "metadata": {
    "ExecuteTime": {
     "end_time": "2022-04-26T12:23:28.252291Z",
     "start_time": "2022-04-26T12:23:27.972182Z"
    }
   },
   "outputs": [],
   "source": [
    "import pandas as pd\n",
    "import itertools\n",
    "import os \n",
    "\n",
    "CutOffDate = pd.to_datetime('2021-08-01', utc = 'UTC')\n",
    "Recent1YearDate = pd.to_datetime('2020-08-01', utc = 'UTC')\n",
    "Recent2YearDate = pd.to_datetime('2019-08-01', utc = 'UTC')\n",
    "Recent3YearDate = pd.to_datetime('2018-08-01', utc = 'UTC')\n",
    "\n",
    "cutoffDates = {\n",
    "    1:Recent1YearDate, \n",
    "    2:Recent2YearDate, \n",
    "    3:Recent3YearDate,\n",
    "}"
   ]
  },
  {
   "cell_type": "markdown",
   "id": "2c6d306c",
   "metadata": {},
   "source": [
    "# Settings"
   ]
  },
  {
   "cell_type": "code",
   "execution_count": null,
   "id": "c50ad0ef",
   "metadata": {
    "ExecuteTime": {
     "end_time": "2022-04-26T12:24:02.124016Z",
     "start_time": "2022-04-26T12:24:02.120636Z"
    }
   },
   "outputs": [],
   "source": [
    "MIN_TEXT_LEN = 0"
   ]
  },
  {
   "cell_type": "markdown",
   "id": "a83640b9",
   "metadata": {},
   "source": [
    "# Get Website Data"
   ]
  },
  {
   "cell_type": "code",
   "execution_count": null,
   "id": "56f2b843",
   "metadata": {
    "ExecuteTime": {
     "end_time": "2022-04-26T12:24:02.792376Z",
     "start_time": "2022-04-26T12:24:02.786138Z"
    }
   },
   "outputs": [],
   "source": [
    "# def get_website2rvw(Folder):\n",
    "\n",
    "#     suffix = ''\n",
    "#     website2path = {\n",
    "#         'healthgrades': 'healthgrades{}.p'.format(suffix), \n",
    "#         'vitals': 'vitals{}.p'.format(suffix), \n",
    "#         'ratemds': 'ratemds{}.p'.format(suffix), \n",
    "#         'yelp': 'yelp{}.p'.format(suffix),\n",
    "#         # 'zocdoc': 'zocdoc{}.p'.format(suffix)\n",
    "#     }\n",
    "    \n",
    "#     website2data = {}\n",
    "#     for name, path in website2path.items():\n",
    "#         path = os.path.join(Folder, path)\n",
    "#         df = pd.read_pickle(path)\n",
    "#         website2data[name] = df\n",
    "#     return website2data\n",
    "    \n",
    "# Folder = 'Output/MinText{}'.format(MIN_TEXT_LEN)\n",
    "# website2data = get_website2rvw(Folder)"
   ]
  },
  {
   "cell_type": "markdown",
   "id": "66a81e40",
   "metadata": {},
   "source": [
    "# NPPES Profile Score"
   ]
  },
  {
   "cell_type": "code",
   "execution_count": null,
   "id": "dee2f9d3",
   "metadata": {
    "ExecuteTime": {
     "end_time": "2022-04-26T12:24:04.537752Z",
     "start_time": "2022-04-26T12:24:03.667018Z"
    }
   },
   "outputs": [],
   "source": [
    "import pandas as pd\n",
    "import numpy as np\n",
    "import missingno as msno\n",
    "import itertools\n",
    "\n",
    "# NPPES = pd.read_pickle('Data/NPPES/NPI2InfoMDDO.p')\n",
    "# nppes_cols = ['NPI', 'FirstName', 'LastName']\n",
    "# NPPES = NPPES[nppes_cols]\n",
    "# print(NPPES.shape)\n",
    "# NPPES"
   ]
  },
  {
   "cell_type": "code",
   "execution_count": null,
   "id": "a012324f",
   "metadata": {
    "ExecuteTime": {
     "end_time": "2022-04-26T12:24:04.541064Z",
     "start_time": "2022-04-26T12:24:04.538953Z"
    }
   },
   "outputs": [],
   "source": [
    "\n",
    "\n",
    "# def get_list_sum(x, finalreview_cols):\n",
    "#     tmp = x[finalreview_cols].to_list()\n",
    "#     tmp_list = [i for i in tmp if type(i) == list]\n",
    "#     if len(tmp_list) == 0:\n",
    "#         return np.nan\n",
    "#     else:\n",
    "#         return list(itertools.chain(*tmp_list))\n",
    "    \n",
    "# def get_prfscore_avg(x, finalpflscore_cols):\n",
    "#     tmp = x[finalpflscore_cols].to_list()\n",
    "#     tmp = [i for i in tmp if not pd.isnull(i)]\n",
    "#     # tmp_list = [i for i in tmp if type(i) == list]\n",
    "#     if len(tmp) == 0:\n",
    "#         return np.nan\n",
    "#     else:\n",
    "#         return np.mean(tmp)\n",
    "    \n",
    "# def get_NPPESReview(NPPES, website2data):\n",
    "#     for website, df in website2data.items():\n",
    "#         tmp = df[['NPI', 'final_review', 'reported_profile_score']]\n",
    "#         tmp.columns = ['NPI', 'review_{}'.format(website), 'pflscore_{}'.format(website)]\n",
    "#         NPPES = pd.merge(NPPES, tmp, on = 'NPI', how = 'left')\n",
    "        \n",
    "#     # all \n",
    "#     cols = ['review_{}'.format(i) for i in website2data if 'zocdoc' not in i]\n",
    "#     NPPES['review_all'] = NPPES.apply(lambda x: get_list_sum(x, cols), axis = 1)\n",
    "#     cols = ['pflscore_{}'.format(i) for i in website2data if 'zocdoc' not in i]\n",
    "#     NPPES['pflscore_all'] = NPPES.apply(lambda x: get_prfscore_avg(x, cols), axis = 1)\n",
    "    \n",
    "#     # all(zocdoc)\n",
    "#     # cols = ['review_{}'.format(i) for i in website2data]\n",
    "#     # NPPES['review_all(zocdoc)'] = NPPES.apply(lambda x: get_list_sum(x, cols), axis = 1)\n",
    "#     # cols = ['pflscore_{}'.format(i) for i in website2data]\n",
    "#     # NPPES['pflscore_all(zocdoc)'] = NPPES.apply(lambda x: get_prfscore_avg(x, cols), axis = 1)\n",
    "#     return NPPES\n",
    "\n",
    "\n",
    "# NPPESReview = get_NPPESReview(NPPES, website2data)\n"
   ]
  },
  {
   "cell_type": "code",
   "execution_count": null,
   "id": "2697dd78",
   "metadata": {
    "ExecuteTime": {
     "end_time": "2022-04-26T12:24:04.661440Z",
     "start_time": "2022-04-26T12:24:04.658808Z"
    }
   },
   "outputs": [],
   "source": [
    "# NPPESReview"
   ]
  },
  {
   "cell_type": "code",
   "execution_count": null,
   "id": "7001d5e3",
   "metadata": {
    "ExecuteTime": {
     "end_time": "2022-04-26T12:24:04.893315Z",
     "start_time": "2022-04-26T12:24:04.890006Z"
    }
   },
   "outputs": [],
   "source": [
    "# NPPESReview.to_pickle('Output/NPPESReview.p')"
   ]
  },
  {
   "cell_type": "code",
   "execution_count": null,
   "id": "4012421d",
   "metadata": {
    "ExecuteTime": {
     "end_time": "2022-04-26T12:25:06.065679Z",
     "start_time": "2022-04-26T12:24:05.724801Z"
    }
   },
   "outputs": [],
   "source": [
    "NPPESReview = pd.read_pickle('Output/NPPESReview.p')"
   ]
  },
  {
   "cell_type": "markdown",
   "id": "1cd77e7a",
   "metadata": {},
   "source": [
    "# Get Review Table"
   ]
  },
  {
   "cell_type": "code",
   "execution_count": null,
   "id": "d05d0121",
   "metadata": {
    "ExecuteTime": {
     "end_time": "2022-04-26T12:28:59.040177Z",
     "start_time": "2022-04-26T12:28:59.035031Z"
    }
   },
   "outputs": [],
   "source": [
    "# tmp3['ReviewPrior3Y'].values[0]\n",
    "\n",
    "CutoffDate = Recent3YearDate\n",
    "# CutoffDate = Recent1YearDate\n",
    "# CutoffDate = Recent2YearDate\n"
   ]
  },
  {
   "cell_type": "code",
   "execution_count": null,
   "id": "9c438099",
   "metadata": {
    "ExecuteTime": {
     "end_time": "2022-04-26T12:29:56.185703Z",
     "start_time": "2022-04-26T12:29:04.524541Z"
    }
   },
   "outputs": [],
   "source": [
    "review_col = 'review_all' # 'review_healthgrades' # 'review_vitals' #    #  'review_all'\n",
    "pflscore_col = 'pflscore_all' # 'pflscore_healthgrades' # 'pflscore_vitals' #   #  'pflscore_vitals' #  \n",
    "\n",
    "tmp = NPPESReview[['NPI', 'FirstName', 'LastName', review_col, pflscore_col]]\n",
    "tmp2 = tmp[-tmp[pflscore_col].isna()]\n",
    "tmp3 = tmp2[tmp2[review_col].apply(lambda x:len(x) > 0)]\n",
    "tmp3 = tmp3.reset_index(drop = True)\n",
    "tmp3['numReviews'] = tmp3[review_col].apply(lambda x: len(x))\n",
    "tmp3 = tmp3.sort_values('numReviews', ascending = False).reset_index(drop = True)\n",
    "\n",
    "tmp3['ReviewPrior3Y'] = tmp3[review_col].apply(lambda x: [i['ReviewScore'] for i in x if i['ReviewDate'] < CutoffDate])\n",
    "tmp3['ReviewRecnt3Y'] = tmp3[review_col].apply(lambda x: [i['ReviewScore'] for i in x if i['ReviewDate'] >= CutoffDate])\n",
    "\n",
    "tmp3['ReviewPrior3YPlfm'] = tmp3[review_col].apply(lambda x: [i['ReviewSource'] for i in x if i['ReviewDate'] < CutoffDate])\n",
    "tmp3['ReviewRecnt3YPlfm'] = tmp3[review_col].apply(lambda x: [i['ReviewSource'] for i in x if i['ReviewDate'] >= CutoffDate])\n",
    "\n",
    "\n",
    "tmp3['numRewPrior3Y'] = tmp3['ReviewPrior3Y'].apply(lambda x: len(x))\n",
    "tmp3['numRewRecnt3Y'] = tmp3['ReviewRecnt3Y'].apply(lambda x: len(x))\n",
    "\n",
    "tmp3\n"
   ]
  },
  {
   "cell_type": "code",
   "execution_count": null,
   "id": "ccd8a7e5",
   "metadata": {
    "ExecuteTime": {
     "end_time": "2022-04-26T12:25:26.217261Z",
     "start_time": "2022-04-26T12:25:26.214551Z"
    }
   },
   "outputs": [],
   "source": [
    "# from scipy import stats as st\n",
    "\n",
    "# def get_t_test_between_past_recent(past, rcnt):\n",
    "    \n",
    "#     '''\n",
    "#     Defines the alternative hypothesis. The following options are available (default is ‘two-sided’):\n",
    "#     ‘two-sided’: the means of the distributions underlying the samples are unequal.\n",
    "#     ‘less’: the mean of the distribution underlying the first sample is less than the mean of the distribution underlying the second sample.\n",
    "#     ‘greater’: the mean of the distribution underlying the first sample is greater than the mean of the distribution underlying the second sample.\n",
    "#     '''\n",
    "    \n",
    "#     if type(past) != list or type(rcnt) != list: return np.nan\n",
    "    \n",
    "#     size_past = len(past)\n",
    "#     size_rcnt = len(rcnt)\n",
    "#     equal_var = True\n",
    "    \n",
    "#     if size_past >= 2 and size_rcnt >= 2:\n",
    "#         t, p = st.ttest_ind(past, rcnt, equal_var = equal_var)\n",
    "#         # if p > 0.05: # means are significantly different. \n",
    "#         if p <= 0.1: # reject H0: u1 = u2. \n",
    "#             return True\n",
    "#         elif p > 0.1:\n",
    "#             return False\n",
    "#         else:\n",
    "#             # print(p)\n",
    "#             return np.nan\n",
    "#             # return False\n",
    "        \n",
    "#     else:\n",
    "#         return np.nan\n",
    "    "
   ]
  },
  {
   "cell_type": "code",
   "execution_count": null,
   "id": "01583110",
   "metadata": {
    "ExecuteTime": {
     "end_time": "2022-04-26T12:25:26.221598Z",
     "start_time": "2022-04-26T12:25:26.218702Z"
    },
    "scrolled": true
   },
   "outputs": [],
   "source": [
    "# tmp3['sg_diff'] = tmp3.apply(lambda x: get_t_test_between_past_recent(x['ReviewPrior3Y'], \n",
    "#                                                                       x['ReviewRecnt3Y']),\n",
    "#                              axis = 1)\n",
    "\n",
    "# tmp3"
   ]
  },
  {
   "cell_type": "markdown",
   "id": "a511fcfc",
   "metadata": {},
   "source": [
    "# Records"
   ]
  },
  {
   "cell_type": "code",
   "execution_count": null,
   "id": "8f4eaaa0",
   "metadata": {
    "ExecuteTime": {
     "end_time": "2022-04-26T20:52:59.552340Z",
     "start_time": "2022-04-26T20:52:58.657036Z"
    }
   },
   "outputs": [],
   "source": [
    "# title = 'Physician_star_50Rew'\n",
    "# title = 'Physician_star_20Rew'\n",
    "# title = 'Physician_star_10Rew'\n",
    "title = 'Physician_star'\n",
    "# title = 'Physician'\n",
    "\n",
    "print(title)\n",
    "print(len(tmp3))\n",
    "\n",
    "\n",
    "if title == 'Physician':\n",
    "    df = tmp3\n",
    "    \n",
    "elif title == 'Physician_star':\n",
    "    df = tmp3\n",
    "    df = df[df['numRewPrior3Y'] >= 1]\n",
    "    df = df[df['numRewRecnt3Y'] >= 1]\n",
    "    \n",
    "elif title == 'Physician_star_10Rew':\n",
    "    df = tmp3\n",
    "    df = df[df['numRewPrior3Y'] >= 1]\n",
    "    df = df[df['numRewRecnt3Y'] >= 1]\n",
    "    df = df[df['numReviews'] > 10]\n",
    "    \n",
    "elif title == 'Physician_star_20Rew':\n",
    "    df = tmp3\n",
    "    df = df[df['numRewPrior3Y'] >= 1]\n",
    "    df = df[df['numRewRecnt3Y'] >= 1]\n",
    "    df = df[df['numReviews'] > 20]\n",
    "    \n",
    "    \n",
    "elif title == 'Physician_star_50Rew':\n",
    "    df = tmp3\n",
    "    df = df[df['numRewPrior3Y'] >= 1]\n",
    "    df = df[df['numRewRecnt3Y'] >= 1]\n",
    "    df = df[df['numReviews'] > 50]\n",
    "    \n",
    "print(len(df))"
   ]
  },
  {
   "cell_type": "code",
   "execution_count": null,
   "id": "140569e0",
   "metadata": {
    "ExecuteTime": {
     "end_time": "2022-04-26T20:52:59.671879Z",
     "start_time": "2022-04-26T20:52:59.553731Z"
    }
   },
   "outputs": [],
   "source": [
    "df"
   ]
  },
  {
   "cell_type": "code",
   "execution_count": null,
   "id": "d0c2cfb3",
   "metadata": {
    "ExecuteTime": {
     "end_time": "2022-04-26T20:52:59.674338Z",
     "start_time": "2022-04-26T20:52:59.672631Z"
    }
   },
   "outputs": [],
   "source": [
    "# df['review_all'].values[0]"
   ]
  },
  {
   "cell_type": "code",
   "execution_count": null,
   "id": "74172def",
   "metadata": {
    "ExecuteTime": {
     "end_time": "2022-04-26T20:53:18.389706Z",
     "start_time": "2022-04-26T20:52:59.675086Z"
    }
   },
   "outputs": [],
   "source": [
    "list2d = df.apply(lambda x: [x['NPI']] * x['numRewPrior3Y'], axis = 1).values\n",
    "NPI = list(itertools.chain.from_iterable(list2d))\n",
    "\n",
    "list2d = df['ReviewPrior3Y'].values\n",
    "ReviewScore = list(itertools.chain.from_iterable(list2d))\n",
    "assert len(NPI) == len(ReviewScore)\n",
    "\n",
    "list2d = df['ReviewPrior3YPlfm'].values\n",
    "ReviewPlatform = list(itertools.chain.from_iterable(list2d))\n",
    "assert len(NPI) == len(ReviewPlatform)\n",
    "\n",
    "df1 = pd.DataFrame({'NPI': NPI, 'ReviewScore': ReviewScore, 'plat': ReviewPlatform})\n",
    "df1['rcnt'] = 0\n",
    "df1['past'] = 1\n",
    "\n",
    "list2d = df.apply(lambda x: [x['NPI']] * x['numRewRecnt3Y'], axis = 1).values\n",
    "NPI = list(itertools.chain.from_iterable(list2d))\n",
    "\n",
    "list2d = df['ReviewRecnt3Y'].values\n",
    "ReviewScore = list(itertools.chain.from_iterable(list2d))\n",
    "assert len(NPI) == len(ReviewScore)\n",
    "\n",
    "\n",
    "\n",
    "list2d = df['ReviewRecnt3YPlfm'].values\n",
    "ReviewPlatform = list(itertools.chain.from_iterable(list2d))\n",
    "assert len(NPI) == len(ReviewPlatform)\n",
    "\n",
    "\n",
    "\n",
    "df2 = pd.DataFrame({'NPI': NPI, 'ReviewScore': ReviewScore, 'plat': ReviewPlatform})\n",
    "df2['rcnt'] = 1\n",
    "df2['past'] = 0\n",
    "\n",
    "all_date = pd.concat([df1, df2]).sort_values(['NPI']).reset_index(drop = True)\n",
    "all_date\n"
   ]
  },
  {
   "cell_type": "code",
   "execution_count": null,
   "id": "55ba332a",
   "metadata": {
    "ExecuteTime": {
     "end_time": "2022-04-26T20:53:18.804952Z",
     "start_time": "2022-04-26T20:53:18.392629Z"
    }
   },
   "outputs": [],
   "source": [
    "plat = pd.get_dummies(all_date['plat'])\n",
    "plat"
   ]
  },
  {
   "cell_type": "code",
   "execution_count": null,
   "id": "1aeb9456",
   "metadata": {
    "ExecuteTime": {
     "end_time": "2022-04-26T20:53:18.897272Z",
     "start_time": "2022-04-26T20:53:18.805940Z"
    }
   },
   "outputs": [],
   "source": [
    "final = pd.concat([all_date, plat], axis = 1)\n",
    "final"
   ]
  },
  {
   "cell_type": "code",
   "execution_count": null,
   "id": "8af0406c",
   "metadata": {
    "ExecuteTime": {
     "end_time": "2022-04-26T20:53:34.233290Z",
     "start_time": "2022-04-26T20:53:18.899215Z"
    }
   },
   "outputs": [],
   "source": [
    "path = 'LMER/data_{}_{}_new.csv'.format(review_col, title)\n",
    "final.to_csv(path, index = False)\n",
    "print(path)"
   ]
  },
  {
   "cell_type": "markdown",
   "id": "1a1b62e5",
   "metadata": {},
   "source": [
    "# Focus on Physicians Whose Review Number Larger than X"
   ]
  },
  {
   "cell_type": "code",
   "execution_count": null,
   "id": "5adaed29",
   "metadata": {
    "ExecuteTime": {
     "end_time": "2022-03-15T21:10:10.939871Z",
     "start_time": "2022-03-15T21:10:10.929734Z"
    }
   },
   "outputs": [],
   "source": [
    "MIN_PHYSICIAN_REVIEW_NUM = 100 # 0 # 10, 20, 50"
   ]
  },
  {
   "cell_type": "code",
   "execution_count": null,
   "id": "be08bea8",
   "metadata": {
    "ExecuteTime": {
     "end_time": "2022-03-15T21:10:12.347861Z",
     "start_time": "2022-03-15T21:10:11.598147Z"
    }
   },
   "outputs": [],
   "source": [
    "review_num = NPPESReview['review_all'].apply(lambda x: len(x) if type(x) == list else np.nan)\n",
    "review_num"
   ]
  },
  {
   "cell_type": "code",
   "execution_count": null,
   "id": "bc6c90e7",
   "metadata": {
    "ExecuteTime": {
     "end_time": "2022-03-15T21:10:13.079535Z",
     "start_time": "2022-03-15T21:10:12.356322Z"
    }
   },
   "outputs": [],
   "source": [
    "NPPESReviewX = NPPESReview[review_num >= MIN_PHYSICIAN_REVIEW_NUM].reset_index(drop = True)\n",
    "NPPESReviewX"
   ]
  },
  {
   "cell_type": "code",
   "execution_count": null,
   "id": "6fbdac27",
   "metadata": {
    "ExecuteTime": {
     "end_time": "2022-03-15T21:10:14.091317Z",
     "start_time": "2022-03-15T21:10:14.085547Z"
    }
   },
   "outputs": [],
   "source": [
    "print('{} Physicians have more than {} reviews'.format(len(NPPESReviewX), MIN_PHYSICIAN_REVIEW_NUM))"
   ]
  },
  {
   "cell_type": "markdown",
   "id": "027a3120",
   "metadata": {},
   "source": [
    "# Recent vs Past"
   ]
  },
  {
   "cell_type": "code",
   "execution_count": null,
   "id": "a65f57b5",
   "metadata": {
    "ExecuteTime": {
     "end_time": "2022-03-15T21:00:33.783666Z",
     "start_time": "2022-03-15T21:00:33.772368Z"
    }
   },
   "outputs": [],
   "source": [
    "def get_recent_past_reviews(x, CutOffDate):\n",
    "    recent = []\n",
    "    past = []\n",
    "    for i in x:\n",
    "        if i['ReviewDate'] >= CutOffDate:\n",
    "            recent.append(i)\n",
    "        else:\n",
    "            past.append(i)\n",
    "    return recent, past"
   ]
  },
  {
   "cell_type": "code",
   "execution_count": null,
   "id": "af6f0184",
   "metadata": {
    "ExecuteTime": {
     "end_time": "2022-03-15T21:00:39.038173Z",
     "start_time": "2022-03-15T21:00:38.997491Z"
    }
   },
   "outputs": [],
   "source": [
    "def get_recent_past_review_score(col, NPPESReview, RecentYear, PAST_MIN_NUM):\n",
    "    info = {}\n",
    "    info['Platform'] = col.split('_')[1]\n",
    "    \n",
    "    HasRecentReview = 'HasReviewsRct{}Y'.format(RecentYear)\n",
    "    CutOffDate = cutoffDates[RecentYear]\n",
    "    # info['PAST_MIN_NUM'] = PAST_MIN_NUM\n",
    "    info['Recent'] = 'Rct{}Y ({})'.format(RecentYear, str(CutOffDate.date()))\n",
    "    \n",
    "    \n",
    "    # get profile info\n",
    "    df = NPPESReview[['NPI', col]]\n",
    "    df = df[-df[col].isna()].reset_index(drop = True)\n",
    "    df['LatestReviewDate'] = df[col].apply(lambda x: np.max([i['ReviewDate'] for i in x]) if len(x) > 0 else np.nan)\n",
    "    info['WebPhyNum'] = len(df)\n",
    "    \n",
    "    # has review\n",
    "    df = df[-df['LatestReviewDate'].isna()].reset_index(drop = True)\n",
    "    info['HasRvwNum'] = len(df)\n",
    "    \n",
    "    # has recent review\n",
    "    df[HasRecentReview] = df['LatestReviewDate'].apply(lambda x: True if x >= CutOffDate else False)\n",
    "    df = df[df[HasRecentReview]].reset_index(drop = True)\n",
    "    info['HasRctNum'] = len(df)\n",
    "    \n",
    "    \n",
    "    # has recent and past review and Filter by PAST_MIN_NUM\n",
    "    recent_past = df[col].apply(lambda x: get_recent_past_reviews(x, CutOffDate))\n",
    "    df['recent'] = [i[0] for i in recent_past.values]\n",
    "    df['past'] = [i[1] for i in recent_past.values]\n",
    "    df['recent_scores'] = df['recent'].apply(lambda x: [float(i['ReviewScore']) for i in x])\n",
    "    df['past_scores'] = df['past'].apply(lambda x: [float(i['ReviewScore']) for i in x])\n",
    "    \n",
    "    df['recent_num'] = df['recent'].apply(lambda x: len(x))\n",
    "    df['past_num'] = df['past'].apply(lambda x: len(x))\n",
    "    \n",
    "    df = df[df['past_num'] >= PAST_MIN_NUM].reset_index(drop = True)\n",
    "    info['HasRctPst{}Num'.format(PAST_MIN_NUM)] = len(df)\n",
    "    \n",
    "    # Recent Score and Past Score\n",
    "    df['recent_mean_score'] = df['recent_scores'].apply(lambda x: np.mean(x))\n",
    "    df['past_mean_score'] = df['past_scores'].apply(lambda x: np.mean(x))\n",
    "    \n",
    "    # T, I, D, M\n",
    "    df['rencetpast_diff'] = df['recent_mean_score'] - df['past_mean_score']\n",
    "    increase_df = df[df['rencetpast_diff'] >= 0.5].reset_index(drop = True)\n",
    "    decrease_df = df[df['rencetpast_diff'] <= -0.5].reset_index(drop = True)\n",
    "    unchange_df = df[df['rencetpast_diff'].apply(lambda x: x > -0.5 and x < 0.5)].reset_index(drop = True)\n",
    "    \n",
    "    info['T'] = '{} ({:.2f}%)'.format(len(df), 100*len(df)/len(df))\n",
    "    info['T_recentscore'] = '{:.2f} ({:.2f})'.format(df['recent_mean_score'].mean(), df['recent_mean_score'].std())\n",
    "    info['T_pastscore'] = '{:.2f} ({:.2f})'.format(df['past_mean_score'].mean(), df['past_mean_score'].std())\n",
    "    rct = df['recent_num'].sum(); all = df['recent_num'].sum() + df['past_num'].sum()\n",
    "    info['T_recentrvw/allrvw'] = '{}/{} ({:.2f}%)'.format(rct, all, 100 * rct/all)\n",
    "    \n",
    "    \n",
    "    \n",
    "    info['D'] = '{} ({:.2f}%)'.format(len(decrease_df), 100*len(decrease_df)/len(df))\n",
    "    info['D_recentscore'] = '{:.2f} ({:.2f})'.format(decrease_df['recent_mean_score'].mean(), decrease_df['recent_mean_score'].std())\n",
    "    info['D_pastscore'] = '{:.2f} ({:.2f})'.format(decrease_df['past_mean_score'].mean(), decrease_df['past_mean_score'].std())\n",
    "    rct = decrease_df['recent_num'].sum(); all = decrease_df['recent_num'].sum() + decrease_df['past_num'].sum()\n",
    "    info['D_recentrvw/allrvw'] = '{}/{} ({:.2f}%)'.format(rct, all, 100 * rct/all)\n",
    "    \n",
    "    \n",
    "    info['M'] = '{} ({:.2f}%)'.format(len(unchange_df), 100*len(unchange_df)/len(df))\n",
    "    info['M_recentscore'] = '{:.2f} ({:.2f})'.format(unchange_df['recent_mean_score'].mean(), unchange_df['recent_mean_score'].std())\n",
    "    info['M_pastscore'] = '{:.2f} ({:.2f})'.format(unchange_df['past_mean_score'].mean(), unchange_df['past_mean_score'].std())\n",
    "    rct = unchange_df['recent_num'].sum(); all = unchange_df['recent_num'].sum() + unchange_df['past_num'].sum()\n",
    "    info['M_recentrvw/allrvw'] = '{}/{} ({:.2f}%)'.format(rct, all, 100 * rct/all)\n",
    "    \n",
    "    \n",
    "    \n",
    "    info['I'] = '{} ({:.2f}%)'.format(len(increase_df), 100*len(increase_df)/len(df))\n",
    "    info['I_recentscore'] = '{:.2f} ({:.2f})'.format(increase_df['recent_mean_score'].mean(), increase_df['recent_mean_score'].std())\n",
    "    info['I_pastscore'] = '{:.2f} ({:.2f})'.format(increase_df['past_mean_score'].mean(), increase_df['past_mean_score'].std())\n",
    "    rct = increase_df['recent_num'].sum(); all = increase_df['recent_num'].sum() + increase_df['past_num'].sum()\n",
    "    info['I_recentrvw/allrvw'] = '{}/{} ({:.2f}%)'.format(rct, all, 100* rct/all)\n",
    "    \n",
    "\n",
    "    return info\n"
   ]
  },
  {
   "cell_type": "code",
   "execution_count": null,
   "id": "37020858",
   "metadata": {
    "ExecuteTime": {
     "end_time": "2022-03-15T21:04:11.633054Z",
     "start_time": "2022-03-15T21:00:39.593942Z"
    }
   },
   "outputs": [],
   "source": [
    "ReviewsInfo = NPPESReviewX\n",
    "phynum = 'Review{}'.format(MIN_PHYSICIAN_REVIEW_NUM)\n",
    "folder = 'Output/RecentVSOld'\n",
    "\n",
    "for PAST_MIN_NUM in [5, 1]:\n",
    "    for RecentYear in [1, 3]:\n",
    "        L = []\n",
    "        for col in [i for i in ReviewsInfo.columns if 'review' in i]:\n",
    "            # print(col, RecentYear)\n",
    "            info = get_recent_past_review_score(col, ReviewsInfo, RecentYear, PAST_MIN_NUM)\n",
    "            L.append(info)\n",
    "\n",
    "        Recent_Past_Report = pd.DataFrame(L)\n",
    "        path = '{}/{}-MinTxt{}_RctY{}_PastRvw{}_Report.csv'.format(folder, phynum, MIN_TEXT_LEN, RecentYear, PAST_MIN_NUM)\n",
    "        print('save to: {}'.format(path))\n",
    "        Recent_Past_Report.to_csv(path, index = False)\n",
    "\n",
    "Recent_Past_Report"
   ]
  },
  {
   "cell_type": "markdown",
   "id": "2932dc25",
   "metadata": {},
   "source": [
    "# Recent vs Profile"
   ]
  },
  {
   "cell_type": "code",
   "execution_count": null,
   "id": "5d7353aa",
   "metadata": {
    "ExecuteTime": {
     "end_time": "2022-03-15T21:04:11.661656Z",
     "start_time": "2022-03-15T21:04:11.639463Z"
    }
   },
   "outputs": [],
   "source": [
    "\n",
    "def get_recent_profile_review_score(col, NPPESReview, RecentYear, PAST_MIN_NUM):\n",
    "    info = {}\n",
    "    info['Platform'] = col.split('_')[1]\n",
    "    \n",
    "    HasRecentReview = 'HasReviewsRct{}Y'.format(RecentYear)\n",
    "    CutOffDate = cutoffDates[RecentYear]\n",
    "    # info['PAST_MIN_NUM'] = PAST_MIN_NUM\n",
    "    info['Recent'] = 'Rct{}Y ({})'.format(RecentYear, str(CutOffDate.date()))\n",
    "    \n",
    "    \n",
    "    # get profile info\n",
    "    pflscore_col = col.replace('review', 'pflscore')\n",
    "    df = NPPESReview[['NPI', col, pflscore_col]]\n",
    "    df = df[-df[col].isna()].reset_index(drop = True)\n",
    "    df['LatestReviewDate'] = df[col].apply(lambda x: np.max([i['ReviewDate'] for i in x]) if len(x) > 0 else np.nan)\n",
    "    info['WebPhyNum'] = len(df)\n",
    "    \n",
    "    # has review\n",
    "    df = df[-df['LatestReviewDate'].isna()].reset_index(drop = True)\n",
    "    info['HasRvwNum'] = len(df)\n",
    "    \n",
    "    # has recent review\n",
    "    df[HasRecentReview] = df['LatestReviewDate'].apply(lambda x: True if x >= CutOffDate else False)\n",
    "    df = df[df[HasRecentReview]].reset_index(drop = True)\n",
    "    info['HasRctNum'] = len(df)\n",
    "    \n",
    "    \n",
    "    # has recent and past review and Filter by PAST_MIN_NUM\n",
    "    recent_past = df[col].apply(lambda x: get_recent_past_reviews(x, CutOffDate))\n",
    "    df['recent'] = [i[0] for i in recent_past.values]\n",
    "    df['past'] = [i[1] for i in recent_past.values]\n",
    "    df['recent_scores'] = df['recent'].apply(lambda x: [float(i['ReviewScore']) for i in x])\n",
    "    \n",
    "    df['recent_num'] = df['recent'].apply(lambda x: len(x))\n",
    "    df['past_num'] = df['past'].apply(lambda x: len(x))\n",
    "    df = df[df['past_num'] >= PAST_MIN_NUM].reset_index(drop = True)\n",
    "    info['HasRctPst{}Num'.format(PAST_MIN_NUM)] = len(df)\n",
    "    \n",
    "    # Recent Score and Past Score\n",
    "    df['recent_mean_score'] = df['recent_scores'].apply(lambda x: np.mean(x))\n",
    "    df['profile_score'] = df[pflscore_col].apply(lambda x: float(x))\n",
    "    \n",
    "    # T, I, D, M\n",
    "    df['rencetprfl_diff'] = df['recent_mean_score'] - df['profile_score']\n",
    "    increase_df = df[df['rencetprfl_diff'] >= 0.5].reset_index(drop = True)\n",
    "    decrease_df = df[df['rencetprfl_diff'] <= -0.5].reset_index(drop = True)\n",
    "    unchange_df = df[df['rencetprfl_diff'].apply(lambda x: x > -0.5 and x < 0.5)].reset_index(drop = True)\n",
    "    \n",
    "    info['T'] = '{} ({:.2f}%)'.format(len(df), 100*len(df)/len(df))\n",
    "    info['T_recentscore'] = '{:.2f} ({:.2f})'.format(df['recent_mean_score'].mean(), df['recent_mean_score'].std())\n",
    "    info['T_profilescore'] = '{:.2f} ({:.2f})'.format(df['profile_score'].mean(), df['profile_score'].std())\n",
    "    rct = df['recent_num'].sum(); all = df['recent_num'].sum() + df['past_num'].sum()\n",
    "    info['T_recentrvw/allrvw'] = '{}/{} ({:.2f}%)'.format(rct, all, 100 * rct/all)\n",
    "    \n",
    "    \n",
    "    info['D'] = '{} ({:.2f}%)'.format(len(decrease_df), 100*len(decrease_df)/len(df))\n",
    "    info['D_recentscore'] = '{:.2f} ({:.2f})'.format(decrease_df['recent_mean_score'].mean(), decrease_df['recent_mean_score'].std())\n",
    "    info['D_profilescore'] = '{:.2f} ({:.2f})'.format(decrease_df['profile_score'].mean(), decrease_df['profile_score'].std())\n",
    "    rct = decrease_df['recent_num'].sum(); all = decrease_df['recent_num'].sum() + decrease_df['past_num'].sum()\n",
    "    info['D_recentrvw/allrvw'] = '{}/{} ({:.2f}%)'.format(rct, all, 100 * rct/all)\n",
    "    \n",
    "    \n",
    "    \n",
    "    info['M'] = '{} ({:.2f}%)'.format(len(unchange_df), 100*len(unchange_df)/len(df))\n",
    "    info['M_recentscore'] = '{:.2f} ({:.2f})'.format(unchange_df['recent_mean_score'].mean(), unchange_df['recent_mean_score'].std())\n",
    "    info['M_profilescore'] = '{:.2f} ({:.2f})'.format(unchange_df['profile_score'].mean(), unchange_df['profile_score'].std())\n",
    "    rct = unchange_df['recent_num'].sum(); all = unchange_df['recent_num'].sum() + unchange_df['past_num'].sum()\n",
    "    info['M_recentrvw/allrvw'] = '{}/{} ({:.2f}%)'.format(rct, all, 100 * rct/all)\n",
    "    \n",
    "    \n",
    "    \n",
    "    info['I'] = '{} ({:.2f}%)'.format(len(increase_df), 100*len(increase_df)/len(df))\n",
    "    info['I_recentscore'] = '{:.2f} ({:.2f})'.format(increase_df['recent_mean_score'].mean(), increase_df['recent_mean_score'].std())\n",
    "    info['I_profilescore'] = '{:.2f} ({:.2f})'.format(increase_df['profile_score'].mean(), increase_df['profile_score'].std())\n",
    "    rct = increase_df['recent_num'].sum(); all = increase_df['recent_num'].sum() + increase_df['past_num'].sum()\n",
    "    info['I_recentrvw/allrvw'] = '{}/{} ({:.2f}%)'.format(rct, all, 100 * rct/all)\n",
    "    \n",
    "    return info\n"
   ]
  },
  {
   "cell_type": "code",
   "execution_count": null,
   "id": "9cfdb812",
   "metadata": {
    "ExecuteTime": {
     "end_time": "2022-03-15T21:10:31.576901Z",
     "start_time": "2022-03-15T21:10:21.756690Z"
    }
   },
   "outputs": [],
   "source": [
    "ReviewsInfo = NPPESReviewX\n",
    "phynum = 'Review{}'.format(MIN_PHYSICIAN_REVIEW_NUM)\n",
    "\n",
    "folder = 'Output/RecentVSProfile'\n",
    "\n",
    "\n",
    "for PAST_MIN_NUM in [5, 1]: # [5, 1]\n",
    "    for RecentYear in [3]: #[1, 2, 3]:\n",
    "        L = []\n",
    "        for col in [i for i in ReviewsInfo.columns if 'review' in i]:\n",
    "            # print(col, RecentYear)\n",
    "            info = get_recent_profile_review_score(col, ReviewsInfo, RecentYear, PAST_MIN_NUM)\n",
    "            L.append(info)\n",
    "\n",
    "        Recent_Profile_Report = pd.DataFrame(L)\n",
    "        path = '{}/{}-MinTxt{}_RctY{}_PastRvw{}_Report.csv'.format(folder, phynum, MIN_TEXT_LEN, RecentYear, PAST_MIN_NUM)\n",
    "        print('save to: {}'.format(path))\n",
    "        Recent_Profile_Report.to_csv(path, index = False)\n",
    "\n",
    "Recent_Profile_Report"
   ]
  },
  {
   "cell_type": "markdown",
   "id": "6c72efb2",
   "metadata": {},
   "source": [
    "# Report"
   ]
  },
  {
   "cell_type": "code",
   "execution_count": null,
   "id": "8965dd16",
   "metadata": {
    "ExecuteTime": {
     "end_time": "2022-03-15T21:07:36.510064Z",
     "start_time": "2022-03-15T21:07:36.507947Z"
    }
   },
   "outputs": [],
   "source": [
    "# import pandas as pd\n",
    "# path = 'Output/RecentVSProfile/Review0-MinTxt0_RctY3_PastRvw1_Report.csv'\n",
    "# DF = pd.read_csv(path)\n",
    "# DF"
   ]
  },
  {
   "cell_type": "code",
   "execution_count": null,
   "id": "f6476883",
   "metadata": {
    "ExecuteTime": {
     "end_time": "2022-03-17T15:21:21.236395Z",
     "start_time": "2022-03-17T15:21:20.936844Z"
    }
   },
   "outputs": [],
   "source": [
    "import pandas as pd\n",
    "\n",
    "def get_all_info(DF):\n",
    "    \n",
    "    for idx, row in DF.iterrows():\n",
    "        d = row.to_dict()\n",
    "        if d['Platform'] == 'all':\n",
    "            return d\n",
    "        \n",
    "def get_Info(d):\n",
    "    L = []\n",
    "    for i in ['T', 'D', 'M', 'I']:\n",
    "        info = {k:v for k, v in d.items() if i in k}\n",
    "        # print(info)\n",
    "\n",
    "        x = {k.replace(i+ '_', '').replace(i, 'GroupMember'): v for k, v in info.items()}\n",
    "        x['Group'] = i\n",
    "        L.append(x)\n",
    "        \n",
    "    Report = pd.DataFrame(L)\n",
    "    Report = Report[['Group', 'GroupMember', 'recentscore', 'profilescore', 'recentrvw/allrvw']]\n",
    "    return Report\n",
    "\n",
    "\n",
    "T2Full = {\n",
    "    'T': 'Physician Having Recent Reviews', \n",
    "    'D': 'Lower Recent Score than Profile Score',\n",
    "    'M': 'Similar Recent Score to Profile Score',\n",
    "    'I': 'Higher Recent Score to Profile Score'\n",
    "}\n",
    "\n",
    "def get_clean_result(d):\n",
    "    Report = get_Info(d)\n",
    "\n",
    "    L = []\n",
    "    for idx, row in Report.iterrows():\n",
    "        d = row.to_dict()\n",
    "        if d['Group'] == 'T':\n",
    "            d['Name'] = T2Full[d['Group']] + ' (' + d['GroupMember'].split(' ')[0] + ')'\n",
    "        else:\n",
    "            d['Name'] = T2Full[d['Group']] + ' ' + d['GroupMember'].split(' ')[1] \n",
    "        d['Group'] = T2Full[d['Group']]\n",
    "        d['Group Member'] = int(d['GroupMember'].split(' ')[0])\n",
    "        d['Recent Score'] = float(d['recentscore'].split(' ')[0])\n",
    "        d['Profile Score'] = float(d['profilescore'].split(' ')[0])\n",
    "        rctrvw, rvw = d['recentrvw/allrvw'].split(' ')[0].split('/')\n",
    "        d['RctRvw/Physican'] = round(int(rctrvw) / d['Group Member'], 2)\n",
    "        d['Rvw/Physican'] = round(int(rvw) / d['Group Member'], 2)\n",
    "        d.pop('Group Member')\n",
    "        L.append(d)\n",
    "\n",
    "    Report = pd.DataFrame(L)\n",
    "    \n",
    "    return Report\n",
    "\n"
   ]
  },
  {
   "cell_type": "code",
   "execution_count": null,
   "id": "3dc6684c",
   "metadata": {
    "ExecuteTime": {
     "end_time": "2022-03-17T15:21:23.659215Z",
     "start_time": "2022-03-17T15:21:23.547654Z"
    }
   },
   "outputs": [],
   "source": [
    "\n",
    "path = 'Output/RecentVSProfile/Review0-MinTxt0_RctY3_PastRvw1_Report.csv'\n",
    "DF = pd.read_csv(path)\n",
    "\n",
    "d = get_all_info(DF)\n",
    "Report = get_clean_result(d)\n",
    "Report.to_clipboard()\n",
    "\n",
    "Report"
   ]
  },
  {
   "cell_type": "code",
   "execution_count": null,
   "id": "90179505",
   "metadata": {
    "ExecuteTime": {
     "end_time": "2022-03-15T21:12:02.608730Z",
     "start_time": "2022-03-15T21:12:02.519879Z"
    }
   },
   "outputs": [],
   "source": [
    "\n",
    "path = 'Output/RecentVSProfile/Review10-MinTxt0_RctY3_PastRvw1_Report.csv'\n",
    "DF = pd.read_csv(path)\n",
    "\n",
    "d = get_all_info(DF)\n",
    "Report = get_clean_result(d)\n",
    "Report.to_clipboard()\n",
    "\n",
    "Report"
   ]
  },
  {
   "cell_type": "code",
   "execution_count": null,
   "id": "c32b8c3a",
   "metadata": {
    "ExecuteTime": {
     "end_time": "2022-03-15T21:12:16.460407Z",
     "start_time": "2022-03-15T21:12:16.372320Z"
    }
   },
   "outputs": [],
   "source": [
    "\n",
    "path = 'Output/RecentVSProfile/Review20-MinTxt0_RctY3_PastRvw1_Report.csv'\n",
    "DF = pd.read_csv(path)\n",
    "\n",
    "d = get_all_info(DF)\n",
    "Report = get_clean_result(d)\n",
    "Report.to_clipboard()\n",
    "\n",
    "Report"
   ]
  },
  {
   "cell_type": "code",
   "execution_count": null,
   "id": "b97bac2e",
   "metadata": {
    "ExecuteTime": {
     "end_time": "2022-03-15T21:13:34.933769Z",
     "start_time": "2022-03-15T21:13:34.862162Z"
    }
   },
   "outputs": [],
   "source": [
    "\n",
    "path = 'Output/RecentVSProfile/Review50-MinTxt0_RctY3_PastRvw5_Report.csv'\n",
    "DF = pd.read_csv(path)\n",
    "\n",
    "d = get_all_info(DF)\n",
    "Report = get_clean_result(d)\n",
    "Report.to_clipboard()\n",
    "\n",
    "Report"
   ]
  },
  {
   "cell_type": "code",
   "execution_count": null,
   "id": "3c561f3b",
   "metadata": {
    "ExecuteTime": {
     "end_time": "2022-03-15T21:13:44.062381Z",
     "start_time": "2022-03-15T21:13:43.978950Z"
    }
   },
   "outputs": [],
   "source": [
    "\n",
    "path = 'Output/RecentVSProfile/Review100-MinTxt0_RctY3_PastRvw1_Report.csv'\n",
    "DF = pd.read_csv(path)\n",
    "\n",
    "d = get_all_info(DF)\n",
    "Report = get_clean_result(d)\n",
    "Report.to_clipboard()\n",
    "\n",
    "Report"
   ]
  },
  {
   "cell_type": "markdown",
   "id": "6ba68006",
   "metadata": {},
   "source": [
    "# Parking Lot"
   ]
  },
  {
   "cell_type": "code",
   "execution_count": null,
   "id": "3caf8fa1",
   "metadata": {
    "ExecuteTime": {
     "start_time": "2022-03-18T23:32:13.144Z"
    }
   },
   "outputs": [],
   "source": [
    "# df = NPPESReview[['NPI', 'FirstName', 'LastName', 'review_all', 'pflscore_all']].reset_index(drop = True)\n",
    "# df['review_all_num'] = df['review_all'].apply(lambda x: len(x) if type(x) == list else 0)\n",
    "\n",
    "# df = df[['NPI', 'FirstName', 'LastName', 'review_all_num', 'pflscore_all']]\n",
    "\n",
    "# df.to_csv('npi2rating_text.csv', index = False, sep = '\\t')\n",
    "# df"
   ]
  },
  {
   "cell_type": "code",
   "execution_count": null,
   "id": "a01692b5",
   "metadata": {
    "ExecuteTime": {
     "end_time": "2022-03-18T23:48:23.776430Z",
     "start_time": "2022-03-18T23:48:23.765435Z"
    }
   },
   "outputs": [],
   "source": [
    "# df = df.rename(columns = {'review_all_num': 'review_text_num'})\n",
    "# df"
   ]
  },
  {
   "cell_type": "code",
   "execution_count": null,
   "id": "c3676d04",
   "metadata": {
    "ExecuteTime": {
     "end_time": "2022-03-18T23:48:23.786448Z",
     "start_time": "2022-03-18T23:48:23.783964Z"
    }
   },
   "outputs": [],
   "source": [
    "# df2 = pd.read_csv('npi2review_num.csv', sep = '\\t')\n",
    "# df2"
   ]
  },
  {
   "cell_type": "code",
   "execution_count": null,
   "id": "54687986",
   "metadata": {
    "ExecuteTime": {
     "end_time": "2022-03-18T23:48:23.790512Z",
     "start_time": "2022-03-18T23:48:23.787768Z"
    }
   },
   "outputs": [],
   "source": [
    "# df_new = pd.merge(df2, df[['NPI', 'review_text_num']])\n",
    "\n",
    "# cols = ['NPI', 'FirstName', 'LastName','pflscore_all', 'review_all_num', 'review_text_num']\n",
    "\n",
    "# df_new = df_new[cols]\n",
    "# df_new.to_csv('npi2review_info.csv', index = False, sep = '\\t')\n",
    "# df_new"
   ]
  },
  {
   "cell_type": "code",
   "execution_count": null,
   "id": "ed3caf74",
   "metadata": {
    "ExecuteTime": {
     "end_time": "2022-03-19T04:10:17.553795Z",
     "start_time": "2022-03-19T04:10:17.546826Z"
    }
   },
   "outputs": [],
   "source": [
    "# from scipy import stats as st\n",
    "\n",
    "# '''\n",
    "# Defines the alternative hypothesis. The following options are available (default is ‘two-sided’):\n",
    "\n",
    "# ‘two-sided’: the means of the distributions underlying the samples are unequal.\n",
    "\n",
    "# ‘less’: the mean of the distribution underlying the first sample is less than the mean of the distribution underlying the second sample.\n",
    "\n",
    "# ‘greater’: the mean of the distribution underlying the first sample is greater than the mean of the distribution underlying the second sample.\n",
    "\n",
    "# '''\n",
    "# def get_t_test_between_past_recent(x, cut_off_date):\n",
    "#     if type(x) != list:\n",
    "#         return None\n",
    "    \n",
    "#     d = {}\n",
    "    \n",
    "#     past = [i['ReviewScore'] for i in x if i['ReviewDate'] < cut_off_date]\n",
    "#     rcnt = [i['ReviewScore'] for i in x if i['ReviewDate'] >= cut_off_date]\n",
    "\n",
    "#     size_past = len(past)\n",
    "#     size_rcnt = len(rcnt)\n",
    "    \n",
    "    \n",
    "#     equal_var = False\n",
    "#     if size_past >= 1 and size_rcnt >= 1:\n",
    "        \n",
    "#         d['mean_past'] = np.mean(past)\n",
    "#         d['mean_rcnt'] = np.mean(rcnt)\n",
    "#         d['size_past'] = size_past\n",
    "#         d['size_rcnt'] = size_rcnt\n",
    "        \n",
    "#         # Null Hypo: u1 = u2, Alternative Hypo: u1 != u2\n",
    "#         # We want to select the samples that cannot support Null Hypo\n",
    "#         # That is p >= 0.05.\n",
    "#         t, p = st.ttest_ind(past, rcnt, equal_var = equal_var)\n",
    "#         d['p-2sides'] = p\n",
    "#         d['p-2sides**'] = p <= 0.05\n",
    "        \n",
    "#         # t, p = st.ttest_ind(past, [i-0.5 for i in rcnt], equal_var = equal_var, alternative = 'less')\n",
    "#         # d['p-1side_P<R-0.5'] = p\n",
    "#         # d['p-1side_P<R-0.5**'] = p <= 0.05\n",
    "        \n",
    "#         # t, p = st.ttest_ind(past, [i+0.5 for i in rcnt], equal_var = equal_var, alternative = 'greater')\n",
    "#         # d['p-1side_P>R+0.5'] = p\n",
    "#         # d['p-1side_P>R+0.5**'] = p <= 0.05\n",
    "\n",
    "            \n",
    "        \n",
    "# #         if d['mean_rcnt'] - d['mean_past'] >= 0.5: # \n",
    "# #             d['Changed'] = 'Increased'\n",
    "# #             # H0: whether past >= recent - 0.5. (p <=0.05 rejects it.)\n",
    "# #             # H1: past < recent - 0.5 (less)\n",
    "# #             # We want select the samples that support H0, i.e. p <= 0.05\n",
    "# #             t, p = st.ttest_ind(past, [i-0.5 for i in rcnt], equal_var = equal_var, alternative = 'less')\n",
    "# #             d['p-1side'] = p\n",
    "# #             d['p-1side**'] = p <= 0.05\n",
    "            \n",
    "# #         elif d['mean_past'] - d['mean_rcnt'] >= 0.5:\n",
    "# #             d['Changed'] = 'Decreased'\n",
    "# #             # H0: whether past <= recent + 0.5 (small p rejects it)\n",
    "# #             # H1: past > recent + 0.5. (greater)\n",
    "# #             t, p = st.ttest_ind(past, [i+0.5 for i in rcnt], equal_var = equal_var, alternative = 'greater')\n",
    "# #             d['p-1side'] = p\n",
    "# #             d['p-1side**'] = p <= 0.05\n",
    "            \n",
    "# #         else:\n",
    "# #             d['Changed'] = 'Unchanged'\n",
    "            \n",
    "        \n",
    "#         return d\n",
    "    \n",
    "#     else:\n",
    "#         return None\n",
    "    \n",
    "    "
   ]
  },
  {
   "cell_type": "code",
   "execution_count": null,
   "id": "f67012d6",
   "metadata": {
    "ExecuteTime": {
     "end_time": "2022-03-31T15:48:56.433814Z",
     "start_time": "2022-03-31T15:48:56.328450Z"
    }
   },
   "outputs": [],
   "source": [
    "st.ttest_ind?"
   ]
  },
  {
   "cell_type": "code",
   "execution_count": null,
   "id": "5dcbec3e",
   "metadata": {},
   "outputs": [],
   "source": [
    "# x = NPPESReview['review_all'].values[1]\n",
    "# x\n",
    "\n",
    "\n",
    "# cut_off_date = cutoffDates[1]\n",
    "# print(cut_off_date)\n",
    "# get_t_test_between_past_recent(x, cut_off_date)\n",
    "\n",
    "\n",
    "# cut_off_date = cutoffDates[1]\n",
    "# ttest_report = NPPESReview['review_all'].apply(lambda x: get_t_test_between_past_recent(x, cut_off_date))\n",
    "\n",
    "# report = pd.DataFrame(ttest_report.dropna().to_list())\n",
    "# print(len(report))\n",
    "# report = report[-report['p-2sides'].isna()].reset_index(drop = True)\n",
    "# print(len(report))\n",
    "# print(report['p-2sides**'].value_counts().to_dict())\n",
    "# # print(report['p-1side_P<R-0.5**'].value_counts().to_dict())\n",
    "# # print(report['p-1side_P>R+0.5**'].value_counts().to_dict())\n",
    "# report\n"
   ]
  },
  {
   "cell_type": "code",
   "execution_count": null,
   "id": "db6824f5",
   "metadata": {},
   "outputs": [],
   "source": [
    "# cut_off_date = cutoffDates[2]\n",
    "# ttest_report = NPPESReview['review_all'].apply(lambda x: get_t_test_between_past_recent(x, cut_off_date))\n",
    "\n",
    "# report = pd.DataFrame(ttest_report.dropna().to_list())\n",
    "# print(len(report))\n",
    "# report = report[-report['p-2sides'].isna()].reset_index(drop = True)\n",
    "# print(len(report))\n",
    "# print(report['p-2sides**'].value_counts().to_dict())\n",
    "# # print(report['p-1side_P<R-0.5**'].value_counts().to_dict())\n",
    "# # print(report['p-1side_P>R+0.5**'].value_counts().to_dict())\n",
    "# report\n"
   ]
  },
  {
   "cell_type": "code",
   "execution_count": null,
   "id": "27ca3471",
   "metadata": {},
   "outputs": [],
   "source": [
    "# cut_off_date = cutoffDates[3]\n",
    "# ttest_report = NPPESReview['review_all'].apply(lambda x: get_t_test_between_past_recent(x, cut_off_date))\n",
    "\n",
    "# report = pd.DataFrame(ttest_report.dropna().to_list())\n",
    "# print(len(report))\n",
    "# report = report[-report['p-2sides'].isna()].reset_index(drop = True)\n",
    "# print(len(report))\n",
    "# print(report['p-2sides**'].value_counts().to_dict())\n",
    "# # print(report['p-1side_P<R-0.5**'].value_counts().to_dict())\n",
    "# # print(report['p-1side_P>R+0.5**'].value_counts().to_dict())\n",
    "# report\n",
    "\n"
   ]
  }
 ],
 "metadata": {
  "kernelspec": {
   "display_name": "Python 3 (ipykernel)",
   "language": "python",
   "name": "python3"
  },
  "language_info": {
   "codemirror_mode": {
    "name": "ipython",
    "version": 3
   },
   "file_extension": ".py",
   "mimetype": "text/x-python",
   "name": "python",
   "nbconvert_exporter": "python",
   "pygments_lexer": "ipython3",
   "version": "3.9.6"
  },
  "toc": {
   "base_numbering": 1,
   "nav_menu": {},
   "number_sections": true,
   "sideBar": true,
   "skip_h1_title": false,
   "title_cell": "Table of Contents",
   "title_sidebar": "Contents",
   "toc_cell": false,
   "toc_position": {},
   "toc_section_display": true,
   "toc_window_display": true
  }
 },
 "nbformat": 4,
 "nbformat_minor": 5
}
