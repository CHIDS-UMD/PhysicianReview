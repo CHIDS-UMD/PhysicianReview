{
 "cells": [
  {
   "cell_type": "markdown",
   "id": "855d31e6",
   "metadata": {},
   "source": [
    "# Setup"
   ]
  },
  {
   "cell_type": "code",
   "execution_count": null,
   "id": "01bdbaa6",
   "metadata": {
    "ExecuteTime": {
     "end_time": "2021-11-08T18:07:01.030435Z",
     "start_time": "2021-11-08T18:07:00.695651Z"
    }
   },
   "outputs": [],
   "source": [
    "import pandas as pd\n",
    "import itertools\n",
    "import os \n",
    "\n",
    "CutOffDate = pd.to_datetime('2021-08-01', utc = 'UTC')\n",
    "Recent1YearDate = pd.to_datetime('2020-08-01', utc = 'UTC')\n",
    "Recent2YearDate = pd.to_datetime('2019-08-01', utc = 'UTC')\n",
    "Recent3YearDate = pd.to_datetime('2018-08-01', utc = 'UTC')\n",
    "\n",
    "\n",
    "cutoffDates = {\n",
    "    1:Recent1YearDate, \n",
    "    2:Recent2YearDate, \n",
    "    3:Recent3YearDate,\n",
    "}"
   ]
  },
  {
   "cell_type": "markdown",
   "id": "2c6d306c",
   "metadata": {},
   "source": [
    "# Settings"
   ]
  },
  {
   "cell_type": "code",
   "execution_count": null,
   "id": "c50ad0ef",
   "metadata": {
    "ExecuteTime": {
     "end_time": "2021-11-08T18:07:01.033667Z",
     "start_time": "2021-11-08T18:07:01.031773Z"
    }
   },
   "outputs": [],
   "source": [
    "MIN_TEXT_LEN = 1"
   ]
  },
  {
   "cell_type": "markdown",
   "id": "a83640b9",
   "metadata": {},
   "source": [
    "# Get Website Data"
   ]
  },
  {
   "cell_type": "code",
   "execution_count": null,
   "id": "56f2b843",
   "metadata": {
    "ExecuteTime": {
     "end_time": "2021-11-08T18:07:19.895025Z",
     "start_time": "2021-11-08T18:07:01.036231Z"
    }
   },
   "outputs": [],
   "source": [
    "def get_website2rvw(Folder):\n",
    "\n",
    "    suffix = ''\n",
    "    website2path = {\n",
    "        'healthgrades': 'healthgrades{}.p'.format(suffix), \n",
    "        'vitals': 'vitals{}.p'.format(suffix), \n",
    "        'ratemds': 'ratemds{}.p'.format(suffix), \n",
    "        'yelp': 'yelp{}.p'.format(suffix),\n",
    "        'zocdoc': 'zocdoc{}.p'.format(suffix)\n",
    "    }\n",
    "    \n",
    "    website2data = {}\n",
    "    for name, path in website2path.items():\n",
    "        path = os.path.join(Folder, path)\n",
    "        df = pd.read_pickle(path)\n",
    "        website2data[name] = df\n",
    "    return website2data\n",
    "    \n",
    "Folder = 'Output/MinText{}'.format(MIN_TEXT_LEN)\n",
    "website2data = get_website2rvw(Folder)"
   ]
  },
  {
   "cell_type": "markdown",
   "id": "66a81e40",
   "metadata": {},
   "source": [
    "# NPPES Profile Score"
   ]
  },
  {
   "cell_type": "code",
   "execution_count": null,
   "id": "a012324f",
   "metadata": {
    "ExecuteTime": {
     "end_time": "2021-11-08T18:20:09.019145Z",
     "start_time": "2021-11-08T18:07:19.896606Z"
    }
   },
   "outputs": [],
   "source": [
    "import pandas as pd\n",
    "import numpy as np\n",
    "import missingno as msno\n",
    "import itertools\n",
    "\n",
    "\n",
    "NPPES = pd.read_pickle('Data/NPPES/NPI2InfoMDDO.p')\n",
    "nppes_cols = ['NPI', 'FirstName', 'LastName']\n",
    "NPPES = NPPES[nppes_cols]\n",
    "print(NPPES.shape)\n",
    "\n",
    "\n",
    "def get_list_sum(x, finalreview_cols):\n",
    "    tmp = x[finalreview_cols].to_list()\n",
    "    tmp_list = [i for i in tmp if type(i) == list]\n",
    "    if len(tmp_list) == 0:\n",
    "        return np.nan\n",
    "    else:\n",
    "        return list(itertools.chain(*tmp_list))\n",
    "    \n",
    "def get_prfscore_avg(x, finalpflscore_cols):\n",
    "    tmp = x[finalpflscore_cols].to_list()\n",
    "    tmp = [i for i in tmp if not pd.isnull(i)]\n",
    "    # tmp_list = [i for i in tmp if type(i) == list]\n",
    "    if len(tmp) == 0:\n",
    "        return np.nan\n",
    "    else:\n",
    "        return np.mean(tmp)\n",
    "    \n",
    "def get_NPPESReview(NPPES, website2data):\n",
    "    for website, df in website2data.items():\n",
    "        tmp = df[['NPI', 'final_review', 'reported_profile_score']]\n",
    "        tmp.columns = ['NPI', 'review_{}'.format(website), 'pflscore_{}'.format(website)]\n",
    "        NPPES = pd.merge(NPPES, tmp, on = 'NPI', how = 'left')\n",
    "        \n",
    "    # all \n",
    "    cols = ['review_{}'.format(i) for i in website2data if 'zocdoc' not in i]\n",
    "    NPPES['review_all'] = NPPES.apply(lambda x: get_list_sum(x, cols), axis = 1)\n",
    "    cols = ['pflscore_{}'.format(i) for i in website2data if 'zocdoc' not in i]\n",
    "    NPPES['pflscore_all'] = NPPES.apply(lambda x: get_prfscore_avg(x, cols), axis = 1)\n",
    "    \n",
    "    # all(zocdoc)\n",
    "    cols = ['review_{}'.format(i) for i in website2data]\n",
    "    NPPES['review_all(zocdoc)'] = NPPES.apply(lambda x: get_list_sum(x, cols), axis = 1)\n",
    "    cols = ['pflscore_{}'.format(i) for i in website2data]\n",
    "    NPPES['pflscore_all(zocdoc)'] = NPPES.apply(lambda x: get_prfscore_avg(x, cols), axis = 1)\n",
    "    return NPPES\n",
    "\n",
    "\n",
    "NPPESReview = get_NPPESReview(NPPES, website2data)\n",
    "NPPESReview"
   ]
  },
  {
   "cell_type": "markdown",
   "id": "027a3120",
   "metadata": {},
   "source": [
    "# Recent vs Past"
   ]
  },
  {
   "cell_type": "code",
   "execution_count": null,
   "id": "a65f57b5",
   "metadata": {
    "ExecuteTime": {
     "end_time": "2021-11-08T18:20:09.023600Z",
     "start_time": "2021-11-08T18:20:09.020614Z"
    }
   },
   "outputs": [],
   "source": [
    "def get_recent_past_reviews(x, CutOffDate):\n",
    "    recent = []\n",
    "    past = []\n",
    "    for i in x:\n",
    "        if i['ReviewDate'] >= CutOffDate:\n",
    "            recent.append(i)\n",
    "        else:\n",
    "            past.append(i)\n",
    "    return recent, past"
   ]
  },
  {
   "cell_type": "code",
   "execution_count": null,
   "id": "af6f0184",
   "metadata": {
    "ExecuteTime": {
     "end_time": "2021-11-08T14:31:55.674421Z",
     "start_time": "2021-11-08T14:31:55.661021Z"
    }
   },
   "outputs": [],
   "source": [
    "\n",
    "\n",
    "\n",
    "def get_recent_past_review_score(col, NPPESReview, RecentYear, PAST_MIN_NUM):\n",
    "    info = {}\n",
    "    info['Platform'] = col.split('_')[1]\n",
    "    \n",
    "    HasRecentReview = 'HasReviewsRct{}Y'.format(RecentYear)\n",
    "    CutOffDate = cutoffDates[RecentYear]\n",
    "    # info['PAST_MIN_NUM'] = PAST_MIN_NUM\n",
    "    info['Recent'] = 'Rct{}Y ({})'.format(RecentYear, str(CutOffDate.date()))\n",
    "    \n",
    "    \n",
    "    # get profile info\n",
    "    df = NPPESReview[['NPI', col]]\n",
    "    df = df[-df[col].isna()].reset_index(drop = True)\n",
    "    df['LatestReviewDate'] = df[col].apply(lambda x: np.max([i['ReviewDate'] for i in x]) if len(x) > 0 else np.nan)\n",
    "    info['WebPhyNum'] = len(df)\n",
    "    \n",
    "    # has review\n",
    "    df = df[-df['LatestReviewDate'].isna()].reset_index(drop = True)\n",
    "    info['HasRvwNum'] = len(df)\n",
    "    \n",
    "    # has recent review\n",
    "    df[HasRecentReview] = df['LatestReviewDate'].apply(lambda x: True if x >= CutOffDate else False)\n",
    "    df = df[df[HasRecentReview]].reset_index(drop = True)\n",
    "    info['HasRctNum'] = len(df)\n",
    "    \n",
    "    \n",
    "    # has recent and past review and Filter by PAST_MIN_NUM\n",
    "    recent_past = df[col].apply(lambda x: get_recent_past_reviews(x, CutOffDate))\n",
    "    df['recent'] = [i[0] for i in recent_past.values]\n",
    "    df['past'] = [i[1] for i in recent_past.values]\n",
    "    df['recent_scores'] = df['recent'].apply(lambda x: [float(i['ReviewScore']) for i in x])\n",
    "    df['past_scores'] = df['past'].apply(lambda x: [float(i['ReviewScore']) for i in x])\n",
    "    df['recent_num'] = df['recent'].apply(lambda x: len(x))\n",
    "    df['past_num'] = df['past'].apply(lambda x: len(x))\n",
    "    df = df[df['past_num'] >= PAST_MIN_NUM].reset_index(drop = True)\n",
    "    info['HasRctPst{}Num'.format(PAST_MIN_NUM)] = len(df)\n",
    "    \n",
    "    # Recent Score and Past Score\n",
    "    df['recent_mean_score'] = df['recent_scores'].apply(lambda x: np.mean(x))\n",
    "    df['past_mean_score'] = df['past_scores'].apply(lambda x: np.mean(x))\n",
    "    \n",
    "    # T, I, D, M\n",
    "    df['rencetpast_diff'] = df['recent_mean_score'] - df['past_mean_score']\n",
    "    increase_df = df[df['rencetpast_diff'] >= 0.5].reset_index(drop = True)\n",
    "    decrease_df = df[df['rencetpast_diff'] <= -0.5].reset_index(drop = True)\n",
    "    unchange_df = df[df['rencetpast_diff'].apply(lambda x: x > -0.5 and x < 0.5)].reset_index(drop = True)\n",
    "    \n",
    "    info['T'] = '{} ({:.2f}%)'.format(len(df), 100*len(df)/len(df))\n",
    "    info['T_recentscore'] = '{:.2f} ({:.2f})'.format(df['recent_mean_score'].mean(), df['recent_mean_score'].std())\n",
    "    info['T_pastscore'] = '{:.2f} ({:.2f})'.format(df['past_mean_score'].mean(), df['past_mean_score'].std())\n",
    "    \n",
    "    info['D'] = '{} ({:.2f}%)'.format(len(decrease_df), 100*len(decrease_df)/len(df))\n",
    "    info['D_recentscore'] = '{:.2f} ({:.2f})'.format(decrease_df['recent_mean_score'].mean(), decrease_df['recent_mean_score'].std())\n",
    "    info['D_pastscore'] = '{:.2f} ({:.2f})'.format(decrease_df['past_mean_score'].mean(), decrease_df['past_mean_score'].std())\n",
    "    \n",
    "    info['M'] = '{} ({:.2f}%)'.format(len(unchange_df), 100*len(unchange_df)/len(df))\n",
    "    info['M_recentscore'] = '{:.2f} ({:.2f})'.format(unchange_df['recent_mean_score'].mean(), unchange_df['recent_mean_score'].std())\n",
    "    info['M_pastscore'] = '{:.2f} ({:.2f})'.format(unchange_df['past_mean_score'].mean(), unchange_df['past_mean_score'].std())\n",
    "    \n",
    "    info['I'] = '{} ({:.2f}%)'.format(len(increase_df), 100*len(increase_df)/len(df))\n",
    "    info['I_recentscore'] = '{:.2f} ({:.2f})'.format(increase_df['recent_mean_score'].mean(), increase_df['recent_mean_score'].std())\n",
    "    info['I_pastscore'] = '{:.2f} ({:.2f})'.format(increase_df['past_mean_score'].mean(), increase_df['past_mean_score'].std())\n",
    "   \n",
    "    return info\n"
   ]
  },
  {
   "cell_type": "code",
   "execution_count": null,
   "id": "37020858",
   "metadata": {
    "ExecuteTime": {
     "end_time": "2021-11-08T14:35:23.772375Z",
     "start_time": "2021-11-08T14:31:55.675895Z"
    }
   },
   "outputs": [],
   "source": [
    "folder = 'Output/RecentVSPast'\n",
    "\n",
    "for PAST_MIN_NUM in [5, 1]:\n",
    "    for RecentYear in [1, 3]:\n",
    "        L = []\n",
    "        for col in [i for i in NPPESReview.columns if 'review' in i]:\n",
    "            # print(col, RecentYear)\n",
    "            info = get_recent_past_review_score(col, NPPESReview, RecentYear, PAST_MIN_NUM)\n",
    "            L.append(info)\n",
    "\n",
    "        Recent_Past_Report = pd.DataFrame(L)\n",
    "        path = '{}/MinTxt{}_RctY{}_PastRvw{}_Report.csv'.format(folder, MIN_TEXT_LEN, RecentYear, PAST_MIN_NUM)\n",
    "        print('save to: {}'.format(path))\n",
    "        Recent_Past_Report.to_csv(path, index = False)\n",
    "\n",
    "Recent_Past_Report"
   ]
  },
  {
   "cell_type": "markdown",
   "id": "2932dc25",
   "metadata": {},
   "source": [
    "# Recent vs Profile"
   ]
  },
  {
   "cell_type": "code",
   "execution_count": null,
   "id": "5d7353aa",
   "metadata": {
    "ExecuteTime": {
     "end_time": "2021-11-08T18:20:09.041960Z",
     "start_time": "2021-11-08T18:20:09.025170Z"
    }
   },
   "outputs": [],
   "source": [
    "\n",
    "def get_recent_profile_review_score(col, NPPESReview, RecentYear, PAST_MIN_NUM):\n",
    "    info = {}\n",
    "    info['Platform'] = col.split('_')[1]\n",
    "    \n",
    "    HasRecentReview = 'HasReviewsRct{}Y'.format(RecentYear)\n",
    "    CutOffDate = cutoffDates[RecentYear]\n",
    "    # info['PAST_MIN_NUM'] = PAST_MIN_NUM\n",
    "    info['Recent'] = 'Rct{}Y ({})'.format(RecentYear, str(CutOffDate.date()))\n",
    "    \n",
    "    \n",
    "    # get profile info\n",
    "    pflscore_col = col.replace('review', 'pflscore')\n",
    "    df = NPPESReview[['NPI', col, pflscore_col]]\n",
    "    df = df[-df[col].isna()].reset_index(drop = True)\n",
    "    df['LatestReviewDate'] = df[col].apply(lambda x: np.max([i['ReviewDate'] for i in x]) if len(x) > 0 else np.nan)\n",
    "    info['WebPhyNum'] = len(df)\n",
    "    \n",
    "    # has review\n",
    "    df = df[-df['LatestReviewDate'].isna()].reset_index(drop = True)\n",
    "    info['HasRvwNum'] = len(df)\n",
    "    \n",
    "    # has recent review\n",
    "    df[HasRecentReview] = df['LatestReviewDate'].apply(lambda x: True if x >= CutOffDate else False)\n",
    "    df = df[df[HasRecentReview]].reset_index(drop = True)\n",
    "    info['HasRctNum'] = len(df)\n",
    "    \n",
    "    \n",
    "    # has recent and past review and Filter by PAST_MIN_NUM\n",
    "    recent_past = df[col].apply(lambda x: get_recent_past_reviews(x, CutOffDate))\n",
    "    df['recent'] = [i[0] for i in recent_past.values]\n",
    "    df['past'] = [i[1] for i in recent_past.values]\n",
    "    df['recent_scores'] = df['recent'].apply(lambda x: [float(i['ReviewScore']) for i in x])\n",
    "    \n",
    "    df['past_num'] = df['past'].apply(lambda x: len(x))\n",
    "    df = df[df['past_num'] >= PAST_MIN_NUM].reset_index(drop = True)\n",
    "    info['HasRctPst{}Num'.format(PAST_MIN_NUM)] = len(df)\n",
    "    \n",
    "    # Recent Score and Past Score\n",
    "    df['recent_mean_score'] = df['recent_scores'].apply(lambda x: np.mean(x))\n",
    "    df['profile_score'] = df[pflscore_col].apply(lambda x: float(x))\n",
    "    \n",
    "    # T, I, D, M\n",
    "    df['rencetprfl_diff'] = df['recent_mean_score'] - df['profile_score']\n",
    "    increase_df = df[df['rencetprfl_diff'] >= 0.5].reset_index(drop = True)\n",
    "    decrease_df = df[df['rencetprfl_diff'] <= -0.5].reset_index(drop = True)\n",
    "    unchange_df = df[df['rencetprfl_diff'].apply(lambda x: x > -0.5 and x < 0.5)].reset_index(drop = True)\n",
    "    \n",
    "    info['T'] = '{} ({:.2f}%)'.format(len(df), 100*len(df)/len(df))\n",
    "    info['T_recentscore'] = '{:.2f} ({:.2f})'.format(df['recent_mean_score'].mean(), df['recent_mean_score'].std())\n",
    "    info['T_profilescore'] = '{:.2f} ({:.2f})'.format(df['profile_score'].mean(), df['profile_score'].std())\n",
    "    \n",
    "    info['D'] = '{} ({:.2f}%)'.format(len(decrease_df), 100*len(decrease_df)/len(df))\n",
    "    info['D_recentscore'] = '{:.2f} ({:.2f})'.format(decrease_df['recent_mean_score'].mean(), decrease_df['recent_mean_score'].std())\n",
    "    info['D_profilescore'] = '{:.2f} ({:.2f})'.format(decrease_df['profile_score'].mean(), decrease_df['profile_score'].std())\n",
    "    \n",
    "    info['M'] = '{} ({:.2f}%)'.format(len(unchange_df), 100*len(unchange_df)/len(df))\n",
    "    info['M_recentscore'] = '{:.2f} ({:.2f})'.format(unchange_df['recent_mean_score'].mean(), unchange_df['recent_mean_score'].std())\n",
    "    info['M_profilescore'] = '{:.2f} ({:.2f})'.format(unchange_df['profile_score'].mean(), unchange_df['profile_score'].std())\n",
    "    \n",
    "    info['I'] = '{} ({:.2f}%)'.format(len(increase_df), 100*len(increase_df)/len(df))\n",
    "    info['I_recentscore'] = '{:.2f} ({:.2f})'.format(increase_df['recent_mean_score'].mean(), increase_df['recent_mean_score'].std())\n",
    "    info['I_profilescore'] = '{:.2f} ({:.2f})'.format(increase_df['profile_score'].mean(), increase_df['profile_score'].std())\n",
    "   \n",
    "    return info\n"
   ]
  },
  {
   "cell_type": "code",
   "execution_count": null,
   "id": "9cfdb812",
   "metadata": {
    "ExecuteTime": {
     "end_time": "2021-11-08T18:23:18.752689Z",
     "start_time": "2021-11-08T18:20:09.044630Z"
    }
   },
   "outputs": [],
   "source": [
    "folder = 'Output/RecentVSProfile'\n",
    "\n",
    "for PAST_MIN_NUM in [5, 1]:\n",
    "    for RecentYear in [1, 3]:\n",
    "        L = []\n",
    "        for col in [i for i in NPPESReview.columns if 'review' in i]:\n",
    "            # print(col, RecentYear)\n",
    "            info = get_recent_profile_review_score(col, NPPESReview, RecentYear, PAST_MIN_NUM)\n",
    "            L.append(info)\n",
    "\n",
    "        Recent_Profile_Report = pd.DataFrame(L)\n",
    "        path = '{}/MinTxt{}_RctY{}_PastRvw{}_Report.csv'.format(folder, MIN_TEXT_LEN, RecentYear, PAST_MIN_NUM)\n",
    "        print('save to: {}'.format(path))\n",
    "        Recent_Profile_Report.to_csv(path, index = False)\n",
    "\n",
    "Recent_Profile_Report"
   ]
  }
 ],
 "metadata": {
  "kernelspec": {
   "display_name": "Python 3 (ipykernel)",
   "language": "python",
   "name": "python3"
  },
  "language_info": {
   "codemirror_mode": {
    "name": "ipython",
    "version": 3
   },
   "file_extension": ".py",
   "mimetype": "text/x-python",
   "name": "python",
   "nbconvert_exporter": "python",
   "pygments_lexer": "ipython3",
   "version": "3.7.10"
  },
  "toc": {
   "base_numbering": 1,
   "nav_menu": {},
   "number_sections": true,
   "sideBar": true,
   "skip_h1_title": false,
   "title_cell": "Table of Contents",
   "title_sidebar": "Contents",
   "toc_cell": false,
   "toc_position": {},
   "toc_section_display": true,
   "toc_window_display": false
  }
 },
 "nbformat": 4,
 "nbformat_minor": 5
}
