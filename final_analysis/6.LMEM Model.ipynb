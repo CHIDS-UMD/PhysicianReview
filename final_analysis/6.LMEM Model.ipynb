{
 "cells": [
  {
   "cell_type": "code",
   "execution_count": null,
   "id": "9b0ac9d3",
   "metadata": {
    "ExecuteTime": {
     "end_time": "2022-04-26T10:30:29.622370Z",
     "start_time": "2022-04-26T10:30:28.548Z"
    }
   },
   "outputs": [],
   "source": [
    "library(lme4)"
   ]
  },
  {
   "cell_type": "markdown",
   "id": "7c629af4",
   "metadata": {},
   "source": [
    "# Vitals"
   ]
  },
  {
   "cell_type": "code",
   "execution_count": null,
   "id": "20225671",
   "metadata": {
    "ExecuteTime": {
     "end_time": "2022-03-19T13:31:24.849080Z",
     "start_time": "2022-03-19T13:30:40.361Z"
    }
   },
   "outputs": [],
   "source": [
    "data = read.csv('LMER/data_review_vitals_Physician_star.csv')\n",
    "\n",
    "bmod <- lmer(ReviewScore~rcnt + past +\n",
    "                         # rcnt*healthgrades + rcnt*ratemds + rcnt*vitals + rcnt*yelp +\n",
    "                         # past*healthgrades + past*ratemds + past*vitals + past*yelp +\n",
    "                         (rcnt + past-1 | NPI)-1,\n",
    "              control = lmerControl(optimizer=\"bobyqa\", optCtrl=list(maxfun=100000)),\n",
    "              data=data)\n",
    "\n",
    "summary(bmod)"
   ]
  },
  {
   "cell_type": "code",
   "execution_count": null,
   "id": "94abec23",
   "metadata": {
    "ExecuteTime": {
     "end_time": "2022-03-19T13:32:13.718619Z",
     "start_time": "2022-03-19T13:31:42.034Z"
    }
   },
   "outputs": [],
   "source": [
    "data = read.csv('LMER/data_review_vitals_Physician_star_20Rew.csv')\n",
    "\n",
    "bmod <- lmer(ReviewScore~rcnt + past +\n",
    "                         # rcnt*healthgrades + rcnt*ratemds + rcnt*vitals + rcnt*yelp +\n",
    "                         # past*healthgrades + past*ratemds + past*vitals + past*yelp +\n",
    "                         (rcnt + past-1 | NPI)-1,\n",
    "              control = lmerControl(optimizer=\"bobyqa\", optCtrl=list(maxfun=100000)),\n",
    "              data=data)\n",
    "\n",
    "summary(bmod)"
   ]
  },
  {
   "cell_type": "markdown",
   "id": "6fd44953",
   "metadata": {},
   "source": [
    "# HealthGrades"
   ]
  },
  {
   "cell_type": "code",
   "execution_count": null,
   "id": "7ae850ca",
   "metadata": {
    "ExecuteTime": {
     "end_time": "2022-03-19T13:27:11.251024Z",
     "start_time": "2022-03-19T13:26:52.247Z"
    }
   },
   "outputs": [],
   "source": [
    "data = read.csv('LMER/data_Physician_star_review_healthgrades.csv')\n",
    "\n",
    "bmod <- lmer(ReviewScore~rcnt + past +\n",
    "                         # rcnt*healthgrades + rcnt*ratemds + rcnt*vitals + rcnt*yelp +\n",
    "                         # past*healthgrades + past*ratemds + past*vitals + past*yelp +\n",
    "                         (rcnt + past-1 | NPI)-1,\n",
    "              control = lmerControl(optimizer=\"bobyqa\", optCtrl=list(maxfun=100000)),\n",
    "              data=data)\n",
    "\n",
    "summary(bmod)"
   ]
  },
  {
   "cell_type": "code",
   "execution_count": null,
   "id": "6d621d62",
   "metadata": {
    "ExecuteTime": {
     "end_time": "2022-03-19T13:27:37.647844Z",
     "start_time": "2022-03-19T13:27:31.022Z"
    }
   },
   "outputs": [],
   "source": [
    "data = read.csv('LMER/data_Physician_star_20Rew_review_healthgrades.csv')\n",
    "\n",
    "bmod <- lmer(ReviewScore~rcnt + past +\n",
    "                         # rcnt*healthgrades + rcnt*ratemds + rcnt*vitals + rcnt*yelp +\n",
    "                         # past*healthgrades + past*ratemds + past*vitals + past*yelp +\n",
    "                         (rcnt + past-1 | NPI)-1,\n",
    "              control = lmerControl(optimizer=\"bobyqa\", optCtrl=list(maxfun=100000)),\n",
    "              data=data)\n",
    "\n",
    "summary(bmod)"
   ]
  },
  {
   "cell_type": "markdown",
   "id": "490c5621",
   "metadata": {},
   "source": [
    "# All with 50+ Reviews"
   ]
  },
  {
   "cell_type": "code",
   "execution_count": null,
   "id": "a10992d2",
   "metadata": {
    "ExecuteTime": {
     "end_time": "2022-04-26T20:18:18.525103Z",
     "start_time": "2022-04-26T20:17:33.441Z"
    }
   },
   "outputs": [],
   "source": [
    "data = read.csv('LMER/data_review_all_Physician_star_50Rew_new.csv')\n",
    "bmod <- lmer(ReviewScore~rcnt + past +\n",
    "                         # rcnt*healthgrades + rcnt*ratemds + rcnt*vitals + rcnt*yelp +\n",
    "                         # past*healthgrades + past*ratemds + past*vitals + past*yelp +\n",
    "                         (rcnt + past-1 | NPI)-1,\n",
    "              control = lmerControl(optimizer=\"bobyqa\", optCtrl=list(maxfun=100000)),\n",
    "              data=data)\n",
    "\n",
    "summary(bmod)"
   ]
  },
  {
   "cell_type": "code",
   "execution_count": null,
   "id": "98f3e47a",
   "metadata": {},
   "outputs": [],
   "source": [
    "\n",
    "bmod <- lmer(ReviewScore~rcnt + past +\n",
    "                         rcnt*healthgrades + rcnt*ratemds + rcnt*vitals + rcnt*yelp +\n",
    "                         past*healthgrades + past*ratemds + past*vitals + past*yelp +\n",
    "                         (rcnt + past-1 | NPI)-1,\n",
    "              control = lmerControl(optimizer=\"bobyqa\", optCtrl=list(maxfun=100000)),\n",
    "              data=data)\n",
    "\n",
    "summary(bmod)"
   ]
  },
  {
   "cell_type": "markdown",
   "id": "a7afc85c",
   "metadata": {},
   "source": [
    "# All with 20+ Reviews"
   ]
  },
  {
   "cell_type": "code",
   "execution_count": null,
   "id": "b60497c8",
   "metadata": {
    "ExecuteTime": {
     "end_time": "2022-04-26T20:57:34.213193Z",
     "start_time": "2022-04-26T20:56:31.773Z"
    }
   },
   "outputs": [],
   "source": [
    "data = read.csv('LMER/data_review_all_Physician_star_20Rew_new.csv')\n",
    "\n",
    "bmod <- lmer(ReviewScore~rcnt + past +\n",
    "                         # rcnt*healthgrades + rcnt*ratemds + rcnt*vitals + rcnt*yelp +\n",
    "                         # past*healthgrades + past*ratemds + past*vitals + past*yelp +\n",
    "                         (rcnt + past-1 | NPI)-1,\n",
    "              control = lmerControl(optimizer=\"bobyqa\", optCtrl=list(maxfun=100000)),\n",
    "              data=data)\n",
    "\n",
    "summary(bmod)"
   ]
  },
  {
   "cell_type": "code",
   "execution_count": null,
   "id": "8866621b",
   "metadata": {
    "ExecuteTime": {
     "end_time": "2022-04-26T20:58:54.579629Z",
     "start_time": "2022-04-26T20:56:53.636Z"
    }
   },
   "outputs": [],
   "source": [
    "\n",
    "bmod <- lmer(ReviewScore~rcnt + past +\n",
    "                         rcnt*healthgrades + rcnt*ratemds + rcnt*vitals + rcnt*yelp +\n",
    "                         past*healthgrades + past*ratemds + past*vitals + past*yelp +\n",
    "                         (rcnt + past-1 | NPI)-1,\n",
    "              control = lmerControl(optimizer=\"bobyqa\", optCtrl=list(maxfun=100000)),\n",
    "              data=data)\n",
    "\n",
    "summary(bmod)"
   ]
  },
  {
   "cell_type": "markdown",
   "id": "8033ce37",
   "metadata": {},
   "source": [
    "# All with 10+ Reviews"
   ]
  },
  {
   "cell_type": "code",
   "execution_count": null,
   "id": "545a35c2",
   "metadata": {
    "ExecuteTime": {
     "end_time": "2022-04-26T21:00:00.187231Z",
     "start_time": "2022-04-26T20:57:38.476Z"
    }
   },
   "outputs": [],
   "source": [
    "data = read.csv('LMER/data_review_all_Physician_star_10Rew_new.csv')\n",
    "\n",
    "bmod <- lmer(ReviewScore~rcnt + past +\n",
    "                         # rcnt*healthgrades + rcnt*ratemds + rcnt*vitals + rcnt*yelp +\n",
    "                         # past*healthgrades + past*ratemds + past*vitals + past*yelp +\n",
    "                         (rcnt + past-1 | NPI)-1,\n",
    "              control = lmerControl(optimizer=\"bobyqa\", optCtrl=list(maxfun=100000)),\n",
    "              data=data)\n",
    "\n",
    "summary(bmod)"
   ]
  },
  {
   "cell_type": "code",
   "execution_count": null,
   "id": "39a4f3b8",
   "metadata": {
    "ExecuteTime": {
     "end_time": "2022-04-26T21:01:43.191883Z",
     "start_time": "2022-04-26T20:57:46.790Z"
    }
   },
   "outputs": [],
   "source": [
    "data = read.csv('LMER/data_review_all_Physician_star_10Rew_new.csv')\n",
    "\n",
    "bmod <- lmer(ReviewScore~rcnt + past +\n",
    "                         rcnt*healthgrades + rcnt*ratemds + rcnt*vitals + rcnt*yelp +\n",
    "                         past*healthgrades + past*ratemds + past*vitals + past*yelp +\n",
    "                         (rcnt + past-1 | NPI)-1,\n",
    "              control = lmerControl(optimizer=\"bobyqa\", optCtrl=list(maxfun=100000)),\n",
    "              data=data)\n",
    "\n",
    "summary(bmod)"
   ]
  },
  {
   "cell_type": "markdown",
   "id": "58f1c03b",
   "metadata": {},
   "source": [
    "# All"
   ]
  },
  {
   "cell_type": "code",
   "execution_count": null,
   "id": "e597b651",
   "metadata": {
    "ExecuteTime": {
     "end_time": "2022-04-26T21:03:04.189872Z",
     "start_time": "2022-04-26T20:58:24.375Z"
    }
   },
   "outputs": [],
   "source": [
    "data = read.csv('LMER/data_review_all_Physician_star_new.csv')\n",
    "\n",
    "bmod <- lmer(ReviewScore~rcnt + past +\n",
    "                         # rcnt*healthgrades + rcnt*ratemds + rcnt*vitals + rcnt*yelp +\n",
    "                         # past*healthgrades + past*ratemds + past*vitals + past*yelp +\n",
    "                         (rcnt + past-1 | NPI)-1,\n",
    "              control = lmerControl(optimizer=\"bobyqa\", optCtrl=list(maxfun=100000)),\n",
    "              data=data)\n",
    "\n",
    "summary(bmod)"
   ]
  },
  {
   "cell_type": "code",
   "execution_count": null,
   "id": "88ae5d58",
   "metadata": {
    "ExecuteTime": {
     "end_time": "2022-04-26T21:04:55.983133Z",
     "start_time": "2022-04-26T20:58:33.558Z"
    }
   },
   "outputs": [],
   "source": [
    "data = read.csv('LMER/data_review_all_Physician_star_new.csv')\n",
    "\n",
    "bmod <- lmer(ReviewScore~rcnt + past +\n",
    "                         rcnt*healthgrades + rcnt*ratemds + rcnt*vitals + rcnt*yelp +\n",
    "                         past*healthgrades + past*ratemds + past*vitals + past*yelp +\n",
    "                         (rcnt + past-1 | NPI)-1,\n",
    "              control = lmerControl(optimizer=\"bobyqa\", optCtrl=list(maxfun=100000)),\n",
    "              data=data)\n",
    "\n",
    "summary(bmod)"
   ]
  }
 ],
 "metadata": {
  "kernelspec": {
   "display_name": "R",
   "language": "R",
   "name": "ir"
  },
  "language_info": {
   "codemirror_mode": "r",
   "file_extension": ".r",
   "mimetype": "text/x-r-source",
   "name": "R",
   "pygments_lexer": "r",
   "version": "4.1.1"
  },
  "toc": {
   "base_numbering": 1,
   "nav_menu": {},
   "number_sections": true,
   "sideBar": true,
   "skip_h1_title": false,
   "title_cell": "Table of Contents",
   "title_sidebar": "Contents",
   "toc_cell": false,
   "toc_position": {
    "height": "calc(100% - 180px)",
    "left": "10px",
    "top": "150px",
    "width": "195.175px"
   },
   "toc_section_display": true,
   "toc_window_display": true
  }
 },
 "nbformat": 4,
 "nbformat_minor": 5
}
