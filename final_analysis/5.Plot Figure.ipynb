{
 "cells": [
  {
   "cell_type": "code",
   "execution_count": null,
   "id": "f2d66144",
   "metadata": {
    "ExecuteTime": {
     "end_time": "2022-05-22T04:41:10.664690Z",
     "start_time": "2022-05-22T04:41:10.077017Z"
    }
   },
   "outputs": [],
   "source": [
    "import pandas as pd\n",
    "\n",
    "def get_all_info(DF):\n",
    "    \n",
    "    for idx, row in DF.iterrows():\n",
    "        d = row.to_dict()\n",
    "        if d['Platform'] == 'all':\n",
    "            return d\n",
    "        \n",
    "def get_Info(d):\n",
    "    L = []\n",
    "    for i in ['T', 'D', 'M', 'I']:\n",
    "        info = {k:v for k, v in d.items() if i in k}\n",
    "        # print(info)\n",
    "\n",
    "        x = {k.replace(i+ '_', '').replace(i, 'GroupMember'): v for k, v in info.items()}\n",
    "        x['Group'] = i\n",
    "        L.append(x)\n",
    "        \n",
    "    Report = pd.DataFrame(L)\n",
    "    Report = Report[['Group', 'GroupMember', 'recentscore', 'profilescore', 'recentrvw/allrvw']]\n",
    "    return Report\n",
    "\n",
    "\n",
    "T2Full = {\n",
    "    'T': 'Physician Having Recent Reviews', \n",
    "    'D': 'Lower Recent Score than Profile Score',\n",
    "    'M': 'Similar Recent Score to Profile Score',\n",
    "    'I': 'Higher Recent Score to Profile Score'\n",
    "}\n",
    "\n",
    "def get_clean_result(d):\n",
    "    Report = get_Info(d)\n",
    "\n",
    "    L = []\n",
    "    for idx, row in Report.iterrows():\n",
    "        d = row.to_dict()\n",
    "        if d['Group'] == 'T':\n",
    "            d['Name'] = T2Full[d['Group']] + ' (' + d['GroupMember'].split(' ')[0] + ')'\n",
    "        else:\n",
    "            d['Name'] = T2Full[d['Group']] + ' ' + d['GroupMember'].split(' ')[1] \n",
    "        d['Group'] = T2Full[d['Group']]\n",
    "        d['Group Member'] = int(d['GroupMember'].split(' ')[0])\n",
    "        d['Recent Score'] = float(d['recentscore'].split(' ')[0])\n",
    "        d['Profile Score'] = float(d['profilescore'].split(' ')[0])\n",
    "        rctrvw, rvw = d['recentrvw/allrvw'].split(' ')[0].split('/')\n",
    "        d['RctRvw/Physican'] = round(int(rctrvw) / d['Group Member'], 2)\n",
    "        d['Rvw/Physican'] = round(int(rvw) / d['Group Member'], 2)\n",
    "        d.pop('Group Member')\n",
    "        L.append(d)\n",
    "\n",
    "    Report = pd.DataFrame(L)\n",
    "    \n",
    "    return Report\n",
    "\n"
   ]
  },
  {
   "cell_type": "code",
   "execution_count": null,
   "id": "df7837ba",
   "metadata": {
    "ExecuteTime": {
     "end_time": "2022-05-22T04:41:10.685417Z",
     "start_time": "2022-05-22T04:41:10.666429Z"
    }
   },
   "outputs": [],
   "source": [
    "# feasible_physician_name = r'$\\bfPhysician$ $\\bf(PR)$: having both $\\bfP$rior and $\\bfR$ecent Reviews'\n",
    "# feasible_physician_name = r'$\\bfPhysician$: having both $\\bfP$rior and $\\bfR$ecent Reviews'\n",
    "# feasible_physician_name = r'Physician: having both $\\bfP$rior and $\\bfR$ecent Reviews'\n",
    "feasible_physician_name = r'Physicians with both Recent and Past Reviews'\n",
    "\n",
    "\n",
    "Report_Dict = {}\n",
    "path = 'Output/RecentVSProfile/Review0-MinTxt0_RctY3_PastRvw1_Report.csv'\n",
    "DF = pd.read_csv(path)\n",
    "d = get_all_info(DF)\n",
    "Report = get_clean_result(d)\n",
    "# Report.to_clipboard()\n",
    "Report_Dict[feasible_physician_name] = Report\n",
    "\n",
    "path = 'Output/RecentVSProfile/Review10-MinTxt0_RctY3_PastRvw1_Report.csv'\n",
    "DF = pd.read_csv(path)\n",
    "d = get_all_info(DF)\n",
    "Report = get_clean_result(d)\n",
    "# Report.to_clipboard()\n",
    "Report_Dict[feasible_physician_name.split(' with')[0] + ' with 10+ reviews'] = Report\n",
    "\n",
    "\n",
    "path = 'Output/RecentVSProfile/Review20-MinTxt0_RctY3_PastRvw1_Report.csv'\n",
    "DF = pd.read_csv(path)\n",
    "d = get_all_info(DF)\n",
    "Report = get_clean_result(d)\n",
    "# Report.to_clipboard()\n",
    "Report_Dict[feasible_physician_name.split(' with')[0] + ' with 20+ reviews'] = Report\n",
    "\n",
    "\n",
    "\n",
    "path = 'Output/RecentVSProfile/Review50-MinTxt0_RctY3_PastRvw1_Report.csv'\n",
    "DF = pd.read_csv(path)\n",
    "d = get_all_info(DF)\n",
    "Report = get_clean_result(d)\n",
    "# Report.to_clipboard()\n",
    "Report_Dict[feasible_physician_name.split(' with')[0] + ' with 50+ reviews'] = Report\n",
    "\n"
   ]
  },
  {
   "cell_type": "code",
   "execution_count": null,
   "id": "57334768",
   "metadata": {
    "ExecuteTime": {
     "end_time": "2022-05-22T04:41:11.112984Z",
     "start_time": "2022-05-22T04:41:11.109122Z"
    }
   },
   "outputs": [],
   "source": [
    "[i for i in Report_Dict]"
   ]
  },
  {
   "cell_type": "code",
   "execution_count": null,
   "id": "2ac51da3",
   "metadata": {
    "ExecuteTime": {
     "end_time": "2022-05-22T04:41:20.313453Z",
     "start_time": "2022-05-22T04:41:20.297865Z"
    }
   },
   "outputs": [],
   "source": [
    "Report_Dict['Physicians with both Recent and Past Reviews']"
   ]
  },
  {
   "cell_type": "code",
   "execution_count": null,
   "id": "169defbd",
   "metadata": {
    "ExecuteTime": {
     "end_time": "2022-05-22T04:36:42.270994Z",
     "start_time": "2022-05-22T04:36:42.244417Z"
    }
   },
   "outputs": [],
   "source": [
    "18343 "
   ]
  },
  {
   "cell_type": "code",
   "execution_count": null,
   "id": "0b09d140",
   "metadata": {
    "ExecuteTime": {
     "end_time": "2022-04-27T04:34:02.039863Z",
     "start_time": "2022-04-27T04:34:02.033839Z"
    }
   },
   "outputs": [],
   "source": [
    "100 - 58.46"
   ]
  },
  {
   "cell_type": "code",
   "execution_count": null,
   "id": "8cdb3bef",
   "metadata": {
    "ExecuteTime": {
     "end_time": "2022-04-27T04:34:02.492267Z",
     "start_time": "2022-04-27T04:34:02.471204Z"
    }
   },
   "outputs": [],
   "source": [
    "import numpy as np\n",
    "\n",
    "def get_report_info(title, Report):\n",
    "    \n",
    "    group1 = Report['profilescore'].values\n",
    "    group1 = [float(i.split('(')[0]) for i in group1] # profilescore\n",
    "    group1_label = 'Profile Score'\n",
    "    # print(group1)\n",
    "    # print(group1_label)\n",
    "\n",
    "    group2 = Report['recentscore'].values\n",
    "    group2 = [float(i.split('(')[0]) for i in group2] # profilescore\n",
    "    group2_label = 'Recent Score'\n",
    "    # print(group2)\n",
    "    # print(group2_label)\n",
    "\n",
    "    group_members = Report['GroupMember'].values\n",
    "    # '{:,}'.format(value)\n",
    "    g0 = group_members[0]\n",
    "    # label0 = 'Physician Sample\\n' + r'$\\bf({:,})$'.format(int(g0.split('(')[0].strip()))\n",
    "    label0 = 'Physicians\\n' + r'$\\bf({:,})$'.format(int(g0.split('(')[0].strip()))\n",
    "\n",
    "    g1 = group_members[1]\n",
    "    # label1 = 'Group: Lower Recent Rating than Profile Rating ({}'.format(g1.split('(')[1].strip())\n",
    "    label1 = 'Lower Group\\n' + r'$\\bf({}$'.format(g1.split('(')[1].strip()).replace('%', '\\%')\n",
    "\n",
    "    g2 = group_members[2]\n",
    "    label2 = 'Similar Group\\n' + r'$\\bf({}$'.format(g2.split('(')[1].strip()).replace('%', '\\%')\n",
    "\n",
    "    g3 = group_members[3]\n",
    "    label3 = 'Higher Group\\n' + r'$\\bf({}$'.format(g3.split('(')[1].strip()).replace('%', '\\%')\n",
    "\n",
    "    labels = [label0, label1, label2, label3]\n",
    "    x = np.array(list(range(len(labels))))\n",
    "\n",
    "    return group1, group1_label, group2, group2_label, labels, x\n",
    "\n",
    "\n",
    "title = feasible_physician_name\n",
    "Report = Report_Dict[title]\n",
    "\n",
    "group1, group1_label, group2, group2_label, labels, x = get_report_info(title, Report)"
   ]
  },
  {
   "cell_type": "code",
   "execution_count": null,
   "id": "7f39b456",
   "metadata": {
    "ExecuteTime": {
     "end_time": "2022-04-27T04:34:03.758534Z",
     "start_time": "2022-04-27T04:34:02.871828Z"
    }
   },
   "outputs": [],
   "source": [
    "import matplotlib.pyplot as plt\n",
    "import numpy as np\n",
    "\n",
    "\n",
    "def plot_grouped_bar(ax, x, \n",
    "                     group1, group2, group1_label, group2_label, \n",
    "                     labels, width, title):\n",
    "    rects1 = ax.bar(x - width*0.55, group1, width, label = group1_label, color = '#4285F4')\n",
    "    rects2 = ax.bar(x + width*0.55, group2, width, label = group2_label, color = '#EA4336')\n",
    "    # Add some text for labels, title and custom x-axis tick labels, etc.\n",
    "    \n",
    "    ax.set_title(title)\n",
    "    ax.set_xticks(x, labels)\n",
    "    ax.legend()\n",
    "    ax.bar_label(rects1, padding=1, fontsize = 12)\n",
    "    ax.bar_label(rects2, padding=1, fontsize = 12)\n",
    "    \n",
    "    ax.set_ylabel('Rating Score', fontsize = 12)\n",
    "    # ax.y xticks(np.arange(1, 5, 1))\n",
    "    # ax.yaxis.set_ticks()\n",
    "    ax.set_yticks(np.arange(1, 6, 1))\n",
    "    # ax.set_yticklabels(fontsize = 12)\n",
    "    ax.set_ylim(0.9, 5.1)\n",
    "    \n",
    "    return ax\n",
    "\n",
    "\n",
    "# fig, ax = plt.subplots()\n",
    "\n",
    "fig = plt.figure(figsize=(15, 10), dpi=100)\n",
    "fig.tight_layout() \n",
    "\n",
    "width = 0.35\n",
    "# Adds subplot on position 1\n",
    "axes = fig.subplots(2, 2)\n",
    "plt.subplots_adjust(left=None, bottom=None, right=None, top=None, \n",
    "                    wspace=0.15, hspace=0.3)\n",
    "\n",
    "\n",
    "panel = 'ABCD'\n",
    "for idx, ax in enumerate(fig.get_axes()):\n",
    "    \n",
    "    title = [i for i in Report_Dict][idx]\n",
    "    \n",
    "    Report = Report_Dict[title]\n",
    "    \n",
    "    #if idx >= 2: title = '\\n' + title\n",
    "    group1, group1_label, group2, group2_label, labels, x = get_report_info(title, Report)\n",
    "    ax = plot_grouped_bar(ax, x, \n",
    "                          group1, group2, group1_label, group2_label, \n",
    "                          labels, width, r'$\\bfPanel ({})$: '.format(panel[idx]) + title)\n",
    "    \n",
    "    \n",
    "plt.show()\n",
    "    "
   ]
  },
  {
   "cell_type": "code",
   "execution_count": null,
   "id": "cb2aebad",
   "metadata": {
    "ExecuteTime": {
     "end_time": "2022-04-27T04:34:03.918414Z",
     "start_time": "2022-04-27T04:34:03.759695Z"
    }
   },
   "outputs": [],
   "source": [
    "fig.savefig('Figure1_v2_a.eps', format = 'eps', dpi=500)"
   ]
  }
 ],
 "metadata": {
  "kernelspec": {
   "display_name": "Python 3 (ipykernel)",
   "language": "python",
   "name": "python3"
  },
  "language_info": {
   "codemirror_mode": {
    "name": "ipython",
    "version": 3
   },
   "file_extension": ".py",
   "mimetype": "text/x-python",
   "name": "python",
   "nbconvert_exporter": "python",
   "pygments_lexer": "ipython3",
   "version": "3.9.6"
  },
  "toc": {
   "base_numbering": 1,
   "nav_menu": {},
   "number_sections": true,
   "sideBar": true,
   "skip_h1_title": false,
   "title_cell": "Table of Contents",
   "title_sidebar": "Contents",
   "toc_cell": false,
   "toc_position": {},
   "toc_section_display": true,
   "toc_window_display": false
  }
 },
 "nbformat": 4,
 "nbformat_minor": 5
}
