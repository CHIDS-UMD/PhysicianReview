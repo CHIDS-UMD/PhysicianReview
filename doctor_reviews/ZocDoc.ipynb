{
 "cells": [
  {
   "cell_type": "code",
   "execution_count": 1,
   "id": "5d2073b4",
   "metadata": {
    "ExecuteTime": {
     "end_time": "2021-08-06T03:56:31.574933Z",
     "start_time": "2021-08-06T03:56:31.558015Z"
    }
   },
   "outputs": [],
   "source": [
    "url_list = ['https://www.zocdoc.com/doctor/anthony-leazzo-do-37929',\n",
    " 'https://www.zocdoc.com/doctor/matsuko-takeshige-do',\n",
    " 'https://www.zocdoc.com/doctor/natalie-kahanek-md',\n",
    " 'https://www.zocdoc.com/doctor/kraig-stasney-od',\n",
    " 'https://www.zocdoc.com/doctor/james-purgason-md-247582',\n",
    " 'https://www.zocdoc.com/doctor/jamesetta-newland-np-197560',\n",
    " 'https://www.zocdoc.com/doctor/susan-scott-np-127870',\n",
    " 'https://www.zocdoc.com/doctor/sudha-bolla-md',\n",
    " 'https://www.zocdoc.com/doctor/precious-braswell-md-31763',\n",
    " 'https://www.zocdoc.com/professional/stephen-baksay-pt',\n",
    " 'https://www.zocdoc.com/doctor/1215906508-tshering-amdo-md',\n",
    " 'https://www.zocdoc.com/doctor/lindsay-hughes-do-138576',]\n"
   ]
  },
  {
   "cell_type": "markdown",
   "id": "de99db84",
   "metadata": {},
   "source": [
    "# Basic Information"
   ]
  },
  {
   "cell_type": "code",
   "execution_count": 5,
   "id": "bb5bd675",
   "metadata": {
    "ExecuteTime": {
     "end_time": "2021-08-06T03:58:45.862631Z",
     "start_time": "2021-08-06T03:58:45.848876Z"
    }
   },
   "outputs": [],
   "source": [
    "import requests\n",
    "import pandas as pd\n",
    "# from bs4 import BeautifulSoup\n",
    "import re\n",
    "import json\n",
    "import requests\n",
    "from scrapy.http import TextResponse\n",
    "from pprint import pprint\n",
    "import cloudscraper\n",
    "import random\n",
    "import time\n",
    "# we need headers to disguise our bot as a browser\n",
    "\n",
    "HEADERS = {\n",
    "    \"Connection\": \"keep-alive\",\n",
    "    \"Cache-Control\": \"max-age=0\",\n",
    "    \"Accept\": \"text/html,application/xhtml+xml,application/xml;q=0.9,image/webp,*/*;q=0.8\",\n",
    "    \"User-Agent\": \"Mozilla/5.0 (Windows NT 6.1; WOW64) AppleWebKit/537.36 (KHTML, like Gecko) Chrome/34.0.1847.131 Safari/537.36\",\n",
    "    \"Accept-Encoding\": \"gzip,deflate,sdch\",\n",
    "    \"Accept-Language\": \"zh-CN,zh;q=0.8,en-US;q=0.6,en;q=0.4,zh-TW;q=0.2\",\n",
    "}\n",
    "\n",
    "def scrape_under_cloudflare(url, headers = HEADERS, min_sec = 10):\n",
    "    print(\"Request url: {}\".format(url))\n",
    "    \n",
    "    while True:\n",
    "        scraper = cloudscraper.create_scraper()\n",
    "        r = scraper.get(url, headers = headers)\n",
    "        # load the text to scrapy-type response\n",
    "        response = TextResponse(r.url, body = r.text, encoding = 'utf-8')\n",
    "\n",
    "        if 'Cloudflare to restrict access' not in str(response.body.decode()):\n",
    "            print(\"\\tSucc: {}\".format(url))\n",
    "            break\n",
    "        else:\n",
    "            print(\"\\tFail: {}\".format(url))\n",
    "            second = random.randrange(min_sec, min_sec + 1)\n",
    "            time.sleep(second)\n",
    "            \n",
    "    return response"
   ]
  },
  {
   "cell_type": "code",
   "execution_count": 13,
   "id": "087c672e",
   "metadata": {
    "ExecuteTime": {
     "end_time": "2021-08-06T04:09:44.775643Z",
     "start_time": "2021-08-06T04:09:44.692316Z"
    }
   },
   "outputs": [
    {
     "name": "stdout",
     "output_type": "stream",
     "text": [
      "<html>\r\n",
      "<head>\r\n",
      "<META NAME=\"robots\" CONTENT=\"noindex,nofollow\">\r\n",
      "<script src=\"/_Incapsula_Resource?SWJIYLWA=5074a744e2e3d891814e9a2dace20bd4,719d34d31c8e3a6e6fffd425f7e032f3\">\r\n",
      "</script>\r\n",
      "<body>\r\n",
      "</body></html>\r\n",
      "\n"
     ]
    }
   ],
   "source": [
    "url = 'https://www.zocdoc.com/doctor/kraig-stasney-od'\n",
    "\n",
    "UAS = (\"Mozilla/5.0 (Windows NT 6.1; WOW64; rv:40.0) Gecko/20100101 Firefox/40.1\", \n",
    "       \"Mozilla/5.0 (Windows NT 6.3; rv:36.0) Gecko/20100101 Firefox/36.0\",\n",
    "       \"Mozilla/5.0 (Macintosh; Intel Mac OS X 10_10; rv:33.0) Gecko/20100101 Firefox/33.0\",\n",
    "       \"Mozilla/5.0 (Windows NT 6.1) AppleWebKit/537.36 (KHTML, like Gecko) Chrome/41.0.2228.0 Safari/537.36\",\n",
    "       \"Mozilla/5.0 (Macintosh; Intel Mac OS X 10_10_1) AppleWebKit/537.36 (KHTML, like Gecko) Chrome/41.0.2227.1 Safari/537.36\",\n",
    "       \"Mozilla/5.0 (Windows NT 6.1; WOW64) AppleWebKit/537.36 (KHTML, like Gecko) Chrome/41.0.2227.0 Safari/537.36\",\n",
    "       )\n",
    "\n",
    "ua = UAS[random.randrange(len(UAS))]\n",
    "\n",
    "headers['user-agent'] = ua\n",
    "r = requests.get(url, headers = headers)\n",
    "r.url\n",
    "# load the text to scrapy-type response\n",
    "response = TextResponse(r.url, body = r.text, encoding = 'utf-8')\n",
    "print(str(response.body.decode()))\n"
   ]
  },
  {
   "cell_type": "code",
   "execution_count": 15,
   "id": "35175576",
   "metadata": {
    "ExecuteTime": {
     "end_time": "2021-08-06T04:35:40.341166Z",
     "start_time": "2021-08-06T04:35:40.265520Z"
    }
   },
   "outputs": [],
   "source": [
    "s = requests.Session()\n",
    "r = s.get(url, headers = HEADERS)"
   ]
  },
  {
   "cell_type": "code",
   "execution_count": 16,
   "id": "8e9a52e8",
   "metadata": {
    "ExecuteTime": {
     "end_time": "2021-08-06T04:35:51.657274Z",
     "start_time": "2021-08-06T04:35:51.650947Z"
    }
   },
   "outputs": [
    {
     "data": {
      "text/plain": [
       "'https://www.zocdoc.com/doctor/kraig-stasney-od'"
      ]
     },
     "execution_count": 16,
     "metadata": {},
     "output_type": "execute_result"
    }
   ],
   "source": [
    "r.url"
   ]
  },
  {
   "cell_type": "code",
   "execution_count": 17,
   "id": "1baf0c7d",
   "metadata": {
    "ExecuteTime": {
     "end_time": "2021-08-06T04:36:02.148947Z",
     "start_time": "2021-08-06T04:36:02.142161Z"
    }
   },
   "outputs": [
    {
     "data": {
      "text/plain": [
       "'<html>\\r\\n<head>\\r\\n<META NAME=\"robots\" CONTENT=\"noindex,nofollow\">\\r\\n<script src=\"/_Incapsula_Resource?SWJIYLWA=5074a744e2e3d891814e9a2dace20bd4,719d34d31c8e3a6e6fffd425f7e032f3\">\\r\\n</script>\\r\\n<body>\\r\\n</body></html>\\r\\n'"
      ]
     },
     "execution_count": 17,
     "metadata": {},
     "output_type": "execute_result"
    }
   ],
   "source": [
    "r.text"
   ]
  },
  {
   "cell_type": "code",
   "execution_count": 7,
   "id": "c8b72611",
   "metadata": {
    "ExecuteTime": {
     "end_time": "2021-08-06T04:01:07.462254Z",
     "start_time": "2021-08-06T04:01:07.338377Z"
    }
   },
   "outputs": [
    {
     "name": "stdout",
     "output_type": "stream",
     "text": [
      "Request url: https://www.zocdoc.com/doctor/kraig-stasney-od\n",
      "\tSucc: https://www.zocdoc.com/doctor/kraig-stasney-od\n",
      "False\n",
      "<html>\r\n",
      "<head>\r\n",
      "<META NAME=\"robots\" CONTENT=\"noindex,nofollow\">\r\n",
      "<script src=\"/_Incapsula_Resource?SWJIYLWA=5074a744e2e3d891814e9a2dace20bd4,719d34d31c8e3a6e6fffd425f7e032f3\">\r\n",
      "</script>\r\n",
      "<body>\r\n",
      "</body></html>\r\n",
      "\n"
     ]
    }
   ],
   "source": [
    "url = 'https://www.zocdoc.com/doctor/kraig-stasney-od'\n",
    "\n",
    "response = scrape_under_cloudflare(url, min_sec = 1)\n",
    "\n",
    "print('Cloudflare to restrict access' in str(response.body.decode()))\n",
    "# # have a look at its body\n",
    "print(str(response.body.decode()))\n",
    "\n",
    "\n",
    "with open('_tmp.html', 'w') as f:\n",
    "    f.write(str(response.body.decode()))\n"
   ]
  },
  {
   "cell_type": "code",
   "execution_count": null,
   "id": "0505c25c",
   "metadata": {
    "ExecuteTime": {
     "end_time": "2021-08-02T22:52:14.100484Z",
     "start_time": "2021-08-02T22:52:14.097414Z"
    },
    "scrolled": true
   },
   "outputs": [],
   "source": [
    "# xpath = './/script//text()'\n",
    "# selectors = response.xpath(xpath)\n",
    "# js_data = selectors.extract()\n",
    "# json_str = [i for i in js_data[1].split(';')][0].split('__INITIAL_STATE__=')[-1]\n",
    "# d = json.loads(json_str)\n",
    "# pprint(d)"
   ]
  },
  {
   "cell_type": "markdown",
   "id": "ce63a50f",
   "metadata": {},
   "source": [
    "# Json Data"
   ]
  },
  {
   "cell_type": "code",
   "execution_count": null,
   "id": "7ef39368",
   "metadata": {
    "ExecuteTime": {
     "end_time": "2021-08-02T22:52:16.105508Z",
     "start_time": "2021-08-02T22:52:16.069141Z"
    },
    "scrolled": true
   },
   "outputs": [],
   "source": [
    "import json\n",
    "from pprint import pprint\n",
    "\n",
    "\n",
    "def process_Json(response):\n",
    "    xpath = './/script//text()'\n",
    "    selectors = response.xpath(xpath)\n",
    "    js_data = selectors.extract()\n",
    "    json_str = [i for i in js_data[1].split('};')][0].split('__INITIAL_STATE__=')[-1] + '}'\n",
    "    \n",
    "    try:\n",
    "        js_data = json.loads(json_str)\n",
    "    except:\n",
    "        js_data = json_str\n",
    "        print(js_data)\n",
    "        \n",
    "    return js_data\n",
    "\n",
    "\n",
    "js_data = process_Json(response)\n",
    "[i for i in js_data]"
   ]
  },
  {
   "cell_type": "code",
   "execution_count": null,
   "id": "36da22b9",
   "metadata": {
    "ExecuteTime": {
     "end_time": "2021-08-02T22:52:16.543692Z",
     "start_time": "2021-08-02T22:52:16.538189Z"
    }
   },
   "outputs": [],
   "source": [
    "## all of these are useless.\n",
    "# for i in [# 'profile',\n",
    "#          'haserror',\n",
    "#          'reviewshaserror',\n",
    "#          'featuredprovidersloaded',\n",
    "#          'timeslot',\n",
    "#          'pagedata',\n",
    "#          'confirm_message_visible',\n",
    "#          'reviewFilters',\n",
    "#          'reviewsPageSize',\n",
    "#          'reviewsDefaultSorting',\n",
    "#          'recaptchaResponse',\n",
    "#          'featuredproviders',\n",
    "#          'ddcTracking',\n",
    "#          'navigationAndSearch',\n",
    "#          'route']:\n",
    "#     print('\\n\\n'+ i)\n",
    "#     print(js_data[i])"
   ]
  },
  {
   "cell_type": "markdown",
   "id": "9cab0883",
   "metadata": {},
   "source": [
    "## Profile"
   ]
  },
  {
   "cell_type": "code",
   "execution_count": null,
   "id": "e6eb23a6",
   "metadata": {
    "ExecuteTime": {
     "end_time": "2021-08-02T22:59:21.739636Z",
     "start_time": "2021-08-02T22:59:21.704978Z"
    },
    "scrolled": true
   },
   "outputs": [],
   "source": [
    "\n",
    "def process_Vitals(url, min_sec = 10):\n",
    "    \n",
    "    print('\\n\\n=========\\nExplore Doctor Profile URL: {}'.format(url))\n",
    "    response = scrape_under_cloudflare(url, min_sec = min_sec)\n",
    "    # print('get info from url: {}'.format(url))\n",
    "    js_data = process_Json(response)\n",
    "    profile = js_data['profile']\n",
    "\n",
    "    # fill the data\n",
    "    profile_data = {}\n",
    "    for i in [\n",
    "        # id\n",
    "        'npi',  'providerid', 'intid', 'entityid_s', 'sponsorid',\n",
    "        # type\n",
    "        'display_type', 'profiletype', 'type', \n",
    "        # names\n",
    "        'firstname', 'middlename', 'lastname',  'fullname',  \n",
    "        # demo\n",
    "        'gender', 'langspoken',\n",
    "        # bio\n",
    "        'about_bio', 'bio_s', 'photourl', 'providerwebsiteurl', 'profileurl','video','quick_facts',\n",
    "        # practicing,\n",
    "        'isDentist','is_legacy_provider',  'years_of_experience', \n",
    "        'acceptsnewpatients', 'specialty_nimvs', \n",
    "        'fallback_specialties', 'fallback_specialty', 'provider_expertise', \n",
    "        # awards and certification\n",
    "        'degreeabbr', 'certifications', 'awards', 'total_awards',\n",
    "        # education\n",
    "         'education_nimvs', \n",
    "        # hosptial\n",
    "        'location_nimvs', 'hospital_nimvs','displayhospitals',\n",
    "        'city', 'state', 'postalcode', 'geolocation', \n",
    "        # insurance\n",
    "        'insurance_facet',  \n",
    "        # rating and review\n",
    "        'number_of_ratings', \n",
    "        'ratings_per_star', 'rating_score','rating_overview',\n",
    "        'review_count', 'review_questions', 'recent_reviews',]:\n",
    "\n",
    "        # print('\\n\\n'+ i)\n",
    "        # pprint(profile.get(i, None))\n",
    "        profile_data[i] = profile.get(i, None)\n",
    "        \n",
    "        \n",
    "    if profile_data['number_of_ratings'] > len(profile_data['recent_reviews']): \n",
    "        # keep ascending\n",
    "        number_of_ratings = profile_data['number_of_ratings'] \n",
    "        review_urls = ['{}/reviews?page={}&sort=updated_at_dt%20asc'.format(url, page) \n",
    "                       for page in range(1, int(number_of_ratings/12) + 2)]\n",
    "        profile_data['review_urls'] = review_urls\n",
    "        \n",
    "        all_reviews = []\n",
    "        success_review_urls = []\n",
    "        for page_idx, review_url in enumerate(review_urls):\n",
    "            print('\\n* Work at page {}'.format(page_idx))\n",
    "            response = scrape_under_cloudflare(review_url, min_sec = min_sec)\n",
    "            \n",
    "            js_data = process_Json(response)\n",
    "            # print([i for i in js_data])\n",
    "            reviews = js_data['profile']['reviews']\n",
    "                \n",
    "            # all or nothing\n",
    "            # try:\n",
    "            #     js_data = process_Json(response)\n",
    "            #     # print([i for i in js_data])\n",
    "            #     reviews = js_data['profile']['reviews']\n",
    "            # except:\n",
    "            #     print('Failure to parse reviews json from URL: {}'.format(review_url))\n",
    "            #     continue\n",
    "\n",
    "            all_reviews = all_reviews + reviews\n",
    "            print('review number: {}'.format(len(reviews)))\n",
    "            success_review_urls.append(review_url)\n",
    "            \n",
    "        profile_data['review_urls'] = review_urls\n",
    "        profile_data['success_review_urls'] = success_review_urls\n",
    "        profile_data['reviews'] = all_reviews\n",
    "    else:\n",
    "        profile_data['review_urls'] = []\n",
    "        profile_data['success_review_urls'] = []\n",
    "        profile_data['reviews'] = profile_data['recent_reviews']\n",
    "        \n",
    "        \n",
    "    # profile_data['url'] = url\n",
    "    assert len(profile_data['review_urls']) == len(profile_data['success_review_urls'])\n",
    "    assert len(profile_data['reviews']) == profile_data['number_of_ratings']\n",
    "        \n",
    "        \n",
    "        \n",
    "    d = profile_data\n",
    "    print('\\nFor physician {}, get reviews {} vs {}\\n======'.format(d['fullname'], len(d['reviews']), d['number_of_ratings']))\n",
    "    return profile_data\n",
    "\n",
    "\n"
   ]
  },
  {
   "cell_type": "code",
   "execution_count": null,
   "id": "ed73b192",
   "metadata": {
    "ExecuteTime": {
     "end_time": "2021-08-02T22:59:35.645832Z",
     "start_time": "2021-08-02T22:59:22.114603Z"
    }
   },
   "outputs": [],
   "source": [
    "min_sec = 1\n",
    "url = 'https://www.vitals.com/dentists/1qnjkf/Jose_Conde'\n",
    "profile_data = process_Vitals(url, min_sec)"
   ]
  },
  {
   "cell_type": "code",
   "execution_count": null,
   "id": "408819a1",
   "metadata": {
    "ExecuteTime": {
     "end_time": "2021-08-02T23:05:17.262253Z",
     "start_time": "2021-08-02T23:05:17.257676Z"
    }
   },
   "outputs": [],
   "source": [
    "print([i for i in profile_data])\n",
    "\n",
    "\n",
    "\n",
    "cols = ['npi', 'providerid', 'intid', 'entityid_s', 'sponsorid', 'display_type', 'profiletype', 'type', \n",
    " 'firstname', 'middlename', 'lastname', 'fullname', 'gender', 'langspoken', 'about_bio', 'bio_s',\n",
    " 'photourl', 'providerwebsiteurl', 'profileurl', 'video', 'quick_facts', \n",
    " 'isDentist', 'is_legacy_provider', 'years_of_experience', 'acceptsnewpatients', 'specialty_nimvs', \n",
    " 'fallback_specialties', 'fallback_specialty', 'provider_expertise', 'degreeabbr', \n",
    " 'certifications', 'awards', 'total_awards', 'education_nimvs', 'location_nimvs', \n",
    " 'hospital_nimvs', 'displayhospitals', 'city', 'state', 'postalcode', 'geolocation',\n",
    " 'insurance_facet', 'number_of_ratings', 'ratings_per_star', 'rating_score', 'rating_overview', \n",
    " 'review_count', 'review_questions', 'recent_reviews', 'review_urls', 'success_review_urls', 'reviews', 'url']"
   ]
  },
  {
   "cell_type": "markdown",
   "id": "e9ed789b",
   "metadata": {},
   "source": [
    "# All In One"
   ]
  },
  {
   "cell_type": "code",
   "execution_count": null,
   "id": "6eab671b",
   "metadata": {
    "ExecuteTime": {
     "end_time": "2021-08-02T23:01:24.494248Z",
     "start_time": "2021-08-02T23:00:09.139036Z"
    }
   },
   "outputs": [],
   "source": [
    "url_list = ['https://www.vitals.com/doctors/Dr_Lisa_Kairis.html',\n",
    " 'https://www.vitals.com/doctors/Dr_Sophie_Hoptowit.html',\n",
    " 'https://www.vitals.com/doctors/Dr_Stephen_Kelminson.html',\n",
    " 'https://www.vitals.com/doctors/Dr_Jonathan_W_Weeks.html',\n",
    " 'https://www.vitals.com/doctors/Dr_John_Condojani.html',\n",
    " 'https://www.vitals.com/doctors/Dr_Anthony_Leazzo.html',\n",
    " 'https://www.vitals.com/doctors/Dr_James_Gleason.html',\n",
    " 'https://www.vitals.com/doctors/Dr_Katherine_Francis.html',\n",
    " 'https://www.vitals.com/doctors/Dr_Brett_Sanders.html',\n",
    " 'https://www.vitals.com/doctors/Dr_Choon_PNg.html']\n",
    "\n",
    "\n",
    "min_sec = 1\n",
    "for url in url_list:\n",
    "    # url = 'https://www.vitals.com/dentists/1qnjkf/Jose_Conde'\n",
    "    profile_data = process_Vitals(url, min_sec)\n",
    "\n",
    "\n"
   ]
  },
  {
   "cell_type": "code",
   "execution_count": null,
   "id": "1ca804f4",
   "metadata": {},
   "outputs": [],
   "source": []
  }
 ],
 "metadata": {
  "kernelspec": {
   "display_name": "Python 3 (ipykernel)",
   "language": "python",
   "name": "python3"
  },
  "language_info": {
   "codemirror_mode": {
    "name": "ipython",
    "version": 3
   },
   "file_extension": ".py",
   "mimetype": "text/x-python",
   "name": "python",
   "nbconvert_exporter": "python",
   "pygments_lexer": "ipython3",
   "version": "3.7.10"
  },
  "toc": {
   "base_numbering": 1,
   "nav_menu": {},
   "number_sections": true,
   "sideBar": true,
   "skip_h1_title": false,
   "title_cell": "Table of Contents",
   "title_sidebar": "Contents",
   "toc_cell": false,
   "toc_position": {},
   "toc_section_display": true,
   "toc_window_display": false
  }
 },
 "nbformat": 4,
 "nbformat_minor": 5
}
