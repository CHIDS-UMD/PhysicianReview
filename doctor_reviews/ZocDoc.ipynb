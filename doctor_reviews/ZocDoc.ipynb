{
 "cells": [
  {
   "cell_type": "markdown",
   "id": "de99db84",
   "metadata": {},
   "source": [
    "# Use Splash to Request ZocDoc Information"
   ]
  },
  {
   "cell_type": "code",
   "execution_count": null,
   "id": "5da25f04",
   "metadata": {
    "ExecuteTime": {
     "end_time": "2021-08-15T23:44:32.689717Z",
     "start_time": "2021-08-15T23:44:32.672793Z"
    }
   },
   "outputs": [],
   "source": [
    "from scrapy.http import TextResponse\n",
    "\n",
    "\n",
    "downloaded_html_file = 'doctor_zocdoc/zocdoc_anthony-leazzo-do-37929.html'\n",
    "with open(downloaded_html_file, 'r') as f: text = f.read()\n",
    "response = TextResponse(downloaded_html_file, body = text, encoding = 'utf-8')\n",
    "\n",
    "\n",
    "print(response.text)"
   ]
  },
  {
   "cell_type": "markdown",
   "id": "ce63a50f",
   "metadata": {},
   "source": [
    "# Json Data"
   ]
  },
  {
   "cell_type": "code",
   "execution_count": null,
   "id": "fa256ded",
   "metadata": {
    "ExecuteTime": {
     "end_time": "2021-08-16T02:15:34.928480Z",
     "start_time": "2021-08-16T02:15:34.899343Z"
    }
   },
   "outputs": [],
   "source": [
    "xpath = './/script//text()'\n",
    "selectors = response.xpath(xpath)\n",
    "\n",
    "selectors"
   ]
  },
  {
   "cell_type": "code",
   "execution_count": null,
   "id": "bc63040c",
   "metadata": {
    "ExecuteTime": {
     "end_time": "2021-08-16T02:15:47.179544Z",
     "start_time": "2021-08-16T02:15:47.166491Z"
    }
   },
   "outputs": [],
   "source": [
    "selector = selectors[2]\n",
    "json_info = selector.extract().split(';\\n')[1]\n",
    "\n",
    "json_info"
   ]
  },
  {
   "cell_type": "code",
   "execution_count": null,
   "id": "cd55bf2a",
   "metadata": {
    "ExecuteTime": {
     "end_time": "2021-08-16T02:15:54.301512Z",
     "start_time": "2021-08-16T02:15:54.289864Z"
    }
   },
   "outputs": [],
   "source": [
    "x = json_info.split('JSON.parse(')[1] # remove prefix\n",
    "x = x[:-1] # remove suffix\n",
    "# x = x.replace('\\\\\"', '\"')#.replace('\\\\\\\\\"', '\"') # remove '\\\\'\n",
    "# x = x[:-1]\n",
    "# x = x[1:-1]\n",
    "x"
   ]
  },
  {
   "cell_type": "code",
   "execution_count": null,
   "id": "9460cd8f",
   "metadata": {
    "ExecuteTime": {
     "end_time": "2021-08-16T02:15:55.124427Z",
     "start_time": "2021-08-16T02:15:55.024504Z"
    }
   },
   "outputs": [],
   "source": [
    "import json\n",
    "\n",
    "\n",
    "from pprint import pprint\n",
    "\n",
    "\n",
    "clean_data = json.loads(x)\n",
    "pprint(clean_data)"
   ]
  },
  {
   "cell_type": "code",
   "execution_count": null,
   "id": "7ebac3fe",
   "metadata": {
    "ExecuteTime": {
     "end_time": "2021-08-16T21:55:18.905264Z",
     "start_time": "2021-08-16T21:55:18.869114Z"
    }
   },
   "outputs": [],
   "source": [
    "type(clean_data)\n",
    "\n",
    "\n",
    "\n",
    "clean_data2 = json.loads(clean_data)\n",
    "\n",
    "\n",
    "with open('sample_data.json', 'w') as f:\n",
    "    json.dump(clean_data2, f, indent = 4)"
   ]
  },
  {
   "cell_type": "code",
   "execution_count": null,
   "id": "2c1c62be",
   "metadata": {
    "ExecuteTime": {
     "end_time": "2021-08-16T02:16:26.849183Z",
     "start_time": "2021-08-16T02:16:26.839643Z"
    }
   },
   "outputs": [],
   "source": [
    "clean_data"
   ]
  },
  {
   "cell_type": "code",
   "execution_count": null,
   "id": "a0175627",
   "metadata": {
    "ExecuteTime": {
     "end_time": "2021-08-16T02:14:05.986433Z",
     "start_time": "2021-08-16T02:14:05.962174Z"
    }
   },
   "outputs": [],
   "source": [
    "\n",
    "# type(clean_data)\n",
    "\n",
    "clean_data"
   ]
  },
  {
   "cell_type": "code",
   "execution_count": null,
   "id": "5ae78e00",
   "metadata": {
    "ExecuteTime": {
     "end_time": "2021-08-16T02:04:36.488911Z",
     "start_time": "2021-08-16T02:04:36.481908Z"
    }
   },
   "outputs": [],
   "source": [
    "idx = 67946\n",
    "length = 200\n",
    "x[idx-length: idx+length]"
   ]
  },
  {
   "cell_type": "code",
   "execution_count": null,
   "id": "7ef39368",
   "metadata": {
    "ExecuteTime": {
     "end_time": "2021-08-02T22:52:16.105508Z",
     "start_time": "2021-08-02T22:52:16.069141Z"
    },
    "scrolled": true
   },
   "outputs": [],
   "source": [
    "import json\n",
    "from pprint import pprint\n",
    "\n",
    "\n",
    "def process_Json(response):\n",
    "    xpath = './/script//text()'\n",
    "    selectors = response.xpath(xpath)\n",
    "    js_data = selectors.extract()\n",
    "    json_str = [i for i in js_data[1].split('};')][0].split('__INITIAL_STATE__=')[-1] + '}'\n",
    "    \n",
    "    try:\n",
    "        js_data = json.loads(json_str)\n",
    "    except:\n",
    "        js_data = json_str\n",
    "        print(js_data)\n",
    "        \n",
    "    return js_data\n",
    "\n",
    "\n",
    "js_data = process_Json(response)\n",
    "[i for i in js_data]"
   ]
  },
  {
   "cell_type": "code",
   "execution_count": null,
   "id": "36da22b9",
   "metadata": {
    "ExecuteTime": {
     "end_time": "2021-08-02T22:52:16.543692Z",
     "start_time": "2021-08-02T22:52:16.538189Z"
    }
   },
   "outputs": [],
   "source": [
    "## all of these are useless.\n",
    "# for i in [# 'profile',\n",
    "#          'haserror',\n",
    "#          'reviewshaserror',\n",
    "#          'featuredprovidersloaded',\n",
    "#          'timeslot',\n",
    "#          'pagedata',\n",
    "#          'confirm_message_visible',\n",
    "#          'reviewFilters',\n",
    "#          'reviewsPageSize',\n",
    "#          'reviewsDefaultSorting',\n",
    "#          'recaptchaResponse',\n",
    "#          'featuredproviders',\n",
    "#          'ddcTracking',\n",
    "#          'navigationAndSearch',\n",
    "#          'route']:\n",
    "#     print('\\n\\n'+ i)\n",
    "#     print(js_data[i])"
   ]
  }
 ],
 "metadata": {
  "kernelspec": {
   "display_name": "Python 3 (ipykernel)",
   "language": "python",
   "name": "python3"
  },
  "language_info": {
   "codemirror_mode": {
    "name": "ipython",
    "version": 3
   },
   "file_extension": ".py",
   "mimetype": "text/x-python",
   "name": "python",
   "nbconvert_exporter": "python",
   "pygments_lexer": "ipython3",
   "version": "3.7.10"
  },
  "toc": {
   "base_numbering": 1,
   "nav_menu": {},
   "number_sections": true,
   "sideBar": true,
   "skip_h1_title": false,
   "title_cell": "Table of Contents",
   "title_sidebar": "Contents",
   "toc_cell": false,
   "toc_position": {},
   "toc_section_display": true,
   "toc_window_display": false
  }
 },
 "nbformat": 4,
 "nbformat_minor": 5
}
