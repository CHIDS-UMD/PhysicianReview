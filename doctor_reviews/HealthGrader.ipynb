{
 "cells": [
  {
   "cell_type": "markdown",
   "id": "bf96ddff",
   "metadata": {},
   "source": [
    "# HealthGrader List"
   ]
  },
  {
   "cell_type": "code",
   "execution_count": null,
   "id": "5cf8973a",
   "metadata": {
    "ExecuteTime": {
     "end_time": "2021-08-02T04:22:44.330372Z",
     "start_time": "2021-08-02T04:22:44.326024Z"
    }
   },
   "outputs": [],
   "source": [
    "url_list = ['https://www.healthgrades.com/physician/dr-lisa-kairis-xt5b8',\n",
    " 'https://www.healthgrades.com/physician/dr-sophie-hoptowit-2dwt6',\n",
    " 'https://www.healthgrades.com/physician/dr-stephen-kelminson-x76s8',\n",
    " 'https://www.healthgrades.com/physician/dr-jonathan-weeks-x3v44',\n",
    " 'https://www.healthgrades.com/physician/dr-walter-guarino-2qfmv',\n",
    " 'https://www.healthgrades.com/providers/ella-gray-3mpy5',\n",
    " 'https://www.healthgrades.com/physician/dr-john-condojani-yrrkl',\n",
    " 'https://www.healthgrades.com/physician/dr-anthony-leazzo-yjqx4',\n",
    " 'https://www.healthgrades.com/physician/dr-james-gleason-yt27c',\n",
    " 'https://www.healthgrades.com/physician/dr-katherine-francis-x2cw7']\n"
   ]
  },
  {
   "cell_type": "markdown",
   "id": "77d9abe5",
   "metadata": {},
   "source": [
    "# Focus on One"
   ]
  },
  {
   "cell_type": "code",
   "execution_count": null,
   "id": "5055eb4c",
   "metadata": {
    "ExecuteTime": {
     "end_time": "2021-08-02T04:14:55.118044Z",
     "start_time": "2021-08-02T04:14:54.482041Z"
    }
   },
   "outputs": [],
   "source": [
    "import requests\n",
    "import pandas as pd\n",
    "# from bs4 import BeautifulSoup\n",
    "import re\n",
    "\n",
    "import requests\n",
    "from scrapy.http import TextResponse\n",
    "\n",
    "\n",
    "# we need headers to disguise our bot as a browser\n",
    "\n",
    "headers = {\n",
    "    \"Connection\": \"keep-alive\",\n",
    "    \"Cache-Control\": \"max-age=0\",\n",
    "    \"Accept\": \"text/html,application/xhtml+xml,application/xml;q=0.9,image/webp,*/*;q=0.8\",\n",
    "    \"User-Agent\": \"Mozilla/5.0 (Windows NT 6.1; WOW64) AppleWebKit/537.36 (KHTML, like Gecko) Chrome/34.0.1847.131 Safari/537.36\",\n",
    "    \"Accept-Encoding\": \"gzip,deflate,sdch\",\n",
    "    \"Accept-Language\": \"zh-CN,zh;q=0.8,en-US;q=0.6,en;q=0.4,zh-TW;q=0.2\",\n",
    "}\n"
   ]
  },
  {
   "cell_type": "code",
   "execution_count": null,
   "id": "47c32e9b",
   "metadata": {
    "ExecuteTime": {
     "end_time": "2021-08-02T04:14:55.709568Z",
     "start_time": "2021-08-02T04:14:55.119266Z"
    },
    "scrolled": true
   },
   "outputs": [],
   "source": [
    "# import cloudscraper\n",
    "# scraper = cloudscraper.create_scraper()\n",
    "\n",
    "# url = 'https://www.healthgrades.com/physician/dr-ravi-bajaj-2pxm9'\n",
    "# url = 'https://www.healthgrades.com/physician/dr-joseph-nichols-gfpd5' # 32 rating\n",
    "\n",
    "# url = 'https://www.healthgrades.com/providers/ella-gray-3mpy5' # 100+ ratings\n",
    "url = 'https://www.healthgrades.com/physician/dr-walter-guarino-2qfmv' # \n",
    "# as we cannot use Download Middleware in Scrapy, requests are used here instead.\n",
    "r = requests.get(url, headers = headers)\n",
    "r.url"
   ]
  },
  {
   "cell_type": "code",
   "execution_count": null,
   "id": "e5f06d1e",
   "metadata": {
    "ExecuteTime": {
     "end_time": "2021-08-02T04:14:56.142693Z",
     "start_time": "2021-08-02T04:14:56.114074Z"
    }
   },
   "outputs": [],
   "source": [
    "\n",
    "# load the text to scrapy-type response\n",
    "response = TextResponse(r.url, body = r.text, encoding = 'utf-8')\n",
    "\n",
    "# have a look at its body\n",
    "print(str(response.body.decode()))\n",
    "\n",
    "with open('_tmp.html', 'w') as f:\n",
    "    f.write(str(response.body.decode()))\n"
   ]
  },
  {
   "cell_type": "markdown",
   "id": "92e54a6f",
   "metadata": {},
   "source": [
    "# All Data\n",
    "\n",
    "Get information from javascript"
   ]
  },
  {
   "cell_type": "code",
   "execution_count": null,
   "id": "40923455",
   "metadata": {
    "ExecuteTime": {
     "end_time": "2021-08-02T04:14:57.332838Z",
     "start_time": "2021-08-02T04:14:57.285754Z"
    },
    "scrolled": false
   },
   "outputs": [],
   "source": [
    "import json\n",
    "\n",
    "def process_Json(response):\n",
    "    xpath = './/script[@type=\"text/javascript\"]//text()'\n",
    "    selectors = response.xpath(xpath)\n",
    "    js_data = [i for i in selectors.extract()[3].split('\\n')  if '= {' in i]\n",
    "    js_data = {t[0].strip(): json.loads(t[1][:-1]) for t in [i.split(' = ') for i in js_data]}\n",
    "    return js_data\n",
    "\n",
    "\n",
    "js_data = process_Json(response)\n",
    "[i for i in js_data]"
   ]
  },
  {
   "cell_type": "markdown",
   "id": "e632d8b6",
   "metadata": {},
   "source": [
    "# Pes"
   ]
  },
  {
   "cell_type": "code",
   "execution_count": null,
   "id": "9dd7fde0",
   "metadata": {
    "ExecuteTime": {
     "end_time": "2021-08-02T04:14:58.191196Z",
     "start_time": "2021-08-02T04:14:58.178455Z"
    },
    "scrolled": true
   },
   "outputs": [],
   "source": [
    "def process_Pes(Pes):\n",
    "    d = {}\n",
    "    Pes_Model = Pes['model']\n",
    "    overall = Pes_Model['overall']\n",
    "    for item in ['responseCount','reviewCount','actualScore','roundedScore',]:\n",
    "        d[item] = overall[item]\n",
    "        \n",
    "    d['score_aggregates'] = Pes_Model[\"surveyDistribution\"]['aggregates']\n",
    "    d['lastSurveyDate'] = Pes_Model['lastSurveyDate']\n",
    "    d['doc_pfmc'], d['staff_pfmc'] = [i['aggregates'] for i in Pes_Model['cards']]\n",
    "    # at most 20 reviews\n",
    "    d['comments'] = Pes['model']['comments']['results']\n",
    "    return d\n",
    "\n",
    "\n",
    "Pes = js_data['pageState.pes']\n",
    "\n",
    "d = process_Pes(Pes)\n",
    "# print(d['reviewCount'])\n",
    "# len(d['comments'])\n",
    "\n",
    "d['reviewCount'] > len(d['comments'])"
   ]
  },
  {
   "cell_type": "code",
   "execution_count": null,
   "id": "535a1217",
   "metadata": {
    "ExecuteTime": {
     "end_time": "2021-08-02T04:14:58.755988Z",
     "start_time": "2021-08-02T04:14:58.751920Z"
    }
   },
   "outputs": [],
   "source": [
    "# Pes = js_data['pageState.pes']\n",
    "# print([i for i in Pes])\n",
    "# for item in [ 'commentsSuppressed', 'hasComments', 'serverError']:\n",
    "#     print('\\n\\n' + item, Pes[item])\n",
    "\n",
    "\n",
    "# print([i for i in Pes['model']])\n",
    "# Pes_Model = Pes['model']\n",
    "\n",
    "\n",
    "\n",
    "# cols = [ 'insights',  'recaptchaSitekey', 'launchDarklyKey', 'displayName',\n",
    "#         'providerCode', 'providerName', 'providerPossessiveName', 'providerUrl', \n",
    "#         'surveysSuppressed', 'commentsSuppressed', 'lastSurveyDate',\n",
    "#         'flagReasons', 'newTemplateModel', \n",
    "#         'useNewForm', 'providerResponseAboutMe', \n",
    "#         'smallImageUrl', 'mediumImageUrl', 'largeImageUrl', \n",
    "#         'sponsorshipImageUrl', 'specialty', 'hideProviderCTA', \n",
    "#         'commentCount', 'verifiedPatientSurveys', 'renderCombinedComments']\n",
    "\n",
    "\n",
    "# for i in cols:\n",
    "#     print('\\n\\n'+i)\n",
    "#     print(Pes_Model[i])\n",
    "\n",
    "# pprint(Pes_Model[\"providerResponseAboutMe\"])"
   ]
  },
  {
   "cell_type": "code",
   "execution_count": null,
   "id": "f5741595",
   "metadata": {
    "ExecuteTime": {
     "end_time": "2021-08-02T04:14:59.208775Z",
     "start_time": "2021-08-02T04:14:59.202836Z"
    },
    "scrolled": true
   },
   "outputs": [],
   "source": [
    "# d = Pes_Model['overall']\n",
    "# pprint(d)\n",
    "\n",
    "# pprint(Pes_Model[\"surveyDistribution\"])\n",
    "\n",
    "# to ask the user to answer the question about the focal doctor\n",
    "# pprint(Pes_Model[\"templateModel\"])\n",
    "\n",
    "\n",
    "# Pes_Model['lastSurveyDate']\n",
    "\n",
    "\n",
    "# doc_pfmc, staff_pfmc = Pes_Model['cards']\n",
    "# pprint(doc_pfmc)\n",
    "# pprint(staff_pfmc)"
   ]
  },
  {
   "cell_type": "markdown",
   "id": "47704bb8",
   "metadata": {},
   "source": [
    "# viewModel"
   ]
  },
  {
   "cell_type": "code",
   "execution_count": null,
   "id": "44fde28a",
   "metadata": {
    "ExecuteTime": {
     "end_time": "2021-08-02T04:15:00.121943Z",
     "start_time": "2021-08-02T04:15:00.094346Z"
    }
   },
   "outputs": [],
   "source": [
    "def process_viewModel(viewModel):\n",
    "    cols = ['npi', 'pwid', 'entityType', 'websiteUrl', 'logoUrl', 'imageUrl', \n",
    "     'providerUrl', 'displayName', 'displayNamePossessive', 'providerDisplayFullName', \n",
    "     'age', 'genderString', 'badges', 'languages', \n",
    "     'hasAutoBiography', 'aboutMe', 'aboutMeVideoUrl', \n",
    "     'aboutProvider', 'description', 'generatedbiography', 'autoBiography', 'cityNameAndState', \n",
    "     'officeLocations', 'officePhone', 'acceptsNewPatients', \n",
    "     'availability', \n",
    "     'practicingSpecialties', 'medicalSpecialty', \n",
    "     'awardsAndRecognitions', 'boardCertifications', 'insuranceAccepted', \n",
    "     'isPrimaryLocationMalpracticeCollected', 'malpractices', \n",
    "     'sponsorName', 'boardActions', 'memberships', \n",
    "     'education', 'hospitals', 'hasConditions', \n",
    "     'hasProcedures',  'existingPatientPhone', \n",
    "     'readStoryScrolloffset', 'sanctions', \n",
    "     'shouldShowVideoContent', 'showPatientVolumeData', 'showVisitingSection', \n",
    "     'specialtyHasClinicalFocus', 'specialtyHeaderText', 'suppressCertifications',\n",
    "     'suppressSurveys', 'syndication', 'testimonies', 'uconnectEnvironment', 'writeMd',\n",
    "     'conditionsAndProcedures', 'clinicalFocusItems',]\n",
    "    d = {}\n",
    "    for i in cols:\n",
    "        d[i] = viewModel[i]\n",
    "    return d\n",
    "\n",
    "\n",
    "viewModel = js_data['pageState.viewModel']\n",
    "\n",
    "d = process_viewModel(viewModel)\n",
    "d"
   ]
  },
  {
   "cell_type": "code",
   "execution_count": null,
   "id": "119954ed",
   "metadata": {
    "ExecuteTime": {
     "end_time": "2021-08-02T04:15:00.694411Z",
     "start_time": "2021-08-02T04:15:00.691337Z"
    }
   },
   "outputs": [],
   "source": [
    "# viewModel = js_data['pageState.viewModel']\n",
    "# print([i for i in viewModel])\n",
    "# pprint(viewModel['model'])\n",
    "# selected_items = []"
   ]
  },
  {
   "cell_type": "markdown",
   "id": "72dfcaf2",
   "metadata": {},
   "source": [
    "## Basic Info"
   ]
  },
  {
   "cell_type": "code",
   "execution_count": null,
   "id": "5beb4ecc",
   "metadata": {
    "ExecuteTime": {
     "end_time": "2021-08-02T04:15:01.694846Z",
     "start_time": "2021-08-02T04:15:01.691487Z"
    }
   },
   "outputs": [],
   "source": [
    "# info = [ \n",
    "# 'npi', 'pwid', 'entityType', \n",
    "# 'websiteUrl', 'logoUrl', 'imageUrl', 'providerUrl', \n",
    "# 'displayName','displayNamePossessive', 'providerDisplayFullName',\n",
    "# 'age',  'genderString', # 'gender',\n",
    "# 'badges', 'languages',\n",
    "# 'hasAutoBiography', \n",
    "# 'aboutMe', 'aboutMeVideoUrl', 'aboutProvider', \n",
    "# 'description', 'generatedbiography',  'autoBiography', \n",
    "# ]\n",
    "\n",
    "\n",
    "# selected_items += [i for i in info if i not in selected_items]\n",
    "\n",
    "# for item in info:\n",
    "#     print('\\n\\n' + item)\n",
    "#     print(viewModel[item])"
   ]
  },
  {
   "cell_type": "markdown",
   "id": "95080f10",
   "metadata": {},
   "source": [
    "## Location Info"
   ]
  },
  {
   "cell_type": "code",
   "execution_count": null,
   "id": "691c05a3",
   "metadata": {
    "ExecuteTime": {
     "end_time": "2021-08-02T04:15:02.096108Z",
     "start_time": "2021-08-02T04:15:02.092917Z"
    }
   },
   "outputs": [],
   "source": [
    "# info = [\n",
    "# 'cityNameAndState',\n",
    "# 'officeLocations',\n",
    "# 'officePhone',\n",
    "# # 'primaryOffice', \n",
    "# # 'primaryOfficeRegionName',   \n",
    "# ]\n",
    "\n",
    "\n",
    "# selected_items += [i for i in info if i not in selected_items]\n",
    "\n",
    "\n",
    "\n",
    "# for item in info:\n",
    "#     print('\\n\\n' + item)\n",
    "#     pprint(viewModel[item])"
   ]
  },
  {
   "cell_type": "markdown",
   "id": "970694c9",
   "metadata": {},
   "source": [
    "## Rating and Review"
   ]
  },
  {
   "cell_type": "code",
   "execution_count": null,
   "id": "4e810b7b",
   "metadata": {
    "ExecuteTime": {
     "end_time": "2021-08-02T04:15:02.614323Z",
     "start_time": "2021-08-02T04:15:02.611374Z"
    }
   },
   "outputs": [],
   "source": [
    "# we don't need this\n",
    "# info = ['displayOverallStarRating','reviewItemProp',  'surveyUserCount',  ]\n",
    "\n",
    "# for item in info:\n",
    "#     print('\\n\\n' + item)\n",
    "#     pprint(viewModel[item])"
   ]
  },
  {
   "cell_type": "markdown",
   "id": "6da1f7c5",
   "metadata": {},
   "source": [
    "## clinical and practicing"
   ]
  },
  {
   "cell_type": "code",
   "execution_count": null,
   "id": "f6fb8ff4",
   "metadata": {
    "ExecuteTime": {
     "end_time": "2021-08-02T04:15:03.052468Z",
     "start_time": "2021-08-02T04:15:03.047004Z"
    }
   },
   "outputs": [],
   "source": [
    "# info = [\n",
    "# # 'primaryPracticingSpecialty', \n",
    "# 'acceptsNewPatients',\n",
    "# 'availability', \n",
    "# # 'practicingSpecialityName', \n",
    "# 'practicingSpecialties', \n",
    "# # 'practicingSpecialtyNameIst', \n",
    "# # 'practicingSpecialtyNameIsts', \n",
    "# # 'practicingSpecialtyNamePlural',\n",
    "# 'medicalSpecialty']\n",
    "\n",
    "\n",
    "# selected_items += [i for i in info if i not in selected_items]\n",
    "\n",
    "# for item in info:\n",
    "#     print('\\n\\n' + item)\n",
    "#     pprint(viewModel[item])"
   ]
  },
  {
   "cell_type": "markdown",
   "id": "b054dda8",
   "metadata": {},
   "source": [
    "## award info"
   ]
  },
  {
   "cell_type": "code",
   "execution_count": null,
   "id": "ea326b22",
   "metadata": {
    "ExecuteTime": {
     "end_time": "2021-08-02T04:15:03.661042Z",
     "start_time": "2021-08-02T04:15:03.656157Z"
    }
   },
   "outputs": [],
   "source": [
    "# info = [\n",
    "# 'awardsAndRecognitions', \n",
    "# 'boardCertifications', \n",
    "# # 'boardCertificationFootnotes',  \n",
    "# ]\n",
    "\n",
    "# selected_items += [i for i in info if i not in selected_items]\n",
    "\n",
    "# for item in info:\n",
    "#     print('\\n\\n' + item)\n",
    "#     pprint(viewModel[item])"
   ]
  },
  {
   "cell_type": "markdown",
   "id": "efd3adf7",
   "metadata": {},
   "source": [
    "## Insurance"
   ]
  },
  {
   "cell_type": "code",
   "execution_count": null,
   "id": "23960fc2",
   "metadata": {
    "ExecuteTime": {
     "end_time": "2021-08-02T04:15:04.306239Z",
     "start_time": "2021-08-02T04:15:04.303088Z"
    }
   },
   "outputs": [],
   "source": [
    "# info = [\n",
    "# 'insuranceAccepted', \n",
    "# # 'insurancePhone',  \n",
    "# ]\n",
    "\n",
    "\n",
    "# selected_items += [i for i in info if i not in selected_items]\n",
    "\n",
    "\n",
    "# for item in info:\n",
    "#     print('\\n\\n' + item)\n",
    "#     pprint(viewModel[item])"
   ]
  },
  {
   "cell_type": "markdown",
   "id": "24357393",
   "metadata": {},
   "source": [
    "## Mal Info"
   ]
  },
  {
   "cell_type": "code",
   "execution_count": null,
   "id": "046b4ecb",
   "metadata": {
    "ExecuteTime": {
     "end_time": "2021-08-02T04:15:05.001704Z",
     "start_time": "2021-08-02T04:15:04.996729Z"
    }
   },
   "outputs": [],
   "source": [
    "# # mal practice\n",
    "# info = [\n",
    "# 'isPrimaryLocationMalpracticeCollected', \n",
    "# 'malpractices',  ]\n",
    "\n",
    "# selected_items += [i for i in info if i not in selected_items]\n",
    "\n",
    "# for item in info:\n",
    "#     print('\\n\\n' + item)\n",
    "#     pprint(viewModel[item])"
   ]
  },
  {
   "cell_type": "markdown",
   "id": "be5b4e33",
   "metadata": {},
   "source": [
    "## Sponsor Info"
   ]
  },
  {
   "cell_type": "code",
   "execution_count": null,
   "id": "c9be0d38",
   "metadata": {
    "ExecuteTime": {
     "end_time": "2021-08-02T04:15:05.643538Z",
     "start_time": "2021-08-02T04:15:05.640215Z"
    }
   },
   "outputs": [],
   "source": [
    "\n",
    "# info = [ \n",
    "# 'sponsorName', \n",
    "# # 'sponsoringFacilityAward', \n",
    "# # 'sponsoringFacilityLink',\n",
    "# # 'sponsoringFacilityName', \n",
    "# ]\n",
    "\n",
    "\n",
    "# selected_items += [i for i in info if i not in selected_items]\n",
    "\n",
    "\n",
    "# for item in info:\n",
    "#     print('\\n\\n' + item)\n",
    "#     pprint(viewModel[item])"
   ]
  },
  {
   "cell_type": "markdown",
   "id": "d5ec9172",
   "metadata": {},
   "source": [
    "## Board, Membership"
   ]
  },
  {
   "cell_type": "code",
   "execution_count": null,
   "id": "92081d17",
   "metadata": {
    "ExecuteTime": {
     "end_time": "2021-08-02T04:15:06.451395Z",
     "start_time": "2021-08-02T04:15:06.446723Z"
    }
   },
   "outputs": [],
   "source": [
    "# info = [ 'boardActions', 'memberships', ]\n",
    "\n",
    "\n",
    "# selected_items += [i for i in info if i not in selected_items]\n",
    "\n",
    "\n",
    "# for item in info:\n",
    "#     print('\\n\\n' + item)\n",
    "#     pprint(viewModel[item])"
   ]
  },
  {
   "cell_type": "markdown",
   "id": "46ac6cb9",
   "metadata": {},
   "source": [
    "## Education"
   ]
  },
  {
   "cell_type": "code",
   "execution_count": null,
   "id": "46d73539",
   "metadata": {
    "ExecuteTime": {
     "end_time": "2021-08-02T04:15:07.309619Z",
     "start_time": "2021-08-02T04:15:07.306483Z"
    }
   },
   "outputs": [],
   "source": [
    "\n",
    "\n",
    "# info = [  'education', ]\n",
    "\n",
    "\n",
    "# selected_items += [i for i in info if i not in selected_items]\n",
    "\n",
    "\n",
    "\n",
    "# for item in info:\n",
    "#     print('\\n\\n' + item)\n",
    "#     pprint(viewModel[item])"
   ]
  },
  {
   "cell_type": "markdown",
   "id": "19316638",
   "metadata": {},
   "source": [
    "## Hospitals"
   ]
  },
  {
   "cell_type": "code",
   "execution_count": null,
   "id": "71071a9d",
   "metadata": {
    "ExecuteTime": {
     "end_time": "2021-08-02T04:15:07.792564Z",
     "start_time": "2021-08-02T04:15:07.786934Z"
    }
   },
   "outputs": [],
   "source": [
    "# info = [ 'hospitals',  ]\n",
    "\n",
    "# selected_items += [i for i in info if i not in selected_items]\n",
    "\n",
    "# for item in info:\n",
    "#     print('\\n\\n' + item)\n",
    "#     pprint(viewModel[item])"
   ]
  },
  {
   "cell_type": "markdown",
   "id": "a528422e",
   "metadata": {},
   "source": [
    "## Conditions&Procedures"
   ]
  },
  {
   "cell_type": "code",
   "execution_count": null,
   "id": "a91193a8",
   "metadata": {
    "ExecuteTime": {
     "end_time": "2021-08-02T04:15:08.170834Z",
     "start_time": "2021-08-02T04:15:08.167346Z"
    },
    "scrolled": true
   },
   "outputs": [],
   "source": [
    "# # not sure what they are, but keep them\n",
    "# info = [ \n",
    "#     'hasConditions', 'hasProcedures', 'conditionsAndProcedures', 'clinicalFocusItems' \n",
    "# ]\n",
    "\n",
    "# selected_items += [i for i in info if i not in selected_items]\n",
    "\n",
    "# for item in info:\n",
    "#     print('\\n\\n' + item)\n",
    "#     pprint(viewModel[item])"
   ]
  },
  {
   "cell_type": "markdown",
   "id": "390c6b7f",
   "metadata": {},
   "source": [
    "## Patients"
   ]
  },
  {
   "cell_type": "code",
   "execution_count": null,
   "id": "1756f5f4",
   "metadata": {
    "ExecuteTime": {
     "end_time": "2021-08-02T04:15:08.608945Z",
     "start_time": "2021-08-02T04:15:08.605885Z"
    }
   },
   "outputs": [],
   "source": [
    "\n",
    "# info = ['existingPatientPhone']\n",
    "\n",
    "\n",
    "# selected_items += [i for i in info if i not in selected_items]\n",
    "\n",
    "\n",
    "# for item in info:\n",
    "#     print('\\n\\n' + item)\n",
    "#     pprint(viewModel[item])\n",
    "    \n",
    "    "
   ]
  },
  {
   "cell_type": "markdown",
   "id": "9117b799",
   "metadata": {},
   "source": [
    "## Others"
   ]
  },
  {
   "cell_type": "code",
   "execution_count": null,
   "id": "c18d57d2",
   "metadata": {
    "ExecuteTime": {
     "end_time": "2021-08-02T04:15:09.038314Z",
     "start_time": "2021-08-02T04:15:09.034008Z"
    }
   },
   "outputs": [],
   "source": [
    "# info = [\n",
    "# 'readStoryScrolloffset', \n",
    "# 'sanctions', \n",
    "# 'shouldShowVideoContent', \n",
    "# 'showPatientVolumeData', 'showVisitingSection', \n",
    "# 'specialtyHasClinicalFocus', \n",
    "# 'specialtyHeaderText', \n",
    "# 'suppressCertifications', \n",
    "# 'suppressSurveys', \n",
    "# 'syndication', \n",
    "# 'testimonies', \n",
    "# 'uconnectEnvironment', \n",
    "# 'writeMd', \n",
    "# ]\n",
    "\n",
    "\n",
    "\n",
    "# selected_items += [i for i in info if i not in selected_items]\n",
    "\n",
    "\n",
    "\n",
    "# # print(newitem)\n",
    "\n",
    "# for item in info:\n",
    "#     print('\\n\\n' + item)\n",
    "#     pprint(viewModel[item])\n",
    "    \n",
    "    \n",
    "    \n",
    "    "
   ]
  },
  {
   "cell_type": "code",
   "execution_count": null,
   "id": "be19790b",
   "metadata": {
    "ExecuteTime": {
     "end_time": "2021-08-02T04:15:09.339068Z",
     "start_time": "2021-08-02T04:15:09.334284Z"
    }
   },
   "outputs": [],
   "source": [
    "# selected_items"
   ]
  },
  {
   "cell_type": "markdown",
   "id": "43a16886",
   "metadata": {},
   "source": [
    "# Xpath Data"
   ]
  },
  {
   "cell_type": "code",
   "execution_count": null,
   "id": "88ddc9e6",
   "metadata": {
    "ExecuteTime": {
     "end_time": "2021-08-02T04:15:10.363517Z",
     "start_time": "2021-08-02T04:15:10.343390Z"
    }
   },
   "outputs": [],
   "source": [
    "def process_xpath(response):\n",
    "\n",
    "\n",
    "    item2xpath = {\n",
    "        'biography': './/*[@data-qa-target=\"premium-biography\"]//text()',\n",
    "        # 'strengths_item': './/li[@class=\"provider-strengths-item\"]',\n",
    "        # 'rate_score': './/p[@class=\"score\"]//text()',\n",
    "        # 'rate_num': './/p[@class=\"survey-count\"]//text()',\n",
    "        # 'rate_details':'.//table[@class=\"rating-table\"]//text()', \n",
    "    }\n",
    "\n",
    "\n",
    "\n",
    "    itemselector2value = {\n",
    "        'biography': lambda x: x.extract(),\n",
    "        #  'strengths_item': lambda x: [''.join(i.xpath('.//div//text()').extract()[:4]) for i in x],\n",
    "        # 'rate_score': lambda x: float(x.extract()[0]), \n",
    "        # 'rate_num': lambda x: int(x.extract()[1]), \n",
    "        # 'rate_details': lambda x: x.extract(), \n",
    "    }\n",
    "\n",
    "\n",
    "    d = {}\n",
    "    for item, xpath in item2xpath.items():\n",
    "        # print('\\n')\n",
    "        # print(item)\n",
    "        selectors = response.xpath(xpath)#.extract()\n",
    "        values = itemselector2value[item](selectors)\n",
    "        d[item] = values\n",
    "        # print(values)\n",
    "        \n",
    "        \n",
    "    return d\n",
    "\n",
    "\n",
    "d = process_xpath(response)\n",
    "\n"
   ]
  },
  {
   "cell_type": "markdown",
   "id": "22cfcac7",
   "metadata": {},
   "source": [
    "# All In One"
   ]
  },
  {
   "cell_type": "code",
   "execution_count": null,
   "id": "a434e88f",
   "metadata": {
    "ExecuteTime": {
     "end_time": "2021-08-02T04:33:09.325358Z",
     "start_time": "2021-08-02T04:33:03.005554Z"
    }
   },
   "outputs": [],
   "source": [
    "import json\n",
    "\n",
    "\n",
    "def process_Json(response):\n",
    "    xpath = './/script[@type=\"text/javascript\"]//text()'\n",
    "    selectors = response.xpath(xpath)\n",
    "    js_data = [i for i in selectors.extract()[3].split('\\n')  if '= {' in i]\n",
    "    js_data = {t[0].strip(): json.loads(t[1][:-1]) for t in [i.split(' = ') for i in js_data]}\n",
    "    return js_data\n",
    "\n",
    "def process_Pes(Pes):\n",
    "    d = {}\n",
    "    Pes_Model = Pes['model']\n",
    "    overall = Pes_Model['overall']\n",
    "    for item in ['responseCount','reviewCount','actualScore','roundedScore',]:\n",
    "        d[item] = overall[item]\n",
    "        \n",
    "    d['score_aggregates'] = Pes_Model[\"surveyDistribution\"]['aggregates']\n",
    "    d['lastSurveyDate'] = Pes_Model['lastSurveyDate']\n",
    "    d['cards'] = Pes_Model['cards']\n",
    "    # at most 20 reviews\n",
    "    d['reviews'] = Pes['model']['comments']['results']\n",
    "    return d\n",
    "\n",
    "\n",
    "def process_viewModel(viewModel):\n",
    "    cols = ['npi', 'pwid', 'entityType', 'websiteUrl', 'logoUrl', 'imageUrl', \n",
    "     'providerUrl', 'displayName', 'displayNamePossessive', 'providerDisplayFullName', \n",
    "     'age', 'genderString', 'badges', 'languages', \n",
    "     'hasAutoBiography', 'aboutMe', 'aboutMeVideoUrl', \n",
    "     'aboutProvider', 'description', 'generatedbiography', 'autoBiography', 'cityNameAndState', \n",
    "     'officeLocations', 'officePhone', 'acceptsNewPatients', \n",
    "     'availability', \n",
    "     'practicingSpecialties', 'medicalSpecialty', \n",
    "     'awardsAndRecognitions', 'boardCertifications', 'insuranceAccepted', \n",
    "     'isPrimaryLocationMalpracticeCollected', 'malpractices', \n",
    "     'sponsorName', 'boardActions', 'memberships', \n",
    "     'education', 'hospitals', 'hasConditions', \n",
    "     'hasProcedures',  'existingPatientPhone', \n",
    "     'readStoryScrolloffset', 'sanctions', \n",
    "     'shouldShowVideoContent', 'showPatientVolumeData', 'showVisitingSection', \n",
    "     'specialtyHasClinicalFocus', 'specialtyHeaderText', 'suppressCertifications',\n",
    "     'suppressSurveys', 'syndication', 'testimonies', 'uconnectEnvironment', 'writeMd',\n",
    "     'conditionsAndProcedures', 'clinicalFocusItems',]\n",
    "    d = {}\n",
    "    for i in cols:\n",
    "        d[i] = viewModel[i]\n",
    "    return d\n",
    "\n",
    "\n",
    "def process_xpath(response):\n",
    "    item2xpath = {\n",
    "        'biography': './/*[@data-qa-target=\"premium-biography\"]//text()',\n",
    "        # 'strengths_item': './/li[@class=\"provider-strengths-item\"]',\n",
    "        # 'rate_score': './/p[@class=\"score\"]//text()',\n",
    "        # 'rate_num': './/p[@class=\"survey-count\"]//text()',\n",
    "        # 'rate_details':'.//table[@class=\"rating-table\"]//text()', \n",
    "    }\n",
    "    itemselector2value = {\n",
    "        'biography': lambda x: x.extract(),\n",
    "        #  'strengths_item': lambda x: [''.join(i.xpath('.//div//text()').extract()[:4]) for i in x],\n",
    "        # 'rate_score': lambda x: float(x.extract()[0]), \n",
    "        # 'rate_num': lambda x: int(x.extract()[1]), \n",
    "        # 'rate_details': lambda x: x.extract(), \n",
    "    }\n",
    "    d = {}\n",
    "    for item, xpath in item2xpath.items():\n",
    "        # print('\\n')\n",
    "        # print(item)\n",
    "        selectors = response.xpath(xpath)#.extract()\n",
    "        values = itemselector2value[item](selectors)\n",
    "        d[item] = values\n",
    "        # print(values)\n",
    "    return d\n",
    "\n",
    "\n",
    "\n",
    "def scrapy_healthgraders_physician(url):\n",
    "\n",
    "\n",
    "    # as we cannot use Download Middleware in Scrapy, requests are used here instead.\n",
    "    r = requests.get(url, headers = headers)\n",
    "    # load the text to scrapy-type response\n",
    "    response = TextResponse(r.url, body = r.text, encoding = 'utf-8')\n",
    "\n",
    "    js_data = process_Json(response)\n",
    "    # [i for i in js_data]\n",
    "    Pes = js_data['pageState.pes']\n",
    "    d1 = process_Pes(Pes)\n",
    "\n",
    "    viewModel = js_data['pageState.viewModel']\n",
    "    d2 = process_viewModel(viewModel)\n",
    "\n",
    "\n",
    "    d3 = process_xpath(response)\n",
    "\n",
    "    d = dict(d1, **d2, **d3)\n",
    "    return d\n",
    "\n",
    "\n",
    "def get_healthgraders_reviews(url, reviewCount):\n",
    "\n",
    "    review_url = 'https://www.healthgrades.com/api4/providerprofile/comments'\n",
    "    pwid = url.split('-')[-1]\n",
    "    # pagenum = 1\n",
    "    perPage = 10\n",
    "    \n",
    "    L = []\n",
    "    \n",
    "    for pagenum in range(1, int(reviewCount / perPage) + 2):\n",
    "        forms = {\n",
    "            'currentPage': str(pagenum), \n",
    "            'includeAllAnswers': 'ture',\n",
    "            'perPage': str(perPage),\n",
    "            'pwid': pwid.upper(),\n",
    "            'sortOption': str(1)\n",
    "        }\n",
    "        print(forms)\n",
    "\n",
    "        r = requests.post(review_url, headers = headers, data = forms)\n",
    "\n",
    "        d = r.json().get('results', [])\n",
    "        if type(d) != list: d = []\n",
    "        print(len(d))\n",
    "        L.append(d)\n",
    "        \n",
    "    return sum(L, [])\n",
    "\n",
    "\n",
    "\n",
    "D = {}\n",
    "\n",
    "\n",
    "for url in url_list:\n",
    "    print('\\n\\n' + url)\n",
    "    doc_info = scrapy_healthgraders_physician(url)\n",
    "    print('doctor name is: {}'.format(doc_info['providerDisplayFullName']))\n",
    "\n",
    "    \n",
    "    # need to further explore?\n",
    "    reviewCount = doc_info['reviewCount']\n",
    "    if reviewCount > len(doc_info['reviews']):\n",
    "        print('We need to collect more reviews: {} vs {}'.format(len(doc_info['reviews']), reviewCount))\n",
    "        reviews = get_healthgraders_reviews(url, reviewCount)  \n",
    "        \n",
    "        commentIds = [i['commentId'] for i in doc_info['reviews']]\n",
    "        for ind, commentId in enumerate(commentIds):\n",
    "            # print(commentId)\n",
    "            commentId_new = reviews[ind]['commentId']\n",
    "            # print(b)\n",
    "            assert commentId == commentId_new\n",
    "\n",
    "        assert len(reviews) == reviewCount\n",
    "        doc_info['reviews'] = reviews\n",
    "        \n",
    "    print('reivew number: {}'.format(len(doc_info['reviews'])))\n",
    "    doc_info['url'] = url\n",
    "    D[url] = doc_info\n",
    "    \n",
    "    \n"
   ]
  },
  {
   "cell_type": "code",
   "execution_count": null,
   "id": "c4d94874",
   "metadata": {
    "ExecuteTime": {
     "end_time": "2021-08-02T04:40:38.063064Z",
     "start_time": "2021-08-02T04:40:38.058710Z"
    }
   },
   "outputs": [],
   "source": [
    "print([i for i in doc_info])"
   ]
  },
  {
   "cell_type": "code",
   "execution_count": null,
   "id": "ecb40d6f",
   "metadata": {},
   "outputs": [],
   "source": []
  },
  {
   "cell_type": "code",
   "execution_count": null,
   "id": "37da7f3f",
   "metadata": {},
   "outputs": [],
   "source": []
  }
 ],
 "metadata": {
  "kernelspec": {
   "display_name": "Python 3 (ipykernel)",
   "language": "python",
   "name": "python3"
  },
  "language_info": {
   "codemirror_mode": {
    "name": "ipython",
    "version": 3
   },
   "file_extension": ".py",
   "mimetype": "text/x-python",
   "name": "python",
   "nbconvert_exporter": "python",
   "pygments_lexer": "ipython3",
   "version": "3.7.10"
  },
  "toc": {
   "base_numbering": 1,
   "nav_menu": {},
   "number_sections": true,
   "sideBar": true,
   "skip_h1_title": false,
   "title_cell": "Table of Contents",
   "title_sidebar": "Contents",
   "toc_cell": false,
   "toc_position": {},
   "toc_section_display": true,
   "toc_window_display": false
  }
 },
 "nbformat": 4,
 "nbformat_minor": 5
}
