{
 "cells": [
  {
   "cell_type": "markdown",
   "id": "95f17e6e",
   "metadata": {},
   "source": [
    "# Utils Functions"
   ]
  },
  {
   "cell_type": "code",
   "execution_count": null,
   "id": "9f199ec1",
   "metadata": {
    "ExecuteTime": {
     "end_time": "2022-02-21T04:46:17.218220Z",
     "start_time": "2022-02-21T04:46:16.957625Z"
    }
   },
   "outputs": [],
   "source": [
    "import pandas as pd\n",
    "import os\n",
    "import numpy as np\n",
    "pd.set_option('display.max_columns', None)\n",
    "\n",
    "\n",
    "def get_df_from_folder2rd(subfolder):\n",
    "    # subfolder = os.path.join(folder, folder2rd)\n",
    "    filenames = [os.path.join(subfolder,i) for i in os.listdir(subfolder) if 'errorlog' not in i and '.DS_Store' not in i]\n",
    "    L = []\n",
    "    for filename in filenames:\n",
    "        try:\n",
    "            df = pd.read_pickle(filename)\n",
    "            L.append(df)\n",
    "        except:\n",
    "            print('Error File', filename.split('/')[-1])\n",
    "\n",
    "    DF = pd.concat(L).reset_index(drop = True)\n",
    "    return DF\n",
    "\n",
    "\n",
    "def review_info(subfolder, review_col):\n",
    "    DF = get_df_from_folder2rd(subfolder)\n",
    "    d = {}\n",
    "    d['subfolder'] = subfolder.split('/')[-1]\n",
    "    DF['ReviewCountClt'] = DF[review_col].apply(lambda x:len(x))\n",
    "    d['total_reviews'] = DF['ReviewCountClt'].sum()\n",
    "    s = DF[DF['ReviewCountClt'] > 0 ]\n",
    "    d['physician'] = len(DF)\n",
    "    d['physician_of_reviews'] = (DF['ReviewCountClt'] > 0 ).sum()\n",
    "    s = DF['ReviewCountClt']\n",
    "    return DF, d, s\n",
    "\n",
    "\n",
    "def change_npi_to_int(x):\n",
    "    try:\n",
    "        return int(x)\n",
    "    except:\n",
    "        # print(x)\n",
    "        return 0\n"
   ]
  },
  {
   "cell_type": "markdown",
   "id": "8c63cc2c",
   "metadata": {},
   "source": [
    "# Look at Samples"
   ]
  },
  {
   "cell_type": "code",
   "execution_count": null,
   "id": "448fa340",
   "metadata": {
    "ExecuteTime": {
     "end_time": "2022-02-21T04:46:18.650778Z",
     "start_time": "2022-02-21T04:46:17.467780Z"
    },
    "scrolled": false
   },
   "outputs": [],
   "source": [
    "# folder2rd = 'Output/healthgrades/MD_Doc2GoogleURL_healthgrades_s0_e10000/'\n",
    "# folder2rd = 'Output/vitals/MD_Doc2GoogleURL_vitals_s0_e10000/'\n",
    "# folder2rd = 'Output/ratemds/MD_Doc2GoogleURL_ratemds_s0_e2199/'\n",
    "# folder2rd = 'Output/zocdoc/MD_Doc2GoogleURL_zocdoc_s0_e10000/'\n",
    "folder2rd = 'Output/yelp/MD_Doc2GoogleURL_yelp_s0_e2600/'\n",
    "\n",
    "DF = get_df_from_folder2rd(folder2rd)\n",
    "DF.head()"
   ]
  },
  {
   "cell_type": "markdown",
   "id": "86d3d9bd",
   "metadata": {},
   "source": [
    "# WebURL Information"
   ]
  },
  {
   "cell_type": "code",
   "execution_count": null,
   "id": "8a07ecb7",
   "metadata": {
    "ExecuteTime": {
     "end_time": "2022-02-21T04:46:00.189185Z",
     "start_time": "2022-02-21T04:45:54.241828Z"
    }
   },
   "outputs": [],
   "source": [
    "WebsiteNames = ['healthgrades', 'vitals', 'ratemds', 'zocdoc', 'yelp']\n",
    "doj_path = 'Data/NPI_included.csv'\n",
    "mddo_path = 'Data/NPPESMDDOPhysician.p'\n",
    "\n",
    "DOJ_NPI_included = pd.read_csv(doj_path)['NPI'].to_list()\n",
    "MDDO_NPI_included = pd.read_pickle(mddo_path)['NPI'].to_list()\n",
    "\n",
    "print('Number of DOJ:    {}'.format(len(DOJ_NPI_included)))\n",
    "print('Number of MDDO:   {}'.format(len(MDDO_NPI_included)))\n",
    "\n",
    "\n",
    "for name in WebsiteNames:\n",
    "    inputfolder = os.path.join('Data', name)\n",
    "    files = [os.path.join(inputfolder, i) for i in os.listdir(inputfolder) if '.p' in i]# 'Data/DocListDF_GoogleSearch_s0_e500.p'\n",
    "    files.sort()\n",
    "    WebsiteKeywords = pd.concat([pd.read_pickle(i) for i in files])\n",
    "    # WebsiteKeywords = WebsiteKeywords.iloc[WebsiteKeywords['NPI'].drop_duplicates().index]\n",
    "    WebsiteKeywords = WebsiteKeywords['NPI'].drop_duplicates() \n",
    "\n",
    "    print('\\nFor Website {}, unique NPIs Num: {}'.format(name.upper(), len(WebsiteKeywords)))\n",
    "    \n",
    "    d = WebsiteKeywords[WebsiteKeywords.isin(DOJ_NPI_included)]\n",
    "    print('number of DOJ  NPIs found in {}: {} /{}'.format(name, len(d), len(DOJ_NPI_included)))\n",
    "    \n",
    "    d = WebsiteKeywords[WebsiteKeywords.isin(MDDO_NPI_included)]\n",
    "    print('number of MDDO NPIs found in {}: {} /{}'.format(name, len(d), len(MDDO_NPI_included)))\n"
   ]
  },
  {
   "cell_type": "markdown",
   "id": "2a19f366",
   "metadata": {},
   "source": [
    "# Process One Review DF"
   ]
  },
  {
   "cell_type": "code",
   "execution_count": null,
   "id": "26b3aa5c",
   "metadata": {
    "ExecuteTime": {
     "end_time": "2022-02-21T04:46:04.791570Z",
     "start_time": "2022-02-21T04:46:00.190398Z"
    }
   },
   "outputs": [],
   "source": [
    "website2smaple = dict(\n",
    "    healthgrades = 'Output/healthgrades/MD_Doc2GoogleURL_healthgrades_s0_e10000/',\n",
    "    vitals = 'Output/vitals/MD_Doc2GoogleURL_vitals_s0_e10000/',\n",
    "    ratemds = 'Output/ratemds/MD_Doc2GoogleURL_ratemds_s0_e2199/',\n",
    "    zocdoc = 'Output/zocdoc/MD_Doc2GoogleURL_zocdoc_s0_e10000/',\n",
    "    yelp = 'Output/yelp/MD_Doc2GoogleURL_yelp_s0_e2600/',\n",
    ")\n",
    "\n",
    "website = 'healthgrades'\n",
    "\n",
    "def get_sample(website):\n",
    "    folder2rd = website2smaple[website]\n",
    "    DF = get_df_from_folder2rd(folder2rd)\n",
    "    return DF\n",
    "\n",
    "get_sample(website)"
   ]
  },
  {
   "cell_type": "markdown",
   "id": "2f47d1d5",
   "metadata": {},
   "source": [
    "## NPI "
   ]
  },
  {
   "cell_type": "code",
   "execution_count": null,
   "id": "4aa4ce45",
   "metadata": {
    "ExecuteTime": {
     "end_time": "2021-11-07T16:11:03.548998Z",
     "start_time": "2021-11-07T16:11:03.547122Z"
    }
   },
   "outputs": [],
   "source": [
    "################## Physician's NPI\n",
    "WebsiteNames2NPI = {'healthgrades':'npi', \n",
    "                    'vitals':'npi', \n",
    "                    'ratemds':'source_npi', \n",
    "                    'zocdoc':'npi', \n",
    "                    'yelp':'source_npi'}"
   ]
  },
  {
   "cell_type": "markdown",
   "id": "3b159947",
   "metadata": {},
   "source": [
    "## Full Name"
   ]
  },
  {
   "cell_type": "code",
   "execution_count": null,
   "id": "3d01566c",
   "metadata": {
    "ExecuteTime": {
     "end_time": "2021-11-07T16:11:03.551627Z",
     "start_time": "2021-11-07T16:11:03.549934Z"
    }
   },
   "outputs": [],
   "source": [
    "################## Physician's NPI\n",
    "WebsiteNames2FullName = {'healthgrades':'providerDisplayFullName', \n",
    "                    'vitals':'fullname', \n",
    "                    'ratemds':'full_name', \n",
    "                    'zocdoc':'approvedFullName', \n",
    "                    'yelp':'name'}"
   ]
  },
  {
   "cell_type": "markdown",
   "id": "a9cf9425",
   "metadata": {},
   "source": [
    "## Graduation"
   ]
  },
  {
   "cell_type": "code",
   "execution_count": null,
   "id": "f72f9d14",
   "metadata": {
    "ExecuteTime": {
     "end_time": "2021-11-07T16:11:03.556899Z",
     "start_time": "2021-11-07T16:11:03.552436Z"
    }
   },
   "outputs": [],
   "source": [
    "################## Physician's Education\n",
    "def get_healthgrades_graduation_year(x):\n",
    "    years = [i.get('completionYear', None) for i in x if i.get('type', 'None') == 'Medical School']\n",
    "    year = years[0] if len(years) else None\n",
    "    return year\n",
    "\n",
    "\n",
    "def get_vitals_graduation_year(x):\n",
    "    years = [i.get('GraduationYear', None) for i in x if i.get('EducationType', 'None') == 'Medical School']\n",
    "    year = years[0] if len(years) else None\n",
    "    return year\n",
    "\n",
    "\n",
    "def get_ratemds_graduation_year(x):\n",
    "    years = [i.get('graduation_year', None) for i in x if 'school' in i]\n",
    "    year = years[0] if len(years) else None\n",
    "    return year\n",
    "\n",
    "def get_empty(x):\n",
    "    return None\n",
    "\n",
    "WebsiteNames2Graudation = {'healthgrades':['education', get_healthgrades_graduation_year],\n",
    "                            'vitals':['education_nimvs', get_vitals_graduation_year], \n",
    "                            'ratemds':['doctor_schools',get_ratemds_graduation_year], \n",
    "                            'zocdoc':['npi', get_empty ],\n",
    "                            'yelp':  ['source_npi', get_empty]}\n"
   ]
  },
  {
   "cell_type": "markdown",
   "id": "3653feb9",
   "metadata": {},
   "source": [
    "## Reviews"
   ]
  },
  {
   "cell_type": "code",
   "execution_count": null,
   "id": "feb56813",
   "metadata": {
    "ExecuteTime": {
     "end_time": "2021-11-07T16:11:03.561758Z",
     "start_time": "2021-11-07T16:11:03.558171Z"
    }
   },
   "outputs": [],
   "source": [
    "################## Review\n",
    "\n",
    "\n",
    "#################################### Review's Columns\n",
    "WebsiteNames2Reviews = {'healthgrades':['reviews'], \n",
    "                        'vitals':['reviews'], \n",
    "                        'ratemds':['reviews'], \n",
    "                        'zocdoc':['reviews'], \n",
    "                        'yelp':['reviews_detailed', 'blocked_reviews', 'removed_reviews']}\n"
   ]
  },
  {
   "cell_type": "markdown",
   "id": "c100c6ee",
   "metadata": {},
   "source": [
    "## Reviews: Physician's Profile Score, Rating Num, and Review Num"
   ]
  },
  {
   "cell_type": "code",
   "execution_count": null,
   "id": "54820a37",
   "metadata": {
    "ExecuteTime": {
     "end_time": "2021-11-07T16:11:03.566521Z",
     "start_time": "2021-11-07T16:11:03.562805Z"
    }
   },
   "outputs": [],
   "source": [
    "\n",
    "\n",
    "\n",
    "#################################### Review's Reported Total Score\n",
    "WebsiteNames2ReviewsReportedProfileScore = {'healthgrades':{'reviews':'actualScore'}, \n",
    "                                            'vitals':{'reviews':'rating_score'}, \n",
    "                                            'ratemds':{'reviews':'ratingValue'}, \n",
    "                                            'zocdoc':{'reviews':'averageRating'},\n",
    "                                            'yelp':{'reviews_detailed':'rating', \n",
    "                                                    'blocked_reviews':'rating', \n",
    "                                                    'removed_reviews': 'rating'}}\n",
    "\n",
    "\n",
    "\n",
    "#################################### Review's Reported Rate\n",
    "WebsiteNames2ReviewsReportedRatingNum = {'healthgrades':{'reviews':'responseCount'}, \n",
    "                                            'vitals':{'reviews':'number_of_ratings'},  # \n",
    "                                            'ratemds':{'reviews':'ratingCount'}, \n",
    "                                            'zocdoc':{'reviews':'reviewCount'}, \n",
    "                                            'yelp':{'reviews_detailed':'reviewCount', \n",
    "                                                    'blocked_reviews':'blocked_reviews_num', \n",
    "                                                    'removed_reviews': 'removed_reviews_num'}}\n",
    "\n",
    "\n",
    "\n",
    "#################################### Review's Reported Number\n",
    "WebsiteNames2ReviewsReportedReviewNum = {'healthgrades':{'reviews':'reviewCount'}, \n",
    "                                            'vitals':{'reviews':'review_count'},  # \n",
    "                                            'ratemds':{'reviews':'ratingCount'}, \n",
    "                                            'zocdoc':{'reviews':'reviewCount'}, \n",
    "                                            'yelp':{'reviews_detailed':'reviewCount', \n",
    "                                                    'blocked_reviews':'blocked_reviews_num', \n",
    "                                                    'removed_reviews': 'removed_reviews_num'}}\n",
    "\n"
   ]
  },
  {
   "cell_type": "markdown",
   "id": "7d59bf0a",
   "metadata": {},
   "source": [
    "## Review Function: Standardize Reviews (Time, Content, Score)"
   ]
  },
  {
   "cell_type": "markdown",
   "id": "1f0c4a07",
   "metadata": {},
   "source": [
    "### HealthGrades"
   ]
  },
  {
   "cell_type": "code",
   "execution_count": null,
   "id": "e282acd4",
   "metadata": {
    "ExecuteTime": {
     "end_time": "2021-11-07T16:11:03.572642Z",
     "start_time": "2021-11-07T16:11:03.567326Z"
    }
   },
   "outputs": [],
   "source": [
    "import json\n",
    "\n",
    "def standardize_reviews_healthgrades(x):\n",
    "    new_x = []\n",
    "    bad_x = []\n",
    "    for i in x:\n",
    "        if 'submittedDate' in i:\n",
    "            date = i['submittedDate']\n",
    "            if len(date) == 0:\n",
    "                print('Weird Data: --->', date, i)\n",
    "                bad_x.append(i)\n",
    "                continue \n",
    "                \n",
    "            # Review Date  \n",
    "            i['ReviewDate'] = date\n",
    "            \n",
    "            # Review Score\n",
    "            i['ReviewScore']  = i['overallScore']\n",
    "            \n",
    "            # Review Text\n",
    "            if 'commentText' in i:\n",
    "                i['ReviewText'] = i['commentText']\n",
    "            else:\n",
    "                print('\\nNo ReviewText--->', i)\n",
    "                i['ReviewText'] = ''\n",
    "                \n",
    "            i['ReviewSource'] = 'healthgrades'\n",
    "            assert type(i['ReviewText']) == str\n",
    "            new_x.append(i)\n",
    "                \n",
    "        else:\n",
    "            print('bad i', i)\n",
    "            bad_x.append(i)\n",
    "            \n",
    "    if len(new_x) < len(x):\n",
    "        print('\\n\\nfrom {} to {}\\n\\n'.format(len(x), len(new_x)))\n",
    "        \n",
    "    for i in new_x:\n",
    "        for key in ['ReviewDate', 'ReviewScore', 'ReviewText', 'ReviewSource']:\n",
    "            assert key in i\n",
    "            \n",
    "    return new_x\n"
   ]
  },
  {
   "cell_type": "markdown",
   "id": "f3f3ee21",
   "metadata": {},
   "source": [
    "### Vitals"
   ]
  },
  {
   "cell_type": "code",
   "execution_count": null,
   "id": "5d89269d",
   "metadata": {
    "ExecuteTime": {
     "end_time": "2021-11-07T16:11:03.581199Z",
     "start_time": "2021-11-07T16:11:03.573979Z"
    }
   },
   "outputs": [],
   "source": [
    "\n",
    "def standardize_reviews_vitals(x):\n",
    "    new_x = []\n",
    "    bad_x = []\n",
    "    for i in x:\n",
    "        if 'updated_at_dt' in i:\n",
    "            # Get Review Date Time Information\n",
    "            date = i['updated_at_dt']\n",
    "            if len(date) == 0:\n",
    "                print('Wierd Data: --->', date, i)\n",
    "                bad_x.append(i)\n",
    "                # pass, go to next review\n",
    "                continue \n",
    "               \n",
    "            # Review Date\n",
    "            i['ReviewDate'] = date\n",
    "            \n",
    "            \n",
    "            # Review Score\n",
    "            i['ReviewScore']  = i['overallrating_f']\n",
    "            \n",
    "            # Review Text\n",
    "            ReviewText = None\n",
    "            if 'review_t' in i:\n",
    "                review_tmp = json.loads(i['review_t'])\n",
    "                assert type(review_tmp) == dict\n",
    "                if 'Comments' in review_tmp:\n",
    "                    ReviewText = review_tmp['Comments']\n",
    "                \n",
    "            # if still no review\n",
    "            if ReviewText == None:\n",
    "                if 'general_comment' in i:\n",
    "                    ReviewText = i['general_comment']\n",
    "                else:\n",
    "                    ReviewText = ''\n",
    "                    # print('No comments in updated_at_dt track, but still valid: -->', i)\n",
    "            \n",
    "            if type(ReviewText) != str: \n",
    "                print('ReviewText is not string', ReviewText, i)\n",
    "                ReviewText = ''\n",
    "            \n",
    "            assert type(ReviewText) == str\n",
    "            i['ReviewText'] = ReviewText\n",
    "            i['ReviewSource'] = 'vitals'\n",
    "            new_x.append(i)\n",
    "            \n",
    "        elif 'review_date' in i:\n",
    "            \n",
    "            date = i['review_date']\n",
    "            if len(date) == 0:\n",
    "                print('Wierd Data: --->', date, i)\n",
    "                bad_x.append(i)\n",
    "                # pass, go to next review\n",
    "                continue \n",
    "                \n",
    "            # Review Date\n",
    "            i['ReviewDate'] = date\n",
    "            # Review Text\n",
    "            \n",
    "            # Review Score\n",
    "            if 'overall_rating' not in i: print(i)\n",
    "            i['ReviewScore']  = i['overall_rating']\n",
    "            i['ReviewText'] = i['general_comment']\n",
    "            # Review Score\n",
    "            \n",
    "            assert type(i['ReviewText']) == str\n",
    "            i['ReviewSource'] = 'vitals'\n",
    "            new_x.append(i)\n",
    "        else:\n",
    "            print('bad i', i)\n",
    "            bad_x.append(i)\n",
    "    \n",
    "    \n",
    "    if len(new_x) < len(x):\n",
    "        print('\\n\\nfrom {} to {}\\n\\n'.format(len(x), len(new_x)))\n",
    "        \n",
    "    for i in new_x:\n",
    "        for key in ['ReviewDate', 'ReviewScore', 'ReviewText', 'ReviewSource']:\n",
    "            assert key in i\n",
    "            \n",
    "    return new_x\n"
   ]
  },
  {
   "cell_type": "markdown",
   "id": "0d5e409f",
   "metadata": {},
   "source": [
    "### RateMDs"
   ]
  },
  {
   "cell_type": "code",
   "execution_count": null,
   "id": "8d63b9e9",
   "metadata": {
    "ExecuteTime": {
     "end_time": "2021-11-07T16:11:03.587327Z",
     "start_time": "2021-11-07T16:11:03.582224Z"
    }
   },
   "outputs": [],
   "source": [
    "def standardize_reviews_ratemds(x):\n",
    "    new_x = []\n",
    "    bad_x = []\n",
    "    for i in x:\n",
    "        if 'created' in i:\n",
    "            date = i['created']\n",
    "            if len(date) == 0:\n",
    "                print('Weird Data: --->', date, i)\n",
    "                bad_x.append(i)\n",
    "                continue \n",
    "                \n",
    "            # Review Date\n",
    "            i['ReviewDate'] = date\n",
    "            \n",
    "            # Review Score\n",
    "            i['ReviewScore']  = i['average']\n",
    "            \n",
    "            # Review Text\n",
    "            if 'comment' in i:\n",
    "                i['ReviewText'] = i['comment']\n",
    "            else:\n",
    "                print('No comment in this review', i)\n",
    "                i['ReviewText'] = ''\n",
    "                \n",
    "            assert type(i['ReviewText']) == str\n",
    "            i['ReviewSource'] = 'ratemds'\n",
    "            new_x.append(i)\n",
    "                \n",
    "        else:\n",
    "            print('bad i', i)\n",
    "            bad_x.append(i)\n",
    "            \n",
    "    if len(new_x) < len(x):\n",
    "        print('\\n\\nfrom {} to {}\\n\\n'.format(len(x), len(new_x)))\n",
    "        \n",
    "    for i in new_x:\n",
    "        for key in ['ReviewDate', 'ReviewScore', 'ReviewText', 'ReviewSource']:\n",
    "            assert key in i\n",
    "            \n",
    "    return new_x\n"
   ]
  },
  {
   "cell_type": "markdown",
   "id": "a0fbd47e",
   "metadata": {},
   "source": [
    "### ZocDoc"
   ]
  },
  {
   "cell_type": "code",
   "execution_count": null,
   "id": "2bebbafd",
   "metadata": {
    "ExecuteTime": {
     "end_time": "2021-11-07T16:11:03.596084Z",
     "start_time": "2021-11-07T16:11:03.590643Z"
    }
   },
   "outputs": [],
   "source": [
    "def standardize_reviews_zocdoc(x):\n",
    "    new_x = []\n",
    "    bad_x = []\n",
    "    for i in x:\n",
    "        if 'date' in i:\n",
    "            date = i['date']\n",
    "            if len(date) == 0:\n",
    "                if 'dateRange' in i:\n",
    "                    date = i['dateRange']\n",
    "            \n",
    "            if len(date) == 0:\n",
    "                print('Weird Data: --->', date, i)\n",
    "                bad_x.append(i)\n",
    "                # pass, go to next review\n",
    "                continue \n",
    "            \n",
    "            # Review Date\n",
    "            i['ReviewDate'] = date\n",
    "            \n",
    "            \n",
    "            # Review Score\n",
    "            i['ReviewScore'] = i['overallRating']\n",
    "            \n",
    "            \n",
    "            # Review Text\n",
    "            if 'comment' in i:\n",
    "                i['ReviewText'] = i['comment']\n",
    "            else:\n",
    "                i['ReviewText'] = ''\n",
    "                print('No review_t or general comment, but still valid: -->', i)\n",
    "            \n",
    "            if type(i['ReviewText']) != str: \n",
    "                # print('ReviewText is not string', i['ReviewText'], i)\n",
    "                i['ReviewText'] = ''\n",
    "                \n",
    "            assert type(i['ReviewText']) == str\n",
    "            i['ReviewSource'] = 'zocdoc'\n",
    "            new_x.append(i)\n",
    "        else:\n",
    "            print('bad i', i)\n",
    "            bad_x.append(i)\n",
    "            \n",
    "    if len(new_x) < len(x):\n",
    "        print('\\n\\nfrom {} to {}\\n\\n'.format(len(x), len(new_x)))\n",
    "        \n",
    "    for i in new_x:\n",
    "        for key in ['ReviewDate', 'ReviewScore', 'ReviewText', 'ReviewSource']:\n",
    "            assert key in i\n",
    "    \n",
    "    return new_x"
   ]
  },
  {
   "cell_type": "markdown",
   "id": "02798fcf",
   "metadata": {},
   "source": [
    "### Yelp"
   ]
  },
  {
   "cell_type": "code",
   "execution_count": null,
   "id": "3283384a",
   "metadata": {
    "ExecuteTime": {
     "end_time": "2021-11-07T16:11:03.602150Z",
     "start_time": "2021-11-07T16:11:03.597028Z"
    }
   },
   "outputs": [],
   "source": [
    "\n",
    "def standardize_reviews_yelp(x):\n",
    "    new_x = []\n",
    "    bad_x = []\n",
    "    for i in x:\n",
    "        if 'localizedDate' in i:\n",
    "            date = i['localizedDate']\n",
    "            \n",
    "            if len(date) == 0:\n",
    "                print('Weird Data: --->', date, i)\n",
    "                bad_x.append(i)\n",
    "                # pass, go to next review\n",
    "                continue \n",
    "            \n",
    "            # Review Date\n",
    "            i['ReviewDate'] = date\n",
    "            \n",
    "            \n",
    "            # Review Score\n",
    "            i['ReviewScore'] = i['rating']\n",
    "            \n",
    "            \n",
    "            # Review Text\n",
    "            if 'comment' in i:\n",
    "                tmp = i['comment']\n",
    "                if 'text' in tmp:\n",
    "                    i['ReviewText'] = tmp['text']\n",
    "                else:\n",
    "                    i['ReviewText'] = ''\n",
    "            else:\n",
    "                i['ReviewText'] = ''\n",
    "                print('No review_t or general comment, but still valid: -->', i)\n",
    "                \n",
    "            \n",
    "            assert type(i['ReviewText']) == str\n",
    "            i['ReviewSource'] = 'yelp'\n",
    "            new_x.append(i)\n",
    "        else:\n",
    "            print('bad i', i)\n",
    "            bad_x.append(i)\n",
    "            \n",
    "    if len(new_x) < len(x):\n",
    "        print('\\n\\nfrom {} to {}\\n\\n'.format(len(x), len(new_x)))\n",
    "        \n",
    "    for i in new_x:\n",
    "        for key in ['ReviewDate', 'ReviewScore', 'ReviewText', 'ReviewSource']:\n",
    "            assert key in i\n",
    "    return new_x\n",
    "    "
   ]
  },
  {
   "cell_type": "markdown",
   "id": "be163c14",
   "metadata": {},
   "source": [
    "### Yelp Discarded"
   ]
  },
  {
   "cell_type": "code",
   "execution_count": null,
   "id": "0f97dad2",
   "metadata": {
    "ExecuteTime": {
     "end_time": "2021-11-07T16:11:03.608860Z",
     "start_time": "2021-11-07T16:11:03.603038Z"
    }
   },
   "outputs": [],
   "source": [
    "\n",
    "def standardize_reviews_yelp_discarded(x):\n",
    "    new_x = []\n",
    "    bad_x = []\n",
    "    for i in x:\n",
    "        if 'date' in i:\n",
    "            date = i['date']\n",
    "            \n",
    "            if not date: \n",
    "                # print('Weird Data: --->', date, i)\n",
    "                bad_x.append(i)\n",
    "                # pass, go to next review\n",
    "                continue \n",
    "                \n",
    "            if len(date) == 0:\n",
    "                # print('Weird Data: --->', date, i)\n",
    "                bad_x.append(i)\n",
    "                # pass, go to next review\n",
    "                continue \n",
    "\n",
    "            # Review Date\n",
    "            i['ReviewDate'] = date\n",
    "            \n",
    "            \n",
    "            # Review Score\n",
    "            try:\n",
    "                i['ReviewScore'] = float(i['rate_score'].split('star')[0])\n",
    "            except:\n",
    "                i['ReviewScore'] = None\n",
    "            \n",
    "            \n",
    "            # Review Text\n",
    "            if 'comment' in i:\n",
    "                i['ReviewText'] = i['comment']\n",
    "            else:\n",
    "                i['ReviewText'] = ''\n",
    "                print('No review_t or general comment, but still valid: -->', i)\n",
    "                \n",
    "            assert type(i['ReviewText']) == str\n",
    "            i['ReviewSource'] = 'yelp_removed'\n",
    "            new_x.append(i)\n",
    "        else:\n",
    "            print('bad i', i)\n",
    "            bad_x.append(i)\n",
    "            \n",
    "    if len(new_x) < len(x):\n",
    "        # print('\\n\\nfrom {} to {}\\n\\n'.format(len(x), len(new_x)))\n",
    "        pass\n",
    "        \n",
    "        \n",
    "    for i in new_x:\n",
    "        for key in ['ReviewDate', 'ReviewScore', 'ReviewText', 'ReviewSource']:\n",
    "            assert key in i\n",
    "    \n",
    "    return new_x\n",
    "    "
   ]
  },
  {
   "cell_type": "markdown",
   "id": "b72f57d9",
   "metadata": {},
   "source": [
    "### Standardize Review Functions\n",
    "\n",
    "\n",
    "Standard Reviews: having `ReviewDate`, `ReviewScore`, and `ReviewText`.\n",
    "\n",
    "The values of the above items might be invalid.\n",
    "\n",
    "Next step is filter the valid reviews."
   ]
  },
  {
   "cell_type": "code",
   "execution_count": null,
   "id": "2ea09bc8",
   "metadata": {
    "ExecuteTime": {
     "end_time": "2021-11-07T16:11:03.613348Z",
     "start_time": "2021-11-07T16:11:03.609652Z"
    }
   },
   "outputs": [],
   "source": [
    "WebsiteNames2ValidFilterFunction = {'healthgrades':{'reviews':standardize_reviews_healthgrades}, \n",
    "                                    'vitals':{'reviews':standardize_reviews_vitals}, \n",
    "                                    'ratemds':{'reviews':standardize_reviews_ratemds}, \n",
    "                                    'zocdoc':{'reviews':standardize_reviews_zocdoc},\n",
    "                                    'yelp':{'reviews_detailed':standardize_reviews_yelp, \n",
    "                                            'blocked_reviews':standardize_reviews_yelp_discarded, \n",
    "                                            'removed_reviews': standardize_reviews_yelp_discarded}}\n",
    "\n",
    "def compress_review_info(x):\n",
    "    new_x = []\n",
    "    for i in x:\n",
    "        try:\n",
    "            d_i = {}\n",
    "            for key in ['ReviewDate', 'ReviewScore', 'ReviewSource']:\n",
    "                d_i[key] = i[key] \n",
    "            d_i['ReviewTextLen'] = len(i['ReviewText'])\n",
    "            new_x.append(d_i)\n",
    "        except:\n",
    "            print(i)\n",
    "    return new_x\n"
   ]
  },
  {
   "cell_type": "markdown",
   "id": "1b7351f2",
   "metadata": {},
   "source": [
    "# Standard Whole Information"
   ]
  },
  {
   "cell_type": "code",
   "execution_count": null,
   "id": "06793c8d",
   "metadata": {
    "ExecuteTime": {
     "end_time": "2021-11-07T16:31:13.268129Z",
     "start_time": "2021-11-07T16:11:03.614274Z"
    },
    "scrolled": true
   },
   "outputs": [],
   "source": [
    "suffix = 'stand'\n",
    "\n",
    "WebsiteNames = ['healthgrades', 'vitals', 'ratemds', 'zocdoc', 'yelp']\n",
    "# WebsiteNames = ['healthgrades', 'vitals', 'ratemds', 'yelp']\n",
    "# WebsiteNames = [ 'vitals', 'ratemds', 'zocdoc', 'yelp']\n",
    "# WebsiteNames = ['healthgrades']\n",
    "# WebsiteNames = ['vitals']\n",
    "selectedNPIs = MDDO_NPI_included\n",
    "\n",
    "for name in WebsiteNames:\n",
    "    folder = os.path.join('Output', name)\n",
    "    subfolders = [os.path.join(folder, i) for i in os.listdir(folder) if name in i and '.DS' not in i]# 'Data/DocListDF_GoogleSearch_s0_e500.p'\n",
    "    # paths = ['MD_DocListDF_All_GoogleSearch_s0_e10000.p']\n",
    "    subfolders.sort()\n",
    "    \n",
    "\n",
    "    npi_col = WebsiteNames2NPI[name]\n",
    "    name_col = WebsiteNames2FullName[name]\n",
    "    review_cols = WebsiteNames2Reviews[name]\n",
    "    graudation_col, gradyear_func =  WebsiteNames2Graudation[name]\n",
    "    \n",
    "    for review_col in review_cols:\n",
    "        print('\\n\\nnumber of subfolders for {}: {}'.format(name, len(subfolders)))\n",
    "        print('Website: {}; Review: {}'.format(name, review_col))\n",
    "\n",
    "        reported_profile_score_col = WebsiteNames2ReviewsReportedProfileScore[name][review_col]\n",
    "        \n",
    "        reported_ratings_num_col = WebsiteNames2ReviewsReportedRatingNum[name][review_col]\n",
    "        \n",
    "        reported_reviews_num_col = WebsiteNames2ReviewsReportedReviewNum[name][review_col]\n",
    "        \n",
    "        \n",
    "        # functions\n",
    "        # filter valid reviews, reviews with 'datetime keys'\n",
    "        filter_valid_func = WebsiteNames2ValidFilterFunction[name][review_col]\n",
    "        \n",
    "        WebInfo = []\n",
    "        for folder2rd in subfolders:\n",
    "            # print(folder2rd)\n",
    "            DF = get_df_from_folder2rd(folder2rd); rawlen = len(DF)\n",
    "            \n",
    "            \n",
    "            DF[npi_col] = DF[npi_col].apply(change_npi_to_int)\n",
    "            \n",
    "            \n",
    "            # DF = DF[DF[npi_col].isin(selectedNPIs)]\n",
    "            DF = DF[DF[npi_col].isin(selectedNPIs)].reset_index(drop = True)\n",
    "            DF['NPI'] = DF[npi_col]\n",
    "            \n",
    "            DF['Name'] = DF[name_col]\n",
    "            \n",
    "            DF['GraduationYear'] = DF[graudation_col].apply(gradyear_func)\n",
    "            \n",
    "            \n",
    "            \n",
    "            # total review counts\n",
    "            DF['reported_profile_score'] = DF[reported_profile_score_col]\n",
    "            \n",
    "            DF['reported_ratings_num'] = DF[reported_ratings_num_col]\n",
    "            DF['reported_reviews_num'] = DF[reported_reviews_num_col]\n",
    "            \n",
    "            # derive review info\n",
    "            # NEW: this is importortant and new\n",
    "            DF['collected_reviews_num'] = DF[review_col].apply(lambda x:len(x))# .values\n",
    "            \n",
    "            DF['valid_reviews'] = DF[review_col].apply(filter_valid_func)\n",
    "            DF['stand_reviews'] = DF['valid_reviews'].apply(compress_review_info)\n",
    "            \n",
    "            DF['stand_reviews_num'] = DF['stand_reviews'].apply(lambda x:len(x))# .values\n",
    "            \n",
    "            cols = ['NPI', 'Name', 'GraduationYear', \n",
    "                    'reported_profile_score',\n",
    "                    'reported_ratings_num', \n",
    "                    'reported_reviews_num', \n",
    "                    'collected_reviews_num', \n",
    "                    \n",
    "                    'stand_reviews', 'stand_reviews_num',\n",
    "                    'clct_time', 'url'\n",
    "                   ]\n",
    "            \n",
    "            DF = DF[cols]\n",
    "            WebInfo.append(DF)\n",
    "            print(folder2rd, '\\t\\t', rawlen, len(DF))\n",
    "            # break\n",
    "           \n",
    "        full_name = '{}_{}'.format(name, review_col)\n",
    "        FullDF = pd.concat(WebInfo).reset_index(drop = True)\n",
    "        \n",
    "        # path = 'Output/{}.p'.format(full_name)\n",
    "        path = 'Output/{}_{}.p'.format(full_name, suffix)\n",
    "        print('\\n\\n\\n{}\\n\\n\\n'.format(path))\n",
    "        \n",
    "        FullDF.to_pickle(path)\n",
    "        "
   ]
  }
 ],
 "metadata": {
  "kernelspec": {
   "display_name": "Python 3 (ipykernel)",
   "language": "python",
   "name": "python3"
  },
  "language_info": {
   "codemirror_mode": {
    "name": "ipython",
    "version": 3
   },
   "file_extension": ".py",
   "mimetype": "text/x-python",
   "name": "python",
   "nbconvert_exporter": "python",
   "pygments_lexer": "ipython3",
   "version": "3.9.6"
  },
  "toc": {
   "base_numbering": 1,
   "nav_menu": {},
   "number_sections": true,
   "sideBar": true,
   "skip_h1_title": false,
   "title_cell": "Table of Contents",
   "title_sidebar": "Contents",
   "toc_cell": false,
   "toc_position": {},
   "toc_section_display": true,
   "toc_window_display": false
  }
 },
 "nbformat": 4,
 "nbformat_minor": 5
}
