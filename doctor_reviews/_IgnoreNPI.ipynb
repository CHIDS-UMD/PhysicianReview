{
 "cells": [
  {
   "cell_type": "markdown",
   "id": "cf1e2e0a",
   "metadata": {},
   "source": [
    "# Read RateMDs and Yelp"
   ]
  },
  {
   "cell_type": "code",
   "execution_count": null,
   "id": "c8d77191",
   "metadata": {
    "ExecuteTime": {
     "end_time": "2021-11-07T21:57:06.601079Z",
     "start_time": "2021-11-07T21:57:06.325736Z"
    }
   },
   "outputs": [],
   "source": [
    "import os \n",
    "\n",
    "\n",
    "import pandas as pd\n",
    "import os\n",
    "import numpy as np\n",
    "pd.set_option('display.max_columns', None)\n",
    "\n",
    "\n",
    "def get_df_from_folder2rd(subfolder):\n",
    "    # subfolder = os.path.join(folder, folder2rd)\n",
    "    filenames = [os.path.join(subfolder,i) for i in os.listdir(subfolder) if 'errorlog' not in i and '.DS_Store' not in i]\n",
    "    L = []\n",
    "    for filename in filenames:\n",
    "        try:\n",
    "            df = pd.read_pickle(filename)\n",
    "            L.append(df)\n",
    "        except:\n",
    "            print('Error File', filename.split('/')[-1])\n",
    "\n",
    "    DF = pd.concat(L).reset_index(drop = True)\n",
    "    return DF\n",
    "        "
   ]
  },
  {
   "cell_type": "code",
   "execution_count": null,
   "id": "ae38be7f",
   "metadata": {
    "ExecuteTime": {
     "end_time": "2021-11-07T21:58:57.725000Z",
     "start_time": "2021-11-07T21:57:06.602510Z"
    }
   },
   "outputs": [],
   "source": [
    "\n",
    "WebsiteNames = ['ratemds',  'yelp']\n",
    "\n",
    "D = {}\n",
    "for name in WebsiteNames:\n",
    "    L = []\n",
    "    folder = os.path.join('Output', name)\n",
    "    subfolders = [os.path.join(folder, i) for i in os.listdir(folder) if name in i and '.DS' not in i]# 'Data/DocListDF_GoogleSearch_s0_e500.p'\n",
    "    subfolders.sort()\n",
    "    \n",
    "    for folder2rd in subfolders:\n",
    "        DF = get_df_from_folder2rd(folder2rd)\n",
    "        L.append(DF)\n",
    "        \n",
    "    FullDF = pd.concat(L).reset_index(drop = True)\n",
    "    D[name] = FullDF\n",
    "    \n",
    "    "
   ]
  },
  {
   "cell_type": "code",
   "execution_count": null,
   "id": "b8f3185c",
   "metadata": {
    "ExecuteTime": {
     "end_time": "2021-11-07T21:58:58.539708Z",
     "start_time": "2021-11-07T21:58:57.728970Z"
    }
   },
   "outputs": [],
   "source": [
    "import pandas as pd\n",
    "\n",
    "NPPES = pd.read_pickle('Data/NPI2InfoMDDO.p')\n",
    "NPPES.columns"
   ]
  },
  {
   "cell_type": "code",
   "execution_count": null,
   "id": "0991677b",
   "metadata": {
    "ExecuteTime": {
     "end_time": "2021-11-07T21:58:58.810433Z",
     "start_time": "2021-11-07T21:58:58.542535Z"
    }
   },
   "outputs": [],
   "source": [
    "\n",
    "NPPESNames = NPPES[['NPI', 'LastName', 'FirstName', 'Gender']]\n",
    "print(NPPESNames.shape)\n"
   ]
  },
  {
   "cell_type": "markdown",
   "id": "9c2a71a7",
   "metadata": {},
   "source": [
    "# Yelp"
   ]
  },
  {
   "cell_type": "code",
   "execution_count": null,
   "id": "d8e64724",
   "metadata": {
    "ExecuteTime": {
     "end_time": "2021-11-07T17:06:56.090924Z",
     "start_time": "2021-11-07T17:06:56.069777Z"
    }
   },
   "outputs": [],
   "source": [
    "yelp_df = D['yelp']\n",
    "yelp_df.columns"
   ]
  },
  {
   "cell_type": "code",
   "execution_count": null,
   "id": "386135e0",
   "metadata": {
    "ExecuteTime": {
     "end_time": "2021-11-07T17:07:31.861003Z",
     "start_time": "2021-11-07T17:07:29.750021Z"
    }
   },
   "outputs": [],
   "source": [
    "cols = ['source_npi', 'name']\n",
    "tmp = yelp_df[cols]\n",
    "tmp = tmp.rename(columns = {'source_npi':'NPI'})\n",
    "\n",
    "YelpInfo = pd.merge(tmp, NPPESNames, on = 'NPI')\n",
    "YelpInfo"
   ]
  },
  {
   "cell_type": "code",
   "execution_count": null,
   "id": "cabfe796",
   "metadata": {
    "ExecuteTime": {
     "end_time": "2021-11-07T17:09:07.840179Z",
     "start_time": "2021-11-07T17:09:06.311388Z"
    }
   },
   "outputs": [],
   "source": [
    "L1 = []\n",
    "L2 = []\n",
    "for idx, row in YelpInfo.iterrows():\n",
    "    try:\n",
    "        lastname = row['LastName'].lower()\n",
    "        firstname = row['FirstName'].lower()\n",
    "        yelpname = row['name'].lower()\n",
    "    except:\n",
    "        print(row)\n",
    "    \n",
    "    if firstname in yelpname and lastname in yelpname:\n",
    "        pass\n",
    "    elif 'md' in yelpname or 'do' in yelpname:\n",
    "        # print(row.to_dict())\n",
    "        L1.append(row.to_dict())\n",
    "    else:\n",
    "        L2.append(row.to_dict())\n",
    "        \n",
    "L1df = pd.DataFrame(L1)\n",
    "L2df = pd.DataFrame(L2)# .to_csv('YelpInstitution.csv', index = False)\n",
    "TotalWrong = pd.concat([L1df, L2df])\n",
    "print(len(TotalWrong)) \n",
    "TotalWrong.reset_index(drop = True).to_csv('ToIgnore/ToIgnoreYelp.csv', index = False)"
   ]
  },
  {
   "cell_type": "markdown",
   "id": "38a29a22",
   "metadata": {},
   "source": [
    "# RateMDs"
   ]
  },
  {
   "cell_type": "code",
   "execution_count": null,
   "id": "ffa4158b",
   "metadata": {
    "ExecuteTime": {
     "end_time": "2021-11-07T17:11:07.697694Z",
     "start_time": "2021-11-07T17:11:04.709230Z"
    }
   },
   "outputs": [],
   "source": [
    "ratemd_df = D['ratemds']\n",
    "\n",
    "ratemd_df_cols = ['source_npi', 'full_name']\n",
    "tmp = ratemd_df[ratemd_df_cols]\n",
    "tmp = tmp.rename(columns = {'source_npi':'NPI'})\n",
    "\n",
    "RateMDInfo = pd.merge(tmp, NPPESNames, on = 'NPI')\n",
    "RateMDInfo"
   ]
  },
  {
   "cell_type": "code",
   "execution_count": null,
   "id": "459824ff",
   "metadata": {
    "ExecuteTime": {
     "end_time": "2021-11-07T17:12:03.084028Z",
     "start_time": "2021-11-07T17:11:58.181466Z"
    }
   },
   "outputs": [],
   "source": [
    "L1 = []\n",
    "L2 = []\n",
    "\n",
    "for idx, row in RateMDInfo.iterrows():\n",
    "    try:\n",
    "        lastname = row['LastName'].lower()\n",
    "        firstname = row['FirstName'].lower()\n",
    "        yelpname = row['full_name'].lower()\n",
    "    except:\n",
    "        print(row)\n",
    "    \n",
    "    if firstname in yelpname and lastname in yelpname:\n",
    "        pass\n",
    "    elif 'md' in yelpname or 'do' in yelpname:\n",
    "        # print(row.to_dict())\n",
    "        L1.append(row.to_dict())\n",
    "    else:\n",
    "        L2.append(row.to_dict())\n",
    "        \n",
    "L1df = pd.DataFrame(L1)\n",
    "L2df = pd.DataFrame(L2)# .to_csv('YelpInstitution.csv', index = False)\n",
    "TotalWrong = pd.concat([L1df, L2df])\n",
    "print(len(TotalWrong)) \n",
    "TotalWrong.reset_index(drop = True).to_csv('ToIgnore/ToIgnoreRateMDs.csv', index = False)"
   ]
  }
 ],
 "metadata": {
  "kernelspec": {
   "display_name": "Python 3 (ipykernel)",
   "language": "python",
   "name": "python3"
  },
  "language_info": {
   "codemirror_mode": {
    "name": "ipython",
    "version": 3
   },
   "file_extension": ".py",
   "mimetype": "text/x-python",
   "name": "python",
   "nbconvert_exporter": "python",
   "pygments_lexer": "ipython3",
   "version": "3.7.10"
  },
  "toc": {
   "base_numbering": 1,
   "nav_menu": {},
   "number_sections": true,
   "sideBar": true,
   "skip_h1_title": false,
   "title_cell": "Table of Contents",
   "title_sidebar": "Contents",
   "toc_cell": false,
   "toc_position": {},
   "toc_section_display": true,
   "toc_window_display": false
  }
 },
 "nbformat": 4,
 "nbformat_minor": 5
}
