{
 "cells": [
  {
   "cell_type": "markdown",
   "id": "de99db84",
   "metadata": {},
   "source": [
    "# Basic Information"
   ]
  },
  {
   "cell_type": "code",
   "execution_count": null,
   "id": "bb5bd675",
   "metadata": {
    "ExecuteTime": {
     "end_time": "2021-08-02T22:52:01.256916Z",
     "start_time": "2021-08-02T22:52:00.670764Z"
    }
   },
   "outputs": [],
   "source": [
    "import requests\n",
    "import pandas as pd\n",
    "# from bs4 import BeautifulSoup\n",
    "import re\n",
    "import json\n",
    "import requests\n",
    "from scrapy.http import TextResponse\n",
    "from pprint import pprint\n",
    "import cloudscraper\n",
    "import random\n",
    "import time\n",
    "# we need headers to disguise our bot as a browser\n",
    "\n",
    "headers = {\n",
    "    \"Connection\": \"keep-alive\",\n",
    "    \"Cache-Control\": \"max-age=0\",\n",
    "    \"Accept\": \"text/html,application/xhtml+xml,application/xml;q=0.9,image/webp,*/*;q=0.8\",\n",
    "    \"User-Agent\": \"Mozilla/5.0 (Windows NT 6.1; WOW64) AppleWebKit/537.36 (KHTML, like Gecko) Chrome/34.0.1847.131 Safari/537.36\",\n",
    "    \"Accept-Encoding\": \"gzip,deflate,sdch\",\n",
    "    \"Accept-Language\": \"zh-CN,zh;q=0.8,en-US;q=0.6,en;q=0.4,zh-TW;q=0.2\",\n",
    "}\n",
    "\n",
    "\n",
    "def scrape_under_cloudflare(url, headers = headers, min_sec = 10):\n",
    "    print(\"Request url: {}\".format(url))\n",
    "    \n",
    "    while True:\n",
    "        scraper = cloudscraper.create_scraper()\n",
    "        r = scraper.get(url, headers = headers)\n",
    "        # load the text to scrapy-type response\n",
    "        response = TextResponse(r.url, body = r.text, encoding = 'utf-8')\n",
    "\n",
    "        if 'Cloudflare to restrict access' not in str(response.body.decode()):\n",
    "            print(\"\\tSucc: {}\".format(url))\n",
    "            break\n",
    "        else:\n",
    "            print(\"\\tFail: {}\".format(url))\n",
    "            second = random.randrange(min_sec, min_sec + 1)\n",
    "            time.sleep(second)\n",
    "            \n",
    "    return response\n"
   ]
  },
  {
   "cell_type": "code",
   "execution_count": null,
   "id": "c8b72611",
   "metadata": {
    "ExecuteTime": {
     "end_time": "2021-08-02T22:52:04.445007Z",
     "start_time": "2021-08-02T22:52:03.063936Z"
    }
   },
   "outputs": [],
   "source": [
    "url = 'https://www.vitals.com/dentists/1qnjkf/Jose_Conde'\n",
    "\n",
    "response = scrape_under_cloudflare(url, min_sec = 1)\n",
    "\n",
    "print('Cloudflare to restrict access' in str(response.body.decode()))\n",
    "# # have a look at its body\n",
    "# print(str(response.body.decode()))\n",
    "\n",
    "\n",
    "# with open('_tmp.html', 'w') as f:\n",
    "#     f.write(str(response.body.decode()))\n"
   ]
  },
  {
   "cell_type": "code",
   "execution_count": null,
   "id": "0505c25c",
   "metadata": {
    "ExecuteTime": {
     "end_time": "2021-08-02T22:52:14.100484Z",
     "start_time": "2021-08-02T22:52:14.097414Z"
    },
    "scrolled": true
   },
   "outputs": [],
   "source": [
    "# xpath = './/script//text()'\n",
    "# selectors = response.xpath(xpath)\n",
    "# js_data = selectors.extract()\n",
    "# json_str = [i for i in js_data[1].split(';')][0].split('__INITIAL_STATE__=')[-1]\n",
    "# d = json.loads(json_str)\n",
    "# pprint(d)"
   ]
  },
  {
   "cell_type": "markdown",
   "id": "ce63a50f",
   "metadata": {},
   "source": [
    "# Json Data"
   ]
  },
  {
   "cell_type": "code",
   "execution_count": null,
   "id": "7ef39368",
   "metadata": {
    "ExecuteTime": {
     "end_time": "2021-08-02T22:52:16.105508Z",
     "start_time": "2021-08-02T22:52:16.069141Z"
    },
    "scrolled": true
   },
   "outputs": [],
   "source": [
    "import json\n",
    "from pprint import pprint\n",
    "\n",
    "\n",
    "def process_Json(response):\n",
    "    xpath = './/script//text()'\n",
    "    selectors = response.xpath(xpath)\n",
    "    js_data = selectors.extract()\n",
    "    json_str = [i for i in js_data[1].split('};')][0].split('__INITIAL_STATE__=')[-1] + '}'\n",
    "    \n",
    "    try:\n",
    "        js_data = json.loads(json_str)\n",
    "    except:\n",
    "        js_data = json_str\n",
    "        print(js_data)\n",
    "        \n",
    "    return js_data\n",
    "\n",
    "\n",
    "js_data = process_Json(response)\n",
    "[i for i in js_data]"
   ]
  },
  {
   "cell_type": "code",
   "execution_count": null,
   "id": "36da22b9",
   "metadata": {
    "ExecuteTime": {
     "end_time": "2021-08-02T22:52:16.543692Z",
     "start_time": "2021-08-02T22:52:16.538189Z"
    }
   },
   "outputs": [],
   "source": [
    "## all of these are useless.\n",
    "# for i in [# 'profile',\n",
    "#          'haserror',\n",
    "#          'reviewshaserror',\n",
    "#          'featuredprovidersloaded',\n",
    "#          'timeslot',\n",
    "#          'pagedata',\n",
    "#          'confirm_message_visible',\n",
    "#          'reviewFilters',\n",
    "#          'reviewsPageSize',\n",
    "#          'reviewsDefaultSorting',\n",
    "#          'recaptchaResponse',\n",
    "#          'featuredproviders',\n",
    "#          'ddcTracking',\n",
    "#          'navigationAndSearch',\n",
    "#          'route']:\n",
    "#     print('\\n\\n'+ i)\n",
    "#     print(js_data[i])"
   ]
  },
  {
   "cell_type": "markdown",
   "id": "9cab0883",
   "metadata": {},
   "source": [
    "## Profile"
   ]
  },
  {
   "cell_type": "code",
   "execution_count": null,
   "id": "e6eb23a6",
   "metadata": {
    "ExecuteTime": {
     "end_time": "2021-08-02T22:59:21.739636Z",
     "start_time": "2021-08-02T22:59:21.704978Z"
    },
    "scrolled": true
   },
   "outputs": [],
   "source": [
    "\n",
    "def process_Vitals(url, min_sec = 10):\n",
    "    \n",
    "    print('\\n\\n=========\\nExplore Doctor Profile URL: {}'.format(url))\n",
    "    response = scrape_under_cloudflare(url, min_sec = min_sec)\n",
    "    # print('get info from url: {}'.format(url))\n",
    "    js_data = process_Json(response)\n",
    "    profile = js_data['profile']\n",
    "\n",
    "    # fill the data\n",
    "    profile_data = {}\n",
    "    for i in [\n",
    "        # id\n",
    "        'npi',  'providerid', 'intid', 'entityid_s', 'sponsorid',\n",
    "        # type\n",
    "        'display_type', 'profiletype', 'type', \n",
    "        # names\n",
    "        'firstname', 'middlename', 'lastname',  'fullname',  \n",
    "        # demo\n",
    "        'gender', 'langspoken',\n",
    "        # bio\n",
    "        'about_bio', 'bio_s', 'photourl', 'providerwebsiteurl', 'profileurl','video','quick_facts',\n",
    "        # practicing,\n",
    "        'isDentist','is_legacy_provider',  'years_of_experience', \n",
    "        'acceptsnewpatients', 'specialty_nimvs', \n",
    "        'fallback_specialties', 'fallback_specialty', 'provider_expertise', \n",
    "        # awards and certification\n",
    "        'degreeabbr', 'certifications', 'awards', 'total_awards',\n",
    "        # education\n",
    "         'education_nimvs', \n",
    "        # hosptial\n",
    "        'location_nimvs', 'hospital_nimvs','displayhospitals',\n",
    "        'city', 'state', 'postalcode', 'geolocation', \n",
    "        # insurance\n",
    "        'insurance_facet',  \n",
    "        # rating and review\n",
    "        'number_of_ratings', \n",
    "        'ratings_per_star', 'rating_score','rating_overview',\n",
    "        'review_count', 'review_questions', 'recent_reviews',]:\n",
    "\n",
    "        # print('\\n\\n'+ i)\n",
    "        # pprint(profile.get(i, None))\n",
    "        profile_data[i] = profile.get(i, None)\n",
    "        \n",
    "        \n",
    "    if profile_data['number_of_ratings'] > len(profile_data['recent_reviews']): \n",
    "        # keep ascending\n",
    "        number_of_ratings = profile_data['number_of_ratings'] \n",
    "        review_urls = ['{}/reviews?page={}&sort=updated_at_dt%20asc'.format(url, page) \n",
    "                       for page in range(1, int(number_of_ratings/12) + 2)]\n",
    "        profile_data['review_urls'] = review_urls\n",
    "        \n",
    "        all_reviews = []\n",
    "        success_review_urls = []\n",
    "        for page_idx, review_url in enumerate(review_urls):\n",
    "            print('\\n* Work at page {}'.format(page_idx))\n",
    "            response = scrape_under_cloudflare(review_url, min_sec = min_sec)\n",
    "            \n",
    "            js_data = process_Json(response)\n",
    "            # print([i for i in js_data])\n",
    "            reviews = js_data['profile']['reviews']\n",
    "                \n",
    "            # all or nothing\n",
    "            # try:\n",
    "            #     js_data = process_Json(response)\n",
    "            #     # print([i for i in js_data])\n",
    "            #     reviews = js_data['profile']['reviews']\n",
    "            # except:\n",
    "            #     print('Failure to parse reviews json from URL: {}'.format(review_url))\n",
    "            #     continue\n",
    "\n",
    "            all_reviews = all_reviews + reviews\n",
    "            print('review number: {}'.format(len(reviews)))\n",
    "            success_review_urls.append(review_url)\n",
    "            \n",
    "        profile_data['review_urls'] = review_urls\n",
    "        profile_data['success_review_urls'] = success_review_urls\n",
    "        profile_data['reviews'] = all_reviews\n",
    "    else:\n",
    "        profile_data['review_urls'] = []\n",
    "        profile_data['success_review_urls'] = []\n",
    "        profile_data['reviews'] = profile_data['recent_reviews']\n",
    "        \n",
    "        \n",
    "    # profile_data['url'] = url\n",
    "    assert len(profile_data['review_urls']) == len(profile_data['success_review_urls'])\n",
    "    assert len(profile_data['reviews']) == profile_data['number_of_ratings']\n",
    "        \n",
    "        \n",
    "        \n",
    "    d = profile_data\n",
    "    print('\\nFor physician {}, get reviews {} vs {}\\n======'.format(d['fullname'], len(d['reviews']), d['number_of_ratings']))\n",
    "    return profile_data\n",
    "\n",
    "\n"
   ]
  },
  {
   "cell_type": "code",
   "execution_count": null,
   "id": "ed73b192",
   "metadata": {
    "ExecuteTime": {
     "end_time": "2021-08-02T22:59:35.645832Z",
     "start_time": "2021-08-02T22:59:22.114603Z"
    }
   },
   "outputs": [],
   "source": [
    "min_sec = 1\n",
    "url = 'https://www.vitals.com/dentists/1qnjkf/Jose_Conde'\n",
    "profile_data = process_Vitals(url, min_sec)"
   ]
  },
  {
   "cell_type": "code",
   "execution_count": null,
   "id": "408819a1",
   "metadata": {
    "ExecuteTime": {
     "end_time": "2021-08-02T23:05:17.262253Z",
     "start_time": "2021-08-02T23:05:17.257676Z"
    }
   },
   "outputs": [],
   "source": [
    "print([i for i in profile_data])\n",
    "\n",
    "\n",
    "\n",
    "cols = ['npi', 'providerid', 'intid', 'entityid_s', 'sponsorid', 'display_type', 'profiletype', 'type', \n",
    " 'firstname', 'middlename', 'lastname', 'fullname', 'gender', 'langspoken', 'about_bio', 'bio_s',\n",
    " 'photourl', 'providerwebsiteurl', 'profileurl', 'video', 'quick_facts', \n",
    " 'isDentist', 'is_legacy_provider', 'years_of_experience', 'acceptsnewpatients', 'specialty_nimvs', \n",
    " 'fallback_specialties', 'fallback_specialty', 'provider_expertise', 'degreeabbr', \n",
    " 'certifications', 'awards', 'total_awards', 'education_nimvs', 'location_nimvs', \n",
    " 'hospital_nimvs', 'displayhospitals', 'city', 'state', 'postalcode', 'geolocation',\n",
    " 'insurance_facet', 'number_of_ratings', 'ratings_per_star', 'rating_score', 'rating_overview', \n",
    " 'review_count', 'review_questions', 'recent_reviews', 'review_urls', 'success_review_urls', 'reviews', 'url']"
   ]
  },
  {
   "cell_type": "markdown",
   "id": "e9ed789b",
   "metadata": {},
   "source": [
    "# All In One"
   ]
  },
  {
   "cell_type": "code",
   "execution_count": null,
   "id": "6eab671b",
   "metadata": {
    "ExecuteTime": {
     "end_time": "2021-08-02T23:01:24.494248Z",
     "start_time": "2021-08-02T23:00:09.139036Z"
    }
   },
   "outputs": [],
   "source": [
    "url_list = ['https://www.vitals.com/doctors/Dr_Lisa_Kairis.html',\n",
    " 'https://www.vitals.com/doctors/Dr_Sophie_Hoptowit.html',\n",
    " 'https://www.vitals.com/doctors/Dr_Stephen_Kelminson.html',\n",
    " 'https://www.vitals.com/doctors/Dr_Jonathan_W_Weeks.html',\n",
    " 'https://www.vitals.com/doctors/Dr_John_Condojani.html',\n",
    " 'https://www.vitals.com/doctors/Dr_Anthony_Leazzo.html',\n",
    " 'https://www.vitals.com/doctors/Dr_James_Gleason.html',\n",
    " 'https://www.vitals.com/doctors/Dr_Katherine_Francis.html',\n",
    " 'https://www.vitals.com/doctors/Dr_Brett_Sanders.html',\n",
    " 'https://www.vitals.com/doctors/Dr_Choon_PNg.html']\n",
    "\n",
    "\n",
    "min_sec = 1\n",
    "for url in url_list:\n",
    "    # url = 'https://www.vitals.com/dentists/1qnjkf/Jose_Conde'\n",
    "    profile_data = process_Vitals(url, min_sec)\n",
    "\n",
    "\n"
   ]
  },
  {
   "cell_type": "code",
   "execution_count": null,
   "id": "1ca804f4",
   "metadata": {},
   "outputs": [],
   "source": []
  }
 ],
 "metadata": {
  "kernelspec": {
   "display_name": "Python 3 (ipykernel)",
   "language": "python",
   "name": "python3"
  },
  "language_info": {
   "codemirror_mode": {
    "name": "ipython",
    "version": 3
   },
   "file_extension": ".py",
   "mimetype": "text/x-python",
   "name": "python",
   "nbconvert_exporter": "python",
   "pygments_lexer": "ipython3",
   "version": "3.7.10"
  },
  "toc": {
   "base_numbering": 1,
   "nav_menu": {},
   "number_sections": true,
   "sideBar": true,
   "skip_h1_title": false,
   "title_cell": "Table of Contents",
   "title_sidebar": "Contents",
   "toc_cell": false,
   "toc_position": {},
   "toc_section_display": true,
   "toc_window_display": false
  }
 },
 "nbformat": 4,
 "nbformat_minor": 5
}
