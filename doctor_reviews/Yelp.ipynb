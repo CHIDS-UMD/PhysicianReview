{
 "cells": [
  {
   "cell_type": "markdown",
   "id": "77d9abe5",
   "metadata": {},
   "source": [
    "# Focus on One"
   ]
  },
  {
   "cell_type": "code",
   "execution_count": null,
   "id": "84eb3d97",
   "metadata": {
    "ExecuteTime": {
     "end_time": "2021-08-22T19:54:36.676498Z",
     "start_time": "2021-08-22T19:54:36.651911Z"
    }
   },
   "outputs": [],
   "source": [
    "ph_url = 'https://www.yelp.com/biz/joseph-peck-md-torrance'\n",
    "ph_url"
   ]
  },
  {
   "cell_type": "code",
   "execution_count": null,
   "id": "36b94319",
   "metadata": {
    "ExecuteTime": {
     "end_time": "2021-08-22T19:54:37.649028Z",
     "start_time": "2021-08-22T19:54:37.014356Z"
    }
   },
   "outputs": [],
   "source": [
    "import requests\n",
    "import pandas as pd\n",
    "# from bs4 import BeautifulSoup\n",
    "import re\n",
    "import requests\n",
    "from scrapy.http import TextResponse\n",
    "import json\n",
    "from pprint import pprint\n",
    "\n",
    "# we need headers to disguise our bot as a browser\n",
    "\n",
    "headers = {\n",
    "    \"Connection\": \"keep-alive\",\n",
    "    \"Cache-Control\": \"max-age=0\",\n",
    "    \"Accept\": \"text/html,application/xhtml+xml,application/xml;q=0.9,image/webp,*/*;q=0.8\",\n",
    "    \"User-Agent\": \"Mozilla/5.0 (Windows NT 6.1; WOW64) AppleWebKit/537.36 (KHTML, like Gecko) Chrome/34.0.1847.131 Safari/537.36\",\n",
    "}\n",
    "\n"
   ]
  },
  {
   "cell_type": "code",
   "execution_count": null,
   "id": "5055eb4c",
   "metadata": {
    "ExecuteTime": {
     "end_time": "2021-08-22T19:54:38.859580Z",
     "start_time": "2021-08-22T19:54:37.650189Z"
    }
   },
   "outputs": [],
   "source": [
    "url = ph_url\n",
    "r = requests.get(url, headers = headers)\n",
    "print(r.url)\n",
    "\n",
    "\n",
    "# load the text to scrapy-type response\n",
    "response = TextResponse(r.url, body = r.text, encoding = 'utf-8')\n",
    "\n",
    "# have a look at its body\n",
    "print(str(response.body.decode()))\n",
    "\n",
    "with open('Yelp_Sample.html', 'w') as f:\n",
    "    f.write(str(response.body.decode()))\n"
   ]
  },
  {
   "cell_type": "markdown",
   "id": "abe67501",
   "metadata": {
    "ExecuteTime": {
     "end_time": "2021-08-19T23:46:09.805727Z",
     "start_time": "2021-08-19T23:46:08.835498Z"
    },
    "scrolled": true
   },
   "source": [
    "# Json Data"
   ]
  },
  {
   "cell_type": "code",
   "execution_count": null,
   "id": "a49dfc15",
   "metadata": {
    "ExecuteTime": {
     "end_time": "2021-08-22T19:54:39.185534Z",
     "start_time": "2021-08-22T19:54:39.158833Z"
    }
   },
   "outputs": [],
   "source": [
    "xpath = './/script//text()'\n",
    "selectors = response.xpath(xpath)\n",
    "js_list = selectors.extract()\n",
    "l = [i for i in js_list]\n",
    "len(l)"
   ]
  },
  {
   "cell_type": "markdown",
   "id": "ead24fc1",
   "metadata": {},
   "source": [
    "## Json 14"
   ]
  },
  {
   "cell_type": "code",
   "execution_count": null,
   "id": "81b8848e",
   "metadata": {
    "ExecuteTime": {
     "end_time": "2021-08-22T19:54:39.860554Z",
     "start_time": "2021-08-22T19:54:39.845455Z"
    }
   },
   "outputs": [],
   "source": [
    "idx = 14\n",
    "\n",
    "json_string = l[idx]\n",
    "d = json.loads(json_string)\n",
    "pprint(d)"
   ]
  },
  {
   "cell_type": "markdown",
   "id": "8011c576",
   "metadata": {},
   "source": [
    "## Json 16 (Simple Reviews, drop) "
   ]
  },
  {
   "cell_type": "code",
   "execution_count": null,
   "id": "eb83e62f",
   "metadata": {
    "ExecuteTime": {
     "end_time": "2021-08-22T19:54:40.498984Z",
     "start_time": "2021-08-22T19:54:40.462073Z"
    },
    "scrolled": true
   },
   "outputs": [],
   "source": [
    "idx = 16\n",
    "\n",
    "json_string = l[idx]\n",
    "d = json.loads(json_string)\n",
    "review1_d = d\n",
    "pprint(review1_d)"
   ]
  },
  {
   "cell_type": "code",
   "execution_count": null,
   "id": "21a9f7d2",
   "metadata": {
    "ExecuteTime": {
     "end_time": "2021-08-22T19:54:40.823287Z",
     "start_time": "2021-08-22T19:54:40.817539Z"
    }
   },
   "outputs": [],
   "source": [
    "# why 20, very interesting\n",
    "review1_d['aggregateRating']\n",
    "\n",
    "\n",
    "reviewCount = review1_d['aggregateRating']['reviewCount']\n",
    "reviewCount"
   ]
  },
  {
   "cell_type": "markdown",
   "id": "298f8f73",
   "metadata": {
    "ExecuteTime": {
     "end_time": "2021-08-22T03:41:25.553213Z",
     "start_time": "2021-08-22T03:41:25.550323Z"
    }
   },
   "source": [
    "## Json 19 (Basic Info)"
   ]
  },
  {
   "cell_type": "code",
   "execution_count": null,
   "id": "0b5e0189",
   "metadata": {
    "ExecuteTime": {
     "end_time": "2021-08-22T19:54:42.440966Z",
     "start_time": "2021-08-22T19:54:41.582456Z"
    }
   },
   "outputs": [],
   "source": [
    "import html\n",
    "\n",
    "\n",
    "idx = 19\n",
    "\n",
    "json_string = l[idx]\n",
    "x = json_string.replace('<!--', '').replace('-->', '')\n",
    "# x = x.replace('&quot;', '\"')\n",
    "x = html.unescape(x)\n",
    "# print(x)\n",
    "\n",
    "x = json.loads(x)\n",
    "# x = json.loads(x)\n",
    "\n",
    "\n",
    "pprint(x)"
   ]
  },
  {
   "cell_type": "code",
   "execution_count": null,
   "id": "564e68b7",
   "metadata": {
    "ExecuteTime": {
     "end_time": "2021-08-22T19:54:43.509412Z",
     "start_time": "2021-08-22T19:54:43.500640Z"
    }
   },
   "outputs": [],
   "source": [
    "BusinessPhotos = [x[i]['url({\"size\":\"SQUARE_LARGE\"})'] for i in x if '$BusinessPhoto' in i]\n",
    "BusinessPhotos"
   ]
  },
  {
   "cell_type": "code",
   "execution_count": null,
   "id": "c4b129d4",
   "metadata": {
    "ExecuteTime": {
     "end_time": "2021-08-22T19:54:46.282700Z",
     "start_time": "2021-08-22T19:54:44.511136Z"
    }
   },
   "outputs": [],
   "source": [
    "root = x['ROOT_QUERY']\n",
    "\n",
    "\n",
    "def decompose_jQuery(d, x):\n",
    "    # d is input dict\n",
    "    # x is the original list\n",
    "    for k, v in d.items():\n",
    "        if not v:\n",
    "            print('Empty v at {}'.format(k))\n",
    "        \n",
    "        elif type(v) == dict:\n",
    "            print('Is a dictionary')\n",
    "            # print(v)\n",
    "            out = decompose_jQuery(v, x)\n",
    "            if type(out) == dict: out = decompose_jQuery(out, x) \n",
    "            d[k] = out\n",
    "        \n",
    "        elif type(v) == list:\n",
    "            if len(v) == sum([type(v_e) == dict for v_e in v]):\n",
    "                print('Is a list of dictionaries')\n",
    "                out_list = []\n",
    "                for v_e in v:\n",
    "                    out = decompose_jQuery(v_e, x) \n",
    "                    if type(out) == dict: out = decompose_jQuery(out, x) \n",
    "                    out_list.append(out)\n",
    "                d[k] = out_list\n",
    "            \n",
    "        elif type(v) == str:\n",
    "            # print('v is a string')\n",
    "            if v[0] == '$':\n",
    "                # print(v)\n",
    "                print(v, 'v is start from $')\n",
    "                d[k] = x[v]\n",
    "            else:\n",
    "                pass\n",
    "        else:\n",
    "            pass\n",
    "            # print('Other Type')\n",
    "            # print('Other Case v at {}'.format(k))\n",
    "    return d\n",
    "\n",
    "root = decompose_jQuery(root, x)\n"
   ]
  },
  {
   "cell_type": "code",
   "execution_count": null,
   "id": "95bcfe1b",
   "metadata": {
    "ExecuteTime": {
     "end_time": "2021-08-22T19:55:10.024773Z",
     "start_time": "2021-08-22T19:55:10.016134Z"
    },
    "scrolled": true
   },
   "outputs": [],
   "source": [
    "[# 'loggedInUser',\n",
    " # 'webConsumerFooter',\n",
    " # 'siteConfig',\n",
    " # 'webConsumerFooter({\"baseUrl\":\"https://www.yelp.com/\",\"urlOptions\":{}})',\n",
    " # 'webHeader',\n",
    "#  'mruLocation({\"locationQueryParam\":null})',\n",
    " 'business({\"encid\":\"vUSo8HMkVBiLwBGpFlMmSQ\"})',\n",
    " # 'csrfToken({\"scope\":\"/biz_info_api_v1/vUSo8HMkVBiLwBGpFlMmSQ/biz_pricing/update\"})',\n",
    " # 'csrfToken({\"scope\":\"/biz_info_api_v1/vUSo8HMkVBiLwBGpFlMmSQ/biz_pricing/delete\"})',\n",
    " # 'csrfToken({\"scope\":\"biz_photos_vote_form\"})',\n",
    " # 'country({\"code\":\"US\"})',\n",
    " # 'csrfToken({\"scope\":\"/signup/one_click_google\"})',\n",
    "#  'thirdPartyConfig',\n",
    " 'seoMetadata'\n",
    "]\n",
    "\n",
    "\n",
    "business_col = [i for i in root if 'business' in i][0]\n",
    "business_col\n"
   ]
  },
  {
   "cell_type": "markdown",
   "id": "29fbaad6",
   "metadata": {},
   "source": [
    "### Business"
   ]
  },
  {
   "cell_type": "code",
   "execution_count": null,
   "id": "e50dd02d",
   "metadata": {
    "ExecuteTime": {
     "end_time": "2021-08-22T14:58:27.788758Z",
     "start_time": "2021-08-22T14:58:27.780520Z"
    }
   },
   "outputs": [],
   "source": [
    "buzid = root[business_col]['id']\n",
    "# pprint(buz)\n",
    "[i for i in buzid]\n"
   ]
  },
  {
   "cell_type": "code",
   "execution_count": null,
   "id": "514d6c3d",
   "metadata": {
    "ExecuteTime": {
     "end_time": "2021-08-22T14:58:31.300011Z",
     "start_time": "2021-08-22T14:58:31.274186Z"
    }
   },
   "outputs": [],
   "source": [
    "['verifiedLicenses',\n",
    " # '__typename',\n",
    " 'name',\n",
    " # 'categoryGroups',\n",
    " 'alias',\n",
    " # 'externalResources',\n",
    " 'menuVerbiage',\n",
    " # 'yelpMenu',\n",
    " 'categories',\n",
    " # 'serviceUpdateSummary',\n",
    " 'location',\n",
    " # 'serviceArea',\n",
    " # 'messaging',\n",
    " #'meteredPhoneNumber',\n",
    " 'phoneNumber',\n",
    " # 'shouldHideContactInfoForMultilocationBusinessesExperiment',\n",
    " # 'jobPricing',\n",
    " 'operationHours',\n",
    " 'consumerAlert',\n",
    " # 'organizedProperties({\"clientPlatform\":\"WWW\"})',\n",
    " 'healthInspections',\n",
    " 'isCommunityQuestionsEnabled',\n",
    " 'communityQuestions({\"first\":2})',\n",
    " 'rating',\n",
    " 'authoritativeAttributes',\n",
    " 'containerBusiness',\n",
    " # 'map({\"height\":180,\"width\":315})',\n",
    " # 'map({\"height\":150,\"width\":315})',\n",
    " 'serviceArea({\"userType\":\"consumer\"})',\n",
    " # 'media', 'buzPhoto'\n",
    " 'reviewCount',\n",
    " 'claimability({\"useConsumerClaimability\":true})',\n",
    " 'claimability',\n",
    " 'hasClaimReminderForCurrentUser',\n",
    " 'alternateNames',\n",
    " 'priceRange',\n",
    " 'logo',\n",
    " 'closedUntil',\n",
    " 'primaryPhoto',\n",
    " 'specialties',\n",
    " 'history',\n",
    " # 'reviews({\"first\":20})'\n",
    "]\n",
    "\n",
    "pprint(buzid['history'])"
   ]
  },
  {
   "cell_type": "code",
   "execution_count": null,
   "id": "887a84d5",
   "metadata": {
    "ExecuteTime": {
     "end_time": "2021-08-22T14:58:31.744437Z",
     "start_time": "2021-08-22T14:58:31.739845Z"
    }
   },
   "outputs": [],
   "source": [
    "# pprint(buzid['media'])"
   ]
  },
  {
   "cell_type": "code",
   "execution_count": null,
   "id": "edc211f8",
   "metadata": {
    "ExecuteTime": {
     "end_time": "2021-08-22T19:56:59.988416Z",
     "start_time": "2021-08-22T19:56:59.980934Z"
    }
   },
   "outputs": [],
   "source": [
    "# pprint(buzid['categoryGroups'])"
   ]
  },
  {
   "cell_type": "code",
   "execution_count": null,
   "id": "a85587e6",
   "metadata": {
    "ExecuteTime": {
     "end_time": "2021-08-22T14:58:32.536684Z",
     "start_time": "2021-08-22T14:58:32.527982Z"
    }
   },
   "outputs": [],
   "source": [
    "pprint(buzid['categories'])"
   ]
  },
  {
   "cell_type": "code",
   "execution_count": null,
   "id": "6047a2a7",
   "metadata": {
    "ExecuteTime": {
     "end_time": "2021-08-22T14:58:32.936068Z",
     "start_time": "2021-08-22T14:58:32.912110Z"
    },
    "scrolled": true
   },
   "outputs": [],
   "source": [
    "pprint(buzid['operationHours'])"
   ]
  },
  {
   "cell_type": "code",
   "execution_count": null,
   "id": "cf3f7b7a",
   "metadata": {
    "ExecuteTime": {
     "end_time": "2021-08-22T19:58:21.900908Z",
     "start_time": "2021-08-22T19:58:21.897407Z"
    }
   },
   "outputs": [],
   "source": [
    "# pprint(buzid['organizedProperties({\"clientPlatform\":\"WWW\"})'])"
   ]
  },
  {
   "cell_type": "code",
   "execution_count": null,
   "id": "1ad379da",
   "metadata": {
    "ExecuteTime": {
     "end_time": "2021-08-22T14:58:37.277142Z",
     "start_time": "2021-08-22T14:58:37.269326Z"
    }
   },
   "outputs": [],
   "source": [
    "pprint(buzid['authoritativeAttributes'])"
   ]
  },
  {
   "cell_type": "code",
   "execution_count": null,
   "id": "6f72d09e",
   "metadata": {
    "ExecuteTime": {
     "end_time": "2021-08-22T15:20:08.730446Z",
     "start_time": "2021-08-22T15:20:08.727434Z"
    }
   },
   "outputs": [],
   "source": [
    "# buzid['reviews({\"first\":20})']"
   ]
  },
  {
   "cell_type": "markdown",
   "id": "4d61989f",
   "metadata": {},
   "source": [
    "### SEO MetaData"
   ]
  },
  {
   "cell_type": "code",
   "execution_count": null,
   "id": "35d5884b",
   "metadata": {
    "ExecuteTime": {
     "end_time": "2021-08-22T20:00:29.153016Z",
     "start_time": "2021-08-22T20:00:29.140374Z"
    }
   },
   "outputs": [],
   "source": [
    "# [i for i in root['seoMetadata']]\n",
    "\n",
    "# pprint(\n",
    "seo_id = root['seoMetadata']['id']\n",
    "[i for i in seo_id]\n",
    "# seo_id['__typename']\n",
    "\n",
    "\n",
    "\n",
    "bizDetail_col = [i for i in seo_id if 'bizDetails' in i][0]\n",
    "bizDetails = seo_id[bizDetail_col]\n",
    "# pprint(bizDetails)\n",
    "[i for i in bizDetails]\n"
   ]
  },
  {
   "cell_type": "code",
   "execution_count": null,
   "id": "26fea927",
   "metadata": {
    "ExecuteTime": {
     "end_time": "2021-08-22T20:00:32.007552Z",
     "start_time": "2021-08-22T20:00:32.000882Z"
    }
   },
   "outputs": [],
   "source": [
    "bizDetails_id = bizDetails['id']\n",
    "# pprint(bizDetails_id)\n",
    "[i for i in bizDetails_id]"
   ]
  },
  {
   "cell_type": "code",
   "execution_count": null,
   "id": "707686f5",
   "metadata": {
    "ExecuteTime": {
     "end_time": "2021-08-22T14:58:59.896831Z",
     "start_time": "2021-08-22T14:58:59.890631Z"
    }
   },
   "outputs": [],
   "source": [
    "bizDetails_id['pageTitle']"
   ]
  },
  {
   "cell_type": "code",
   "execution_count": null,
   "id": "26db05da",
   "metadata": {
    "ExecuteTime": {
     "end_time": "2021-08-22T14:59:00.781375Z",
     "start_time": "2021-08-22T14:59:00.772833Z"
    }
   },
   "outputs": [],
   "source": [
    "bizDetails_id['metaDescription']"
   ]
  },
  {
   "cell_type": "code",
   "execution_count": null,
   "id": "486a7604",
   "metadata": {
    "ExecuteTime": {
     "end_time": "2021-08-22T14:59:03.143040Z",
     "start_time": "2021-08-22T14:59:03.135509Z"
    }
   },
   "outputs": [],
   "source": [
    "bizDetails_id['canonicalUrl']"
   ]
  },
  {
   "cell_type": "code",
   "execution_count": null,
   "id": "de7512df",
   "metadata": {
    "ExecuteTime": {
     "end_time": "2021-08-22T14:59:03.447512Z",
     "start_time": "2021-08-22T14:59:03.444749Z"
    }
   },
   "outputs": [],
   "source": [
    "# different language version; meaningless\n",
    "# alternateTags = [x[i['id']] for i in bizDetails_id['alternateTags']]\n",
    "# bizDetails_id['alternateTags']   "
   ]
  },
  {
   "cell_type": "markdown",
   "id": "6710cf29",
   "metadata": {},
   "source": [
    "# Detailed Reviews"
   ]
  },
  {
   "cell_type": "code",
   "execution_count": null,
   "id": "8444e88e",
   "metadata": {
    "ExecuteTime": {
     "end_time": "2021-08-22T15:00:26.031722Z",
     "start_time": "2021-08-22T15:00:26.024760Z"
    }
   },
   "outputs": [],
   "source": [
    "encid = [i for i in root if 'business' in i][0]\n",
    "encid = encid.split(':')[-1].split('\"')[1]\n",
    "encid"
   ]
  },
  {
   "cell_type": "code",
   "execution_count": null,
   "id": "43af8a6e",
   "metadata": {
    "ExecuteTime": {
     "end_time": "2021-08-22T15:30:57.190167Z",
     "start_time": "2021-08-22T15:30:54.580976Z"
    }
   },
   "outputs": [],
   "source": [
    "L = []\n",
    "\n",
    "for i in range(int(reviewCount/10) + 1):\n",
    "    start = i * 10\n",
    "    # print(start)\n",
    "    url = 'https://www.yelp.com/biz/{}/review_feed?rl=en&q=&sort_by=date_desc&start={}'.format(encid, start)\n",
    "    r = requests.get(url, headers = headers)\n",
    "    print(r.url)\n",
    "    # load the text to scrapy-type response\n",
    "    response = TextResponse(r.url, body = r.text, encoding = 'utf-8')\n",
    "\n",
    "    # have a look at its body\n",
    "    # print(str(response.body.decode()))\n",
    "\n",
    "    # with open('Yelp_Sample.html', 'w') as f:\n",
    "    #     f.write(str(response.body.decode()))\n",
    "\n",
    "    reviews = response.json()\n",
    "    # pprint(reviews)\n",
    "    L.extend(reviews['reviews'])\n"
   ]
  },
  {
   "cell_type": "code",
   "execution_count": null,
   "id": "0fe3dc12",
   "metadata": {
    "ExecuteTime": {
     "end_time": "2021-08-22T15:31:00.939437Z",
     "start_time": "2021-08-22T15:31:00.933861Z"
    }
   },
   "outputs": [],
   "source": [
    "len(L)"
   ]
  },
  {
   "cell_type": "code",
   "execution_count": null,
   "id": "5208c7b6",
   "metadata": {
    "ExecuteTime": {
     "end_time": "2021-08-22T15:36:50.070456Z",
     "start_time": "2021-08-22T15:36:50.062511Z"
    }
   },
   "outputs": [],
   "source": [
    "import html\n",
    "# leave them here and parse them in the further.\n",
    "\n",
    "# text = review['comment']['text']\n",
    "# text = \n",
    "html.unescape(text)"
   ]
  },
  {
   "cell_type": "markdown",
   "id": "81c2c179",
   "metadata": {},
   "source": [
    "# Not Recommended Reviews"
   ]
  },
  {
   "cell_type": "code",
   "execution_count": null,
   "id": "57afe85f",
   "metadata": {
    "ExecuteTime": {
     "end_time": "2021-08-22T17:44:11.906635Z",
     "start_time": "2021-08-22T17:44:11.882767Z"
    }
   },
   "outputs": [],
   "source": [
    "def process_reviewxpath(review):\n",
    "\n",
    "\n",
    "    item2xpath = {\n",
    "        'image': './/img[@class=\"photo-box-img\"]/@src',\n",
    "        'user_name': './/*[@class=\"user-display-name\"]/text()',\n",
    "        'user_location':'.//*[@class=\"user-location responsive-hidden-small\"]/b/text()',\n",
    "        'friends':'.//*[@class=\"friend-count responsive-small-display-inline-block\"]//b/text()',\n",
    "        'reviews':'.//*[@class=\"review-count responsive-small-display-inline-block\"]//b/text()',\n",
    "        'rate_score': './/img[@class=\"offscreen\"]/@alt',\n",
    "        'date': './/*[@class=\"rating-qualifier\"]/text()',\n",
    "        'comment': './/p[@lang=\"en\"]//text()',\n",
    "        # 'rate_details':'.//table[@class=\"rating-table\"]//text()', \n",
    "    }\n",
    "\n",
    "\n",
    "\n",
    "    itemselector2value = {\n",
    "        'image': lambda x: x.extract()[0],\n",
    "        'user_name': lambda x: x.extract()[0],\n",
    "        'user_location': lambda x: x.extract()[0],\n",
    "        'friends': lambda x: x.extract()[0],\n",
    "        'reviews': lambda x: x.extract()[0],\n",
    "        'rate_score': lambda x: x.extract()[0],\n",
    "        'date': lambda x: x.extract()[0].strip(),\n",
    "        'comment': lambda x: html.unescape('\\n'.join(x.extract())).replace('\\xa0',''),\n",
    "        # 'rate_score': lambda x: float(x.extract()[0]), \n",
    "        # 'rate_num': lambda x: int(x.extract()[1]), \n",
    "        # 'rate_details': lambda x: x.extract(), \n",
    "    }\n",
    "\n",
    "\n",
    "    d = {}\n",
    "    for item, xpath in item2xpath.items():\n",
    "        # print('\\n')\n",
    "        # print(item)\n",
    "        selectors = review.xpath(xpath)#.extract()\n",
    "        values = itemselector2value[item](selectors)\n",
    "        d[item] = values\n",
    "        # print(values)\n",
    "        \n",
    "        \n",
    "    return d\n",
    "\n",
    "\n",
    "def process_xpath(response):\n",
    "\n",
    "\n",
    "    item2xpath = {\n",
    "        'blocked_summary': './/*[@class=\"ysection not-recommended-reviews review-list-wide\"]/h3/text()',\n",
    "        'blocked_reviews': './/*[@class=\"ysection not-recommended-reviews review-list-wide\"]//*[@class=\"review review--with-sidebar\"]',\n",
    "        \n",
    "        'removed_summary': './/*[@class=\"ysection removed-reviews\"]/h3/text()',\n",
    "        'removed_reviews': './/*[@class=\"ysection removed-reviews\"]//*[@class=\"review review--with-sidebar\"]',\n",
    "    }\n",
    "\n",
    "\n",
    "\n",
    "    itemselector2value = {\n",
    "        'blocked_summary': lambda x: int(x.extract()[0].strip().split(' ')[0]),\n",
    "        'blocked_reviews': lambda x: [process_reviewxpath(review) for review in x],\n",
    "        'removed_summary': lambda x: int(x.extract()[0].strip().split(' ')[0]),\n",
    "        'removed_reviews': lambda x: [process_reviewxpath(review) for review in x],\n",
    "    }\n",
    "\n",
    "\n",
    "    d = {}\n",
    "    for item, xpath in item2xpath.items():\n",
    "        # print('\\n')\n",
    "        # print(item)\n",
    "        selectors = response.xpath(xpath)#.extract()\n",
    "        values = itemselector2value[item](selectors)\n",
    "        d[item] = values\n",
    "        # print(values)\n",
    "        \n",
    "        \n",
    "    return d"
   ]
  },
  {
   "cell_type": "code",
   "execution_count": null,
   "id": "db55e883",
   "metadata": {
    "ExecuteTime": {
     "end_time": "2021-08-22T17:48:57.585055Z",
     "start_time": "2021-08-22T17:48:55.544628Z"
    }
   },
   "outputs": [],
   "source": [
    "def get_blocked_reviews_from_ph_url(ph_url):\n",
    "\n",
    "    doc_name = ph_url.split('/')[-1]\n",
    "\n",
    "    start = 0\n",
    "\n",
    "    url = 'https://www.yelp.com/not_recommended_reviews/{}?not_recommended_start={}'.format(doc_name, start)\n",
    "    r = requests.get(url, headers = headers)\n",
    "    print(r.url)\n",
    "    # load the text to scrapy-type response\n",
    "    response = TextResponse(r.url, body = r.text, encoding = 'utf-8')\n",
    "\n",
    "\n",
    "    d = process_xpath(response)\n",
    "    blocked_reviews_num = int(d['blocked_summary'])\n",
    "    if blocked_reviews_num <= 10:\n",
    "        return d\n",
    "    else:\n",
    "        for i in range(1, int((blocked_reviews_num-1)/10) + 1):\n",
    "            start = i*10\n",
    "            print(start)\n",
    "            url = 'https://www.yelp.com/not_recommended_reviews/{}?not_recommended_start={}'.format(doc_name, start)\n",
    "            r = requests.get(url, headers = headers)\n",
    "            print(r.url)\n",
    "            # load the text to scrapy-type response\n",
    "            response = TextResponse(r.url, body = r.text, encoding = 'utf-8')\n",
    "            new_d = process_xpath(response)\n",
    "            d['blocked_reviews'] += new_d['blocked_reviews']\n",
    "            # d['removed_reviews'] += new_d['removed_reviews']\n",
    "            # print()\n",
    "            # print(new_d['removed_reviews'])\n",
    "        return d\n",
    "\n",
    "\n",
    "print(ph_url)\n",
    "d = get_blocked_reviews_from_ph_url(ph_url)"
   ]
  },
  {
   "cell_type": "code",
   "execution_count": null,
   "id": "9d90baaf",
   "metadata": {
    "ExecuteTime": {
     "end_time": "2021-08-22T17:48:59.778098Z",
     "start_time": "2021-08-22T17:48:59.772101Z"
    }
   },
   "outputs": [],
   "source": [
    "len(d['blocked_reviews'])"
   ]
  },
  {
   "cell_type": "code",
   "execution_count": null,
   "id": "a1f9640d",
   "metadata": {
    "ExecuteTime": {
     "end_time": "2021-08-22T17:49:00.244196Z",
     "start_time": "2021-08-22T17:49:00.237953Z"
    }
   },
   "outputs": [],
   "source": [
    "len(d['removed_reviews'])"
   ]
  },
  {
   "cell_type": "markdown",
   "id": "17b2476c",
   "metadata": {},
   "source": [
    "# All In One"
   ]
  },
  {
   "cell_type": "code",
   "execution_count": null,
   "id": "0317f98d",
   "metadata": {
    "ExecuteTime": {
     "end_time": "2021-08-22T20:32:31.611165Z",
     "start_time": "2021-08-22T20:32:31.551962Z"
    }
   },
   "outputs": [],
   "source": [
    "import requests\n",
    "import pandas as pd\n",
    "# from bs4 import BeautifulSoup\n",
    "import re\n",
    "import requests\n",
    "from scrapy.http import TextResponse\n",
    "import json\n",
    "from pprint import pprint\n",
    "import html\n",
    "\n",
    "\n",
    "# we need headers to disguise our bot as a browser\n",
    "\n",
    "headers = {\n",
    "    \"Connection\": \"keep-alive\",\n",
    "    \"Cache-Control\": \"max-age=0\",\n",
    "    \"Accept\": \"text/html,application/xhtml+xml,application/xml;q=0.9,image/webp,*/*;q=0.8\",\n",
    "    \"User-Agent\": \"Mozilla/5.0 (Windows NT 6.1; WOW64) AppleWebKit/537.36 (KHTML, like Gecko) Chrome/34.0.1847.131 Safari/537.36\",\n",
    "}\n",
    "\n",
    "\n",
    "\n",
    "def decompose_jQuery(d, x):\n",
    "    # d is input dict; x is the original list\n",
    "    for k, v in d.items():\n",
    "        if not v:\n",
    "            # print('Empty v at {}'.format(k))\n",
    "            pass\n",
    "        \n",
    "        elif type(v) == dict:\n",
    "            # print('Is a dictionary')\n",
    "            out = decompose_jQuery(v, x)\n",
    "            if type(out) == dict: out = decompose_jQuery(out, x) \n",
    "            d[k] = out\n",
    "        \n",
    "        elif type(v) == list:\n",
    "            if len(v) == sum([type(v_e) == dict for v_e in v]):\n",
    "                # print('Is a list of dictionaries')\n",
    "                out_list = []\n",
    "                for v_e in v:\n",
    "                    out = decompose_jQuery(v_e, x) \n",
    "                    if type(out) == dict: out = decompose_jQuery(out, x) \n",
    "                    out_list.append(out)\n",
    "                d[k] = out_list\n",
    "            \n",
    "        elif type(v) == str:\n",
    "            # print('v is a string')\n",
    "            if v[0] == '$':\n",
    "                # print(v)\n",
    "                # print(v, 'v is start from $')\n",
    "                d[k] = x[v]\n",
    "            else:\n",
    "                pass\n",
    "        else:\n",
    "            pass\n",
    "        \n",
    "    return d\n",
    "\n",
    "\n",
    "def process_reviewxpath(review):\n",
    "\n",
    "    item2xpath = {\n",
    "        'image': './/img[@class=\"photo-box-img\"]/@src',\n",
    "        'user_name': './/*[@class=\"user-display-name\"]/text()',\n",
    "        'user_location':'.//*[@class=\"user-location responsive-hidden-small\"]/b/text()',\n",
    "        'friends':'.//*[@class=\"friend-count responsive-small-display-inline-block\"]//b/text()',\n",
    "        'reviews':'.//*[@class=\"review-count responsive-small-display-inline-block\"]//b/text()',\n",
    "        'rate_score': './/img[@class=\"offscreen\"]/@alt',\n",
    "        'date': './/*[@class=\"rating-qualifier\"]/text()',\n",
    "        'comment': './/p[@lang=\"en\"]//text()',\n",
    "    }\n",
    "\n",
    "    itemselector2value = {\n",
    "        'image': lambda x: x.extract()[0],\n",
    "        'user_name': lambda x: x.extract()[0],\n",
    "        'user_location': lambda x: x.extract()[0],\n",
    "        'friends': lambda x: x.extract()[0],\n",
    "        'reviews': lambda x: x.extract()[0],\n",
    "        'rate_score': lambda x: x.extract()[0],\n",
    "        'date': lambda x: x.extract()[0].strip(),\n",
    "        'comment': lambda x: html.unescape('\\n'.join(x.extract())).replace('\\xa0',''),\n",
    "    }\n",
    "\n",
    "    d = {}\n",
    "    for item, xpath in item2xpath.items():\n",
    "        # print('\\n')\n",
    "        # print(item)\n",
    "        selectors = review.xpath(xpath)#.extract()\n",
    "        values = itemselector2value[item](selectors)\n",
    "        d[item] = values\n",
    "        # print(values)\n",
    "        \n",
    "        \n",
    "    return d\n",
    "\n",
    "\n",
    "def process_xpath(response):\n",
    "    item2xpath = {\n",
    "        'blocked_reviews_num': './/*[@class=\"ysection not-recommended-reviews review-list-wide\"]/h3/text()',\n",
    "        'blocked_reviews': './/*[@class=\"ysection not-recommended-reviews review-list-wide\"]//*[@class=\"review review--with-sidebar\"]',\n",
    "        'removed_reviews_num': './/*[@class=\"ysection removed-reviews\"]/h3/text()',\n",
    "        'removed_reviews': './/*[@class=\"ysection removed-reviews\"]//*[@class=\"review review--with-sidebar\"]',\n",
    "    }\n",
    "\n",
    "\n",
    "    itemselector2value = {\n",
    "        'blocked_reviews_num': lambda x: int(x.extract()[0].strip().split(' ')[0]),\n",
    "        'blocked_reviews': lambda x: [process_reviewxpath(review) for review in x],\n",
    "        'removed_reviews_num': lambda x: int(x.extract()[0].strip().split(' ')[0]) if len(x) == 1 else 0,\n",
    "        'removed_reviews': lambda x: [process_reviewxpath(review) for review in x],\n",
    "    }\n",
    "\n",
    "\n",
    "    d = {}\n",
    "    for item, xpath in item2xpath.items():\n",
    "        # print('\\n')\n",
    "        # print(item)\n",
    "        selectors = response.xpath(xpath)#.extract()\n",
    "        values = itemselector2value[item](selectors)\n",
    "        d[item] = values\n",
    "        # print(values)\n",
    "    return d\n",
    "\n",
    "\n",
    "def get_blocked_reviews_from_ph_url(ph_url):\n",
    "    doc_name = ph_url.split('/')[-1]\n",
    "    start = 0\n",
    "    url = 'https://www.yelp.com/not_recommended_reviews/{}?not_recommended_start={}'.format(doc_name, start)\n",
    "    r = requests.get(url, headers = headers)\n",
    "    print(r.url)\n",
    "    # load the text to scrapy-type response\n",
    "    response = TextResponse(r.url, body = r.text, encoding = 'utf-8')\n",
    "\n",
    "\n",
    "    d = process_xpath(response)\n",
    "    blocked_reviews_num = int(d['blocked_reviews_num'])\n",
    "    if blocked_reviews_num <= 10:\n",
    "        return d\n",
    "    else:\n",
    "        for i in range(1, int((blocked_reviews_num-1)/10) + 1):\n",
    "            start = i*10\n",
    "            # print(start)\n",
    "            url = 'https://www.yelp.com/not_recommended_reviews/{}?not_recommended_start={}'.format(doc_name, start)\n",
    "            r = requests.get(url, headers = headers)\n",
    "            print(r.url)\n",
    "            # load the text to scrapy-type response\n",
    "            response = TextResponse(r.url, body = r.text, encoding = 'utf-8')\n",
    "            new_d = process_xpath(response)\n",
    "            d['blocked_reviews'] += new_d['blocked_reviews']\n",
    "            # d['removed_reviews'] += new_d['removed_reviews']\n",
    "            # print()\n",
    "            # print(new_d['removed_reviews'])\n",
    "        return d\n",
    "\n",
    "\n",
    "def get_physician_info_from_yelp_url(ph_url):\n",
    "\n",
    "    physician_info = {}\n",
    "    \n",
    "    # profile url\n",
    "    url = ph_url\n",
    "    r = requests.get(url, headers = headers)\n",
    "    response = TextResponse(r.url, body = r.text, encoding = 'utf-8')\n",
    "    xpath = './/script//text()'\n",
    "    selectors = response.xpath(xpath)\n",
    "    js_list = selectors.extract()\n",
    "    l = [i for i in js_list]\n",
    "\n",
    "    # aim 1: get common questions\n",
    "    idx = 14\n",
    "    json_string = l[idx]\n",
    "    try:\n",
    "        d = json.loads(json_string)\n",
    "        physician_info['Questions'] = d\n",
    "    except:\n",
    "        print(json_string)\n",
    "\n",
    "\n",
    "    # aim 2: get reviewCount\n",
    "    idx = 16\n",
    "    json_string = l[idx]\n",
    "    d = json.loads(json_string)\n",
    "    review1_d = d\n",
    "    # pprint(review1_d)\n",
    "    reviewCount = review1_d['aggregateRating']['reviewCount']\n",
    "    physician_info['reviewCount'] = reviewCount\n",
    "\n",
    "\n",
    "    # aim 3: get physician basic information\n",
    "    idx = 19\n",
    "    json_string = l[idx]\n",
    "    x = json_string.replace('<!--', '').replace('-->', '')\n",
    "    # x = x.replace('&quot;', '\"')\n",
    "    x = html.unescape(x)\n",
    "    # print(x)\n",
    "    x = json.loads(x)\n",
    "\n",
    "    # aim 3.1: business photos\n",
    "    BusinessPhotos = [x[i]['url({\"size\":\"SQUARE_LARGE\"})'] for i in x if '$BusinessPhoto' in i]\n",
    "    physician_info['BusinessPhotos'] = BusinessPhotos\n",
    "\n",
    "    # aim 3.2: get buzid info\n",
    "    root = x['ROOT_QUERY']\n",
    "    root = decompose_jQuery(root, x)\n",
    "    business_col = [i for i in root if 'business' in i][0]\n",
    "    buzid = root[business_col]['id']\n",
    "\n",
    "    cols = ['verifiedLicenses',\n",
    "    # '__typename',\n",
    "    'name',\n",
    "    # 'categoryGroups',\n",
    "    'alias',\n",
    "    # 'externalResources',\n",
    "    'menuVerbiage',\n",
    "    # 'yelpMenu',\n",
    "    'categories',\n",
    "    # 'serviceUpdateSummary',\n",
    "    'location',\n",
    "    # 'serviceArea',\n",
    "    # 'messaging',\n",
    "    #'meteredPhoneNumber',\n",
    "    'phoneNumber',\n",
    "    # 'shouldHideContactInfoForMultilocationBusinessesExperiment',\n",
    "    # 'jobPricing',\n",
    "    'operationHours',\n",
    "    'consumerAlert',\n",
    "    # 'organizedProperties({\"clientPlatform\":\"WWW\"})',\n",
    "    'healthInspections',\n",
    "    'isCommunityQuestionsEnabled',\n",
    "    'communityQuestions({\"first\":2})',\n",
    "    'rating',\n",
    "    'authoritativeAttributes',\n",
    "    'containerBusiness',\n",
    "    # 'map({\"height\":180,\"width\":315})',\n",
    "    # 'map({\"height\":150,\"width\":315})',\n",
    "    'serviceArea({\"userType\":\"consumer\"})',\n",
    "    # 'media', 'buzPhoto'\n",
    "    'reviewCount',\n",
    "    'claimability({\"useConsumerClaimability\":true})',\n",
    "    'claimability',\n",
    "    'hasClaimReminderForCurrentUser',\n",
    "    'alternateNames',\n",
    "    'priceRange',\n",
    "    'logo',\n",
    "    'closedUntil',\n",
    "    'primaryPhoto',\n",
    "    'specialties',\n",
    "    'history',]\n",
    "\n",
    "    for col in cols:\n",
    "        physician_info[col] = buzid[col]\n",
    "\n",
    "    # aim 3.3: get seo info \n",
    "    seo_id = root['seoMetadata']['id']\n",
    "    # [i for i in seo_id]\n",
    "    # seo_id['__typename']\n",
    "    bizDetail_col = [i for i in seo_id if 'bizDetails' in i][0]\n",
    "    bizDetails = seo_id[bizDetail_col]\n",
    "\n",
    "    bizDetails_id = bizDetails['id']\n",
    "\n",
    "    cols_second = ['pageTitle', 'metaDescription' ]\n",
    "    for col in cols_second:\n",
    "        physician_info[col] = bizDetails_id[col]\n",
    "\n",
    "    # aim 4: get encid and good reviews\n",
    "    encid = [i for i in root if 'business' in i][0]\n",
    "    encid = encid.split(':')[-1].split('\"')[1]\n",
    "    physician_info['encid'] = encid\n",
    "    \n",
    "    L = []\n",
    "    for i in range(int((reviewCount -1 )/10) + 1):\n",
    "        start = i * 10\n",
    "        url = 'https://www.yelp.com/biz/{}/review_feed?rl=en&q=&sort_by=date_desc&start={}'.format(encid, start)\n",
    "        r = requests.get(url, headers = headers)\n",
    "        print(r.url)\n",
    "        # load the text to scrapy-type response\n",
    "        response = TextResponse(r.url, body = r.text, encoding = 'utf-8')\n",
    "\n",
    "        reviews = response.json()\n",
    "        L.extend(reviews['reviews'])\n",
    "\n",
    "    physician_info['reviews_detailed'] = L\n",
    "\n",
    "    # aim 5: get blocked reivews\n",
    "    d = get_blocked_reviews_from_ph_url(ph_url)\n",
    "    for k, v in d.items(): physician_info[k] = v\n",
    "        \n",
    "    \n",
    "    return physician_info\n"
   ]
  },
  {
   "cell_type": "code",
   "execution_count": null,
   "id": "4d6a4151",
   "metadata": {
    "ExecuteTime": {
     "end_time": "2021-08-22T20:32:34.552566Z",
     "start_time": "2021-08-22T20:32:32.247691Z"
    }
   },
   "outputs": [],
   "source": [
    "ph_url = 'https://www.yelp.com/biz/joseph-peck-md-torrance' # many reviews \n",
    "ph_url = 'https://www.yelp.com/biz/integrated-pain-management-tarzana-6' # a few reviews\n",
    "ph_url = 'https://www.yelp.com/biz/michael-shabtai-md-northridge?page_src=related_bizes' # even fewer reviews\n",
    "\n",
    "ph_info = get_physician_info_from_yelp_url(ph_url)"
   ]
  },
  {
   "cell_type": "code",
   "execution_count": null,
   "id": "0f5fb4d5",
   "metadata": {
    "ExecuteTime": {
     "end_time": "2021-08-22T20:32:37.304324Z",
     "start_time": "2021-08-22T20:32:37.208348Z"
    }
   },
   "outputs": [],
   "source": [
    "pprint(ph_info)"
   ]
  },
  {
   "cell_type": "code",
   "execution_count": null,
   "id": "142bc492",
   "metadata": {
    "ExecuteTime": {
     "end_time": "2021-08-22T20:32:38.181863Z",
     "start_time": "2021-08-22T20:32:38.176254Z"
    }
   },
   "outputs": [],
   "source": [
    "ph_info['reviewCount']"
   ]
  },
  {
   "cell_type": "code",
   "execution_count": null,
   "id": "659eb70f",
   "metadata": {
    "ExecuteTime": {
     "end_time": "2021-08-22T20:32:38.767359Z",
     "start_time": "2021-08-22T20:32:38.760024Z"
    }
   },
   "outputs": [],
   "source": [
    "len(ph_info['reviews_detailed'])"
   ]
  },
  {
   "cell_type": "code",
   "execution_count": null,
   "id": "f79421c0",
   "metadata": {
    "ExecuteTime": {
     "end_time": "2021-08-22T20:32:39.239531Z",
     "start_time": "2021-08-22T20:32:39.230924Z"
    }
   },
   "outputs": [],
   "source": [
    "ph_info['blocked_reviews_num']"
   ]
  },
  {
   "cell_type": "code",
   "execution_count": null,
   "id": "da6c7639",
   "metadata": {
    "ExecuteTime": {
     "end_time": "2021-08-22T20:32:39.824749Z",
     "start_time": "2021-08-22T20:32:39.814678Z"
    }
   },
   "outputs": [],
   "source": [
    "len(ph_info['blocked_reviews'])"
   ]
  },
  {
   "cell_type": "code",
   "execution_count": null,
   "id": "758a22ad",
   "metadata": {
    "ExecuteTime": {
     "end_time": "2021-08-22T20:32:40.314486Z",
     "start_time": "2021-08-22T20:32:40.306895Z"
    }
   },
   "outputs": [],
   "source": [
    "ph_info['removed_reviews_num']"
   ]
  },
  {
   "cell_type": "code",
   "execution_count": null,
   "id": "86750c15",
   "metadata": {
    "ExecuteTime": {
     "end_time": "2021-08-22T20:32:41.059240Z",
     "start_time": "2021-08-22T20:32:41.051321Z"
    }
   },
   "outputs": [],
   "source": [
    "len(ph_info['removed_reviews'])"
   ]
  },
  {
   "cell_type": "code",
   "execution_count": null,
   "id": "90ef8580",
   "metadata": {
    "ExecuteTime": {
     "end_time": "2021-08-22T20:40:49.250644Z",
     "start_time": "2021-08-22T20:40:49.245218Z"
    }
   },
   "outputs": [],
   "source": [
    "print([i for i in ph_info])\n"
   ]
  }
 ],
 "metadata": {
  "kernelspec": {
   "display_name": "Python 3 (ipykernel)",
   "language": "python",
   "name": "python3"
  },
  "language_info": {
   "codemirror_mode": {
    "name": "ipython",
    "version": 3
   },
   "file_extension": ".py",
   "mimetype": "text/x-python",
   "name": "python",
   "nbconvert_exporter": "python",
   "pygments_lexer": "ipython3",
   "version": "3.7.10"
  },
  "toc": {
   "base_numbering": 1,
   "nav_menu": {},
   "number_sections": true,
   "sideBar": true,
   "skip_h1_title": false,
   "title_cell": "Table of Contents",
   "title_sidebar": "Contents",
   "toc_cell": false,
   "toc_position": {},
   "toc_section_display": true,
   "toc_window_display": false
  }
 },
 "nbformat": 4,
 "nbformat_minor": 5
}
