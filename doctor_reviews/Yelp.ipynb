{
 "cells": [
  {
   "cell_type": "markdown",
   "id": "77d9abe5",
   "metadata": {},
   "source": [
    "# Focus on One"
   ]
  },
  {
   "cell_type": "code",
   "execution_count": null,
   "id": "e84aaef5",
   "metadata": {
    "ExecuteTime": {
     "end_time": "2021-08-22T21:20:22.109903Z",
     "start_time": "2021-08-22T21:20:22.097704Z"
    }
   },
   "outputs": [],
   "source": [
    "# ph_url = 'https://www.yelp.com/biz/joseph-peck-md-torrance'\n",
    "ph_url = 'https://www.yelp.com/biz/chang-andrew-m-md-northridge'\n",
    "ph_url"
   ]
  },
  {
   "cell_type": "code",
   "execution_count": null,
   "id": "cd61412d",
   "metadata": {
    "ExecuteTime": {
     "end_time": "2021-08-22T21:20:22.835835Z",
     "start_time": "2021-08-22T21:20:22.111899Z"
    }
   },
   "outputs": [],
   "source": [
    "import requests\n",
    "import pandas as pd\n",
    "# from bs4 import BeautifulSoup\n",
    "import re\n",
    "import requests\n",
    "from scrapy.http import TextResponse\n",
    "import json\n",
    "from pprint import pprint\n",
    "\n",
    "# we need headers to disguise our bot as a browser\n",
    "\n",
    "headers = {\n",
    "    \"Connection\": \"keep-alive\",\n",
    "    \"Cache-Control\": \"max-age=0\",\n",
    "    \"Accept\": \"text/html,application/xhtml+xml,application/xml;q=0.9,image/webp,*/*;q=0.8\",\n",
    "    \"User-Agent\": \"Mozilla/5.0 (Windows NT 6.1; WOW64) AppleWebKit/537.36 (KHTML, like Gecko) Chrome/34.0.1847.131 Safari/537.36\",\n",
    "}\n",
    "\n"
   ]
  },
  {
   "cell_type": "code",
   "execution_count": null,
   "id": "5055eb4c",
   "metadata": {
    "ExecuteTime": {
     "end_time": "2021-08-22T21:20:24.777030Z",
     "start_time": "2021-08-22T21:20:22.836825Z"
    }
   },
   "outputs": [],
   "source": [
    "url = ph_url\n",
    "r = requests.get(url, headers = headers)\n",
    "print(r.url)\n",
    "\n",
    "\n",
    "# load the text to scrapy-type response\n",
    "response = TextResponse(r.url, body = r.text, encoding = 'utf-8')\n",
    "\n",
    "# have a look at its body\n",
    "print(str(response.body.decode()))\n",
    "\n",
    "with open('Yelp_Sample.html', 'w') as f:\n",
    "    f.write(str(response.body.decode()))\n"
   ]
  },
  {
   "cell_type": "markdown",
   "id": "cced93e3",
   "metadata": {
    "ExecuteTime": {
     "end_time": "2021-08-19T23:46:09.805727Z",
     "start_time": "2021-08-19T23:46:08.835498Z"
    },
    "scrolled": true
   },
   "source": [
    "# Json Data"
   ]
  },
  {
   "cell_type": "code",
   "execution_count": null,
   "id": "798c4e1c",
   "metadata": {
    "ExecuteTime": {
     "end_time": "2021-08-22T21:20:24.796715Z",
     "start_time": "2021-08-22T21:20:24.780090Z"
    }
   },
   "outputs": [],
   "source": [
    "xpath = './/script//text()'\n",
    "selectors = response.xpath(xpath)\n",
    "js_list = selectors.extract()\n",
    "l = [i for i in js_list]\n",
    "len(l)"
   ]
  },
  {
   "cell_type": "markdown",
   "id": "d8f58efc",
   "metadata": {},
   "source": [
    "## Json 14"
   ]
  },
  {
   "cell_type": "code",
   "execution_count": null,
   "id": "bcd4cf95",
   "metadata": {
    "ExecuteTime": {
     "end_time": "2021-08-22T21:20:24.817723Z",
     "start_time": "2021-08-22T21:20:24.799785Z"
    }
   },
   "outputs": [],
   "source": [
    "idx = 14\n",
    "\n",
    "json_string = [i for i in l if 'mainEntity' in i][0]\n",
    "d = json.loads(json_string)\n",
    "pprint(d)"
   ]
  },
  {
   "cell_type": "markdown",
   "id": "71423a23",
   "metadata": {},
   "source": [
    "## Json 16 (Simple Reviews, drop) "
   ]
  },
  {
   "cell_type": "code",
   "execution_count": null,
   "id": "f5a48b81",
   "metadata": {
    "ExecuteTime": {
     "end_time": "2021-08-22T21:20:24.828688Z",
     "start_time": "2021-08-22T21:20:24.819701Z"
    },
    "scrolled": true
   },
   "outputs": [],
   "source": [
    "idx = 16\n",
    "\n",
    "json_string = [i for i in l if 'aggregateRating' in i][0]\n",
    "d = json.loads(json_string)\n",
    "review1_d = d\n",
    "pprint(review1_d)"
   ]
  },
  {
   "cell_type": "code",
   "execution_count": null,
   "id": "094ca499",
   "metadata": {
    "ExecuteTime": {
     "end_time": "2021-08-22T21:20:24.833273Z",
     "start_time": "2021-08-22T21:20:24.830110Z"
    }
   },
   "outputs": [],
   "source": [
    "# why 20, very interesting\n",
    "review1_d['aggregateRating']\n",
    "\n",
    "\n",
    "reviewCount = review1_d['aggregateRating']['reviewCount']\n",
    "reviewCount"
   ]
  },
  {
   "cell_type": "markdown",
   "id": "339f4739",
   "metadata": {
    "ExecuteTime": {
     "end_time": "2021-08-22T03:41:25.553213Z",
     "start_time": "2021-08-22T03:41:25.550323Z"
    }
   },
   "source": [
    "## Json 19 (Basic Info)"
   ]
  },
  {
   "cell_type": "code",
   "execution_count": null,
   "id": "b9227af2",
   "metadata": {
    "ExecuteTime": {
     "end_time": "2021-08-22T21:20:25.126399Z",
     "start_time": "2021-08-22T21:20:24.834242Z"
    }
   },
   "outputs": [],
   "source": [
    "import html\n",
    "\n",
    "\n",
    "# idx = 20\n",
    "\n",
    "json_string = [i for i in l if 'ROOT_QUERY' in i][0]\n",
    "x = json_string.replace('<!--', '').replace('-->', '')\n",
    "# x = x.replace('&quot;', '\"')\n",
    "x = html.unescape(x)\n",
    "# print(x)\n",
    "\n",
    "x = json.loads(x)\n",
    "# x = json.loads(x)\n",
    "\n",
    "\n",
    "pprint(x)"
   ]
  },
  {
   "cell_type": "code",
   "execution_count": null,
   "id": "26293beb",
   "metadata": {
    "ExecuteTime": {
     "end_time": "2021-08-22T21:20:25.131732Z",
     "start_time": "2021-08-22T21:20:25.127956Z"
    }
   },
   "outputs": [],
   "source": [
    "BusinessPhotos = [x[i]['url({\"size\":\"SQUARE_LARGE\"})'] for i in x if '$BusinessPhoto' in i]\n",
    "BusinessPhotos"
   ]
  },
  {
   "cell_type": "code",
   "execution_count": null,
   "id": "641c1ee9",
   "metadata": {
    "ExecuteTime": {
     "end_time": "2021-08-22T21:20:25.138816Z",
     "start_time": "2021-08-22T21:20:25.136789Z"
    }
   },
   "outputs": [],
   "source": [
    "# [i for i in x]"
   ]
  },
  {
   "cell_type": "code",
   "execution_count": null,
   "id": "eee5d639",
   "metadata": {
    "ExecuteTime": {
     "end_time": "2021-08-22T21:20:25.573248Z",
     "start_time": "2021-08-22T21:20:25.140464Z"
    }
   },
   "outputs": [],
   "source": [
    "root = x['ROOT_QUERY']\n",
    "\n",
    "\n",
    "def decompose_jQuery(d, x):\n",
    "    # d is input dict\n",
    "    # x is the original list\n",
    "    for k, v in d.items():\n",
    "        if not v:\n",
    "            print('Empty v at {}'.format(k))\n",
    "        \n",
    "        elif type(v) == dict:\n",
    "            print('Is a dictionary')\n",
    "            # print(v)\n",
    "            out = decompose_jQuery(v, x)\n",
    "            if type(out) == dict: out = decompose_jQuery(out, x) \n",
    "            d[k] = out\n",
    "        \n",
    "        elif type(v) == list:\n",
    "            if len(v) == sum([type(v_e) == dict for v_e in v]):\n",
    "                print('Is a list of dictionaries')\n",
    "                out_list = []\n",
    "                for v_e in v:\n",
    "                    out = decompose_jQuery(v_e, x) \n",
    "                    if type(out) == dict: out = decompose_jQuery(out, x) \n",
    "                    out_list.append(out)\n",
    "                d[k] = out_list\n",
    "            \n",
    "        elif type(v) == str:\n",
    "            # print('v is a string')\n",
    "            if v[0] == '$':\n",
    "                # print(v)\n",
    "                print(v, 'v is start from $')\n",
    "                d[k] = x[v]\n",
    "            else:\n",
    "                pass\n",
    "        else:\n",
    "            pass\n",
    "            # print('Other Type')\n",
    "            # print('Other Case v at {}'.format(k))\n",
    "    return d\n",
    "\n",
    "root = decompose_jQuery(root, x)\n"
   ]
  },
  {
   "cell_type": "code",
   "execution_count": null,
   "id": "ca2a8566",
   "metadata": {
    "ExecuteTime": {
     "end_time": "2021-08-22T21:20:25.582593Z",
     "start_time": "2021-08-22T21:20:25.577014Z"
    },
    "scrolled": true
   },
   "outputs": [],
   "source": [
    "[# 'loggedInUser',\n",
    " # 'webConsumerFooter',\n",
    " # 'siteConfig',\n",
    " # 'webConsumerFooter({\"baseUrl\":\"https://www.yelp.com/\",\"urlOptions\":{}})',\n",
    " # 'webHeader',\n",
    "#  'mruLocation({\"locationQueryParam\":null})',\n",
    " 'business({\"encid\":\"vUSo8HMkVBiLwBGpFlMmSQ\"})',\n",
    " # 'csrfToken({\"scope\":\"/biz_info_api_v1/vUSo8HMkVBiLwBGpFlMmSQ/biz_pricing/update\"})',\n",
    " # 'csrfToken({\"scope\":\"/biz_info_api_v1/vUSo8HMkVBiLwBGpFlMmSQ/biz_pricing/delete\"})',\n",
    " # 'csrfToken({\"scope\":\"biz_photos_vote_form\"})',\n",
    " # 'country({\"code\":\"US\"})',\n",
    " # 'csrfToken({\"scope\":\"/signup/one_click_google\"})',\n",
    "#  'thirdPartyConfig',\n",
    " 'seoMetadata'\n",
    "]\n",
    "\n",
    "\n",
    "business_col = [i for i in root if 'business' in i][0]\n",
    "business_col\n"
   ]
  },
  {
   "cell_type": "markdown",
   "id": "a7457e78",
   "metadata": {},
   "source": [
    "### Business"
   ]
  },
  {
   "cell_type": "code",
   "execution_count": null,
   "id": "1d0519ac",
   "metadata": {
    "ExecuteTime": {
     "end_time": "2021-08-22T21:20:25.590534Z",
     "start_time": "2021-08-22T21:20:25.585618Z"
    }
   },
   "outputs": [],
   "source": [
    "buzid = root[business_col]['id']\n",
    "# pprint(buz)\n",
    "[i for i in buzid]\n"
   ]
  },
  {
   "cell_type": "code",
   "execution_count": null,
   "id": "8806300a",
   "metadata": {
    "ExecuteTime": {
     "end_time": "2021-08-22T21:20:25.598618Z",
     "start_time": "2021-08-22T21:20:25.594819Z"
    }
   },
   "outputs": [],
   "source": [
    "['verifiedLicenses',\n",
    " # '__typename',\n",
    " 'name',\n",
    " # 'categoryGroups',\n",
    " 'alias',\n",
    " # 'externalResources',\n",
    " 'menuVerbiage',\n",
    " # 'yelpMenu',\n",
    " 'categories',\n",
    " # 'serviceUpdateSummary',\n",
    " 'location',\n",
    " # 'serviceArea',\n",
    " # 'messaging',\n",
    " #'meteredPhoneNumber',\n",
    " 'phoneNumber',\n",
    " # 'shouldHideContactInfoForMultilocationBusinessesExperiment',\n",
    " # 'jobPricing',\n",
    " 'operationHours',\n",
    " 'consumerAlert',\n",
    " # 'organizedProperties({\"clientPlatform\":\"WWW\"})',\n",
    " 'healthInspections',\n",
    " 'isCommunityQuestionsEnabled',\n",
    " 'communityQuestions({\"first\":2})',\n",
    " 'rating',\n",
    " 'authoritativeAttributes',\n",
    " 'containerBusiness',\n",
    " # 'map({\"height\":180,\"width\":315})',\n",
    " # 'map({\"height\":150,\"width\":315})',\n",
    " 'serviceArea({\"userType\":\"consumer\"})',\n",
    " # 'media', 'buzPhoto'\n",
    " 'reviewCount',\n",
    " 'claimability({\"useConsumerClaimability\":true})',\n",
    " 'claimability',\n",
    " 'hasClaimReminderForCurrentUser',\n",
    " 'alternateNames',\n",
    " 'priceRange',\n",
    " 'logo',\n",
    " 'closedUntil',\n",
    " 'primaryPhoto',\n",
    " 'specialties',\n",
    " 'history',\n",
    " # 'reviews({\"first\":20})'\n",
    "]\n",
    "\n",
    "pprint(buzid['history'])"
   ]
  },
  {
   "cell_type": "code",
   "execution_count": null,
   "id": "d38e4706",
   "metadata": {
    "ExecuteTime": {
     "end_time": "2021-08-22T21:20:25.605901Z",
     "start_time": "2021-08-22T21:20:25.601995Z"
    }
   },
   "outputs": [],
   "source": [
    "# pprint(buzid['media'])"
   ]
  },
  {
   "cell_type": "code",
   "execution_count": null,
   "id": "6e4656ee",
   "metadata": {
    "ExecuteTime": {
     "end_time": "2021-08-22T21:20:25.612532Z",
     "start_time": "2021-08-22T21:20:25.608237Z"
    }
   },
   "outputs": [],
   "source": [
    "# pprint(buzid['categoryGroups'])"
   ]
  },
  {
   "cell_type": "code",
   "execution_count": null,
   "id": "6e2bfae4",
   "metadata": {
    "ExecuteTime": {
     "end_time": "2021-08-22T21:20:25.627639Z",
     "start_time": "2021-08-22T21:20:25.616867Z"
    }
   },
   "outputs": [],
   "source": [
    "pprint(buzid['categories'])"
   ]
  },
  {
   "cell_type": "code",
   "execution_count": null,
   "id": "b809d685",
   "metadata": {
    "ExecuteTime": {
     "end_time": "2021-08-22T21:20:25.634920Z",
     "start_time": "2021-08-22T21:20:25.632008Z"
    },
    "scrolled": true
   },
   "outputs": [],
   "source": [
    "pprint(buzid['operationHours'])"
   ]
  },
  {
   "cell_type": "code",
   "execution_count": null,
   "id": "c0702c03",
   "metadata": {
    "ExecuteTime": {
     "end_time": "2021-08-22T21:20:25.641189Z",
     "start_time": "2021-08-22T21:20:25.638974Z"
    }
   },
   "outputs": [],
   "source": [
    "# pprint(buzid['organizedProperties({\"clientPlatform\":\"WWW\"})'])"
   ]
  },
  {
   "cell_type": "code",
   "execution_count": null,
   "id": "5d65cdc4",
   "metadata": {
    "ExecuteTime": {
     "end_time": "2021-08-22T21:20:25.647642Z",
     "start_time": "2021-08-22T21:20:25.644467Z"
    }
   },
   "outputs": [],
   "source": [
    "pprint(buzid['authoritativeAttributes'])"
   ]
  },
  {
   "cell_type": "code",
   "execution_count": null,
   "id": "fecb1bdc",
   "metadata": {
    "ExecuteTime": {
     "end_time": "2021-08-22T21:20:25.654760Z",
     "start_time": "2021-08-22T21:20:25.651346Z"
    }
   },
   "outputs": [],
   "source": [
    "# buzid['reviews({\"first\":20})']"
   ]
  },
  {
   "cell_type": "markdown",
   "id": "b6cd04e2",
   "metadata": {},
   "source": [
    "### SEO MetaData"
   ]
  },
  {
   "cell_type": "code",
   "execution_count": null,
   "id": "6f550b79",
   "metadata": {
    "ExecuteTime": {
     "end_time": "2021-08-22T21:20:25.663905Z",
     "start_time": "2021-08-22T21:20:25.658515Z"
    }
   },
   "outputs": [],
   "source": [
    "# [i for i in root['seoMetadata']]\n",
    "\n",
    "# pprint(\n",
    "seo_id = root['seoMetadata']['id']\n",
    "[i for i in seo_id]\n",
    "# seo_id['__typename']\n",
    "\n",
    "\n",
    "\n",
    "bizDetail_col = [i for i in seo_id if 'bizDetails' in i][0]\n",
    "bizDetails = seo_id[bizDetail_col]\n",
    "# pprint(bizDetails)\n",
    "[i for i in bizDetails]\n"
   ]
  },
  {
   "cell_type": "code",
   "execution_count": null,
   "id": "f1e6ea9e",
   "metadata": {
    "ExecuteTime": {
     "end_time": "2021-08-22T21:20:25.673080Z",
     "start_time": "2021-08-22T21:20:25.668196Z"
    }
   },
   "outputs": [],
   "source": [
    "bizDetails_id = bizDetails['id']\n",
    "# pprint(bizDetails_id)\n",
    "[i for i in bizDetails_id]"
   ]
  },
  {
   "cell_type": "code",
   "execution_count": null,
   "id": "7097fc84",
   "metadata": {
    "ExecuteTime": {
     "end_time": "2021-08-22T21:20:25.682245Z",
     "start_time": "2021-08-22T21:20:25.676918Z"
    }
   },
   "outputs": [],
   "source": [
    "bizDetails_id['pageTitle']"
   ]
  },
  {
   "cell_type": "code",
   "execution_count": null,
   "id": "90646924",
   "metadata": {
    "ExecuteTime": {
     "end_time": "2021-08-22T21:20:25.691694Z",
     "start_time": "2021-08-22T21:20:25.685937Z"
    }
   },
   "outputs": [],
   "source": [
    "bizDetails_id['metaDescription']"
   ]
  },
  {
   "cell_type": "code",
   "execution_count": null,
   "id": "3d7fdd3c",
   "metadata": {
    "ExecuteTime": {
     "end_time": "2021-08-22T21:20:25.700487Z",
     "start_time": "2021-08-22T21:20:25.695479Z"
    }
   },
   "outputs": [],
   "source": [
    "bizDetails_id['canonicalUrl']"
   ]
  },
  {
   "cell_type": "code",
   "execution_count": null,
   "id": "58cac37e",
   "metadata": {
    "ExecuteTime": {
     "end_time": "2021-08-22T21:20:25.706765Z",
     "start_time": "2021-08-22T21:20:25.703567Z"
    }
   },
   "outputs": [],
   "source": [
    "# different language version; meaningless\n",
    "# alternateTags = [x[i['id']] for i in bizDetails_id['alternateTags']]\n",
    "# bizDetails_id['alternateTags']   "
   ]
  },
  {
   "cell_type": "markdown",
   "id": "b376cca8",
   "metadata": {},
   "source": [
    "# Detailed Reviews"
   ]
  },
  {
   "cell_type": "code",
   "execution_count": null,
   "id": "9ce58e6e",
   "metadata": {
    "ExecuteTime": {
     "end_time": "2021-08-22T21:20:25.713153Z",
     "start_time": "2021-08-22T21:20:25.710544Z"
    }
   },
   "outputs": [],
   "source": [
    "encid = [i for i in root if 'business' in i][0]\n",
    "encid = encid.split(':')[-1].split('\"')[1]\n",
    "encid"
   ]
  },
  {
   "cell_type": "code",
   "execution_count": null,
   "id": "4779545a",
   "metadata": {
    "ExecuteTime": {
     "end_time": "2021-08-22T21:20:26.120632Z",
     "start_time": "2021-08-22T21:20:25.713955Z"
    }
   },
   "outputs": [],
   "source": [
    "L = []\n",
    "\n",
    "for i in range(int(reviewCount/10) + 1):\n",
    "    start = i * 10\n",
    "    # print(start)\n",
    "    url = 'https://www.yelp.com/biz/{}/review_feed?rl=en&q=&sort_by=date_desc&start={}'.format(encid, start)\n",
    "    r = requests.get(url, headers = headers)\n",
    "    print(r.url)\n",
    "    # load the text to scrapy-type response\n",
    "    response = TextResponse(r.url, body = r.text, encoding = 'utf-8')\n",
    "\n",
    "    # have a look at its body\n",
    "    # print(str(response.body.decode()))\n",
    "\n",
    "    # with open('Yelp_Sample.html', 'w') as f:\n",
    "    #     f.write(str(response.body.decode()))\n",
    "\n",
    "    reviews = response.json()\n",
    "    # pprint(reviews)\n",
    "    L.extend(reviews['reviews'])\n"
   ]
  },
  {
   "cell_type": "code",
   "execution_count": null,
   "id": "44a20736",
   "metadata": {
    "ExecuteTime": {
     "end_time": "2021-08-22T21:20:26.128945Z",
     "start_time": "2021-08-22T21:20:26.123569Z"
    }
   },
   "outputs": [],
   "source": [
    "len(L)"
   ]
  },
  {
   "cell_type": "markdown",
   "id": "1eb952ae",
   "metadata": {},
   "source": [
    "# Not Recommended Reviews"
   ]
  },
  {
   "cell_type": "code",
   "execution_count": null,
   "id": "e29073c9",
   "metadata": {
    "ExecuteTime": {
     "end_time": "2021-08-22T21:21:26.745315Z",
     "start_time": "2021-08-22T21:21:26.722888Z"
    }
   },
   "outputs": [],
   "source": [
    "def process_reviewxpath(review):\n",
    "\n",
    "\n",
    "    item2xpath = {\n",
    "        'image': './/img[@class=\"photo-box-img\"]/@src',\n",
    "        'user_name': './/*[@class=\"user-display-name\"]/text()',\n",
    "        'user_location':'.//*[@class=\"user-location responsive-hidden-small\"]/b/text()',\n",
    "        'friends':'.//*[@class=\"friend-count responsive-small-display-inline-block\"]//b/text()',\n",
    "        'reviews':'.//*[@class=\"review-count responsive-small-display-inline-block\"]//b/text()',\n",
    "        'rate_score': './/img[@class=\"offscreen\"]/@alt',\n",
    "        'date': './/*[@class=\"rating-qualifier\"]/text()',\n",
    "        'comment': './/p[@lang=\"en\"]//text()',\n",
    "        # 'rate_details':'.//table[@class=\"rating-table\"]//text()', \n",
    "    }\n",
    "\n",
    "\n",
    "\n",
    "    itemselector2value = {\n",
    "        'image': lambda x: x.extract()[0],\n",
    "        'user_name': lambda x: x.extract()[0],\n",
    "        'user_location': lambda x: x.extract()[0],\n",
    "        'friends': lambda x: x.extract()[0],\n",
    "        'reviews': lambda x: x.extract()[0],\n",
    "        'rate_score': lambda x: x.extract()[0],\n",
    "        'date': lambda x: x.extract()[0].strip(),\n",
    "        'comment': lambda x: html.unescape('\\n'.join(x.extract())).replace('\\xa0',''),\n",
    "        # 'rate_score': lambda x: float(x.extract()[0]), \n",
    "        # 'rate_num': lambda x: int(x.extract()[1]), \n",
    "        # 'rate_details': lambda x: x.extract(), \n",
    "    }\n",
    "\n",
    "\n",
    "    d = {}\n",
    "    for item, xpath in item2xpath.items():\n",
    "        # print('\\n')\n",
    "        # print(item)\n",
    "        selectors = review.xpath(xpath)#.extract()\n",
    "        values = itemselector2value[item](selectors)\n",
    "        d[item] = values\n",
    "        # print(values)\n",
    "        \n",
    "        \n",
    "    return d\n",
    "\n",
    "\n",
    "def process_xpath(response):\n",
    "\n",
    "\n",
    "    item2xpath = {\n",
    "        'blocked_summary': './/*[@class=\"ysection not-recommended-reviews review-list-wide\"]/h3/text()',\n",
    "        'blocked_reviews': './/*[@class=\"ysection not-recommended-reviews review-list-wide\"]//*[@class=\"review review--with-sidebar\"]',\n",
    "        \n",
    "        'removed_summary': './/*[@class=\"ysection removed-reviews\"]/h3/text()',\n",
    "        'removed_reviews': './/*[@class=\"ysection removed-reviews\"]//*[@class=\"review review--with-sidebar\"]',\n",
    "    }\n",
    "\n",
    "\n",
    "\n",
    "    itemselector2value = {\n",
    "        'blocked_summary': lambda x: int(x.extract()[0].strip().split(' ')[0]),\n",
    "        'blocked_reviews': lambda x: [process_reviewxpath(review) for review in x],\n",
    "        'removed_summary': lambda x: int(x.extract()[0].strip().split(' ')[0]) if len(x) == 1 else 0,\n",
    "        'removed_reviews': lambda x: [process_reviewxpath(review) for review in x],\n",
    "    }\n",
    "\n",
    "\n",
    "    d = {}\n",
    "    for item, xpath in item2xpath.items():\n",
    "        # print('\\n')\n",
    "        # print(item)\n",
    "        selectors = response.xpath(xpath)#.extract()\n",
    "        values = itemselector2value[item](selectors)\n",
    "        d[item] = values\n",
    "        # print(values)\n",
    "        \n",
    "        \n",
    "    return d"
   ]
  },
  {
   "cell_type": "code",
   "execution_count": null,
   "id": "5334dd94",
   "metadata": {
    "ExecuteTime": {
     "end_time": "2021-08-22T21:21:27.811821Z",
     "start_time": "2021-08-22T21:21:27.079094Z"
    }
   },
   "outputs": [],
   "source": [
    "def get_blocked_reviews_from_ph_url(ph_url):\n",
    "\n",
    "    doc_name = ph_url.split('/')[-1]\n",
    "\n",
    "    start = 0\n",
    "\n",
    "    url = 'https://www.yelp.com/not_recommended_reviews/{}?not_recommended_start={}'.format(doc_name, start)\n",
    "    r = requests.get(url, headers = headers)\n",
    "    print(r.url)\n",
    "    # load the text to scrapy-type response\n",
    "    response = TextResponse(r.url, body = r.text, encoding = 'utf-8')\n",
    "\n",
    "\n",
    "    d = process_xpath(response)\n",
    "    blocked_reviews_num = int(d['blocked_summary'])\n",
    "    if blocked_reviews_num <= 10:\n",
    "        return d\n",
    "    else:\n",
    "        for i in range(1, int((blocked_reviews_num-1)/10) + 1):\n",
    "            start = i*10\n",
    "            print(start)\n",
    "            url = 'https://www.yelp.com/not_recommended_reviews/{}?not_recommended_start={}'.format(doc_name, start)\n",
    "            r = requests.get(url, headers = headers)\n",
    "            print(r.url)\n",
    "            # load the text to scrapy-type response\n",
    "            response = TextResponse(r.url, body = r.text, encoding = 'utf-8')\n",
    "            new_d = process_xpath(response)\n",
    "            d['blocked_reviews'] += new_d['blocked_reviews']\n",
    "            # d['removed_reviews'] += new_d['removed_reviews']\n",
    "            # print()\n",
    "            # print(new_d['removed_reviews'])\n",
    "        return d\n",
    "\n",
    "\n",
    "print(ph_url)\n",
    "d = get_blocked_reviews_from_ph_url(ph_url)"
   ]
  },
  {
   "cell_type": "code",
   "execution_count": null,
   "id": "e48ad03b",
   "metadata": {
    "ExecuteTime": {
     "end_time": "2021-08-22T21:21:27.907221Z",
     "start_time": "2021-08-22T21:21:27.899919Z"
    }
   },
   "outputs": [],
   "source": [
    "len(d['blocked_reviews'])"
   ]
  },
  {
   "cell_type": "code",
   "execution_count": null,
   "id": "a2ac4f07",
   "metadata": {
    "ExecuteTime": {
     "end_time": "2021-08-22T21:21:28.615414Z",
     "start_time": "2021-08-22T21:21:28.609397Z"
    }
   },
   "outputs": [],
   "source": [
    "len(d['removed_reviews'])"
   ]
  },
  {
   "cell_type": "markdown",
   "id": "564832cd",
   "metadata": {},
   "source": [
    "# All In One"
   ]
  },
  {
   "cell_type": "code",
   "execution_count": null,
   "id": "9ef1e95a",
   "metadata": {
    "ExecuteTime": {
     "end_time": "2021-08-22T21:21:32.190031Z",
     "start_time": "2021-08-22T21:21:32.138096Z"
    }
   },
   "outputs": [],
   "source": [
    "import os\n",
    "import requests\n",
    "import pandas as pd\n",
    "import time\n",
    "import requests\n",
    "from scrapy.http import TextResponse\n",
    "import json\n",
    "import html\n",
    "import argparse\n",
    "import random\n",
    "from datetime import datetime\n",
    "\n",
    "\n",
    "\n",
    "# we need headers to disguise our bot as a browser\n",
    "\n",
    "headers = {\n",
    "    \"Connection\": \"keep-alive\",\n",
    "    \"Cache-Control\": \"max-age=0\",\n",
    "    \"Accept\": \"text/html,application/xhtml+xml,application/xml;q=0.9,image/webp,*/*;q=0.8\",\n",
    "    \"User-Agent\": \"Mozilla/5.0 (Windows NT 6.1; WOW64) AppleWebKit/537.36 (KHTML, like Gecko) Chrome/34.0.1847.131 Safari/537.36\",\n",
    "}\n",
    "\n",
    "\n",
    "\n",
    "def decompose_jQuery(d, x):\n",
    "    # d is input dict; x is the original list\n",
    "    for k, v in d.items():\n",
    "        if not v:\n",
    "            # print('Empty v at {}'.format(k))\n",
    "            pass\n",
    "        \n",
    "        elif type(v) == dict:\n",
    "            # print('Is a dictionary')\n",
    "            out = decompose_jQuery(v, x)\n",
    "            if type(out) == dict: out = decompose_jQuery(out, x) \n",
    "            d[k] = out\n",
    "        \n",
    "        elif type(v) == list:\n",
    "            if len(v) == sum([type(v_e) == dict for v_e in v]):\n",
    "                # print('Is a list of dictionaries')\n",
    "                out_list = []\n",
    "                for v_e in v:\n",
    "                    out = decompose_jQuery(v_e, x) \n",
    "                    if type(out) == dict: out = decompose_jQuery(out, x) \n",
    "                    out_list.append(out)\n",
    "                d[k] = out_list\n",
    "            \n",
    "        elif type(v) == str:\n",
    "            # print('v is a string')\n",
    "            if v[0] == '$':\n",
    "                # print(v)\n",
    "                # print(v, 'v is start from $')\n",
    "                d[k] = x[v]\n",
    "            else:\n",
    "                pass\n",
    "        else:\n",
    "            pass\n",
    "        \n",
    "    return d\n",
    "\n",
    "\n",
    "def process_reviewxpath(review):\n",
    "\n",
    "    item2xpath = {\n",
    "        'image': './/img[@class=\"photo-box-img\"]/@src',\n",
    "        'user_name': './/*[@class=\"user-display-name\"]/text()',\n",
    "        'user_location':'.//*[@class=\"user-location responsive-hidden-small\"]/b/text()',\n",
    "        'friends':'.//*[@class=\"friend-count responsive-small-display-inline-block\"]//b/text()',\n",
    "        'reviews':'.//*[@class=\"review-count responsive-small-display-inline-block\"]//b/text()',\n",
    "        'rate_score': './/img[@class=\"offscreen\"]/@alt',\n",
    "        'date': './/*[@class=\"rating-qualifier\"]/text()',\n",
    "        'comment': './/p[@lang=\"en\"]//text()',\n",
    "    }\n",
    "\n",
    "    itemselector2value = {\n",
    "        'image': lambda x: x.extract()[0],\n",
    "        'user_name': lambda x: x.extract()[0],\n",
    "        'user_location': lambda x: x.extract()[0],\n",
    "        'friends': lambda x: x.extract()[0],\n",
    "        'reviews': lambda x: x.extract()[0],\n",
    "        'rate_score': lambda x: x.extract()[0],\n",
    "        'date': lambda x: x.extract()[0].strip(),\n",
    "        'comment': lambda x: html.unescape('\\n'.join(x.extract())).replace('\\xa0',''),\n",
    "    }\n",
    "\n",
    "    d = {}\n",
    "    for item, xpath in item2xpath.items():\n",
    "        # print('\\n')\n",
    "        # print(item)\n",
    "        selectors = review.xpath(xpath)#.extract()\n",
    "        values = itemselector2value[item](selectors)\n",
    "        d[item] = values\n",
    "        # print(values)\n",
    "        \n",
    "        \n",
    "    return d\n",
    "\n",
    "\n",
    "def process_xpath(response):\n",
    "    item2xpath = {\n",
    "        'blocked_reviews_num': './/*[@class=\"ysection not-recommended-reviews review-list-wide\"]/h3/text()',\n",
    "        'blocked_reviews': './/*[@class=\"ysection not-recommended-reviews review-list-wide\"]//*[@class=\"review review--with-sidebar\"]',\n",
    "        'removed_reviews_num': './/*[@class=\"ysection removed-reviews\"]/h3/text()',\n",
    "        'removed_reviews': './/*[@class=\"ysection removed-reviews\"]//*[@class=\"review review--with-sidebar\"]',\n",
    "    }\n",
    "\n",
    "\n",
    "    itemselector2value = {\n",
    "        'blocked_reviews_num': lambda x: int(x.extract()[0].strip().split(' ')[0]),\n",
    "        'blocked_reviews': lambda x: [process_reviewxpath(review) for review in x],\n",
    "        'removed_reviews_num': lambda x: int(x.extract()[0].strip().split(' ')[0]) if len(x) == 1 else 0,\n",
    "        'removed_reviews': lambda x: [process_reviewxpath(review) for review in x],\n",
    "    }\n",
    "\n",
    "\n",
    "    d = {}\n",
    "    for item, xpath in item2xpath.items():\n",
    "        # print('\\n')\n",
    "        # print(item)\n",
    "        selectors = response.xpath(xpath)#.extract()\n",
    "        values = itemselector2value[item](selectors)\n",
    "        d[item] = values\n",
    "        # print(values)\n",
    "    return d\n",
    "\n",
    "\n",
    "def get_blocked_reviews_from_ph_url(ph_url):\n",
    "    doc_name = ph_url.split('/')[-1]\n",
    "    start = 0\n",
    "    url = 'https://www.yelp.com/not_recommended_reviews/{}?not_recommended_start={}'.format(doc_name, start)\n",
    "    r = requests.get(url, headers = headers)\n",
    "    print(r.url)\n",
    "    # load the text to scrapy-type response\n",
    "    response = TextResponse(r.url, body = r.text, encoding = 'utf-8')\n",
    "\n",
    "\n",
    "    d = process_xpath(response)\n",
    "    blocked_reviews_num = int(d['blocked_reviews_num'])\n",
    "    if blocked_reviews_num <= 10:\n",
    "        return d\n",
    "    else:\n",
    "        for i in range(1, int((blocked_reviews_num-1)/10) + 1):\n",
    "            start = i*10\n",
    "            # print(start)\n",
    "            url = 'https://www.yelp.com/not_recommended_reviews/{}?not_recommended_start={}'.format(doc_name, start)\n",
    "            r = requests.get(url, headers = headers)\n",
    "            print(r.url)\n",
    "            # load the text to scrapy-type response\n",
    "            response = TextResponse(r.url, body = r.text, encoding = 'utf-8')\n",
    "            new_d = process_xpath(response)\n",
    "            d['blocked_reviews'] += new_d['blocked_reviews']\n",
    "            # d['removed_reviews'] += new_d['removed_reviews']\n",
    "            # print()\n",
    "            # print(new_d['removed_reviews'])\n",
    "        return d\n",
    "\n",
    "\n",
    "def get_physician_info_from_yelp_url(ph_url):\n",
    "\n",
    "    physician_info = {}\n",
    "    \n",
    "    # profile url\n",
    "    url = ph_url\n",
    "    r = requests.get(url, headers = headers)\n",
    "    response = TextResponse(r.url, body = r.text, encoding = 'utf-8')\n",
    "    xpath = './/script//text()'\n",
    "    selectors = response.xpath(xpath)\n",
    "    js_list = selectors.extract()\n",
    "    l = [i for i in js_list]\n",
    "\n",
    "    # aim 1: get common questions\n",
    "    # idx = 14\n",
    "    # json_string = l[idx]\n",
    "    json_string = [i for i in l if 'mainEntity' in i][0]\n",
    "    try:\n",
    "        d = json.loads(json_string)\n",
    "        physician_info['Questions'] = d\n",
    "    except:\n",
    "        print(json_string)\n",
    "\n",
    "\n",
    "    # aim 2: get reviewCount\n",
    "    # idx = 16\n",
    "    # json_string = l[idx]\n",
    "    json_string = [i for i in l if 'aggregateRating' in i][0]\n",
    "    d = json.loads(json_string)\n",
    "    review1_d = d\n",
    "    # pprint(review1_d)\n",
    "    reviewCount = review1_d['aggregateRating']['reviewCount']\n",
    "    physician_info['reviewCount'] = reviewCount\n",
    "\n",
    "\n",
    "    # aim 3: get physician basic information\n",
    "    # idx = 19\n",
    "    # json_string = l[idx]\n",
    "    json_string = [i for i in l if 'ROOT_QUERY' in i][0]\n",
    "    x = json_string.replace('<!--', '').replace('-->', '')\n",
    "    # x = x.replace('&quot;', '\"')\n",
    "    x = html.unescape(x)\n",
    "    # print(x)\n",
    "    x = json.loads(x)\n",
    "\n",
    "    # aim 3.1: business photos\n",
    "    BusinessPhotos = [x[i]['url({\"size\":\"SQUARE_LARGE\"})'] for i in x if '$BusinessPhoto' in i]\n",
    "    physician_info['BusinessPhotos'] = BusinessPhotos\n",
    "\n",
    "    # aim 3.2: get buzid info\n",
    "    root = x['ROOT_QUERY']\n",
    "    root = decompose_jQuery(root, x)\n",
    "    business_col = [i for i in root if 'business' in i][0]\n",
    "    buzid = root[business_col]['id']\n",
    "\n",
    "    cols = ['verifiedLicenses',\n",
    "    # '__typename',\n",
    "    'name',\n",
    "    # 'categoryGroups',\n",
    "    'alias',\n",
    "    # 'externalResources',\n",
    "    'menuVerbiage',\n",
    "    # 'yelpMenu',\n",
    "    'categories',\n",
    "    # 'serviceUpdateSummary',\n",
    "    'location',\n",
    "    # 'serviceArea',\n",
    "    # 'messaging',\n",
    "    #'meteredPhoneNumber',\n",
    "    'phoneNumber',\n",
    "    # 'shouldHideContactInfoForMultilocationBusinessesExperiment',\n",
    "    # 'jobPricing',\n",
    "    'operationHours',\n",
    "    'consumerAlert',\n",
    "    # 'organizedProperties({\"clientPlatform\":\"WWW\"})',\n",
    "    'healthInspections',\n",
    "    'isCommunityQuestionsEnabled',\n",
    "    'communityQuestions({\"first\":2})',\n",
    "    'rating',\n",
    "    'authoritativeAttributes',\n",
    "    'containerBusiness',\n",
    "    # 'map({\"height\":180,\"width\":315})',\n",
    "    # 'map({\"height\":150,\"width\":315})',\n",
    "    'serviceArea({\"userType\":\"consumer\"})',\n",
    "    # 'media', 'buzPhoto'\n",
    "    'reviewCount',\n",
    "    'claimability({\"useConsumerClaimability\":true})',\n",
    "    'claimability',\n",
    "    'hasClaimReminderForCurrentUser',\n",
    "    'alternateNames',\n",
    "    'priceRange',\n",
    "    'logo',\n",
    "    'closedUntil',\n",
    "    'primaryPhoto',\n",
    "    'specialties',\n",
    "    'history',]\n",
    "\n",
    "    for col in cols:\n",
    "        physician_info[col] = buzid[col]\n",
    "\n",
    "    # aim 3.3: get seo info \n",
    "    seo_id = root['seoMetadata']['id']\n",
    "    # [i for i in seo_id]\n",
    "    # seo_id['__typename']\n",
    "    bizDetail_col = [i for i in seo_id if 'bizDetails' in i][0]\n",
    "    bizDetails = seo_id[bizDetail_col]\n",
    "\n",
    "    bizDetails_id = bizDetails['id']\n",
    "\n",
    "    cols_second = ['pageTitle', 'metaDescription' ]\n",
    "    for col in cols_second:\n",
    "        physician_info[col] = bizDetails_id[col]\n",
    "\n",
    "    # aim 4: get encid and good reviews\n",
    "    encid = [i for i in root if 'business' in i][0]\n",
    "    encid = encid.split(':')[-1].split('\"')[1]\n",
    "    physician_info['encid'] = encid\n",
    "    \n",
    "    L = []\n",
    "    for i in range(int((reviewCount -1 )/10) + 1):\n",
    "        start = i * 10\n",
    "        url = 'https://www.yelp.com/biz/{}/review_feed?rl=en&q=&sort_by=date_desc&start={}'.format(encid, start)\n",
    "        r = requests.get(url, headers = headers)\n",
    "        print(r.url)\n",
    "        # load the text to scrapy-type response\n",
    "        response = TextResponse(r.url, body = r.text, encoding = 'utf-8')\n",
    "\n",
    "        reviews = response.json()\n",
    "        L.extend(reviews['reviews'])\n",
    "\n",
    "    physician_info['reviews_detailed'] = L\n",
    "\n",
    "    # aim 5: get blocked reivews\n",
    "    d = get_blocked_reviews_from_ph_url(ph_url)\n",
    "    for k, v in d.items(): physician_info[k] = v\n",
    "    \n",
    "    return physician_info\n"
   ]
  },
  {
   "cell_type": "code",
   "execution_count": null,
   "id": "1eb1bc13",
   "metadata": {
    "ExecuteTime": {
     "end_time": "2021-08-22T21:21:38.889032Z",
     "start_time": "2021-08-22T21:21:37.025783Z"
    }
   },
   "outputs": [],
   "source": [
    "ph_url = 'https://www.yelp.com/biz/joseph-peck-md-torrance' # many reviews \n",
    "ph_url = 'https://www.yelp.com/biz/integrated-pain-management-tarzana-6' # a few reviews\n",
    "ph_url = 'https://www.yelp.com/biz/michael-shabtai-md-northridge?page_src=related_bizes' # even fewer reviews\n",
    "\n",
    "ph_info = get_physician_info_from_yelp_url(ph_url)"
   ]
  },
  {
   "cell_type": "code",
   "execution_count": null,
   "id": "930d199d",
   "metadata": {
    "ExecuteTime": {
     "end_time": "2021-08-22T21:21:45.429772Z",
     "start_time": "2021-08-22T21:21:45.333523Z"
    }
   },
   "outputs": [],
   "source": [
    "pprint(ph_info)"
   ]
  },
  {
   "cell_type": "code",
   "execution_count": null,
   "id": "5b4ca424",
   "metadata": {
    "ExecuteTime": {
     "end_time": "2021-08-22T21:21:45.957308Z",
     "start_time": "2021-08-22T21:21:45.949555Z"
    }
   },
   "outputs": [],
   "source": [
    "\n",
    "print('Good    Reviews: reported {} vs collected {}'.format(ph_info['reviewCount'], len(ph_info['reviews_detailed'])))\n",
    "print('Blocked Reviews: reported {} vs collected {}'.format(ph_info['blocked_reviews_num'], len(ph_info['blocked_reviews'])))\n",
    "print('Removed Reviews: reported {} vs collected {}'.format(ph_info['removed_reviews_num'], len(ph_info['removed_reviews'])))\n"
   ]
  }
 ],
 "metadata": {
  "kernelspec": {
   "display_name": "Python 3 (ipykernel)",
   "language": "python",
   "name": "python3"
  },
  "language_info": {
   "codemirror_mode": {
    "name": "ipython",
    "version": 3
   },
   "file_extension": ".py",
   "mimetype": "text/x-python",
   "name": "python",
   "nbconvert_exporter": "python",
   "pygments_lexer": "ipython3",
   "version": "3.7.10"
  },
  "toc": {
   "base_numbering": 1,
   "nav_menu": {},
   "number_sections": true,
   "sideBar": true,
   "skip_h1_title": false,
   "title_cell": "Table of Contents",
   "title_sidebar": "Contents",
   "toc_cell": false,
   "toc_position": {},
   "toc_section_display": true,
   "toc_window_display": false
  }
 },
 "nbformat": 4,
 "nbformat_minor": 5
}
