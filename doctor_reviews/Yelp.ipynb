{
 "cells": [
  {
   "cell_type": "markdown",
   "id": "77d9abe5",
   "metadata": {},
   "source": [
    "# Focus on One"
   ]
  },
  {
   "cell_type": "code",
   "execution_count": null,
   "id": "773167e3",
   "metadata": {
    "ExecuteTime": {
     "end_time": "2021-08-23T01:50:18.053932Z",
     "start_time": "2021-08-23T01:50:18.043036Z"
    }
   },
   "outputs": [],
   "source": [
    "# ph_url = 'https://www.yelp.com/biz/joseph-peck-md-torrance'\n",
    "ph_url = 'https://www.yelp.com/biz/chang-andrew-m-md-northridge'\n",
    "# ph_url = 'https://www.yelp.com/biz/facial-aesthetic-concepts-san-clemente-2'\n",
    "# ph_url = 'https://www.yelp.com/biz/michael-a-torres-md-baltimore'\n",
    "ph_url"
   ]
  },
  {
   "cell_type": "code",
   "execution_count": null,
   "id": "fef8be23",
   "metadata": {
    "ExecuteTime": {
     "end_time": "2021-08-23T01:50:18.790725Z",
     "start_time": "2021-08-23T01:50:18.055676Z"
    }
   },
   "outputs": [],
   "source": [
    "import requests\n",
    "import pandas as pd\n",
    "# from bs4 import BeautifulSoup\n",
    "import re\n",
    "import requests\n",
    "from scrapy.http import TextResponse\n",
    "import json\n",
    "from pprint import pprint\n",
    "\n",
    "# we need headers to disguise our bot as a browser\n",
    "\n",
    "headers = {\n",
    "    \"Connection\": \"keep-alive\",\n",
    "    \"Cache-Control\": \"max-age=0\",\n",
    "    \"Accept\": \"text/html,application/xhtml+xml,application/xml;q=0.9,image/webp,*/*;q=0.8\",\n",
    "    \"User-Agent\": \"Mozilla/5.0 (Windows NT 6.1; WOW64) AppleWebKit/537.36 (KHTML, like Gecko) Chrome/34.0.1847.131 Safari/537.36\",\n",
    "}\n",
    "\n"
   ]
  },
  {
   "cell_type": "code",
   "execution_count": null,
   "id": "5055eb4c",
   "metadata": {
    "ExecuteTime": {
     "end_time": "2021-08-23T01:50:19.922976Z",
     "start_time": "2021-08-23T01:50:18.791660Z"
    }
   },
   "outputs": [],
   "source": [
    "url = ph_url\n",
    "r = requests.get(url, headers = headers)\n",
    "print(r.url)\n",
    "\n",
    "\n",
    "# load the text to scrapy-type response\n",
    "response = TextResponse(r.url, body = r.text, encoding = 'utf-8')\n",
    "\n",
    "# have a look at its body\n",
    "print(str(response.body.decode()))\n",
    "\n",
    "# with open('Yelp_Sample.html', 'w') as f:\n",
    "#     f.write(str(response.body.decode()))\n"
   ]
  },
  {
   "cell_type": "markdown",
   "id": "bcd154e6",
   "metadata": {
    "ExecuteTime": {
     "end_time": "2021-08-19T23:46:09.805727Z",
     "start_time": "2021-08-19T23:46:08.835498Z"
    },
    "scrolled": true
   },
   "source": [
    "# Json Data"
   ]
  },
  {
   "cell_type": "code",
   "execution_count": null,
   "id": "791697c2",
   "metadata": {
    "ExecuteTime": {
     "end_time": "2021-08-23T01:50:19.946762Z",
     "start_time": "2021-08-23T01:50:19.926265Z"
    }
   },
   "outputs": [],
   "source": [
    "xpath = './/script//text()'\n",
    "selectors = response.xpath(xpath)\n",
    "js_list = selectors.extract()\n",
    "l = [i for i in js_list]\n",
    "len(l)"
   ]
  },
  {
   "cell_type": "markdown",
   "id": "4a08cdbe",
   "metadata": {},
   "source": [
    "## Json 14"
   ]
  },
  {
   "cell_type": "code",
   "execution_count": null,
   "id": "7662d2dd",
   "metadata": {
    "ExecuteTime": {
     "end_time": "2021-08-23T01:50:19.966838Z",
     "start_time": "2021-08-23T01:50:19.958801Z"
    }
   },
   "outputs": [],
   "source": [
    "# idx = 14\n",
    "json_list = [i for i in l if 'mainEntity' in i]\n",
    "if len(json_list) == 1:\n",
    "    json_string = json_list[0]\n",
    "    # json_string = l[idx]\n",
    "    d = json.loads(json_string)\n",
    "else:\n",
    "    d = {}\n",
    "    \n",
    "d"
   ]
  },
  {
   "cell_type": "markdown",
   "id": "e8d13bcb",
   "metadata": {},
   "source": [
    "## Json 16 (Simple Reviews, drop) "
   ]
  },
  {
   "cell_type": "code",
   "execution_count": null,
   "id": "43a01119",
   "metadata": {
    "ExecuteTime": {
     "end_time": "2021-08-23T01:50:19.972954Z",
     "start_time": "2021-08-23T01:50:19.967904Z"
    },
    "scrolled": true
   },
   "outputs": [],
   "source": [
    "# aim 2: get reviewCount\n",
    "json_list = [i for i in l if 'LocalBusiness' in i and 'name' in i]\n",
    "if len(json_list) == 1:\n",
    "    json_string = json_list[0]\n",
    "    d = json.loads(json_string)\n",
    "    if 'aggregateRating' in d:\n",
    "        reviewCount = d['aggregateRating']['reviewCount']\n",
    "    else:\n",
    "        reviewCount = 0\n",
    "else:\n",
    "    reviewCount = 0\n",
    "\n",
    "reviewCount"
   ]
  },
  {
   "cell_type": "markdown",
   "id": "00920502",
   "metadata": {
    "ExecuteTime": {
     "end_time": "2021-08-22T03:41:25.553213Z",
     "start_time": "2021-08-22T03:41:25.550323Z"
    }
   },
   "source": [
    "## Json 19 (Basic Info)"
   ]
  },
  {
   "cell_type": "code",
   "execution_count": null,
   "id": "327b12f2",
   "metadata": {
    "ExecuteTime": {
     "end_time": "2021-08-23T01:50:20.285383Z",
     "start_time": "2021-08-23T01:50:19.973999Z"
    }
   },
   "outputs": [],
   "source": [
    "import html\n",
    "\n",
    "\n",
    "# idx = 20\n",
    "\n",
    "json_string = [i for i in l if 'ROOT_QUERY' in i][0]\n",
    "x = json_string.replace('<!--', '').replace('-->', '')\n",
    "# x = x.replace('&quot;', '\"')\n",
    "x = html.unescape(x)\n",
    "# print(x)\n",
    "\n",
    "x = json.loads(x)\n",
    "# x = json.loads(x)\n",
    "\n",
    "\n",
    "pprint(x)"
   ]
  },
  {
   "cell_type": "code",
   "execution_count": null,
   "id": "6ef39132",
   "metadata": {
    "ExecuteTime": {
     "end_time": "2021-08-23T01:50:20.290257Z",
     "start_time": "2021-08-23T01:50:20.286749Z"
    }
   },
   "outputs": [],
   "source": [
    "BusinessPhotos = [[i for i in x[i].values() if 'http' in i]  for i in x if '$BusinessPhoto' in i]\n",
    "BusinessPhotos = [i[0] for i in BusinessPhotos  if len(i) == 1] \n",
    "BusinessPhotos"
   ]
  },
  {
   "cell_type": "code",
   "execution_count": null,
   "id": "f7c07219",
   "metadata": {
    "ExecuteTime": {
     "end_time": "2021-08-23T01:50:20.293409Z",
     "start_time": "2021-08-23T01:50:20.291540Z"
    }
   },
   "outputs": [],
   "source": [
    "# [i for i in x]"
   ]
  },
  {
   "cell_type": "code",
   "execution_count": null,
   "id": "975485e6",
   "metadata": {
    "ExecuteTime": {
     "end_time": "2021-08-23T01:50:20.699092Z",
     "start_time": "2021-08-23T01:50:20.298667Z"
    }
   },
   "outputs": [],
   "source": [
    "root = x['ROOT_QUERY']\n",
    "\n",
    "\n",
    "def decompose_jQuery(d, x):\n",
    "    # d is input dict\n",
    "    # x is the original list\n",
    "    for k, v in d.items():\n",
    "        if not v:\n",
    "            # print('Empty v at {}'.format(k))\n",
    "            pass\n",
    "        \n",
    "        elif type(v) == dict:\n",
    "            print('Is a dictionary')\n",
    "            # print(v)\n",
    "            out = decompose_jQuery(v, x)\n",
    "            if type(out) == dict: out = decompose_jQuery(out, x) \n",
    "            d[k] = out\n",
    "        \n",
    "        elif type(v) == list:\n",
    "            if len(v) == sum([type(v_e) == dict for v_e in v]):\n",
    "                print('Is a list of dictionaries')\n",
    "                out_list = []\n",
    "                for v_e in v:\n",
    "                    out = decompose_jQuery(v_e, x) \n",
    "                    if type(out) == dict: out = decompose_jQuery(out, x) \n",
    "                    out_list.append(out)\n",
    "                d[k] = out_list\n",
    "            \n",
    "        elif type(v) == str:\n",
    "            # print('v is a string')\n",
    "            if v[0] == '$' and v in x:\n",
    "                # print(v)\n",
    "                # if v == '$ROOT_QUERY.seoMetadata':\n",
    "                #     print(v)\n",
    "                print(v, 'v is start from $')\n",
    "                d[k] = x[v]\n",
    "            else:\n",
    "                pass\n",
    "        else:\n",
    "            pass\n",
    "            # print('Other Type')\n",
    "            # print('Other Case v at {}'.format(k))\n",
    "    return d\n",
    "\n",
    "root = decompose_jQuery(root, x)\n"
   ]
  },
  {
   "cell_type": "code",
   "execution_count": null,
   "id": "0f3a2cbf",
   "metadata": {
    "ExecuteTime": {
     "end_time": "2021-08-23T01:50:20.710121Z",
     "start_time": "2021-08-23T01:50:20.700676Z"
    }
   },
   "outputs": [],
   "source": [
    "[i for i in root]\n",
    "\n",
    "root['seoMetadata']"
   ]
  },
  {
   "cell_type": "code",
   "execution_count": null,
   "id": "8818f4d3",
   "metadata": {
    "ExecuteTime": {
     "end_time": "2021-08-23T01:50:20.721672Z",
     "start_time": "2021-08-23T01:50:20.712026Z"
    }
   },
   "outputs": [],
   "source": [
    "x['$ROOT_QUERY.seoMetadata']"
   ]
  },
  {
   "cell_type": "code",
   "execution_count": null,
   "id": "1e262e8e",
   "metadata": {
    "ExecuteTime": {
     "end_time": "2021-08-23T01:50:20.728295Z",
     "start_time": "2021-08-23T01:50:20.723443Z"
    },
    "scrolled": true
   },
   "outputs": [],
   "source": [
    "[# 'loggedInUser',\n",
    " # 'webConsumerFooter',\n",
    " # 'siteConfig',\n",
    " # 'webConsumerFooter({\"baseUrl\":\"https://www.yelp.com/\",\"urlOptions\":{}})',\n",
    " # 'webHeader',\n",
    "#  'mruLocation({\"locationQueryParam\":null})',\n",
    " 'business({\"encid\":\"vUSo8HMkVBiLwBGpFlMmSQ\"})',\n",
    " # 'csrfToken({\"scope\":\"/biz_info_api_v1/vUSo8HMkVBiLwBGpFlMmSQ/biz_pricing/update\"})',\n",
    " # 'csrfToken({\"scope\":\"/biz_info_api_v1/vUSo8HMkVBiLwBGpFlMmSQ/biz_pricing/delete\"})',\n",
    " # 'csrfToken({\"scope\":\"biz_photos_vote_form\"})',\n",
    " # 'country({\"code\":\"US\"})',\n",
    " # 'csrfToken({\"scope\":\"/signup/one_click_google\"})',\n",
    "#  'thirdPartyConfig',\n",
    " 'seoMetadata'\n",
    "]\n",
    "\n",
    "\n",
    "business_col = [i for i in root if 'business' in i][0]\n",
    "business_col\n"
   ]
  },
  {
   "cell_type": "markdown",
   "id": "9cf525d3",
   "metadata": {},
   "source": [
    "### Business"
   ]
  },
  {
   "cell_type": "code",
   "execution_count": null,
   "id": "f0f78f63",
   "metadata": {
    "ExecuteTime": {
     "end_time": "2021-08-23T01:50:20.735113Z",
     "start_time": "2021-08-23T01:50:20.730890Z"
    }
   },
   "outputs": [],
   "source": [
    "buzid = root[business_col]['id']\n",
    "# pprint(buz)\n",
    "[i for i in buzid]\n"
   ]
  },
  {
   "cell_type": "code",
   "execution_count": null,
   "id": "c47795e2",
   "metadata": {
    "ExecuteTime": {
     "end_time": "2021-08-23T01:50:20.741905Z",
     "start_time": "2021-08-23T01:50:20.737470Z"
    }
   },
   "outputs": [],
   "source": [
    "['verifiedLicenses',\n",
    " # '__typename',\n",
    " 'name',\n",
    " # 'categoryGroups',\n",
    " 'alias',\n",
    " # 'externalResources',\n",
    " 'menuVerbiage',\n",
    " # 'yelpMenu',\n",
    " 'categories',\n",
    " # 'serviceUpdateSummary',\n",
    " 'location',\n",
    " # 'serviceArea',\n",
    " # 'messaging',\n",
    " #'meteredPhoneNumber',\n",
    " 'phoneNumber',\n",
    " # 'shouldHideContactInfoForMultilocationBusinessesExperiment',\n",
    " # 'jobPricing',\n",
    " 'operationHours',\n",
    " 'consumerAlert',\n",
    " # 'organizedProperties({\"clientPlatform\":\"WWW\"})',\n",
    " 'healthInspections',\n",
    " 'isCommunityQuestionsEnabled',\n",
    " 'communityQuestions({\"first\":2})',\n",
    " 'rating',\n",
    " 'authoritativeAttributes',\n",
    " 'containerBusiness',\n",
    " # 'map({\"height\":180,\"width\":315})',\n",
    " # 'map({\"height\":150,\"width\":315})',\n",
    " 'serviceArea({\"userType\":\"consumer\"})',\n",
    " # 'media', 'buzPhoto'\n",
    " 'reviewCount',\n",
    " 'claimability({\"useConsumerClaimability\":true})',\n",
    " 'claimability',\n",
    " 'hasClaimReminderForCurrentUser',\n",
    " 'alternateNames',\n",
    " 'priceRange',\n",
    " 'logo',\n",
    " 'closedUntil',\n",
    " 'primaryPhoto',\n",
    " 'specialties',\n",
    " 'history',\n",
    " # 'reviews({\"first\":20})'\n",
    "]\n",
    "\n",
    "pprint(buzid['history'])"
   ]
  },
  {
   "cell_type": "code",
   "execution_count": null,
   "id": "6f878411",
   "metadata": {
    "ExecuteTime": {
     "end_time": "2021-08-23T01:50:20.747513Z",
     "start_time": "2021-08-23T01:50:20.744971Z"
    }
   },
   "outputs": [],
   "source": [
    "# pprint(buzid['media'])"
   ]
  },
  {
   "cell_type": "code",
   "execution_count": null,
   "id": "b94bd56a",
   "metadata": {
    "ExecuteTime": {
     "end_time": "2021-08-23T01:50:20.751114Z",
     "start_time": "2021-08-23T01:50:20.749242Z"
    }
   },
   "outputs": [],
   "source": [
    "# pprint(buzid['categoryGroups'])"
   ]
  },
  {
   "cell_type": "code",
   "execution_count": null,
   "id": "c1e7efcb",
   "metadata": {
    "ExecuteTime": {
     "end_time": "2021-08-23T01:50:20.770770Z",
     "start_time": "2021-08-23T01:50:20.752540Z"
    }
   },
   "outputs": [],
   "source": [
    "pprint(buzid['categories'])"
   ]
  },
  {
   "cell_type": "code",
   "execution_count": null,
   "id": "f849fafe",
   "metadata": {
    "ExecuteTime": {
     "end_time": "2021-08-23T01:50:20.776203Z",
     "start_time": "2021-08-23T01:50:20.773456Z"
    },
    "scrolled": true
   },
   "outputs": [],
   "source": [
    "pprint(buzid['operationHours'])"
   ]
  },
  {
   "cell_type": "code",
   "execution_count": null,
   "id": "060efacb",
   "metadata": {
    "ExecuteTime": {
     "end_time": "2021-08-23T01:50:20.781203Z",
     "start_time": "2021-08-23T01:50:20.778758Z"
    }
   },
   "outputs": [],
   "source": [
    "# pprint(buzid['organizedProperties({\"clientPlatform\":\"WWW\"})'])"
   ]
  },
  {
   "cell_type": "code",
   "execution_count": null,
   "id": "f16c76eb",
   "metadata": {
    "ExecuteTime": {
     "end_time": "2021-08-23T01:50:20.787309Z",
     "start_time": "2021-08-23T01:50:20.783762Z"
    }
   },
   "outputs": [],
   "source": [
    "pprint(buzid['authoritativeAttributes'])"
   ]
  },
  {
   "cell_type": "code",
   "execution_count": null,
   "id": "812a8f12",
   "metadata": {
    "ExecuteTime": {
     "end_time": "2021-08-23T01:50:20.793351Z",
     "start_time": "2021-08-23T01:50:20.791105Z"
    }
   },
   "outputs": [],
   "source": [
    "# buzid['reviews({\"first\":20})']"
   ]
  },
  {
   "cell_type": "markdown",
   "id": "e63a0269",
   "metadata": {},
   "source": [
    "### SEO MetaData"
   ]
  },
  {
   "cell_type": "code",
   "execution_count": null,
   "id": "8c3a1d7b",
   "metadata": {
    "ExecuteTime": {
     "end_time": "2021-08-23T01:28:45.188927Z",
     "start_time": "2021-08-23T01:28:45.167001Z"
    }
   },
   "outputs": [],
   "source": []
  },
  {
   "cell_type": "code",
   "execution_count": null,
   "id": "b9a91547",
   "metadata": {
    "ExecuteTime": {
     "end_time": "2021-08-23T01:50:20.807291Z",
     "start_time": "2021-08-23T01:50:20.796245Z"
    }
   },
   "outputs": [],
   "source": [
    "# [i for i in root['seoMetadata']]\n",
    "\n",
    "# pprint(\n",
    "seo_id = root['seoMetadata']['id']\n",
    "[i for i in seo_id]\n",
    "# seo_id['__typename']\n",
    "seo_id"
   ]
  },
  {
   "cell_type": "code",
   "execution_count": null,
   "id": "3c4940df",
   "metadata": {
    "ExecuteTime": {
     "end_time": "2021-08-23T01:50:20.814847Z",
     "start_time": "2021-08-23T01:50:20.810247Z"
    }
   },
   "outputs": [],
   "source": [
    "bizDetail_col = [i for i in seo_id if 'bizDetails' in i][0]\n",
    "bizDetails = seo_id[bizDetail_col]\n",
    "# pprint(bizDetails)\n",
    "[i for i in bizDetails]\n"
   ]
  },
  {
   "cell_type": "code",
   "execution_count": null,
   "id": "a559971b",
   "metadata": {
    "ExecuteTime": {
     "end_time": "2021-08-23T01:50:20.821811Z",
     "start_time": "2021-08-23T01:50:20.817748Z"
    }
   },
   "outputs": [],
   "source": [
    "bizDetails_id = bizDetails['id']\n",
    "# pprint(bizDetails_id)\n",
    "[i for i in bizDetails_id]"
   ]
  },
  {
   "cell_type": "code",
   "execution_count": null,
   "id": "e64f94a1",
   "metadata": {
    "ExecuteTime": {
     "end_time": "2021-08-23T01:50:20.828985Z",
     "start_time": "2021-08-23T01:50:20.825297Z"
    }
   },
   "outputs": [],
   "source": [
    "bizDetails_id['pageTitle']"
   ]
  },
  {
   "cell_type": "code",
   "execution_count": null,
   "id": "a1be128a",
   "metadata": {
    "ExecuteTime": {
     "end_time": "2021-08-23T01:50:20.836220Z",
     "start_time": "2021-08-23T01:50:20.832680Z"
    }
   },
   "outputs": [],
   "source": [
    "bizDetails_id['metaDescription']"
   ]
  },
  {
   "cell_type": "code",
   "execution_count": null,
   "id": "f5c1dfe4",
   "metadata": {
    "ExecuteTime": {
     "end_time": "2021-08-23T01:50:20.848209Z",
     "start_time": "2021-08-23T01:50:20.846189Z"
    }
   },
   "outputs": [],
   "source": [
    "# bizDetails_id['canonicalUrl']"
   ]
  },
  {
   "cell_type": "code",
   "execution_count": null,
   "id": "b38ed708",
   "metadata": {
    "ExecuteTime": {
     "end_time": "2021-08-23T01:50:20.854601Z",
     "start_time": "2021-08-23T01:50:20.850154Z"
    }
   },
   "outputs": [],
   "source": [
    "# different language version; meaningless\n",
    "# alternateTags = [x[i['id']] for i in bizDetails_id['alternateTags']]\n",
    "# bizDetails_id['alternateTags']   "
   ]
  },
  {
   "cell_type": "markdown",
   "id": "590b8777",
   "metadata": {},
   "source": [
    "# Detailed Reviews"
   ]
  },
  {
   "cell_type": "code",
   "execution_count": null,
   "id": "bd8b5c8a",
   "metadata": {
    "ExecuteTime": {
     "end_time": "2021-08-23T01:50:20.861649Z",
     "start_time": "2021-08-23T01:50:20.856805Z"
    }
   },
   "outputs": [],
   "source": [
    "encid = [i for i in root if 'business' in i][0]\n",
    "encid = encid.split(':')[-1].split('\"')[1]\n",
    "encid"
   ]
  },
  {
   "cell_type": "code",
   "execution_count": null,
   "id": "67cc0851",
   "metadata": {
    "ExecuteTime": {
     "end_time": "2021-08-23T01:50:21.150365Z",
     "start_time": "2021-08-23T01:50:20.863942Z"
    }
   },
   "outputs": [],
   "source": [
    "L = []\n",
    "\n",
    "for i in range(int(reviewCount/10) + 1):\n",
    "    start = i * 10\n",
    "    # print(start)\n",
    "    url = 'https://www.yelp.com/biz/{}/review_feed?rl=en&q=&sort_by=date_desc&start={}'.format(encid, start)\n",
    "    r = requests.get(url, headers = headers)\n",
    "    print(r.url)\n",
    "    # load the text to scrapy-type response\n",
    "    response = TextResponse(r.url, body = r.text, encoding = 'utf-8')\n",
    "\n",
    "    # have a look at its body\n",
    "    # print(str(response.body.decode()))\n",
    "\n",
    "    # with open('Yelp_Sample.html', 'w') as f:\n",
    "    #     f.write(str(response.body.decode()))\n",
    "\n",
    "    reviews = response.json()\n",
    "    # pprint(reviews)\n",
    "    L.extend(reviews['reviews'])\n"
   ]
  },
  {
   "cell_type": "code",
   "execution_count": null,
   "id": "17f5b584",
   "metadata": {
    "ExecuteTime": {
     "end_time": "2021-08-23T01:50:21.158954Z",
     "start_time": "2021-08-23T01:50:21.153535Z"
    }
   },
   "outputs": [],
   "source": [
    "len(L)"
   ]
  },
  {
   "cell_type": "markdown",
   "id": "65be6347",
   "metadata": {},
   "source": [
    "# Not Recommended Reviews"
   ]
  },
  {
   "cell_type": "code",
   "execution_count": null,
   "id": "c55b6168",
   "metadata": {
    "ExecuteTime": {
     "end_time": "2021-08-23T01:50:21.208379Z",
     "start_time": "2021-08-23T01:50:21.161833Z"
    }
   },
   "outputs": [],
   "source": [
    "def process_reviewxpath(review):\n",
    "\n",
    "\n",
    "    item2xpath = {\n",
    "        'image': './/img[@class=\"photo-box-img\"]/@src',\n",
    "        'user_name': './/*[@class=\"user-display-name\"]/text()',\n",
    "        'user_location':'.//*[@class=\"user-location responsive-hidden-small\"]/b/text()',\n",
    "        'friends':'.//*[@class=\"friend-count responsive-small-display-inline-block\"]//b/text()',\n",
    "        'reviews':'.//*[@class=\"review-count responsive-small-display-inline-block\"]//b/text()',\n",
    "        'rate_score': './/img[@class=\"offscreen\"]/@alt',\n",
    "        'date': './/*[@class=\"rating-qualifier\"]/text()',\n",
    "        'comment': './/p[@lang=\"en\"]//text()',\n",
    "        # 'rate_details':'.//table[@class=\"rating-table\"]//text()', \n",
    "    }\n",
    "\n",
    "\n",
    "\n",
    "    itemselector2value = {\n",
    "        'image': lambda x: x.extract()[0],\n",
    "        'user_name': lambda x: x.extract()[0],\n",
    "        'user_location': lambda x: x.extract()[0],\n",
    "        'friends': lambda x: x.extract()[0],\n",
    "        'reviews': lambda x: x.extract()[0],\n",
    "        'rate_score': lambda x: x.extract()[0],\n",
    "        'date': lambda x: x.extract()[0].strip(),\n",
    "        'comment': lambda x: html.unescape('\\n'.join(x.extract())).replace('\\xa0',''),\n",
    "        # 'rate_score': lambda x: float(x.extract()[0]), \n",
    "        # 'rate_num': lambda x: int(x.extract()[1]), \n",
    "        # 'rate_details': lambda x: x.extract(), \n",
    "    }\n",
    "\n",
    "\n",
    "    d = {}\n",
    "    for item, xpath in item2xpath.items():\n",
    "        # print('\\n')\n",
    "        # print(item)\n",
    "        selectors = review.xpath(xpath)#.extract()\n",
    "        values = itemselector2value[item](selectors)\n",
    "        d[item] = values\n",
    "        # print(values)\n",
    "        \n",
    "        \n",
    "    return d\n",
    "\n",
    "\n",
    "def process_xpath(response):\n",
    "\n",
    "\n",
    "    item2xpath = {\n",
    "        'blocked_summary': './/*[@class=\"ysection not-recommended-reviews review-list-wide\"]/h3/text()',\n",
    "        'blocked_reviews': './/*[@class=\"ysection not-recommended-reviews review-list-wide\"]//*[@class=\"review review--with-sidebar\"]',\n",
    "        \n",
    "        'removed_summary': './/*[@class=\"ysection removed-reviews\"]/h3/text()',\n",
    "        'removed_reviews': './/*[@class=\"ysection removed-reviews\"]//*[@class=\"review review--with-sidebar\"]',\n",
    "    }\n",
    "\n",
    "\n",
    "\n",
    "    itemselector2value = {\n",
    "        'blocked_summary': lambda x: int(x.extract()[0].strip().split(' ')[0]),\n",
    "        'blocked_reviews': lambda x: [process_reviewxpath(review) for review in x],\n",
    "        'removed_summary': lambda x: int(x.extract()[0].strip().split(' ')[0]) if len(x) == 1 else 0,\n",
    "        'removed_reviews': lambda x: [process_reviewxpath(review) for review in x],\n",
    "    }\n",
    "\n",
    "\n",
    "    d = {}\n",
    "    for item, xpath in item2xpath.items():\n",
    "        # print('\\n')\n",
    "        # print(item)\n",
    "        selectors = response.xpath(xpath)#.extract()\n",
    "        values = itemselector2value[item](selectors)\n",
    "        d[item] = values\n",
    "        # print(values)\n",
    "        \n",
    "        \n",
    "    return d"
   ]
  },
  {
   "cell_type": "code",
   "execution_count": null,
   "id": "d39803ca",
   "metadata": {
    "ExecuteTime": {
     "end_time": "2021-08-23T01:50:22.015900Z",
     "start_time": "2021-08-23T01:50:21.209513Z"
    }
   },
   "outputs": [],
   "source": [
    "def get_blocked_reviews_from_ph_url(ph_url):\n",
    "\n",
    "    doc_name = ph_url.split('/')[-1]\n",
    "\n",
    "    start = 0\n",
    "\n",
    "    url = 'https://www.yelp.com/not_recommended_reviews/{}?not_recommended_start={}'.format(doc_name, start)\n",
    "    r = requests.get(url, headers = headers)\n",
    "    print(r.url)\n",
    "    # load the text to scrapy-type response\n",
    "    response = TextResponse(r.url, body = r.text, encoding = 'utf-8')\n",
    "\n",
    "\n",
    "    d = process_xpath(response)\n",
    "    blocked_reviews_num = int(d['blocked_summary'])\n",
    "    if blocked_reviews_num <= 10:\n",
    "        return d\n",
    "    else:\n",
    "        for i in range(1, int((blocked_reviews_num-1)/10) + 1):\n",
    "            start = i*10\n",
    "            print(start)\n",
    "            url = 'https://www.yelp.com/not_recommended_reviews/{}?not_recommended_start={}'.format(doc_name, start)\n",
    "            r = requests.get(url, headers = headers)\n",
    "            print(r.url)\n",
    "            # load the text to scrapy-type response\n",
    "            response = TextResponse(r.url, body = r.text, encoding = 'utf-8')\n",
    "            new_d = process_xpath(response)\n",
    "            d['blocked_reviews'] += new_d['blocked_reviews']\n",
    "            # d['removed_reviews'] += new_d['removed_reviews']\n",
    "            # print()\n",
    "            # print(new_d['removed_reviews'])\n",
    "        return d\n",
    "\n",
    "\n",
    "print(ph_url)\n",
    "d = get_blocked_reviews_from_ph_url(ph_url)"
   ]
  },
  {
   "cell_type": "code",
   "execution_count": null,
   "id": "d0b3a768",
   "metadata": {
    "ExecuteTime": {
     "end_time": "2021-08-23T01:50:22.022362Z",
     "start_time": "2021-08-23T01:50:22.017795Z"
    }
   },
   "outputs": [],
   "source": [
    "len(d['blocked_reviews'])"
   ]
  },
  {
   "cell_type": "code",
   "execution_count": null,
   "id": "4f3381b0",
   "metadata": {
    "ExecuteTime": {
     "end_time": "2021-08-23T01:50:22.027388Z",
     "start_time": "2021-08-23T01:50:22.023835Z"
    }
   },
   "outputs": [],
   "source": [
    "len(d['removed_reviews'])"
   ]
  },
  {
   "cell_type": "markdown",
   "id": "2b090df5",
   "metadata": {},
   "source": [
    "# All In One"
   ]
  },
  {
   "cell_type": "code",
   "execution_count": null,
   "id": "e27c3cd1",
   "metadata": {
    "ExecuteTime": {
     "end_time": "2021-08-23T01:50:22.062083Z",
     "start_time": "2021-08-23T01:50:22.029215Z"
    }
   },
   "outputs": [],
   "source": [
    "import os\n",
    "import requests\n",
    "import pandas as pd\n",
    "import time\n",
    "import requests\n",
    "from scrapy.http import TextResponse\n",
    "import json\n",
    "import html\n",
    "import argparse\n",
    "import random\n",
    "from datetime import datetime\n",
    "\n",
    "\n",
    "\n",
    "# we need headers to disguise our bot as a browser\n",
    "\n",
    "headers = {\n",
    "    \"Connection\": \"keep-alive\",\n",
    "    \"Cache-Control\": \"max-age=0\",\n",
    "    \"Accept\": \"text/html,application/xhtml+xml,application/xml;q=0.9,image/webp,*/*;q=0.8\",\n",
    "    \"User-Agent\": \"Mozilla/5.0 (Windows NT 6.1; WOW64) AppleWebKit/537.36 (KHTML, like Gecko) Chrome/34.0.1847.131 Safari/537.36\",\n",
    "}\n",
    "\n",
    "\n",
    "\n",
    "def decompose_jQuery(d, x):\n",
    "    # d is input dict; x is the original list\n",
    "    for k, v in d.items():\n",
    "        if not v:\n",
    "            # print('Empty v at {}'.format(k))\n",
    "            pass\n",
    "        \n",
    "        elif type(v) == dict:\n",
    "            # print('Is a dictionary')\n",
    "            out = decompose_jQuery(v, x)\n",
    "            if type(out) == dict: out = decompose_jQuery(out, x) \n",
    "            d[k] = out\n",
    "        \n",
    "        elif type(v) == list:\n",
    "            if len(v) == sum([type(v_e) == dict for v_e in v]):\n",
    "                # print('Is a list of dictionaries')\n",
    "                out_list = []\n",
    "                for v_e in v:\n",
    "                    out = decompose_jQuery(v_e, x) \n",
    "                    if type(out) == dict: out = decompose_jQuery(out, x) \n",
    "                    out_list.append(out)\n",
    "                d[k] = out_list\n",
    "            \n",
    "        elif type(v) == str:\n",
    "            # print('v is a string')\n",
    "            if v[0] == '$' and v in x:\n",
    "                # print(v)\n",
    "                # print(v, 'v is start from $')\n",
    "                d[k] = x[v]\n",
    "            else:\n",
    "                pass\n",
    "        else:\n",
    "            pass\n",
    "        \n",
    "    return d\n",
    "\n",
    "\n",
    "def process_reviewxpath(review):\n",
    "\n",
    "    item2xpath = {\n",
    "        'image': './/img[@class=\"photo-box-img\"]/@src',\n",
    "        'user_name': './/*[@class=\"user-display-name\"]/text()',\n",
    "        'user_location':'.//*[@class=\"user-location responsive-hidden-small\"]/b/text()',\n",
    "        'friends':'.//*[@class=\"friend-count responsive-small-display-inline-block\"]//b/text()',\n",
    "        'reviews':'.//*[@class=\"review-count responsive-small-display-inline-block\"]//b/text()',\n",
    "        'rate_score': './/img[@class=\"offscreen\"]/@alt',\n",
    "        'date': './/*[@class=\"rating-qualifier\"]/text()',\n",
    "        'comment': './/p[@lang=\"en\"]//text()',\n",
    "    }\n",
    "\n",
    "    itemselector2value = {\n",
    "        'image': lambda x: x.extract()[0],\n",
    "        'user_name': lambda x: x.extract()[0],\n",
    "        'user_location': lambda x: x.extract()[0],\n",
    "        'friends': lambda x: x.extract()[0],\n",
    "        'reviews': lambda x: x.extract()[0],\n",
    "        'rate_score': lambda x: x.extract()[0],\n",
    "        'date': lambda x: x.extract()[0].strip(),\n",
    "        'comment': lambda x: html.unescape('\\n'.join(x.extract())).replace('\\xa0',''),\n",
    "    }\n",
    "\n",
    "    d = {}\n",
    "    for item, xpath in item2xpath.items():\n",
    "        # print('\\n')\n",
    "        # print(item)\n",
    "        selectors = review.xpath(xpath)#.extract()\n",
    "        values = itemselector2value[item](selectors)\n",
    "        d[item] = values\n",
    "        # print(values)\n",
    "        \n",
    "        \n",
    "    return d\n",
    "\n",
    "\n",
    "def process_xpath(response):\n",
    "    item2xpath = {\n",
    "        'blocked_reviews_num': './/*[@class=\"ysection not-recommended-reviews review-list-wide\"]/h3/text()',\n",
    "        'blocked_reviews': './/*[@class=\"ysection not-recommended-reviews review-list-wide\"]//*[@class=\"review review--with-sidebar\"]',\n",
    "        'removed_reviews_num': './/*[@class=\"ysection removed-reviews\"]/h3/text()',\n",
    "        'removed_reviews': './/*[@class=\"ysection removed-reviews\"]//*[@class=\"review review--with-sidebar\"]',\n",
    "    }\n",
    "\n",
    "\n",
    "    itemselector2value = {\n",
    "        'blocked_reviews_num': lambda x: int(x.extract()[0].strip().split(' ')[0]),\n",
    "        'blocked_reviews': lambda x: [process_reviewxpath(review) for review in x],\n",
    "        'removed_reviews_num': lambda x: int(x.extract()[0].strip().split(' ')[0]) if len(x) == 1 else 0,\n",
    "        'removed_reviews': lambda x: [process_reviewxpath(review) for review in x],\n",
    "    }\n",
    "\n",
    "\n",
    "    d = {}\n",
    "    for item, xpath in item2xpath.items():\n",
    "        # print('\\n')\n",
    "        # print(item)\n",
    "        selectors = response.xpath(xpath)#.extract()\n",
    "        values = itemselector2value[item](selectors)\n",
    "        d[item] = values\n",
    "        # print(values)\n",
    "    return d\n",
    "\n",
    "\n",
    "def get_blocked_reviews_from_ph_url(ph_url):\n",
    "    doc_name = ph_url.split('/')[-1]\n",
    "    start = 0\n",
    "    url = 'https://www.yelp.com/not_recommended_reviews/{}?not_recommended_start={}'.format(doc_name, start)\n",
    "    r = requests.get(url, headers = headers)\n",
    "    print(r.url)\n",
    "    # load the text to scrapy-type response\n",
    "    response = TextResponse(r.url, body = r.text, encoding = 'utf-8')\n",
    "\n",
    "\n",
    "    d = process_xpath(response)\n",
    "    blocked_reviews_num = int(d['blocked_reviews_num'])\n",
    "    if blocked_reviews_num <= 10:\n",
    "        return d\n",
    "    else:\n",
    "        for i in range(1, int((blocked_reviews_num)/10) + 1):\n",
    "            start = i*10\n",
    "            # print(start)\n",
    "            url = 'https://www.yelp.com/not_recommended_reviews/{}?not_recommended_start={}'.format(doc_name, start)\n",
    "            r = requests.get(url, headers = headers)\n",
    "            print(r.url)\n",
    "            # load the text to scrapy-type response\n",
    "            response = TextResponse(r.url, body = r.text, encoding = 'utf-8')\n",
    "            new_d = process_xpath(response)\n",
    "            d['blocked_reviews'] += new_d['blocked_reviews']\n",
    "            # d['removed_reviews'] += new_d['removed_reviews']\n",
    "            # print()\n",
    "            # print(new_d['removed_reviews'])\n",
    "        return d\n",
    "\n",
    "\n",
    "def get_physician_info_from_yelp_url(ph_url):\n",
    "\n",
    "    physician_info = {}\n",
    "    \n",
    "    # profile url\n",
    "    url = ph_url\n",
    "    r = requests.get(url, headers = headers)\n",
    "    response = TextResponse(r.url, body = r.text, encoding = 'utf-8')\n",
    "    xpath = './/script//text()'\n",
    "    selectors = response.xpath(xpath)\n",
    "    js_list = selectors.extract()\n",
    "    l = [i for i in js_list]\n",
    "\n",
    "    # aim 1: get common questions\n",
    "    # idx = 14\n",
    "    json_list = [i for i in l if 'mainEntity' in i]\n",
    "    if len(json_list) == 1:\n",
    "        json_string = json_list[0]\n",
    "        d = json.loads(json_string)\n",
    "    else:\n",
    "        d = {}\n",
    "    physician_info['Questions'] = d\n",
    "\n",
    "    \n",
    "    # aim 2: get reviewCount\n",
    "    json_list = [i for i in l if 'LocalBusiness' in i and 'name' in i]\n",
    "    if len(json_list) == 1:\n",
    "        json_string = json_list[0]\n",
    "        d = json.loads(json_string)\n",
    "        if 'aggregateRating' in d:\n",
    "            reviewCount = d['aggregateRating']['reviewCount']\n",
    "        else:\n",
    "            reviewCount = 0\n",
    "    else:\n",
    "        reviewCount = 0\n",
    "    physician_info['reviewCount'] = reviewCount\n",
    "\n",
    "\n",
    "    # aim 3: get physician basic information\n",
    "    # idx = 19\n",
    "    # json_string = l[idx]\n",
    "    json_string = [i for i in l if 'ROOT_QUERY' in i][0]\n",
    "    x = json_string.replace('<!--', '').replace('-->', '')\n",
    "    # x = x.replace('&quot;', '\"')\n",
    "    x = html.unescape(x)\n",
    "    # print(x)\n",
    "    x = json.loads(x)\n",
    "\n",
    "    # aim 3.1: business photos\n",
    "    BusinessPhotos = [[i for i in x[i].values() if 'http' in i]  for i in x if '$BusinessPhoto' in i]\n",
    "    BusinessPhotos = [i[0] for i in BusinessPhotos  if len(i) == 1] \n",
    "    physician_info['BusinessPhotos'] = BusinessPhotos\n",
    "\n",
    "    # aim 3.2: get buzid info\n",
    "    root = x['ROOT_QUERY']\n",
    "    root = decompose_jQuery(root, x)\n",
    "    business_col = [i for i in root if 'business' in i][0]\n",
    "    buzid = root[business_col]['id']\n",
    "\n",
    "    cols = ['verifiedLicenses',\n",
    "    # '__typename',\n",
    "    'name',\n",
    "    # 'categoryGroups',\n",
    "    'alias',\n",
    "    # 'externalResources',\n",
    "    'menuVerbiage',\n",
    "    # 'yelpMenu',\n",
    "    'categories',\n",
    "    # 'serviceUpdateSummary',\n",
    "    'location',\n",
    "    # 'serviceArea',\n",
    "    # 'messaging',\n",
    "    #'meteredPhoneNumber',\n",
    "    'phoneNumber',\n",
    "    # 'shouldHideContactInfoForMultilocationBusinessesExperiment',\n",
    "    # 'jobPricing',\n",
    "    'operationHours',\n",
    "    'consumerAlert',\n",
    "    # 'organizedProperties({\"clientPlatform\":\"WWW\"})',\n",
    "    'healthInspections',\n",
    "    'isCommunityQuestionsEnabled',\n",
    "    'communityQuestions({\"first\":2})',\n",
    "    'rating',\n",
    "    'authoritativeAttributes',\n",
    "    'containerBusiness',\n",
    "    # 'map({\"height\":180,\"width\":315})',\n",
    "    # 'map({\"height\":150,\"width\":315})',\n",
    "    'serviceArea({\"userType\":\"consumer\"})',\n",
    "    # 'media', 'buzPhoto'\n",
    "    'reviewCount',\n",
    "    'claimability({\"useConsumerClaimability\":true})',\n",
    "    'claimability',\n",
    "    'hasClaimReminderForCurrentUser',\n",
    "    'alternateNames',\n",
    "    'priceRange',\n",
    "    'logo',\n",
    "    'closedUntil',\n",
    "    'primaryPhoto',\n",
    "    'specialties',\n",
    "    'history',]\n",
    "\n",
    "    for col in cols:\n",
    "        physician_info[col] = buzid[col]\n",
    "\n",
    "    # aim 3.3: get seo info \n",
    "    seo_id = root['seoMetadata']['id']\n",
    "    # [i for i in seo_id]\n",
    "    # seo_id['__typename']\n",
    "    bizDetail_col = [i for i in seo_id if 'bizDetails' in i][0]\n",
    "    bizDetails = seo_id[bizDetail_col]\n",
    "\n",
    "    bizDetails_id = bizDetails['id']\n",
    "\n",
    "    cols_second = ['pageTitle', 'metaDescription' ]\n",
    "    for col in cols_second:\n",
    "        physician_info[col] = bizDetails_id[col]\n",
    "\n",
    "    # aim 4: get encid and good reviews\n",
    "    encid = [i for i in root if 'business' in i][0]\n",
    "    encid = encid.split(':')[-1].split('\"')[1]\n",
    "    physician_info['encid'] = encid\n",
    "    \n",
    "    L = []\n",
    "    for i in range(int((reviewCount)/10) + 1):\n",
    "        start = i * 10\n",
    "        url = 'https://www.yelp.com/biz/{}/review_feed?rl=en&q=&sort_by=date_desc&start={}'.format(encid, start)\n",
    "        r = requests.get(url, headers = headers)\n",
    "        print(r.url)\n",
    "        # load the text to scrapy-type response\n",
    "        response = TextResponse(r.url, body = r.text, encoding = 'utf-8')\n",
    "\n",
    "        reviews = response.json()\n",
    "        L.extend(reviews['reviews'])\n",
    "\n",
    "    physician_info['reviews_detailed'] = L\n",
    "\n",
    "    # aim 5: get blocked reivews\n",
    "    d = get_blocked_reviews_from_ph_url(ph_url)\n",
    "    for k, v in d.items(): physician_info[k] = v\n",
    "    \n",
    "    return physician_info\n"
   ]
  },
  {
   "cell_type": "code",
   "execution_count": null,
   "id": "efb4f996",
   "metadata": {
    "ExecuteTime": {
     "end_time": "2021-08-23T01:50:24.446062Z",
     "start_time": "2021-08-23T01:50:22.063163Z"
    }
   },
   "outputs": [],
   "source": [
    "# ph_url = 'https://www.yelp.com/biz/joseph-peck-md-torrance' # many reviews \n",
    "# ph_url = 'https://www.yelp.com/biz/integrated-pain-management-tarzana-6' # a few reviews\n",
    "# ph_url = 'https://www.yelp.com/biz/michael-shabtai-md-northridge?page_src=related_bizes' # even fewer reviews\n",
    "\n",
    "ph_info = get_physician_info_from_yelp_url(ph_url)"
   ]
  },
  {
   "cell_type": "code",
   "execution_count": null,
   "id": "edc8c95f",
   "metadata": {
    "ExecuteTime": {
     "end_time": "2021-08-23T01:50:24.507183Z",
     "start_time": "2021-08-23T01:50:24.448089Z"
    }
   },
   "outputs": [],
   "source": [
    "pprint(ph_info)"
   ]
  },
  {
   "cell_type": "code",
   "execution_count": null,
   "id": "fde6a8d9",
   "metadata": {
    "ExecuteTime": {
     "end_time": "2021-08-23T01:50:24.511016Z",
     "start_time": "2021-08-23T01:50:24.508154Z"
    }
   },
   "outputs": [],
   "source": [
    "\n",
    "print('Good    Reviews: reported {} vs collected {}'.format(ph_info['reviewCount'], len(ph_info['reviews_detailed'])))\n",
    "print('Blocked Reviews: reported {} vs collected {}'.format(ph_info['blocked_reviews_num'], len(ph_info['blocked_reviews'])))\n",
    "print('Removed Reviews: reported {} vs collected {}'.format(ph_info['removed_reviews_num'], len(ph_info['removed_reviews'])))\n"
   ]
  },
  {
   "cell_type": "code",
   "execution_count": null,
   "id": "d52df49c",
   "metadata": {},
   "outputs": [],
   "source": []
  }
 ],
 "metadata": {
  "kernelspec": {
   "display_name": "Python 3 (ipykernel)",
   "language": "python",
   "name": "python3"
  },
  "language_info": {
   "codemirror_mode": {
    "name": "ipython",
    "version": 3
   },
   "file_extension": ".py",
   "mimetype": "text/x-python",
   "name": "python",
   "nbconvert_exporter": "python",
   "pygments_lexer": "ipython3",
   "version": "3.7.10"
  },
  "toc": {
   "base_numbering": 1,
   "nav_menu": {},
   "number_sections": true,
   "sideBar": true,
   "skip_h1_title": false,
   "title_cell": "Table of Contents",
   "title_sidebar": "Contents",
   "toc_cell": false,
   "toc_position": {},
   "toc_section_display": true,
   "toc_window_display": false
  }
 },
 "nbformat": 4,
 "nbformat_minor": 5
}
