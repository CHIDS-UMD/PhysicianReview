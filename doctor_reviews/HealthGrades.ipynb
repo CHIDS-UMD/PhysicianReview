{
 "cells": [
  {
   "cell_type": "markdown",
   "id": "bf96ddff",
   "metadata": {},
   "source": [
    "# HealthGrader List"
   ]
  },
  {
   "cell_type": "code",
   "execution_count": 26,
   "id": "277bf1d6",
   "metadata": {
    "ExecuteTime": {
     "end_time": "2021-08-12T13:52:27.726407Z",
     "start_time": "2021-08-12T13:52:09.521344Z"
    }
   },
   "outputs": [
    {
     "name": "stdout",
     "output_type": "stream",
     "text": [
      "\n",
      "Output2/MD_Doc2GoogleURL_healthgrades_s100000_e110000/healthgrades_s101500_e102000.p\n",
      "\n",
      "Output2/MD_Doc2GoogleURL_healthgrades_s100000_e110000/healthgrades_s105500_e106000.p\n",
      "\n",
      "Output2/MD_Doc2GoogleURL_healthgrades_s100000_e110000/healthgrades_s103500_e104000.p\n",
      "\n",
      "Output2/MD_Doc2GoogleURL_healthgrades_s100000_e110000/healthgrades_s104000_e104500.p\n",
      "\n",
      "Output2/MD_Doc2GoogleURL_healthgrades_s100000_e110000/healthgrades_s105000_e105500.p\n",
      "\n",
      "Output2/MD_Doc2GoogleURL_healthgrades_s100000_e110000/healthgrades_s106500_e107000.p\n",
      "\n",
      "Output2/MD_Doc2GoogleURL_healthgrades_s100000_e110000/healthgrades_s106000_e106500.p\n",
      "\n",
      "Output2/MD_Doc2GoogleURL_healthgrades_s100000_e110000/healthgrades_s104500_e105000.p\n",
      "\n",
      "Output2/MD_Doc2GoogleURL_healthgrades_s100000_e110000/healthgrades_s101000_e101500.p\n",
      "\n",
      "Output2/MD_Doc2GoogleURL_healthgrades_s100000_e110000/healthgrades_s102500_e103000.p\n",
      "\n",
      "Output2/MD_Doc2GoogleURL_healthgrades_s100000_e110000/healthgrades_s100000_e100500.p\n",
      "\n",
      "Output2/MD_Doc2GoogleURL_healthgrades_s100000_e110000/healthgrades_s103000_e103500.p\n",
      "\n",
      "Output2/MD_Doc2GoogleURL_healthgrades_s100000_e110000/healthgrades_s100500_e101000.p\n",
      "\n",
      "Output2/MD_Doc2GoogleURL_healthgrades_s100000_e110000/healthgrades_s102000_e102500.p\n",
      "6534\n"
     ]
    }
   ],
   "source": [
    "OutputFolder = 'Output2/MD_Doc2GoogleURL_healthgrades_s100000_e110000/'\n",
    "\n",
    "pkl_files = [os.path.join(OutputFolder, i) for i in os.listdir(OutputFolder) if '.p' in i]\n",
    "for file in pkl_files:\n",
    "    print('\\n' + file )\n",
    "\n",
    "Data = pd.concat([pd.read_pickle(file) for file in pkl_files])#['url']# .to_list()\n",
    "print(len(Data))\n",
    "Data.to_pickle('Output2/MD_Doc2GoogleURL_healthgrades_HealthGraders_s100000_e110000.p')"
   ]
  },
  {
   "cell_type": "code",
   "execution_count": 27,
   "id": "d2c1c727",
   "metadata": {
    "ExecuteTime": {
     "end_time": "2021-08-12T13:52:28.483568Z",
     "start_time": "2021-08-12T13:52:27.728216Z"
    }
   },
   "outputs": [
    {
     "name": "stdout",
     "output_type": "stream",
     "text": [
      "\n",
      "Output2/MD_Doc2GoogleURL_vitals_s100000_e110000/vitals_s102000_e102500.p\n",
      "\n",
      "Output2/MD_Doc2GoogleURL_vitals_s100000_e110000/vitals_s100500_e101000.p\n",
      "\n",
      "Output2/MD_Doc2GoogleURL_vitals_s100000_e110000/vitals_s100000_e100500.p\n",
      "\n",
      "Output2/MD_Doc2GoogleURL_vitals_s100000_e110000/vitals_s102500_e103000.p\n",
      "\n",
      "Output2/MD_Doc2GoogleURL_vitals_s100000_e110000/vitals_s101000_e101500.p\n",
      "\n",
      "Output2/MD_Doc2GoogleURL_vitals_s100000_e110000/vitals_s101500_e102000.p\n",
      "2774\n"
     ]
    }
   ],
   "source": [
    "OutputFolder = 'Output2/MD_Doc2GoogleURL_vitals_s100000_e110000/'\n",
    "\n",
    "pkl_files = [os.path.join(OutputFolder, i) for i in os.listdir(OutputFolder) if '.p' in i]\n",
    "for file in pkl_files:\n",
    "    print('\\n' + file )\n",
    "\n",
    "\n",
    "Data = pd.concat([pd.read_pickle(file) for file in pkl_files])#['url']# .to_list()\n",
    "print(len(Data))\n",
    "Data.to_pickle('Output2/MD_Doc2GoogleURL_vitals_Vitals_s100000_e110000.p')"
   ]
  },
  {
   "cell_type": "code",
   "execution_count": 12,
   "id": "03463594",
   "metadata": {
    "ExecuteTime": {
     "end_time": "2021-08-12T12:44:45.477070Z",
     "start_time": "2021-08-12T12:44:35.272603Z"
    }
   },
   "outputs": [],
   "source": [
    "import pandas as pd\n",
    "oldFilePath = 'Output2/MD_Doc2GoogleURL_healthgrades_HealthGraders_s0_e10000.p'\n",
    "\n",
    "OldResult = pd.read_pickle(oldFilePath)"
   ]
  },
  {
   "cell_type": "code",
   "execution_count": 14,
   "id": "9552aa12",
   "metadata": {
    "ExecuteTime": {
     "end_time": "2021-08-12T12:44:58.262070Z",
     "start_time": "2021-08-12T12:44:58.229994Z"
    }
   },
   "outputs": [
    {
     "data": {
      "text/plain": [
       "1003002312    1\n",
       "1033165360    1\n",
       "1033165139    1\n",
       "1033164959    1\n",
       "1033164835    1\n",
       "             ..\n",
       "1013969005    1\n",
       "1013968817    1\n",
       "1013968627    1\n",
       "1013968601    1\n",
       "1053314971    1\n",
       "Name: npi, Length: 6882, dtype: int64"
      ]
     },
     "execution_count": 14,
     "metadata": {},
     "output_type": "execute_result"
    }
   ],
   "source": [
    "OldResult['npi'].value_counts()"
   ]
  },
  {
   "cell_type": "code",
   "execution_count": 20,
   "id": "86f9c545",
   "metadata": {
    "ExecuteTime": {
     "end_time": "2021-08-12T12:48:20.877477Z",
     "start_time": "2021-08-12T12:48:20.195613Z"
    }
   },
   "outputs": [
    {
     "data": {
      "text/html": [
       "<div>\n",
       "<style scoped>\n",
       "    .dataframe tbody tr th:only-of-type {\n",
       "        vertical-align: middle;\n",
       "    }\n",
       "\n",
       "    .dataframe tbody tr th {\n",
       "        vertical-align: top;\n",
       "    }\n",
       "\n",
       "    .dataframe thead th {\n",
       "        text-align: right;\n",
       "    }\n",
       "</style>\n",
       "<table border=\"1\" class=\"dataframe\">\n",
       "  <thead>\n",
       "    <tr style=\"text-align: right;\">\n",
       "      <th></th>\n",
       "      <th>responseCount</th>\n",
       "      <th>reviewCount</th>\n",
       "      <th>actualScore</th>\n",
       "      <th>roundedScore</th>\n",
       "      <th>score_aggregates</th>\n",
       "      <th>lastSurveyDate</th>\n",
       "      <th>cards</th>\n",
       "      <th>reviews</th>\n",
       "      <th>npi</th>\n",
       "      <th>pwid</th>\n",
       "      <th>...</th>\n",
       "      <th>suppressSurveys</th>\n",
       "      <th>syndication</th>\n",
       "      <th>testimonies</th>\n",
       "      <th>uconnectEnvironment</th>\n",
       "      <th>writeMd</th>\n",
       "      <th>conditionsAndProcedures</th>\n",
       "      <th>clinicalFocusItems</th>\n",
       "      <th>biography</th>\n",
       "      <th>url</th>\n",
       "      <th>clct_time</th>\n",
       "    </tr>\n",
       "  </thead>\n",
       "  <tbody>\n",
       "    <tr>\n",
       "      <th>0</th>\n",
       "      <td>20</td>\n",
       "      <td>7</td>\n",
       "      <td>5.000000</td>\n",
       "      <td>5.0</td>\n",
       "      <td>[{'star': 5, 'count': 20}, {'star': 4, 'count'...</td>\n",
       "      <td>NaN</td>\n",
       "      <td>[{'title': 'Dr. Shahani's Performance', 'aggre...</td>\n",
       "      <td>[{'commentId': '6e14286f-fafc-4147-9246-aa5e30...</td>\n",
       "      <td>1003851379</td>\n",
       "      <td>YGVGW</td>\n",
       "      <td>...</td>\n",
       "      <td>False</td>\n",
       "      <td>None</td>\n",
       "      <td>[]</td>\n",
       "      <td>production</td>\n",
       "      <td>None</td>\n",
       "      <td>[{'childDescriptions': ['Ablation for Treatmen...</td>\n",
       "      <td>None</td>\n",
       "      <td>[Dr. Rohit Shahani, MD is a Cardiothoracic Sur...</td>\n",
       "      <td>https://www.healthgrades.com/physician/dr-rohi...</td>\n",
       "      <td>2021-08-10 16:53:44.631</td>\n",
       "    </tr>\n",
       "    <tr>\n",
       "      <th>1</th>\n",
       "      <td>8</td>\n",
       "      <td>0</td>\n",
       "      <td>4.125000</td>\n",
       "      <td>4.0</td>\n",
       "      <td>[{'star': 5, 'count': 6}, {'star': 4, 'count':...</td>\n",
       "      <td>NaN</td>\n",
       "      <td>[{'title': 'Dr. Defeo's Performance', 'aggrega...</td>\n",
       "      <td>[]</td>\n",
       "      <td>1003851395</td>\n",
       "      <td>Y2J72</td>\n",
       "      <td>...</td>\n",
       "      <td>False</td>\n",
       "      <td>None</td>\n",
       "      <td>[]</td>\n",
       "      <td>production</td>\n",
       "      <td>None</td>\n",
       "      <td>[{'childDescriptions': None, 'id': 'CN0000C3E2...</td>\n",
       "      <td>None</td>\n",
       "      <td>[Dr. David Defeo, MD is a Critical Care Medici...</td>\n",
       "      <td>https://www.healthgrades.com/physician/dr-davi...</td>\n",
       "      <td>2021-08-10 16:53:52.013</td>\n",
       "    </tr>\n",
       "    <tr>\n",
       "      <th>2</th>\n",
       "      <td>33</td>\n",
       "      <td>17</td>\n",
       "      <td>4.606060</td>\n",
       "      <td>4.5</td>\n",
       "      <td>[{'star': 5, 'count': 29}, {'star': 4, 'count'...</td>\n",
       "      <td>NaN</td>\n",
       "      <td>[{'title': 'Dr. Lusby's Performance', 'aggrega...</td>\n",
       "      <td>[{'commentId': '0e0fe06b-2924-4bdc-af47-d50ad4...</td>\n",
       "      <td>1003851510</td>\n",
       "      <td>2JKRB</td>\n",
       "      <td>...</td>\n",
       "      <td>False</td>\n",
       "      <td>None</td>\n",
       "      <td>[]</td>\n",
       "      <td>production</td>\n",
       "      <td>None</td>\n",
       "      <td>[{'childDescriptions': None, 'id': 'CN0000C3E2...</td>\n",
       "      <td>[{'clinicalFocusName': 'Pancreatic Disease', '...</td>\n",
       "      <td>[Dr. James Lusby, MD is a Gastroenterology Spe...</td>\n",
       "      <td>https://www.healthgrades.com/physician/dr-jame...</td>\n",
       "      <td>2021-08-10 16:54:00.499</td>\n",
       "    </tr>\n",
       "    <tr>\n",
       "      <th>3</th>\n",
       "      <td>0</td>\n",
       "      <td>0</td>\n",
       "      <td>0.000000</td>\n",
       "      <td>0.0</td>\n",
       "      <td>[{'star': 5, 'count': None}, {'star': 4, 'coun...</td>\n",
       "      <td>NaN</td>\n",
       "      <td>[]</td>\n",
       "      <td>[]</td>\n",
       "      <td>1003851577</td>\n",
       "      <td>YXSC6</td>\n",
       "      <td>...</td>\n",
       "      <td>False</td>\n",
       "      <td>None</td>\n",
       "      <td>[]</td>\n",
       "      <td>production</td>\n",
       "      <td>None</td>\n",
       "      <td>[{'childDescriptions': ['Acute Lymphocytic Leu...</td>\n",
       "      <td>[{'clinicalFocusName': 'Pancreatic Neoplasms',...</td>\n",
       "      <td>[Dr. Kala Visvanathan, MB BS is a Oncology Spe...</td>\n",
       "      <td>https://www.healthgrades.com/physician/dr-kala...</td>\n",
       "      <td>2021-08-10 16:54:06.020</td>\n",
       "    </tr>\n",
       "    <tr>\n",
       "      <th>4</th>\n",
       "      <td>63</td>\n",
       "      <td>20</td>\n",
       "      <td>3.333333</td>\n",
       "      <td>3.5</td>\n",
       "      <td>[{'star': 5, 'count': 34}, {'star': 4, 'count'...</td>\n",
       "      <td>NaN</td>\n",
       "      <td>[{'title': 'Dr. Gutsmann's Performance', 'aggr...</td>\n",
       "      <td>[{'commentId': '8aa78539-39d0-4290-99d7-23c470...</td>\n",
       "      <td>1003851676</td>\n",
       "      <td>2MCLH</td>\n",
       "      <td>...</td>\n",
       "      <td>False</td>\n",
       "      <td>None</td>\n",
       "      <td>[]</td>\n",
       "      <td>production</td>\n",
       "      <td>None</td>\n",
       "      <td>[{'childDescriptions': None, 'id': 'CN0000C3E2...</td>\n",
       "      <td>None</td>\n",
       "      <td>[Dr. Astrid Gutsmann, PHD is a Family Medicine...</td>\n",
       "      <td>https://www.healthgrades.com/providers/astrid-...</td>\n",
       "      <td>2021-08-10 16:54:15.527</td>\n",
       "    </tr>\n",
       "    <tr>\n",
       "      <th>...</th>\n",
       "      <td>...</td>\n",
       "      <td>...</td>\n",
       "      <td>...</td>\n",
       "      <td>...</td>\n",
       "      <td>...</td>\n",
       "      <td>...</td>\n",
       "      <td>...</td>\n",
       "      <td>...</td>\n",
       "      <td>...</td>\n",
       "      <td>...</td>\n",
       "      <td>...</td>\n",
       "      <td>...</td>\n",
       "      <td>...</td>\n",
       "      <td>...</td>\n",
       "      <td>...</td>\n",
       "      <td>...</td>\n",
       "      <td>...</td>\n",
       "      <td>...</td>\n",
       "      <td>...</td>\n",
       "      <td>...</td>\n",
       "      <td>...</td>\n",
       "    </tr>\n",
       "    <tr>\n",
       "      <th>492</th>\n",
       "      <td>19</td>\n",
       "      <td>3</td>\n",
       "      <td>4.368421</td>\n",
       "      <td>4.5</td>\n",
       "      <td>[{'star': 5, 'count': 16}, {'star': 4, 'count'...</td>\n",
       "      <td>NaN</td>\n",
       "      <td>[{'title': 'Dr. Morley's Performance', 'aggreg...</td>\n",
       "      <td>[{'commentId': '08f249aa-1c84-4aaf-991d-943eec...</td>\n",
       "      <td>1003898966</td>\n",
       "      <td>Y6HYN</td>\n",
       "      <td>...</td>\n",
       "      <td>False</td>\n",
       "      <td>None</td>\n",
       "      <td>[]</td>\n",
       "      <td>production</td>\n",
       "      <td>None</td>\n",
       "      <td>[{'childDescriptions': None, 'id': 'CN00000C27...</td>\n",
       "      <td>None</td>\n",
       "      <td>[Dr. David Morley, MD is a Orthopedic Surgery ...</td>\n",
       "      <td>https://www.healthgrades.com/physician/dr-davi...</td>\n",
       "      <td>2021-08-10 17:56:01.231</td>\n",
       "    </tr>\n",
       "    <tr>\n",
       "      <th>493</th>\n",
       "      <td>14</td>\n",
       "      <td>5</td>\n",
       "      <td>4.714286</td>\n",
       "      <td>4.5</td>\n",
       "      <td>[{'star': 5, 'count': 13}, {'star': 4, 'count'...</td>\n",
       "      <td>NaN</td>\n",
       "      <td>[{'title': 'Dr. Brinkman's Performance', 'aggr...</td>\n",
       "      <td>[{'commentId': 'ef28cd34-f574-49ab-973f-6b9882...</td>\n",
       "      <td>1003898982</td>\n",
       "      <td>29JSC</td>\n",
       "      <td>...</td>\n",
       "      <td>False</td>\n",
       "      <td>None</td>\n",
       "      <td>[]</td>\n",
       "      <td>production</td>\n",
       "      <td>None</td>\n",
       "      <td>[{'childDescriptions': None, 'id': 'CN0000C3E2...</td>\n",
       "      <td>None</td>\n",
       "      <td>[Dr. John Brinkman, MD is a General Surgery Sp...</td>\n",
       "      <td>https://www.healthgrades.com/physician/dr-john...</td>\n",
       "      <td>2021-08-10 17:56:09.842</td>\n",
       "    </tr>\n",
       "    <tr>\n",
       "      <th>494</th>\n",
       "      <td>14</td>\n",
       "      <td>4</td>\n",
       "      <td>3.357143</td>\n",
       "      <td>3.5</td>\n",
       "      <td>[{'star': 5, 'count': 7}, {'star': 4, 'count':...</td>\n",
       "      <td>NaN</td>\n",
       "      <td>[{'title': 'Dr. Lavergne's Performance', 'aggr...</td>\n",
       "      <td>[{'commentId': 'd605875a-af88-43b1-8cb2-36ee4c...</td>\n",
       "      <td>1003899212</td>\n",
       "      <td>2FFP5</td>\n",
       "      <td>...</td>\n",
       "      <td>False</td>\n",
       "      <td>None</td>\n",
       "      <td>[]</td>\n",
       "      <td>production</td>\n",
       "      <td>None</td>\n",
       "      <td>[{'childDescriptions': None, 'id': 'CN00004928...</td>\n",
       "      <td>None</td>\n",
       "      <td>[Dr. Jose Lavergne, MD is a Gastroenterology S...</td>\n",
       "      <td>https://www.healthgrades.com/physician/dr-jose...</td>\n",
       "      <td>2021-08-10 17:56:15.472</td>\n",
       "    </tr>\n",
       "    <tr>\n",
       "      <th>495</th>\n",
       "      <td>30</td>\n",
       "      <td>29</td>\n",
       "      <td>4.200000</td>\n",
       "      <td>4.0</td>\n",
       "      <td>[{'star': 5, 'count': 24}, {'star': 4, 'count'...</td>\n",
       "      <td>NaN</td>\n",
       "      <td>[{'title': 'Dr. Sklar's Performance', 'aggrega...</td>\n",
       "      <td>[{'commentId': '756893e8-f7a6-4cc6-b8e4-61602a...</td>\n",
       "      <td>1003899261</td>\n",
       "      <td>XQKDS</td>\n",
       "      <td>...</td>\n",
       "      <td>False</td>\n",
       "      <td>None</td>\n",
       "      <td>[]</td>\n",
       "      <td>production</td>\n",
       "      <td>{'borderColor': '#512b8b', 'backgroundColor': ...</td>\n",
       "      <td>[{'childDescriptions': None, 'id': 'CN0000C3E2...</td>\n",
       "      <td>[{'clinicalFocusName': 'Pancreatic Disease', '...</td>\n",
       "      <td>[Dr. Bradley Sklar, MD is a gastroenterology s...</td>\n",
       "      <td>https://www.healthgrades.com/physician/dr-brad...</td>\n",
       "      <td>2021-08-10 17:56:21.724</td>\n",
       "    </tr>\n",
       "    <tr>\n",
       "      <th>496</th>\n",
       "      <td>1</td>\n",
       "      <td>1</td>\n",
       "      <td>1.000000</td>\n",
       "      <td>1.0</td>\n",
       "      <td>[{'star': 5, 'count': 0}, {'star': 4, 'count':...</td>\n",
       "      <td>NaN</td>\n",
       "      <td>[{'title': 'Dr. Campbell's Performance', 'aggr...</td>\n",
       "      <td>[{'commentId': 'b3c4f5c3-49eb-4439-b47a-ddcc24...</td>\n",
       "      <td>1003899345</td>\n",
       "      <td>YFFTQ</td>\n",
       "      <td>...</td>\n",
       "      <td>False</td>\n",
       "      <td>None</td>\n",
       "      <td>[]</td>\n",
       "      <td>production</td>\n",
       "      <td>None</td>\n",
       "      <td>[]</td>\n",
       "      <td>None</td>\n",
       "      <td>[Dr. John Campbell, MD is a Diagnostic Radiolo...</td>\n",
       "      <td>https://www.healthgrades.com/physician/dr-john...</td>\n",
       "      <td>2021-08-10 17:56:28.216</td>\n",
       "    </tr>\n",
       "  </tbody>\n",
       "</table>\n",
       "<p>497 rows × 67 columns</p>\n",
       "</div>"
      ],
      "text/plain": [
       "    responseCount reviewCount  actualScore  roundedScore  \\\n",
       "0              20           7     5.000000           5.0   \n",
       "1               8           0     4.125000           4.0   \n",
       "2              33          17     4.606060           4.5   \n",
       "3               0           0     0.000000           0.0   \n",
       "4              63          20     3.333333           3.5   \n",
       "..            ...         ...          ...           ...   \n",
       "492            19           3     4.368421           4.5   \n",
       "493            14           5     4.714286           4.5   \n",
       "494            14           4     3.357143           3.5   \n",
       "495            30          29     4.200000           4.0   \n",
       "496             1           1     1.000000           1.0   \n",
       "\n",
       "                                      score_aggregates lastSurveyDate  \\\n",
       "0    [{'star': 5, 'count': 20}, {'star': 4, 'count'...            NaN   \n",
       "1    [{'star': 5, 'count': 6}, {'star': 4, 'count':...            NaN   \n",
       "2    [{'star': 5, 'count': 29}, {'star': 4, 'count'...            NaN   \n",
       "3    [{'star': 5, 'count': None}, {'star': 4, 'coun...            NaN   \n",
       "4    [{'star': 5, 'count': 34}, {'star': 4, 'count'...            NaN   \n",
       "..                                                 ...            ...   \n",
       "492  [{'star': 5, 'count': 16}, {'star': 4, 'count'...            NaN   \n",
       "493  [{'star': 5, 'count': 13}, {'star': 4, 'count'...            NaN   \n",
       "494  [{'star': 5, 'count': 7}, {'star': 4, 'count':...            NaN   \n",
       "495  [{'star': 5, 'count': 24}, {'star': 4, 'count'...            NaN   \n",
       "496  [{'star': 5, 'count': 0}, {'star': 4, 'count':...            NaN   \n",
       "\n",
       "                                                 cards  \\\n",
       "0    [{'title': 'Dr. Shahani's Performance', 'aggre...   \n",
       "1    [{'title': 'Dr. Defeo's Performance', 'aggrega...   \n",
       "2    [{'title': 'Dr. Lusby's Performance', 'aggrega...   \n",
       "3                                                   []   \n",
       "4    [{'title': 'Dr. Gutsmann's Performance', 'aggr...   \n",
       "..                                                 ...   \n",
       "492  [{'title': 'Dr. Morley's Performance', 'aggreg...   \n",
       "493  [{'title': 'Dr. Brinkman's Performance', 'aggr...   \n",
       "494  [{'title': 'Dr. Lavergne's Performance', 'aggr...   \n",
       "495  [{'title': 'Dr. Sklar's Performance', 'aggrega...   \n",
       "496  [{'title': 'Dr. Campbell's Performance', 'aggr...   \n",
       "\n",
       "                                               reviews         npi   pwid  \\\n",
       "0    [{'commentId': '6e14286f-fafc-4147-9246-aa5e30...  1003851379  YGVGW   \n",
       "1                                                   []  1003851395  Y2J72   \n",
       "2    [{'commentId': '0e0fe06b-2924-4bdc-af47-d50ad4...  1003851510  2JKRB   \n",
       "3                                                   []  1003851577  YXSC6   \n",
       "4    [{'commentId': '8aa78539-39d0-4290-99d7-23c470...  1003851676  2MCLH   \n",
       "..                                                 ...         ...    ...   \n",
       "492  [{'commentId': '08f249aa-1c84-4aaf-991d-943eec...  1003898966  Y6HYN   \n",
       "493  [{'commentId': 'ef28cd34-f574-49ab-973f-6b9882...  1003898982  29JSC   \n",
       "494  [{'commentId': 'd605875a-af88-43b1-8cb2-36ee4c...  1003899212  2FFP5   \n",
       "495  [{'commentId': '756893e8-f7a6-4cc6-b8e4-61602a...  1003899261  XQKDS   \n",
       "496  [{'commentId': 'b3c4f5c3-49eb-4439-b47a-ddcc24...  1003899345  YFFTQ   \n",
       "\n",
       "     ... suppressSurveys syndication testimonies uconnectEnvironment  \\\n",
       "0    ...           False        None          []          production   \n",
       "1    ...           False        None          []          production   \n",
       "2    ...           False        None          []          production   \n",
       "3    ...           False        None          []          production   \n",
       "4    ...           False        None          []          production   \n",
       "..   ...             ...         ...         ...                 ...   \n",
       "492  ...           False        None          []          production   \n",
       "493  ...           False        None          []          production   \n",
       "494  ...           False        None          []          production   \n",
       "495  ...           False        None          []          production   \n",
       "496  ...           False        None          []          production   \n",
       "\n",
       "                                               writeMd  \\\n",
       "0                                                 None   \n",
       "1                                                 None   \n",
       "2                                                 None   \n",
       "3                                                 None   \n",
       "4                                                 None   \n",
       "..                                                 ...   \n",
       "492                                               None   \n",
       "493                                               None   \n",
       "494                                               None   \n",
       "495  {'borderColor': '#512b8b', 'backgroundColor': ...   \n",
       "496                                               None   \n",
       "\n",
       "                               conditionsAndProcedures  \\\n",
       "0    [{'childDescriptions': ['Ablation for Treatmen...   \n",
       "1    [{'childDescriptions': None, 'id': 'CN0000C3E2...   \n",
       "2    [{'childDescriptions': None, 'id': 'CN0000C3E2...   \n",
       "3    [{'childDescriptions': ['Acute Lymphocytic Leu...   \n",
       "4    [{'childDescriptions': None, 'id': 'CN0000C3E2...   \n",
       "..                                                 ...   \n",
       "492  [{'childDescriptions': None, 'id': 'CN00000C27...   \n",
       "493  [{'childDescriptions': None, 'id': 'CN0000C3E2...   \n",
       "494  [{'childDescriptions': None, 'id': 'CN00004928...   \n",
       "495  [{'childDescriptions': None, 'id': 'CN0000C3E2...   \n",
       "496                                                 []   \n",
       "\n",
       "                                    clinicalFocusItems  \\\n",
       "0                                                 None   \n",
       "1                                                 None   \n",
       "2    [{'clinicalFocusName': 'Pancreatic Disease', '...   \n",
       "3    [{'clinicalFocusName': 'Pancreatic Neoplasms',...   \n",
       "4                                                 None   \n",
       "..                                                 ...   \n",
       "492                                               None   \n",
       "493                                               None   \n",
       "494                                               None   \n",
       "495  [{'clinicalFocusName': 'Pancreatic Disease', '...   \n",
       "496                                               None   \n",
       "\n",
       "                                             biography  \\\n",
       "0    [Dr. Rohit Shahani, MD is a Cardiothoracic Sur...   \n",
       "1    [Dr. David Defeo, MD is a Critical Care Medici...   \n",
       "2    [Dr. James Lusby, MD is a Gastroenterology Spe...   \n",
       "3    [Dr. Kala Visvanathan, MB BS is a Oncology Spe...   \n",
       "4    [Dr. Astrid Gutsmann, PHD is a Family Medicine...   \n",
       "..                                                 ...   \n",
       "492  [Dr. David Morley, MD is a Orthopedic Surgery ...   \n",
       "493  [Dr. John Brinkman, MD is a General Surgery Sp...   \n",
       "494  [Dr. Jose Lavergne, MD is a Gastroenterology S...   \n",
       "495  [Dr. Bradley Sklar, MD is a gastroenterology s...   \n",
       "496  [Dr. John Campbell, MD is a Diagnostic Radiolo...   \n",
       "\n",
       "                                                   url               clct_time  \n",
       "0    https://www.healthgrades.com/physician/dr-rohi... 2021-08-10 16:53:44.631  \n",
       "1    https://www.healthgrades.com/physician/dr-davi... 2021-08-10 16:53:52.013  \n",
       "2    https://www.healthgrades.com/physician/dr-jame... 2021-08-10 16:54:00.499  \n",
       "3    https://www.healthgrades.com/physician/dr-kala... 2021-08-10 16:54:06.020  \n",
       "4    https://www.healthgrades.com/providers/astrid-... 2021-08-10 16:54:15.527  \n",
       "..                                                 ...                     ...  \n",
       "492  https://www.healthgrades.com/physician/dr-davi... 2021-08-10 17:56:01.231  \n",
       "493  https://www.healthgrades.com/physician/dr-john... 2021-08-10 17:56:09.842  \n",
       "494  https://www.healthgrades.com/physician/dr-jose... 2021-08-10 17:56:15.472  \n",
       "495  https://www.healthgrades.com/physician/dr-brad... 2021-08-10 17:56:21.724  \n",
       "496  https://www.healthgrades.com/physician/dr-john... 2021-08-10 17:56:28.216  \n",
       "\n",
       "[497 rows x 67 columns]"
      ]
     },
     "execution_count": 20,
     "metadata": {},
     "output_type": "execute_result"
    }
   ],
   "source": [
    "# import pandas as pd\n",
    "# oldFilePath = 'Output/MD_Doc2GoogleURL_healthgrades_s0_e10000/healthgrades_s500_e1000.p'\n",
    "# DF = pd.read_pickle(oldFilePath)\n",
    "# DF"
   ]
  },
  {
   "cell_type": "code",
   "execution_count": 19,
   "id": "86941888",
   "metadata": {
    "ExecuteTime": {
     "end_time": "2021-08-12T12:47:04.672388Z",
     "start_time": "2021-08-12T12:47:04.662979Z"
    }
   },
   "outputs": [
    {
     "data": {
      "text/plain": [
       "1003002312    1\n",
       "1003834920    1\n",
       "1003836024    1\n",
       "1003836008    1\n",
       "1003835984    1\n",
       "             ..\n",
       "1003813619    1\n",
       "1003813585    1\n",
       "1003813536    1\n",
       "1003813460    1\n",
       "1003851288    1\n",
       "Name: npi, Length: 499, dtype: int64"
      ]
     },
     "execution_count": 19,
     "metadata": {},
     "output_type": "execute_result"
    }
   ],
   "source": [
    "DF['npi'].value_counts()"
   ]
  },
  {
   "cell_type": "code",
   "execution_count": null,
   "id": "5cf8973a",
   "metadata": {
    "ExecuteTime": {
     "end_time": "2021-08-02T04:22:44.330372Z",
     "start_time": "2021-08-02T04:22:44.326024Z"
    }
   },
   "outputs": [],
   "source": [
    "url_list = ['https://www.healthgrades.com/physician/dr-lisa-kairis-xt5b8',\n",
    " 'https://www.healthgrades.com/physician/dr-sophie-hoptowit-2dwt6',\n",
    " 'https://www.healthgrades.com/physician/dr-stephen-kelminson-x76s8',\n",
    " 'https://www.healthgrades.com/physician/dr-jonathan-weeks-x3v44',\n",
    " 'https://www.healthgrades.com/physician/dr-walter-guarino-2qfmv',\n",
    " 'https://www.healthgrades.com/providers/ella-gray-3mpy5',\n",
    " 'https://www.healthgrades.com/physician/dr-john-condojani-yrrkl',\n",
    " 'https://www.healthgrades.com/physician/dr-anthony-leazzo-yjqx4',\n",
    " 'https://www.healthgrades.com/physician/dr-james-gleason-yt27c',\n",
    " 'https://www.healthgrades.com/physician/dr-katherine-francis-x2cw7']\n"
   ]
  },
  {
   "cell_type": "markdown",
   "id": "77d9abe5",
   "metadata": {},
   "source": [
    "# Focus on One"
   ]
  },
  {
   "cell_type": "code",
   "execution_count": null,
   "id": "5055eb4c",
   "metadata": {
    "ExecuteTime": {
     "end_time": "2021-08-02T04:14:55.118044Z",
     "start_time": "2021-08-02T04:14:54.482041Z"
    }
   },
   "outputs": [],
   "source": [
    "import requests\n",
    "import pandas as pd\n",
    "# from bs4 import BeautifulSoup\n",
    "import re\n",
    "\n",
    "import requests\n",
    "from scrapy.http import TextResponse\n",
    "\n",
    "\n",
    "# we need headers to disguise our bot as a browser\n",
    "\n",
    "headers = {\n",
    "    \"Connection\": \"keep-alive\",\n",
    "    \"Cache-Control\": \"max-age=0\",\n",
    "    \"Accept\": \"text/html,application/xhtml+xml,application/xml;q=0.9,image/webp,*/*;q=0.8\",\n",
    "    \"User-Agent\": \"Mozilla/5.0 (Windows NT 6.1; WOW64) AppleWebKit/537.36 (KHTML, like Gecko) Chrome/34.0.1847.131 Safari/537.36\",\n",
    "    \"Accept-Encoding\": \"gzip,deflate,sdch\",\n",
    "    \"Accept-Language\": \"zh-CN,zh;q=0.8,en-US;q=0.6,en;q=0.4,zh-TW;q=0.2\",\n",
    "}\n"
   ]
  },
  {
   "cell_type": "code",
   "execution_count": null,
   "id": "47c32e9b",
   "metadata": {
    "ExecuteTime": {
     "end_time": "2021-08-02T04:14:55.709568Z",
     "start_time": "2021-08-02T04:14:55.119266Z"
    },
    "scrolled": true
   },
   "outputs": [],
   "source": [
    "# import cloudscraper\n",
    "# scraper = cloudscraper.create_scraper()\n",
    "\n",
    "# url = 'https://www.healthgrades.com/physician/dr-ravi-bajaj-2pxm9'\n",
    "# url = 'https://www.healthgrades.com/physician/dr-joseph-nichols-gfpd5' # 32 rating\n",
    "\n",
    "# url = 'https://www.healthgrades.com/providers/ella-gray-3mpy5' # 100+ ratings\n",
    "url = 'https://www.healthgrades.com/physician/dr-walter-guarino-2qfmv' # \n",
    "# as we cannot use Download Middleware in Scrapy, requests are used here instead.\n",
    "r = requests.get(url, headers = headers)\n",
    "r.url"
   ]
  },
  {
   "cell_type": "code",
   "execution_count": null,
   "id": "e5f06d1e",
   "metadata": {
    "ExecuteTime": {
     "end_time": "2021-08-02T04:14:56.142693Z",
     "start_time": "2021-08-02T04:14:56.114074Z"
    }
   },
   "outputs": [],
   "source": [
    "\n",
    "# load the text to scrapy-type response\n",
    "response = TextResponse(r.url, body = r.text, encoding = 'utf-8')\n",
    "\n",
    "# have a look at its body\n",
    "print(str(response.body.decode()))\n",
    "\n",
    "with open('_tmp.html', 'w') as f:\n",
    "    f.write(str(response.body.decode()))\n"
   ]
  },
  {
   "cell_type": "markdown",
   "id": "92e54a6f",
   "metadata": {},
   "source": [
    "# All Data\n",
    "\n",
    "Get information from javascript"
   ]
  },
  {
   "cell_type": "code",
   "execution_count": null,
   "id": "40923455",
   "metadata": {
    "ExecuteTime": {
     "end_time": "2021-08-02T04:14:57.332838Z",
     "start_time": "2021-08-02T04:14:57.285754Z"
    },
    "scrolled": false
   },
   "outputs": [],
   "source": [
    "import json\n",
    "\n",
    "def process_Json(response):\n",
    "    xpath = './/script[@type=\"text/javascript\"]//text()'\n",
    "    selectors = response.xpath(xpath)\n",
    "    js_data = [i for i in selectors.extract()[3].split('\\n')  if '= {' in i]\n",
    "    js_data = {t[0].strip(): json.loads(t[1][:-1]) for t in [i.split(' = ') for i in js_data]}\n",
    "    return js_data\n",
    "\n",
    "\n",
    "js_data = process_Json(response)\n",
    "[i for i in js_data]"
   ]
  },
  {
   "cell_type": "markdown",
   "id": "e632d8b6",
   "metadata": {},
   "source": [
    "# Pes"
   ]
  },
  {
   "cell_type": "code",
   "execution_count": null,
   "id": "9dd7fde0",
   "metadata": {
    "ExecuteTime": {
     "end_time": "2021-08-02T04:14:58.191196Z",
     "start_time": "2021-08-02T04:14:58.178455Z"
    },
    "scrolled": true
   },
   "outputs": [],
   "source": [
    "def process_Pes(Pes):\n",
    "    d = {}\n",
    "    Pes_Model = Pes['model']\n",
    "    overall = Pes_Model['overall']\n",
    "    for item in ['responseCount','reviewCount','actualScore','roundedScore',]:\n",
    "        d[item] = overall[item]\n",
    "        \n",
    "    d['score_aggregates'] = Pes_Model[\"surveyDistribution\"]['aggregates']\n",
    "    d['lastSurveyDate'] = Pes_Model['lastSurveyDate']\n",
    "    d['doc_pfmc'], d['staff_pfmc'] = [i['aggregates'] for i in Pes_Model['cards']]\n",
    "    # at most 20 reviews\n",
    "    d['comments'] = Pes['model']['comments']['results']\n",
    "    return d\n",
    "\n",
    "\n",
    "Pes = js_data['pageState.pes']\n",
    "\n",
    "d = process_Pes(Pes)\n",
    "# print(d['reviewCount'])\n",
    "# len(d['comments'])\n",
    "\n",
    "d['reviewCount'] > len(d['comments'])"
   ]
  },
  {
   "cell_type": "code",
   "execution_count": null,
   "id": "535a1217",
   "metadata": {
    "ExecuteTime": {
     "end_time": "2021-08-02T04:14:58.755988Z",
     "start_time": "2021-08-02T04:14:58.751920Z"
    }
   },
   "outputs": [],
   "source": [
    "# Pes = js_data['pageState.pes']\n",
    "# print([i for i in Pes])\n",
    "# for item in [ 'commentsSuppressed', 'hasComments', 'serverError']:\n",
    "#     print('\\n\\n' + item, Pes[item])\n",
    "\n",
    "\n",
    "# print([i for i in Pes['model']])\n",
    "# Pes_Model = Pes['model']\n",
    "\n",
    "\n",
    "\n",
    "# cols = [ 'insights',  'recaptchaSitekey', 'launchDarklyKey', 'displayName',\n",
    "#         'providerCode', 'providerName', 'providerPossessiveName', 'providerUrl', \n",
    "#         'surveysSuppressed', 'commentsSuppressed', 'lastSurveyDate',\n",
    "#         'flagReasons', 'newTemplateModel', \n",
    "#         'useNewForm', 'providerResponseAboutMe', \n",
    "#         'smallImageUrl', 'mediumImageUrl', 'largeImageUrl', \n",
    "#         'sponsorshipImageUrl', 'specialty', 'hideProviderCTA', \n",
    "#         'commentCount', 'verifiedPatientSurveys', 'renderCombinedComments']\n",
    "\n",
    "\n",
    "# for i in cols:\n",
    "#     print('\\n\\n'+i)\n",
    "#     print(Pes_Model[i])\n",
    "\n",
    "# pprint(Pes_Model[\"providerResponseAboutMe\"])"
   ]
  },
  {
   "cell_type": "code",
   "execution_count": null,
   "id": "f5741595",
   "metadata": {
    "ExecuteTime": {
     "end_time": "2021-08-02T04:14:59.208775Z",
     "start_time": "2021-08-02T04:14:59.202836Z"
    },
    "scrolled": true
   },
   "outputs": [],
   "source": [
    "# d = Pes_Model['overall']\n",
    "# pprint(d)\n",
    "\n",
    "# pprint(Pes_Model[\"surveyDistribution\"])\n",
    "\n",
    "# to ask the user to answer the question about the focal doctor\n",
    "# pprint(Pes_Model[\"templateModel\"])\n",
    "\n",
    "\n",
    "# Pes_Model['lastSurveyDate']\n",
    "\n",
    "\n",
    "# doc_pfmc, staff_pfmc = Pes_Model['cards']\n",
    "# pprint(doc_pfmc)\n",
    "# pprint(staff_pfmc)"
   ]
  },
  {
   "cell_type": "markdown",
   "id": "47704bb8",
   "metadata": {},
   "source": [
    "# viewModel"
   ]
  },
  {
   "cell_type": "code",
   "execution_count": null,
   "id": "44fde28a",
   "metadata": {
    "ExecuteTime": {
     "end_time": "2021-08-02T04:15:00.121943Z",
     "start_time": "2021-08-02T04:15:00.094346Z"
    }
   },
   "outputs": [],
   "source": [
    "def process_viewModel(viewModel):\n",
    "    cols = ['npi', 'pwid', 'entityType', 'websiteUrl', 'logoUrl', 'imageUrl', \n",
    "     'providerUrl', 'displayName', 'displayNamePossessive', 'providerDisplayFullName', \n",
    "     'age', 'genderString', 'badges', 'languages', \n",
    "     'hasAutoBiography', 'aboutMe', 'aboutMeVideoUrl', \n",
    "     'aboutProvider', 'description', 'generatedbiography', 'autoBiography', 'cityNameAndState', \n",
    "     'officeLocations', 'officePhone', 'acceptsNewPatients', \n",
    "     'availability', \n",
    "     'practicingSpecialties', 'medicalSpecialty', \n",
    "     'awardsAndRecognitions', 'boardCertifications', 'insuranceAccepted', \n",
    "     'isPrimaryLocationMalpracticeCollected', 'malpractices', \n",
    "     'sponsorName', 'boardActions', 'memberships', \n",
    "     'education', 'hospitals', 'hasConditions', \n",
    "     'hasProcedures',  'existingPatientPhone', \n",
    "     'readStoryScrolloffset', 'sanctions', \n",
    "     'shouldShowVideoContent', 'showPatientVolumeData', 'showVisitingSection', \n",
    "     'specialtyHasClinicalFocus', 'specialtyHeaderText', 'suppressCertifications',\n",
    "     'suppressSurveys', 'syndication', 'testimonies', 'uconnectEnvironment', 'writeMd',\n",
    "     'conditionsAndProcedures', 'clinicalFocusItems',]\n",
    "    d = {}\n",
    "    for i in cols:\n",
    "        d[i] = viewModel[i]\n",
    "    return d\n",
    "\n",
    "\n",
    "viewModel = js_data['pageState.viewModel']\n",
    "\n",
    "d = process_viewModel(viewModel)\n",
    "d"
   ]
  },
  {
   "cell_type": "code",
   "execution_count": null,
   "id": "119954ed",
   "metadata": {
    "ExecuteTime": {
     "end_time": "2021-08-02T04:15:00.694411Z",
     "start_time": "2021-08-02T04:15:00.691337Z"
    }
   },
   "outputs": [],
   "source": [
    "# viewModel = js_data['pageState.viewModel']\n",
    "# print([i for i in viewModel])\n",
    "# pprint(viewModel['model'])\n",
    "# selected_items = []"
   ]
  },
  {
   "cell_type": "markdown",
   "id": "72dfcaf2",
   "metadata": {},
   "source": [
    "## Basic Info"
   ]
  },
  {
   "cell_type": "code",
   "execution_count": null,
   "id": "5beb4ecc",
   "metadata": {
    "ExecuteTime": {
     "end_time": "2021-08-02T04:15:01.694846Z",
     "start_time": "2021-08-02T04:15:01.691487Z"
    }
   },
   "outputs": [],
   "source": [
    "# info = [ \n",
    "# 'npi', 'pwid', 'entityType', \n",
    "# 'websiteUrl', 'logoUrl', 'imageUrl', 'providerUrl', \n",
    "# 'displayName','displayNamePossessive', 'providerDisplayFullName',\n",
    "# 'age',  'genderString', # 'gender',\n",
    "# 'badges', 'languages',\n",
    "# 'hasAutoBiography', \n",
    "# 'aboutMe', 'aboutMeVideoUrl', 'aboutProvider', \n",
    "# 'description', 'generatedbiography',  'autoBiography', \n",
    "# ]\n",
    "\n",
    "\n",
    "# selected_items += [i for i in info if i not in selected_items]\n",
    "\n",
    "# for item in info:\n",
    "#     print('\\n\\n' + item)\n",
    "#     print(viewModel[item])"
   ]
  },
  {
   "cell_type": "markdown",
   "id": "95080f10",
   "metadata": {},
   "source": [
    "## Location Info"
   ]
  },
  {
   "cell_type": "code",
   "execution_count": null,
   "id": "691c05a3",
   "metadata": {
    "ExecuteTime": {
     "end_time": "2021-08-02T04:15:02.096108Z",
     "start_time": "2021-08-02T04:15:02.092917Z"
    }
   },
   "outputs": [],
   "source": [
    "# info = [\n",
    "# 'cityNameAndState',\n",
    "# 'officeLocations',\n",
    "# 'officePhone',\n",
    "# # 'primaryOffice', \n",
    "# # 'primaryOfficeRegionName',   \n",
    "# ]\n",
    "\n",
    "\n",
    "# selected_items += [i for i in info if i not in selected_items]\n",
    "\n",
    "\n",
    "\n",
    "# for item in info:\n",
    "#     print('\\n\\n' + item)\n",
    "#     pprint(viewModel[item])"
   ]
  },
  {
   "cell_type": "markdown",
   "id": "970694c9",
   "metadata": {},
   "source": [
    "## Rating and Review"
   ]
  },
  {
   "cell_type": "code",
   "execution_count": null,
   "id": "4e810b7b",
   "metadata": {
    "ExecuteTime": {
     "end_time": "2021-08-02T04:15:02.614323Z",
     "start_time": "2021-08-02T04:15:02.611374Z"
    }
   },
   "outputs": [],
   "source": [
    "# we don't need this\n",
    "# info = ['displayOverallStarRating','reviewItemProp',  'surveyUserCount',  ]\n",
    "\n",
    "# for item in info:\n",
    "#     print('\\n\\n' + item)\n",
    "#     pprint(viewModel[item])"
   ]
  },
  {
   "cell_type": "markdown",
   "id": "6da1f7c5",
   "metadata": {},
   "source": [
    "## clinical and practicing"
   ]
  },
  {
   "cell_type": "code",
   "execution_count": null,
   "id": "f6fb8ff4",
   "metadata": {
    "ExecuteTime": {
     "end_time": "2021-08-02T04:15:03.052468Z",
     "start_time": "2021-08-02T04:15:03.047004Z"
    }
   },
   "outputs": [],
   "source": [
    "# info = [\n",
    "# # 'primaryPracticingSpecialty', \n",
    "# 'acceptsNewPatients',\n",
    "# 'availability', \n",
    "# # 'practicingSpecialityName', \n",
    "# 'practicingSpecialties', \n",
    "# # 'practicingSpecialtyNameIst', \n",
    "# # 'practicingSpecialtyNameIsts', \n",
    "# # 'practicingSpecialtyNamePlural',\n",
    "# 'medicalSpecialty']\n",
    "\n",
    "\n",
    "# selected_items += [i for i in info if i not in selected_items]\n",
    "\n",
    "# for item in info:\n",
    "#     print('\\n\\n' + item)\n",
    "#     pprint(viewModel[item])"
   ]
  },
  {
   "cell_type": "markdown",
   "id": "b054dda8",
   "metadata": {},
   "source": [
    "## award info"
   ]
  },
  {
   "cell_type": "code",
   "execution_count": null,
   "id": "ea326b22",
   "metadata": {
    "ExecuteTime": {
     "end_time": "2021-08-02T04:15:03.661042Z",
     "start_time": "2021-08-02T04:15:03.656157Z"
    }
   },
   "outputs": [],
   "source": [
    "# info = [\n",
    "# 'awardsAndRecognitions', \n",
    "# 'boardCertifications', \n",
    "# # 'boardCertificationFootnotes',  \n",
    "# ]\n",
    "\n",
    "# selected_items += [i for i in info if i not in selected_items]\n",
    "\n",
    "# for item in info:\n",
    "#     print('\\n\\n' + item)\n",
    "#     pprint(viewModel[item])"
   ]
  },
  {
   "cell_type": "markdown",
   "id": "efd3adf7",
   "metadata": {},
   "source": [
    "## Insurance"
   ]
  },
  {
   "cell_type": "code",
   "execution_count": null,
   "id": "23960fc2",
   "metadata": {
    "ExecuteTime": {
     "end_time": "2021-08-02T04:15:04.306239Z",
     "start_time": "2021-08-02T04:15:04.303088Z"
    }
   },
   "outputs": [],
   "source": [
    "# info = [\n",
    "# 'insuranceAccepted', \n",
    "# # 'insurancePhone',  \n",
    "# ]\n",
    "\n",
    "\n",
    "# selected_items += [i for i in info if i not in selected_items]\n",
    "\n",
    "\n",
    "# for item in info:\n",
    "#     print('\\n\\n' + item)\n",
    "#     pprint(viewModel[item])"
   ]
  },
  {
   "cell_type": "markdown",
   "id": "24357393",
   "metadata": {},
   "source": [
    "## Mal Info"
   ]
  },
  {
   "cell_type": "code",
   "execution_count": null,
   "id": "046b4ecb",
   "metadata": {
    "ExecuteTime": {
     "end_time": "2021-08-02T04:15:05.001704Z",
     "start_time": "2021-08-02T04:15:04.996729Z"
    }
   },
   "outputs": [],
   "source": [
    "# # mal practice\n",
    "# info = [\n",
    "# 'isPrimaryLocationMalpracticeCollected', \n",
    "# 'malpractices',  ]\n",
    "\n",
    "# selected_items += [i for i in info if i not in selected_items]\n",
    "\n",
    "# for item in info:\n",
    "#     print('\\n\\n' + item)\n",
    "#     pprint(viewModel[item])"
   ]
  },
  {
   "cell_type": "markdown",
   "id": "be5b4e33",
   "metadata": {},
   "source": [
    "## Sponsor Info"
   ]
  },
  {
   "cell_type": "code",
   "execution_count": null,
   "id": "c9be0d38",
   "metadata": {
    "ExecuteTime": {
     "end_time": "2021-08-02T04:15:05.643538Z",
     "start_time": "2021-08-02T04:15:05.640215Z"
    }
   },
   "outputs": [],
   "source": [
    "\n",
    "# info = [ \n",
    "# 'sponsorName', \n",
    "# # 'sponsoringFacilityAward', \n",
    "# # 'sponsoringFacilityLink',\n",
    "# # 'sponsoringFacilityName', \n",
    "# ]\n",
    "\n",
    "\n",
    "# selected_items += [i for i in info if i not in selected_items]\n",
    "\n",
    "\n",
    "# for item in info:\n",
    "#     print('\\n\\n' + item)\n",
    "#     pprint(viewModel[item])"
   ]
  },
  {
   "cell_type": "markdown",
   "id": "d5ec9172",
   "metadata": {},
   "source": [
    "## Board, Membership"
   ]
  },
  {
   "cell_type": "code",
   "execution_count": null,
   "id": "92081d17",
   "metadata": {
    "ExecuteTime": {
     "end_time": "2021-08-02T04:15:06.451395Z",
     "start_time": "2021-08-02T04:15:06.446723Z"
    }
   },
   "outputs": [],
   "source": [
    "# info = [ 'boardActions', 'memberships', ]\n",
    "\n",
    "\n",
    "# selected_items += [i for i in info if i not in selected_items]\n",
    "\n",
    "\n",
    "# for item in info:\n",
    "#     print('\\n\\n' + item)\n",
    "#     pprint(viewModel[item])"
   ]
  },
  {
   "cell_type": "markdown",
   "id": "46ac6cb9",
   "metadata": {},
   "source": [
    "## Education"
   ]
  },
  {
   "cell_type": "code",
   "execution_count": null,
   "id": "46d73539",
   "metadata": {
    "ExecuteTime": {
     "end_time": "2021-08-02T04:15:07.309619Z",
     "start_time": "2021-08-02T04:15:07.306483Z"
    }
   },
   "outputs": [],
   "source": [
    "\n",
    "\n",
    "# info = [  'education', ]\n",
    "\n",
    "\n",
    "# selected_items += [i for i in info if i not in selected_items]\n",
    "\n",
    "\n",
    "\n",
    "# for item in info:\n",
    "#     print('\\n\\n' + item)\n",
    "#     pprint(viewModel[item])"
   ]
  },
  {
   "cell_type": "markdown",
   "id": "19316638",
   "metadata": {},
   "source": [
    "## Hospitals"
   ]
  },
  {
   "cell_type": "code",
   "execution_count": null,
   "id": "71071a9d",
   "metadata": {
    "ExecuteTime": {
     "end_time": "2021-08-02T04:15:07.792564Z",
     "start_time": "2021-08-02T04:15:07.786934Z"
    }
   },
   "outputs": [],
   "source": [
    "# info = [ 'hospitals',  ]\n",
    "\n",
    "# selected_items += [i for i in info if i not in selected_items]\n",
    "\n",
    "# for item in info:\n",
    "#     print('\\n\\n' + item)\n",
    "#     pprint(viewModel[item])"
   ]
  },
  {
   "cell_type": "markdown",
   "id": "a528422e",
   "metadata": {},
   "source": [
    "## Conditions&Procedures"
   ]
  },
  {
   "cell_type": "code",
   "execution_count": null,
   "id": "a91193a8",
   "metadata": {
    "ExecuteTime": {
     "end_time": "2021-08-02T04:15:08.170834Z",
     "start_time": "2021-08-02T04:15:08.167346Z"
    },
    "scrolled": true
   },
   "outputs": [],
   "source": [
    "# # not sure what they are, but keep them\n",
    "# info = [ \n",
    "#     'hasConditions', 'hasProcedures', 'conditionsAndProcedures', 'clinicalFocusItems' \n",
    "# ]\n",
    "\n",
    "# selected_items += [i for i in info if i not in selected_items]\n",
    "\n",
    "# for item in info:\n",
    "#     print('\\n\\n' + item)\n",
    "#     pprint(viewModel[item])"
   ]
  },
  {
   "cell_type": "markdown",
   "id": "390c6b7f",
   "metadata": {},
   "source": [
    "## Patients"
   ]
  },
  {
   "cell_type": "code",
   "execution_count": null,
   "id": "1756f5f4",
   "metadata": {
    "ExecuteTime": {
     "end_time": "2021-08-02T04:15:08.608945Z",
     "start_time": "2021-08-02T04:15:08.605885Z"
    }
   },
   "outputs": [],
   "source": [
    "\n",
    "# info = ['existingPatientPhone']\n",
    "\n",
    "\n",
    "# selected_items += [i for i in info if i not in selected_items]\n",
    "\n",
    "\n",
    "# for item in info:\n",
    "#     print('\\n\\n' + item)\n",
    "#     pprint(viewModel[item])\n",
    "    \n",
    "    "
   ]
  },
  {
   "cell_type": "markdown",
   "id": "9117b799",
   "metadata": {},
   "source": [
    "## Others"
   ]
  },
  {
   "cell_type": "code",
   "execution_count": null,
   "id": "c18d57d2",
   "metadata": {
    "ExecuteTime": {
     "end_time": "2021-08-02T04:15:09.038314Z",
     "start_time": "2021-08-02T04:15:09.034008Z"
    }
   },
   "outputs": [],
   "source": [
    "# info = [\n",
    "# 'readStoryScrolloffset', \n",
    "# 'sanctions', \n",
    "# 'shouldShowVideoContent', \n",
    "# 'showPatientVolumeData', 'showVisitingSection', \n",
    "# 'specialtyHasClinicalFocus', \n",
    "# 'specialtyHeaderText', \n",
    "# 'suppressCertifications', \n",
    "# 'suppressSurveys', \n",
    "# 'syndication', \n",
    "# 'testimonies', \n",
    "# 'uconnectEnvironment', \n",
    "# 'writeMd', \n",
    "# ]\n",
    "\n",
    "\n",
    "\n",
    "# selected_items += [i for i in info if i not in selected_items]\n",
    "\n",
    "\n",
    "\n",
    "# # print(newitem)\n",
    "\n",
    "# for item in info:\n",
    "#     print('\\n\\n' + item)\n",
    "#     pprint(viewModel[item])\n",
    "    \n",
    "    \n",
    "    \n",
    "    "
   ]
  },
  {
   "cell_type": "code",
   "execution_count": null,
   "id": "be19790b",
   "metadata": {
    "ExecuteTime": {
     "end_time": "2021-08-02T04:15:09.339068Z",
     "start_time": "2021-08-02T04:15:09.334284Z"
    }
   },
   "outputs": [],
   "source": [
    "# selected_items"
   ]
  },
  {
   "cell_type": "markdown",
   "id": "43a16886",
   "metadata": {},
   "source": [
    "# Xpath Data"
   ]
  },
  {
   "cell_type": "code",
   "execution_count": null,
   "id": "88ddc9e6",
   "metadata": {
    "ExecuteTime": {
     "end_time": "2021-08-02T04:15:10.363517Z",
     "start_time": "2021-08-02T04:15:10.343390Z"
    }
   },
   "outputs": [],
   "source": [
    "def process_xpath(response):\n",
    "\n",
    "\n",
    "    item2xpath = {\n",
    "        'biography': './/*[@data-qa-target=\"premium-biography\"]//text()',\n",
    "        # 'strengths_item': './/li[@class=\"provider-strengths-item\"]',\n",
    "        # 'rate_score': './/p[@class=\"score\"]//text()',\n",
    "        # 'rate_num': './/p[@class=\"survey-count\"]//text()',\n",
    "        # 'rate_details':'.//table[@class=\"rating-table\"]//text()', \n",
    "    }\n",
    "\n",
    "\n",
    "\n",
    "    itemselector2value = {\n",
    "        'biography': lambda x: x.extract(),\n",
    "        #  'strengths_item': lambda x: [''.join(i.xpath('.//div//text()').extract()[:4]) for i in x],\n",
    "        # 'rate_score': lambda x: float(x.extract()[0]), \n",
    "        # 'rate_num': lambda x: int(x.extract()[1]), \n",
    "        # 'rate_details': lambda x: x.extract(), \n",
    "    }\n",
    "\n",
    "\n",
    "    d = {}\n",
    "    for item, xpath in item2xpath.items():\n",
    "        # print('\\n')\n",
    "        # print(item)\n",
    "        selectors = response.xpath(xpath)#.extract()\n",
    "        values = itemselector2value[item](selectors)\n",
    "        d[item] = values\n",
    "        # print(values)\n",
    "        \n",
    "        \n",
    "    return d\n",
    "\n",
    "\n",
    "d = process_xpath(response)\n",
    "\n"
   ]
  },
  {
   "cell_type": "markdown",
   "id": "22cfcac7",
   "metadata": {},
   "source": [
    "# All In One"
   ]
  },
  {
   "cell_type": "code",
   "execution_count": null,
   "id": "a434e88f",
   "metadata": {
    "ExecuteTime": {
     "end_time": "2021-08-02T04:33:09.325358Z",
     "start_time": "2021-08-02T04:33:03.005554Z"
    }
   },
   "outputs": [],
   "source": [
    "import json\n",
    "\n",
    "\n",
    "def process_Json(response):\n",
    "    xpath = './/script[@type=\"text/javascript\"]//text()'\n",
    "    selectors = response.xpath(xpath)\n",
    "    js_data = [i for i in selectors.extract()[3].split('\\n')  if '= {' in i]\n",
    "    js_data = {t[0].strip(): json.loads(t[1][:-1]) for t in [i.split(' = ') for i in js_data]}\n",
    "    return js_data\n",
    "\n",
    "def process_Pes(Pes):\n",
    "    d = {}\n",
    "    Pes_Model = Pes['model']\n",
    "    overall = Pes_Model['overall']\n",
    "    for item in ['responseCount','reviewCount','actualScore','roundedScore',]:\n",
    "        d[item] = overall[item]\n",
    "        \n",
    "    d['score_aggregates'] = Pes_Model[\"surveyDistribution\"]['aggregates']\n",
    "    d['lastSurveyDate'] = Pes_Model['lastSurveyDate']\n",
    "    d['cards'] = Pes_Model['cards']\n",
    "    # at most 20 reviews\n",
    "    d['reviews'] = Pes['model']['comments']['results']\n",
    "    return d\n",
    "\n",
    "\n",
    "def process_viewModel(viewModel):\n",
    "    cols = ['npi', 'pwid', 'entityType', 'websiteUrl', 'logoUrl', 'imageUrl', \n",
    "     'providerUrl', 'displayName', 'displayNamePossessive', 'providerDisplayFullName', \n",
    "     'age', 'genderString', 'badges', 'languages', \n",
    "     'hasAutoBiography', 'aboutMe', 'aboutMeVideoUrl', \n",
    "     'aboutProvider', 'description', 'generatedbiography', 'autoBiography', 'cityNameAndState', \n",
    "     'officeLocations', 'officePhone', 'acceptsNewPatients', \n",
    "     'availability', \n",
    "     'practicingSpecialties', 'medicalSpecialty', \n",
    "     'awardsAndRecognitions', 'boardCertifications', 'insuranceAccepted', \n",
    "     'isPrimaryLocationMalpracticeCollected', 'malpractices', \n",
    "     'sponsorName', 'boardActions', 'memberships', \n",
    "     'education', 'hospitals', 'hasConditions', \n",
    "     'hasProcedures',  'existingPatientPhone', \n",
    "     'readStoryScrolloffset', 'sanctions', \n",
    "     'shouldShowVideoContent', 'showPatientVolumeData', 'showVisitingSection', \n",
    "     'specialtyHasClinicalFocus', 'specialtyHeaderText', 'suppressCertifications',\n",
    "     'suppressSurveys', 'syndication', 'testimonies', 'uconnectEnvironment', 'writeMd',\n",
    "     'conditionsAndProcedures', 'clinicalFocusItems',]\n",
    "    d = {}\n",
    "    for i in cols:\n",
    "        d[i] = viewModel[i]\n",
    "    return d\n",
    "\n",
    "\n",
    "def process_xpath(response):\n",
    "    item2xpath = {\n",
    "        'biography': './/*[@data-qa-target=\"premium-biography\"]//text()',\n",
    "        # 'strengths_item': './/li[@class=\"provider-strengths-item\"]',\n",
    "        # 'rate_score': './/p[@class=\"score\"]//text()',\n",
    "        # 'rate_num': './/p[@class=\"survey-count\"]//text()',\n",
    "        # 'rate_details':'.//table[@class=\"rating-table\"]//text()', \n",
    "    }\n",
    "    itemselector2value = {\n",
    "        'biography': lambda x: x.extract(),\n",
    "        #  'strengths_item': lambda x: [''.join(i.xpath('.//div//text()').extract()[:4]) for i in x],\n",
    "        # 'rate_score': lambda x: float(x.extract()[0]), \n",
    "        # 'rate_num': lambda x: int(x.extract()[1]), \n",
    "        # 'rate_details': lambda x: x.extract(), \n",
    "    }\n",
    "    d = {}\n",
    "    for item, xpath in item2xpath.items():\n",
    "        # print('\\n')\n",
    "        # print(item)\n",
    "        selectors = response.xpath(xpath)#.extract()\n",
    "        values = itemselector2value[item](selectors)\n",
    "        d[item] = values\n",
    "        # print(values)\n",
    "    return d\n",
    "\n",
    "\n",
    "\n",
    "def scrapy_healthgraders_physician(url):\n",
    "\n",
    "\n",
    "    # as we cannot use Download Middleware in Scrapy, requests are used here instead.\n",
    "    r = requests.get(url, headers = headers)\n",
    "    # load the text to scrapy-type response\n",
    "    response = TextResponse(r.url, body = r.text, encoding = 'utf-8')\n",
    "\n",
    "    js_data = process_Json(response)\n",
    "    # [i for i in js_data]\n",
    "    Pes = js_data['pageState.pes']\n",
    "    d1 = process_Pes(Pes)\n",
    "\n",
    "    viewModel = js_data['pageState.viewModel']\n",
    "    d2 = process_viewModel(viewModel)\n",
    "\n",
    "\n",
    "    d3 = process_xpath(response)\n",
    "\n",
    "    d = dict(d1, **d2, **d3)\n",
    "    return d\n",
    "\n",
    "\n",
    "def get_healthgraders_reviews(url, reviewCount):\n",
    "\n",
    "    review_url = 'https://www.healthgrades.com/api4/providerprofile/comments'\n",
    "    pwid = url.split('-')[-1]\n",
    "    # pagenum = 1\n",
    "    perPage = 10\n",
    "    \n",
    "    L = []\n",
    "    \n",
    "    for pagenum in range(1, int(reviewCount / perPage) + 2):\n",
    "        forms = {\n",
    "            'currentPage': str(pagenum), \n",
    "            'includeAllAnswers': 'ture',\n",
    "            'perPage': str(perPage),\n",
    "            'pwid': pwid.upper(),\n",
    "            'sortOption': str(1)\n",
    "        }\n",
    "        print(forms)\n",
    "\n",
    "        r = requests.post(review_url, headers = headers, data = forms)\n",
    "\n",
    "        d = r.json().get('results', [])\n",
    "        if type(d) != list: d = []\n",
    "        print(len(d))\n",
    "        L.append(d)\n",
    "        \n",
    "    return sum(L, [])\n",
    "\n",
    "\n",
    "\n",
    "D = {}\n",
    "\n",
    "\n",
    "for url in url_list:\n",
    "    print('\\n\\n' + url)\n",
    "    doc_info = scrapy_healthgraders_physician(url)\n",
    "    print('doctor name is: {}'.format(doc_info['providerDisplayFullName']))\n",
    "\n",
    "    \n",
    "    # need to further explore?\n",
    "    reviewCount = doc_info['reviewCount']\n",
    "    if reviewCount > len(doc_info['reviews']):\n",
    "        print('We need to collect more reviews: {} vs {}'.format(len(doc_info['reviews']), reviewCount))\n",
    "        reviews = get_healthgraders_reviews(url, reviewCount)  \n",
    "        \n",
    "        commentIds = [i['commentId'] for i in doc_info['reviews']]\n",
    "        for ind, commentId in enumerate(commentIds):\n",
    "            # print(commentId)\n",
    "            commentId_new = reviews[ind]['commentId']\n",
    "            # print(b)\n",
    "            assert commentId == commentId_new\n",
    "\n",
    "        assert len(reviews) == reviewCount\n",
    "        doc_info['reviews'] = reviews\n",
    "        \n",
    "    print('reivew number: {}'.format(len(doc_info['reviews'])))\n",
    "    doc_info['url'] = url\n",
    "    D[url] = doc_info\n",
    "    \n",
    "    \n"
   ]
  },
  {
   "cell_type": "code",
   "execution_count": null,
   "id": "c4d94874",
   "metadata": {
    "ExecuteTime": {
     "end_time": "2021-08-02T04:40:38.063064Z",
     "start_time": "2021-08-02T04:40:38.058710Z"
    }
   },
   "outputs": [],
   "source": [
    "print([i for i in doc_info])"
   ]
  },
  {
   "cell_type": "code",
   "execution_count": null,
   "id": "ecb40d6f",
   "metadata": {},
   "outputs": [],
   "source": []
  },
  {
   "cell_type": "code",
   "execution_count": null,
   "id": "37da7f3f",
   "metadata": {},
   "outputs": [],
   "source": []
  }
 ],
 "metadata": {
  "kernelspec": {
   "display_name": "Python 3 (ipykernel)",
   "language": "python",
   "name": "python3"
  },
  "language_info": {
   "codemirror_mode": {
    "name": "ipython",
    "version": 3
   },
   "file_extension": ".py",
   "mimetype": "text/x-python",
   "name": "python",
   "nbconvert_exporter": "python",
   "pygments_lexer": "ipython3",
   "version": "3.7.10"
  },
  "toc": {
   "base_numbering": 1,
   "nav_menu": {},
   "number_sections": true,
   "sideBar": true,
   "skip_h1_title": false,
   "title_cell": "Table of Contents",
   "title_sidebar": "Contents",
   "toc_cell": false,
   "toc_position": {},
   "toc_section_display": true,
   "toc_window_display": false
  }
 },
 "nbformat": 4,
 "nbformat_minor": 5
}
