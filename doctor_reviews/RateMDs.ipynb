{
 "cells": [
  {
   "cell_type": "markdown",
   "id": "de99db84",
   "metadata": {},
   "source": [
    "# Basic Information"
   ]
  },
  {
   "cell_type": "code",
   "execution_count": null,
   "id": "4e6bd564",
   "metadata": {
    "ExecuteTime": {
     "end_time": "2021-08-22T23:52:27.235406Z",
     "start_time": "2021-08-22T23:52:27.216350Z"
    }
   },
   "outputs": [],
   "source": [
    "ph_url = 'https://www.ratemds.com/doctor-ratings/128777/Dr-Arvind-Madaan-Charlottesville-VA.html'"
   ]
  },
  {
   "cell_type": "code",
   "execution_count": null,
   "id": "66d4bc97",
   "metadata": {
    "ExecuteTime": {
     "end_time": "2021-08-22T23:52:28.327879Z",
     "start_time": "2021-08-22T23:52:27.483333Z"
    }
   },
   "outputs": [],
   "source": [
    "import cloudscraper\n",
    "import requests\n",
    "import pandas as pd\n",
    "import re\n",
    "import json\n",
    "import requests\n",
    "from scrapy.http import TextResponse\n",
    "from pprint import pprint\n",
    "import cloudscraper\n",
    "import time\n",
    "import os\n",
    "import pandas as pd\n",
    "import json\n",
    "import argparse\n",
    "import random\n",
    "\n",
    "\n",
    "headers = {'User-Agent': 'Mozilla/5.0 (X11; CrOS x86_64 12871.102.0) AppleWebKit/537.36 (KHTML, like Gecko) Chrome/81.0.4044.141 Safari/537.36',}\n",
    "# headers = {'User-Agent': 'Mozilla/5.0',}\n",
    "\n",
    "\n",
    "try:\n",
    "    scraper = cloudscraper.create_scraper() \n",
    "    r = scraper.get(ph_url, headers = headers)\n",
    "    # load the text to scrapy-type response\n",
    "    response = TextResponse(r.url, body = r.text, encoding = 'utf-8')\n",
    "\n",
    "except:\n",
    "    print('Fail...')"
   ]
  },
  {
   "cell_type": "code",
   "execution_count": null,
   "id": "27dc21e1",
   "metadata": {
    "ExecuteTime": {
     "end_time": "2021-08-22T23:52:29.686609Z",
     "start_time": "2021-08-22T23:52:28.330064Z"
    }
   },
   "outputs": [],
   "source": [
    "def scrape_under_cloudflare_with_2captcha(url, \n",
    "                                          headers = headers, \n",
    "                                          min_sec = 10, \n",
    "                                          provider = None,\n",
    "                                          api_key = None):\n",
    "    print(\"Request url: {}\".format(url))\n",
    "    \n",
    "    while True:\n",
    "        scraper = cloudscraper.create_scraper(\n",
    "          interpreter='nodejs',\n",
    "          captcha={\n",
    "            'provider': provider,\n",
    "            'api_key': api_key,\n",
    "          }\n",
    "        )\n",
    "        try:\n",
    "            r = scraper.get(url, headers = headers, timeout = 10)\n",
    "            response = TextResponse(r.url, body = r.text, encoding = 'utf-8')\n",
    "            print(\"\\tSucc!!!\")\n",
    "            break\n",
    "            \n",
    "        except:\n",
    "            print(\"\\tFail...\")\n",
    "            second = random.randrange(min_sec, min_sec + 1)\n",
    "            time.sleep(second)\n",
    "            \n",
    "    return response\n",
    "\n",
    "min_sec = 0\n",
    "api_key = 'Your_API_Key'\n",
    "provider = '2captcha'\n",
    "\n",
    "\n",
    "response = scrape_under_cloudflare_with_2captcha(ph_url, \n",
    "                                                 headers = headers, \n",
    "                                                 min_sec = min_sec, \n",
    "                                                 provider = provider,\n",
    "                                                 api_key = api_key)"
   ]
  },
  {
   "cell_type": "code",
   "execution_count": null,
   "id": "13fbfe6c",
   "metadata": {
    "ExecuteTime": {
     "end_time": "2021-08-22T23:52:29.694273Z",
     "start_time": "2021-08-22T23:52:29.689907Z"
    }
   },
   "outputs": [],
   "source": [
    "# import json\n",
    "# with open('RateMD_Sample.html', 'w') as f:\n",
    "#     f.write(str(response.body.decode()))"
   ]
  },
  {
   "cell_type": "markdown",
   "id": "863197dc",
   "metadata": {},
   "source": [
    "# Json Information"
   ]
  },
  {
   "cell_type": "code",
   "execution_count": null,
   "id": "7e8f03b5",
   "metadata": {
    "ExecuteTime": {
     "end_time": "2021-08-22T23:52:29.721885Z",
     "start_time": "2021-08-22T23:52:29.698790Z"
    }
   },
   "outputs": [],
   "source": [
    "xpath = './/script//text()'\n",
    "selectors = response.xpath(xpath)\n",
    "\n",
    "js_texts = selectors.extract()\n",
    "js_texts = [i for i in js_texts]\n",
    "len(js_texts)"
   ]
  },
  {
   "cell_type": "code",
   "execution_count": null,
   "id": "e7671e15",
   "metadata": {
    "ExecuteTime": {
     "end_time": "2021-08-22T23:52:29.726144Z",
     "start_time": "2021-08-22T23:52:29.723607Z"
    }
   },
   "outputs": [],
   "source": [
    "# idx = 31\n",
    "# json_string = js_texts[idx]\n",
    "# doctorDetailSideAdData = [i for i in json_string.split('\\n') if 'window.DATA.doctorDetailSideAdData = JSON.parse(' in i][0]\n",
    "# doctorDetailProps = [i for i in json_string.split('\\n') if 'window.DATA.doctorDetailProps = JSON.parse(' in i][0]"
   ]
  },
  {
   "cell_type": "code",
   "execution_count": null,
   "id": "35d5ce45",
   "metadata": {
    "ExecuteTime": {
     "end_time": "2021-08-22T23:52:29.730303Z",
     "start_time": "2021-08-22T23:52:29.728264Z"
    }
   },
   "outputs": [],
   "source": [
    "doc_info = {}"
   ]
  },
  {
   "cell_type": "markdown",
   "id": "61b26055",
   "metadata": {},
   "source": [
    "## Meta Info"
   ]
  },
  {
   "cell_type": "code",
   "execution_count": null,
   "id": "6abede2d",
   "metadata": {
    "ExecuteTime": {
     "end_time": "2021-08-22T23:52:29.738565Z",
     "start_time": "2021-08-22T23:52:29.731398Z"
    }
   },
   "outputs": [],
   "source": [
    "# idx = 14\n",
    "json_string = [i for i in js_texts if 'aggregateRating' in i][0]\n",
    "# print(json_string)\n",
    "data = json.loads(json_string)\n",
    "\n",
    "\n",
    "ratingCount = int(data['aggregateRating']['ratingCount'])\n",
    "\n",
    "for col in ['address', 'image', 'name', 'telephone']:\n",
    "    doc_info[col] = data[col]\n",
    "    \n",
    "for col in ['bestRating', 'ratingCount', 'ratingValue']:\n",
    "    doc_info[col] = float(data['aggregateRating'][col])\n",
    "    \n",
    "doc_info"
   ]
  },
  {
   "cell_type": "markdown",
   "id": "d6ce007b",
   "metadata": {
    "ExecuteTime": {
     "end_time": "2021-08-22T22:33:48.821679Z",
     "start_time": "2021-08-22T22:33:48.816027Z"
    }
   },
   "source": [
    "## Doctor Info"
   ]
  },
  {
   "cell_type": "code",
   "execution_count": null,
   "id": "fb26f67c",
   "metadata": {
    "ExecuteTime": {
     "end_time": "2021-08-22T23:52:30.553692Z",
     "start_time": "2021-08-22T23:52:30.414212Z"
    },
    "scrolled": true
   },
   "outputs": [],
   "source": [
    "# idx = 19\n",
    "json_string = [i for i in js_texts if 'window.DATA.Header_props = JSON.parse(' in i][0]\n",
    "string_clean = json_string.split(\";\\n\")[1].split(' = JSON.parse(')[1][:-1]\n",
    "# string_clean\n",
    "\n",
    "x = string_clean\n",
    "x = json.loads(x)\n",
    "doctor_json = json.loads(x)['doctor']\n",
    "\n",
    "pprint(doctor_json)"
   ]
  },
  {
   "cell_type": "code",
   "execution_count": null,
   "id": "70f31a1a",
   "metadata": {
    "ExecuteTime": {
     "end_time": "2021-08-22T23:52:30.919826Z",
     "start_time": "2021-08-22T23:52:30.782455Z"
    }
   },
   "outputs": [],
   "source": [
    "for k, v in doctor_json.items():\n",
    "    doc_info[k] = v\n",
    "    \n",
    "pprint(doc_info)"
   ]
  },
  {
   "cell_type": "markdown",
   "id": "94988523",
   "metadata": {},
   "source": [
    "## Review Info"
   ]
  },
  {
   "cell_type": "code",
   "execution_count": null,
   "id": "5cda35dc",
   "metadata": {
    "ExecuteTime": {
     "end_time": "2021-08-22T23:52:31.995860Z",
     "start_time": "2021-08-22T23:52:31.989756Z"
    }
   },
   "outputs": [],
   "source": [
    "ph_url"
   ]
  },
  {
   "cell_type": "code",
   "execution_count": null,
   "id": "a08f96b0",
   "metadata": {
    "ExecuteTime": {
     "end_time": "2021-08-22T23:52:32.810583Z",
     "start_time": "2021-08-22T23:52:32.803233Z"
    }
   },
   "outputs": [],
   "source": [
    "ratingCount"
   ]
  },
  {
   "cell_type": "code",
   "execution_count": null,
   "id": "ef936752",
   "metadata": {
    "ExecuteTime": {
     "end_time": "2021-08-22T23:52:42.514087Z",
     "start_time": "2021-08-22T23:52:36.274144Z"
    }
   },
   "outputs": [],
   "source": [
    "def get_reviews_from_ph_url(ph_url, ratingCount, headers, min_sec, provider,  api_key ):\n",
    "    L = []\n",
    "    for page in range(int((ratingCount-1) / 10) + 1):\n",
    "        # print(page)\n",
    "        review_url = '{}?json=true&page={}'.format(ph_url, page)\n",
    "\n",
    "\n",
    "        # url = review_url\n",
    "        # print(url)\n",
    "        response = scrape_under_cloudflare_with_2captcha(review_url, \n",
    "                                                         headers = headers, \n",
    "                                                         min_sec = min_sec, \n",
    "                                                         provider = provider,\n",
    "                                                         api_key = api_key)\n",
    "        # have a look at its body\n",
    "        # print(str(response.body.decode()))\n",
    "        reviews = response.json()['results']\n",
    "        print('Get Reviews {} from last url.\\n'.format(len(reviews)))\n",
    "        L = L + reviews\n",
    "    return L\n",
    "\n",
    "\n",
    "reviews = get_reviews_from_ph_url(ph_url, ratingCount, headers, min_sec, provider,  api_key )"
   ]
  },
  {
   "cell_type": "code",
   "execution_count": null,
   "id": "130a11d0",
   "metadata": {
    "ExecuteTime": {
     "end_time": "2021-08-22T23:41:02.581036Z",
     "start_time": "2021-08-22T23:41:02.575958Z"
    }
   },
   "outputs": [],
   "source": [
    "len(L)"
   ]
  },
  {
   "cell_type": "markdown",
   "id": "d1a51eb7",
   "metadata": {},
   "source": [
    "# All In One"
   ]
  },
  {
   "cell_type": "code",
   "execution_count": null,
   "id": "f6a21580",
   "metadata": {
    "ExecuteTime": {
     "end_time": "2021-08-22T23:57:24.802730Z",
     "start_time": "2021-08-22T23:57:24.773545Z"
    }
   },
   "outputs": [],
   "source": [
    "import cloudscraper\n",
    "import requests\n",
    "import pandas as pd\n",
    "import re\n",
    "import json\n",
    "import requests\n",
    "from scrapy.http import TextResponse\n",
    "from pprint import pprint\n",
    "import cloudscraper\n",
    "import time\n",
    "import os\n",
    "import pandas as pd\n",
    "import json\n",
    "import argparse\n",
    "import random\n",
    "from datetime import datetime\n",
    "\n",
    "\n",
    "\n",
    "\n",
    "def scrape_under_cloudflare_with_2captcha(url, \n",
    "                                          headers = headers, \n",
    "                                          min_sec = 0, \n",
    "                                          provider = None,\n",
    "                                          api_key = None):\n",
    "    print(\"Request url: {}\".format(url))\n",
    "    \n",
    "    while True:\n",
    "        scraper = cloudscraper.create_scraper(\n",
    "          interpreter='nodejs',\n",
    "          captcha={\n",
    "            'provider': provider,\n",
    "            'api_key': api_key,\n",
    "          }\n",
    "        )\n",
    "        try:\n",
    "            r = scraper.get(url, headers = headers, timeout = 10)\n",
    "            response = TextResponse(r.url, body = r.text, encoding = 'utf-8')\n",
    "            print(\"\\tSucc!!!\")\n",
    "            break\n",
    "            \n",
    "        except:\n",
    "            print(\"\\tFail...\")\n",
    "            second = random.randrange(min_sec, min_sec + 1)\n",
    "            time.sleep(second)\n",
    "            \n",
    "    return response\n",
    "\n",
    "\n",
    "def get_reviews_from_ph_url(ph_url, ratingCount, headers, min_sec, provider,  api_key):\n",
    "    L = []\n",
    "    for page in range(int((ratingCount-1) / 10) + 1):\n",
    "        # print(page)\n",
    "        review_url = '{}?json=true&page={}'.format(ph_url, page)\n",
    "\n",
    "\n",
    "        # url = review_url\n",
    "        # print(url)\n",
    "        response = scrape_under_cloudflare_with_2captcha(review_url, \n",
    "                                                         headers = headers, \n",
    "                                                         min_sec = min_sec, \n",
    "                                                         provider = provider,\n",
    "                                                         api_key = api_key)\n",
    "        # have a look at its body\n",
    "        # print(str(response.body.decode()))\n",
    "        reviews = response.json()['results']\n",
    "        print('\\tGet Reviews {} from last url.'.format(len(reviews)))\n",
    "        L = L + reviews\n",
    "    return L\n",
    "\n",
    "\n",
    "def get_physician_info_from_ratemd_url(ph_url, headers, min_sec, provider, api_key):\n",
    "\n",
    "    doc_info = {}\n",
    "\n",
    "\n",
    "    response = scrape_under_cloudflare_with_2captcha(ph_url, \n",
    "                                                        headers = headers, \n",
    "                                                        min_sec = min_sec, \n",
    "                                                        provider = provider,\n",
    "                                                        api_key = api_key)\n",
    "    \n",
    "    xpath = './/script//text()'\n",
    "    selectors = response.xpath(xpath)\n",
    "\n",
    "    js_texts = selectors.extract()\n",
    "    js_texts = [i for i in js_texts]\n",
    "\n",
    "    # step 1:\n",
    "    json_string = [i for i in js_texts if 'aggregateRating' in i][0]\n",
    "    # print(json_string)\n",
    "    data = json.loads(json_string)\n",
    "\n",
    "\n",
    "    ratingCount = int(data['aggregateRating']['ratingCount'])\n",
    "\n",
    "    for col in ['address', 'image', 'name', 'telephone']:\n",
    "        doc_info[col] = data[col]\n",
    "        \n",
    "    for col in ['bestRating', 'ratingCount', 'ratingValue']:\n",
    "        doc_info[col] = float(data['aggregateRating'][col])\n",
    "\n",
    "    # step 2:\n",
    "    # idx = 19\n",
    "    json_string = [i for i in js_texts if 'window.DATA.Header_props = JSON.parse(' in i][0]\n",
    "    string_clean = json_string.split(\";\\n\")[1].split(' = JSON.parse(')[1][:-1]\n",
    "    # string_clean\n",
    "\n",
    "    x = string_clean\n",
    "    x = json.loads(x)\n",
    "    doctor_json = json.loads(x)['doctor']\n",
    "    for k, v in doctor_json.items():\n",
    "        doc_info[k] = v\n",
    "\n",
    "    reviews = get_reviews_from_ph_url(ph_url, ratingCount, headers, min_sec, provider,  api_key )\n",
    "    doc_info['reviews'] = reviews\n",
    "\n",
    "    return doc_info\n"
   ]
  },
  {
   "cell_type": "code",
   "execution_count": null,
   "id": "8765e23c",
   "metadata": {
    "ExecuteTime": {
     "end_time": "2021-08-22T23:57:32.495669Z",
     "start_time": "2021-08-22T23:57:25.906917Z"
    }
   },
   "outputs": [],
   "source": [
    "\n",
    "    \n",
    "headers = {'User-Agent': 'Mozilla/5.0 (X11; CrOS x86_64 12871.102.0) AppleWebKit/537.36 (KHTML, like Gecko) Chrome/81.0.4044.141 Safari/537.36',}\n",
    "min_sec = 0\n",
    "api_key = 'a0a94dedf2ad039c083871e62e3375bc'\n",
    "provider = '2captcha'\n",
    "\n",
    "\n",
    "\n",
    "ph_url = 'https://www.ratemds.com/doctor-ratings/128777/Dr-Arvind-Madaan-Charlottesville-VA.html'\n",
    "doc_info = get_physician_info_from_ratemd_url(ph_url, headers, min_sec, provider, api_key)\n",
    "\n",
    "print('Reviews: reported {} vs collected {}'.format(int(doc_info['ratingCount']), len(doc_info['reviews'])))\n",
    "           "
   ]
  }
 ],
 "metadata": {
  "kernelspec": {
   "display_name": "Python 3 (ipykernel)",
   "language": "python",
   "name": "python3"
  },
  "language_info": {
   "codemirror_mode": {
    "name": "ipython",
    "version": 3
   },
   "file_extension": ".py",
   "mimetype": "text/x-python",
   "name": "python",
   "nbconvert_exporter": "python",
   "pygments_lexer": "ipython3",
   "version": "3.7.10"
  },
  "toc": {
   "base_numbering": 1,
   "nav_menu": {},
   "number_sections": true,
   "sideBar": true,
   "skip_h1_title": false,
   "title_cell": "Table of Contents",
   "title_sidebar": "Contents",
   "toc_cell": false,
   "toc_position": {},
   "toc_section_display": true,
   "toc_window_display": false
  }
 },
 "nbformat": 4,
 "nbformat_minor": 5
}
