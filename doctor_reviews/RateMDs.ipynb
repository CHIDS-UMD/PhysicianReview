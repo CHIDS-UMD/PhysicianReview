{
 "cells": [
  {
   "cell_type": "markdown",
   "id": "de99db84",
   "metadata": {},
   "source": [
    "# Basic Information"
   ]
  },
  {
   "cell_type": "code",
   "execution_count": null,
   "id": "38a16880",
   "metadata": {
    "ExecuteTime": {
     "end_time": "2021-08-23T01:38:13.646232Z",
     "start_time": "2021-08-23T01:38:13.639527Z"
    }
   },
   "outputs": [],
   "source": [
    "ph_url = 'https://www.ratemds.com/doctor-ratings/128777/Dr-Arvind-Madaan-Charlottesville-VA.html'\n",
    "ph_url = 'https://www.ratemds.com/doctor-ratings/2607744/Dr-Bruce+D.-Larson-Seattle-WA.html'\n",
    "ph_url = 'https://www.ratemds.com/doctor-ratings/792542/dr-guerman-ermolenko-albany-ny.html/'"
   ]
  },
  {
   "cell_type": "code",
   "execution_count": null,
   "id": "66d4bc97",
   "metadata": {
    "ExecuteTime": {
     "end_time": "2021-08-23T01:38:15.059144Z",
     "start_time": "2021-08-23T01:38:14.016620Z"
    }
   },
   "outputs": [],
   "source": [
    "import cloudscraper\n",
    "import requests\n",
    "import pandas as pd\n",
    "import re\n",
    "import json\n",
    "import requests\n",
    "from scrapy.http import TextResponse\n",
    "from pprint import pprint\n",
    "import cloudscraper\n",
    "import time\n",
    "import os\n",
    "import pandas as pd\n",
    "import json\n",
    "import argparse\n",
    "import random\n",
    "\n",
    "\n",
    "headers = {'User-Agent': 'Mozilla/5.0 (X11; CrOS x86_64 12871.102.0) AppleWebKit/537.36 (KHTML, like Gecko) Chrome/81.0.4044.141 Safari/537.36',}\n",
    "# headers = {'User-Agent': 'Mozilla/5.0',}\n",
    "\n",
    "\n",
    "try:\n",
    "    scraper = cloudscraper.create_scraper() \n",
    "    r = scraper.get(ph_url, headers = headers)\n",
    "    # load the text to scrapy-type response\n",
    "    response = TextResponse(r.url, body = r.text, encoding = 'utf-8')\n",
    "\n",
    "except:\n",
    "    print('Fail...')"
   ]
  },
  {
   "cell_type": "code",
   "execution_count": null,
   "id": "7360563d",
   "metadata": {
    "ExecuteTime": {
     "end_time": "2021-08-23T01:38:16.985485Z",
     "start_time": "2021-08-23T01:38:15.062786Z"
    }
   },
   "outputs": [],
   "source": [
    "def scrape_under_cloudflare_with_2captcha(url, \n",
    "                                          headers = headers, \n",
    "                                          min_sec = 10, \n",
    "                                          provider = None,\n",
    "                                          api_key = None):\n",
    "    print(\"Request url: {}\".format(url))\n",
    "    \n",
    "    while True:\n",
    "        scraper = cloudscraper.create_scraper(\n",
    "          interpreter='nodejs',\n",
    "          captcha={\n",
    "            'provider': provider,\n",
    "            'api_key': api_key,\n",
    "          }\n",
    "        )\n",
    "        try:\n",
    "            r = scraper.get(url, headers = headers, timeout = 10)\n",
    "            response = TextResponse(r.url, body = r.text, encoding = 'utf-8')\n",
    "            print(\"\\tSucc!!!\")\n",
    "            break\n",
    "            \n",
    "        except:\n",
    "            print(\"\\tFail...\")\n",
    "            second = random.randrange(min_sec, min_sec + 1)\n",
    "            time.sleep(second)\n",
    "            \n",
    "    return response\n",
    "\n",
    "min_sec = 0\n",
    "api_key = 'Your_API_Key'\n",
    "provider = '2captcha'\n",
    "\n",
    "\n",
    "response = scrape_under_cloudflare_with_2captcha(ph_url, \n",
    "                                                 headers = headers, \n",
    "                                                 min_sec = min_sec, \n",
    "                                                 provider = provider,\n",
    "                                                 api_key = api_key)"
   ]
  },
  {
   "cell_type": "code",
   "execution_count": null,
   "id": "7804cee0",
   "metadata": {
    "ExecuteTime": {
     "end_time": "2021-08-23T01:38:16.992879Z",
     "start_time": "2021-08-23T01:38:16.989165Z"
    }
   },
   "outputs": [],
   "source": [
    "# import json\n",
    "# with open('RateMD_Sample.html', 'w') as f:\n",
    "#     f.write(str(response.body.decode()))"
   ]
  },
  {
   "cell_type": "markdown",
   "id": "5114043f",
   "metadata": {},
   "source": [
    "# Json Information"
   ]
  },
  {
   "cell_type": "code",
   "execution_count": null,
   "id": "50df8303",
   "metadata": {
    "ExecuteTime": {
     "end_time": "2021-08-23T01:38:17.033980Z",
     "start_time": "2021-08-23T01:38:17.012112Z"
    }
   },
   "outputs": [],
   "source": [
    "xpath = './/script//text()'\n",
    "selectors = response.xpath(xpath)\n",
    "\n",
    "js_texts = selectors.extract()\n",
    "js_texts = [i for i in js_texts]\n",
    "len(js_texts)"
   ]
  },
  {
   "cell_type": "code",
   "execution_count": null,
   "id": "5ee631fa",
   "metadata": {
    "ExecuteTime": {
     "end_time": "2021-08-23T01:38:17.187619Z",
     "start_time": "2021-08-23T01:38:17.183973Z"
    }
   },
   "outputs": [],
   "source": [
    "# idx = 31\n",
    "# json_string = js_texts[idx]\n",
    "# doctorDetailSideAdData = [i for i in json_string.split('\\n') if 'window.DATA.doctorDetailSideAdData = JSON.parse(' in i][0]\n",
    "# doctorDetailProps = [i for i in json_string.split('\\n') if 'window.DATA.doctorDetailProps = JSON.parse(' in i][0]"
   ]
  },
  {
   "cell_type": "code",
   "execution_count": null,
   "id": "12f33d36",
   "metadata": {
    "ExecuteTime": {
     "end_time": "2021-08-23T01:38:17.418293Z",
     "start_time": "2021-08-23T01:38:17.411855Z"
    }
   },
   "outputs": [],
   "source": [
    "doc_info = {}"
   ]
  },
  {
   "cell_type": "markdown",
   "id": "629cb980",
   "metadata": {},
   "source": [
    "## Meta Info"
   ]
  },
  {
   "cell_type": "code",
   "execution_count": null,
   "id": "6743b969",
   "metadata": {
    "ExecuteTime": {
     "end_time": "2021-08-23T01:38:18.264906Z",
     "start_time": "2021-08-23T01:38:18.254544Z"
    }
   },
   "outputs": [],
   "source": [
    "js_texts[14]"
   ]
  },
  {
   "cell_type": "code",
   "execution_count": null,
   "id": "ce87e429",
   "metadata": {
    "ExecuteTime": {
     "end_time": "2021-08-23T01:38:18.943552Z",
     "start_time": "2021-08-23T01:38:18.934656Z"
    }
   },
   "outputs": [],
   "source": [
    "[i for i in js_texts if '\"@context\"' in i]\n"
   ]
  },
  {
   "cell_type": "code",
   "execution_count": null,
   "id": "acdb2b23",
   "metadata": {
    "ExecuteTime": {
     "end_time": "2021-08-23T01:12:19.722690Z",
     "start_time": "2021-08-23T01:12:19.703109Z"
    }
   },
   "outputs": [],
   "source": [
    "# idx = 14\n",
    "json_string = [i for i in js_texts if '\"@context\"' in i][0]\n",
    "# print(json_string)\n",
    "data = json.loads(json_string)\n",
    "\n",
    "\n",
    "if 'aggregateRating' in data:\n",
    "    ratingCount = int(data['aggregateRating']['ratingCount'])\n",
    "else:\n",
    "    ratingCount = 0\n",
    "\n",
    "for col in ['address', 'image', 'name', 'telephone']:\n",
    "    doc_info[col] = data[col]\n",
    "    \n",
    "if ratingCount != 0:\n",
    "    for col in ['bestRating', 'ratingCount', 'ratingValue']:\n",
    "        doc_info[col] = float(data['aggregateRating'][col])\n",
    "else:\n",
    "    doc_info['ratingCount'] = 0.\n",
    "\n",
    "doc_info"
   ]
  },
  {
   "cell_type": "markdown",
   "id": "83d358b1",
   "metadata": {
    "ExecuteTime": {
     "end_time": "2021-08-22T22:33:48.821679Z",
     "start_time": "2021-08-22T22:33:48.816027Z"
    }
   },
   "source": [
    "## Doctor Info"
   ]
  },
  {
   "cell_type": "code",
   "execution_count": null,
   "id": "7546f95c",
   "metadata": {
    "ExecuteTime": {
     "end_time": "2021-08-23T01:12:22.663859Z",
     "start_time": "2021-08-23T01:12:22.641987Z"
    },
    "scrolled": true
   },
   "outputs": [],
   "source": [
    "# idx = 19\n",
    "json_string = [i for i in js_texts if 'window.DATA.Header_props = JSON.parse(' in i][0]\n",
    "string_clean = json_string.split(\";\\n\")[1].split(' = JSON.parse(')[1][:-1]\n",
    "# string_clean\n",
    "\n",
    "x = string_clean\n",
    "x = json.loads(x)\n",
    "doctor_json = json.loads(x)['doctor']\n",
    "\n",
    "pprint(doctor_json)"
   ]
  },
  {
   "cell_type": "code",
   "execution_count": null,
   "id": "b67321bb",
   "metadata": {
    "ExecuteTime": {
     "end_time": "2021-08-23T01:12:23.614838Z",
     "start_time": "2021-08-23T01:12:23.584836Z"
    }
   },
   "outputs": [],
   "source": [
    "for k, v in doctor_json.items():\n",
    "    doc_info[k] = v\n",
    "    \n",
    "pprint(doc_info)"
   ]
  },
  {
   "cell_type": "markdown",
   "id": "e3b4a705",
   "metadata": {},
   "source": [
    "## Review Info"
   ]
  },
  {
   "cell_type": "code",
   "execution_count": null,
   "id": "f41efef5",
   "metadata": {
    "ExecuteTime": {
     "end_time": "2021-08-23T01:12:24.645337Z",
     "start_time": "2021-08-23T01:12:24.638598Z"
    }
   },
   "outputs": [],
   "source": [
    "ph_url"
   ]
  },
  {
   "cell_type": "code",
   "execution_count": null,
   "id": "76bcbf0e",
   "metadata": {
    "ExecuteTime": {
     "end_time": "2021-08-23T01:12:25.100838Z",
     "start_time": "2021-08-23T01:12:25.095647Z"
    }
   },
   "outputs": [],
   "source": [
    "ratingCount"
   ]
  },
  {
   "cell_type": "code",
   "execution_count": null,
   "id": "6c259449",
   "metadata": {
    "ExecuteTime": {
     "start_time": "2021-08-23T01:12:26.390Z"
    }
   },
   "outputs": [],
   "source": [
    "def get_reviews_from_ph_url(ph_url, ratingCount, headers, min_sec, provider,  api_key ):\n",
    "    L = []\n",
    "    for page in range(int((ratingCount-1) / 10) + 1):\n",
    "        # print(page)\n",
    "        review_url = '{}?json=true&page={}'.format(ph_url, page)\n",
    "\n",
    "\n",
    "        # url = review_url\n",
    "        # print(url)\n",
    "        response = scrape_under_cloudflare_with_2captcha(review_url, \n",
    "                                                         headers = headers, \n",
    "                                                         min_sec = min_sec, \n",
    "                                                         provider = provider,\n",
    "                                                         api_key = api_key)\n",
    "        # have a look at its body\n",
    "        # print(str(response.body.decode()))\n",
    "        reviews = response.json()['results']\n",
    "        print('Get Reviews {} from last url.\\n'.format(len(reviews)))\n",
    "        L = L + reviews\n",
    "    return L\n",
    "\n",
    "\n",
    "if ratingCount > 0:\n",
    "    reviews = get_reviews_from_ph_url(ph_url, ratingCount, headers, min_sec, provider,  api_key )\n",
    "else:\n",
    "    reviews = []\n",
    "    \n",
    "    \n",
    "print(len(reviews))"
   ]
  },
  {
   "cell_type": "markdown",
   "id": "5e7297bc",
   "metadata": {},
   "source": [
    "# All In One"
   ]
  },
  {
   "cell_type": "code",
   "execution_count": null,
   "id": "2baa67c0",
   "metadata": {
    "ExecuteTime": {
     "end_time": "2021-08-23T00:26:04.618771Z",
     "start_time": "2021-08-23T00:26:04.583520Z"
    }
   },
   "outputs": [],
   "source": [
    "import cloudscraper\n",
    "import requests\n",
    "import pandas as pd\n",
    "import re\n",
    "import json\n",
    "import requests\n",
    "from scrapy.http import TextResponse\n",
    "from pprint import pprint\n",
    "import cloudscraper\n",
    "import time\n",
    "import os\n",
    "import pandas as pd\n",
    "import json\n",
    "import argparse\n",
    "import random\n",
    "from datetime import datetime\n",
    "\n",
    "\n",
    "\n",
    "headers = {\n",
    "    \"Connection\": \"keep-alive\",\n",
    "    \"Cache-Control\": \"max-age=0\",\n",
    "    \"Accept\": \"text/html,application/xhtml+xml,application/xml;q=0.9,image/webp,*/*;q=0.8\",\n",
    "    \"User-Agent\": \"Mozilla/5.0 (Windows NT 6.1; WOW64) AppleWebKit/537.36 (KHTML, like Gecko) Chrome/34.0.1847.131 Safari/537.36\",\n",
    "}\n",
    "\n",
    "\n",
    "\n",
    "def scrape_under_cloudflare_with_2captcha(url, \n",
    "                                          headers = headers, \n",
    "                                          min_sec = 0, \n",
    "                                          provider = None,\n",
    "                                          api_key = None):\n",
    "    print(\"Request url: {}\".format(url))\n",
    "    \n",
    "    while True:\n",
    "        scraper = cloudscraper.create_scraper(\n",
    "          interpreter='nodejs',\n",
    "          captcha={\n",
    "            'provider': provider,\n",
    "            'api_key': api_key,\n",
    "          }\n",
    "        )\n",
    "        try:\n",
    "            r = scraper.get(url, headers = headers, timeout = 10)\n",
    "            response = TextResponse(r.url, body = r.text, encoding = 'utf-8')\n",
    "            print(\"\\tSucc!!!\")\n",
    "            break\n",
    "            \n",
    "        except:\n",
    "            print(\"\\tFail...\")\n",
    "            second = random.randrange(min_sec, min_sec + 1)\n",
    "            time.sleep(second)\n",
    "            \n",
    "    return response\n",
    "\n",
    "\n",
    "def get_reviews_from_ph_url(ph_url, ratingCount, headers, min_sec, provider,  api_key):\n",
    "    L = []\n",
    "    for page in range(int((ratingCount-1) / 10) + 1):\n",
    "        # print(page)\n",
    "        review_url = '{}?json=true&page={}'.format(ph_url, page)\n",
    "\n",
    "\n",
    "        # url = review_url\n",
    "        # print(url)\n",
    "        response = scrape_under_cloudflare_with_2captcha(review_url, \n",
    "                                                         headers = headers, \n",
    "                                                         min_sec = min_sec, \n",
    "                                                         provider = provider,\n",
    "                                                         api_key = api_key)\n",
    "        # have a look at its body\n",
    "        # print(str(response.body.decode()))\n",
    "        reviews = response.json()['results']\n",
    "        print('\\tGet Reviews {} from last url.'.format(len(reviews)))\n",
    "        L = L + reviews\n",
    "    return L\n",
    "\n",
    "\n",
    "def get_physician_info_from_ratemd_url(ph_url, headers, min_sec, provider, api_key):\n",
    "\n",
    "    doc_info = {}\n",
    "\n",
    "\n",
    "    response = scrape_under_cloudflare_with_2captcha(ph_url, \n",
    "                                                        headers = headers, \n",
    "                                                        min_sec = min_sec, \n",
    "                                                        provider = provider,\n",
    "                                                        api_key = api_key)\n",
    "    \n",
    "    xpath = './/script//text()'\n",
    "    selectors = response.xpath(xpath)\n",
    "\n",
    "    js_texts = selectors.extract()\n",
    "    js_texts = [i for i in js_texts]\n",
    "\n",
    "    # step 1:\n",
    "    # idx = 14\n",
    "    json_string = [i for i in js_texts if '\"@context\"' in i][0]\n",
    "    # print(json_string)\n",
    "    data = json.loads(json_string)\n",
    "\n",
    "\n",
    "    if 'aggregateRating' in data:\n",
    "        ratingCount = int(data['aggregateRating']['ratingCount'])\n",
    "    else:\n",
    "        ratingCount = 0\n",
    "\n",
    "    for col in ['address', 'image', 'name', 'telephone']:\n",
    "        doc_info[col] = data[col]\n",
    "\n",
    "    if ratingCount != 0:\n",
    "        for col in ['bestRating', 'ratingCount', 'ratingValue']:\n",
    "            doc_info[col] = float(data['aggregateRating'][col])\n",
    "    else:\n",
    "        doc_info['ratingCount'] = 0.\n",
    "\n",
    "\n",
    "    # step 2:\n",
    "    # idx = 19\n",
    "    json_string = [i for i in js_texts if 'window.DATA.Header_props = JSON.parse(' in i][0]\n",
    "    string_clean = json_string.split(\";\\n\")[1].split(' = JSON.parse(')[1][:-1]\n",
    "    # string_clean\n",
    "\n",
    "    x = string_clean\n",
    "    x = json.loads(x)\n",
    "    doctor_json = json.loads(x)['doctor']\n",
    "    for k, v in doctor_json.items():\n",
    "        doc_info[k] = v\n",
    "\n",
    "    if ratingCount > 0:\n",
    "        reviews = get_reviews_from_ph_url(ph_url, ratingCount, headers, min_sec, provider,  api_key )\n",
    "        doc_info['reviews'] = reviews\n",
    "    else:\n",
    "        doc_info['reviews'] = []\n",
    "\n",
    "    return doc_info\n"
   ]
  },
  {
   "cell_type": "code",
   "execution_count": null,
   "id": "034665d0",
   "metadata": {
    "ExecuteTime": {
     "end_time": "2021-08-23T00:26:11.297807Z",
     "start_time": "2021-08-23T00:26:09.400212Z"
    }
   },
   "outputs": [],
   "source": [
    "\n",
    "headers = {'User-Agent': 'Mozilla/5.0 (X11; CrOS x86_64 12871.102.0) AppleWebKit/537.36 (KHTML, like Gecko) Chrome/81.0.4044.141 Safari/537.36',}\n",
    "min_sec = 0\n",
    "api_key = 'Your API Key'\n",
    "provider = '2captcha'\n",
    "\n",
    "\n",
    "\n",
    "# ph_url = 'https://www.ratemds.com/doctor-ratings/128777/Dr-Arvind-Madaan-Charlottesville-VA.html'\n",
    "doc_info = get_physician_info_from_ratemd_url(ph_url, headers, min_sec, provider, api_key)\n",
    "\n",
    "print('Reviews: reported {} vs collected {}'.format(int(doc_info['ratingCount']), len(doc_info['reviews'])))\n",
    "           "
   ]
  }
 ],
 "metadata": {
  "kernelspec": {
   "display_name": "Python 3 (ipykernel)",
   "language": "python",
   "name": "python3"
  },
  "language_info": {
   "codemirror_mode": {
    "name": "ipython",
    "version": 3
   },
   "file_extension": ".py",
   "mimetype": "text/x-python",
   "name": "python",
   "nbconvert_exporter": "python",
   "pygments_lexer": "ipython3",
   "version": "3.7.10"
  },
  "toc": {
   "base_numbering": 1,
   "nav_menu": {},
   "number_sections": true,
   "sideBar": true,
   "skip_h1_title": false,
   "title_cell": "Table of Contents",
   "title_sidebar": "Contents",
   "toc_cell": false,
   "toc_position": {},
   "toc_section_display": true,
   "toc_window_display": false
  }
 },
 "nbformat": 4,
 "nbformat_minor": 5
}
