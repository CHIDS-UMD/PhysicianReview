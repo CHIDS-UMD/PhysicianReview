{
 "cells": [
  {
   "cell_type": "code",
   "execution_count": null,
   "id": "33a176ba",
   "metadata": {
    "ExecuteTime": {
     "end_time": "2021-08-10T21:07:28.244398Z",
     "start_time": "2021-08-10T21:07:28.212555Z"
    }
   },
   "outputs": [],
   "source": [
    "url_list = ['https://www.ratemds.com/doctor-ratings/3447786/KATHERINE+R.-WILSON-Lawrenceville-GA.html/',\n",
    " 'https://www.ratemds.com/doctor-ratings/352148/Dr-Jeffrey-Heit-Philadelphia-PA.html',\n",
    " 'https://www.ratemds.com/doctor-ratings/94311/Dr-Charles+W.-Robinett-Birmingham-AL.html',\n",
    " 'https://www.ratemds.com/doctor-ratings/2903514/dr-wanda-vaughn-fort+smith-ar.html/',\n",
    " 'https://www.ratemds.com/doctor-ratings/2461756/Dr-SACHIN+S.-JOGAL-Milwaukee-WI.html/',\n",
    " 'https://www.ratemds.com/doctor-ratings/3696255/MICHELLE+J.-AN}DERSEN-St.+Johns-MI.html/',\n",
    " 'https://www.ratemds.com/doctor-ratings/3081449/Dr-JONATHAN+L.-SUSA-Hudson-WI.html',\n",
    " 'https://www.ratemds.com/doctor-ratings/3213435/dr-amy+m.-olin-indianapolis-in.html/',\n",
    " 'https://www.ratemds.com/doctor-ratings/3710444/JACQUELINE+K.-SHANNON-Milwaukee-WI.html',]\n",
    "\n",
    "url_list"
   ]
  },
  {
   "cell_type": "code",
   "execution_count": null,
   "id": "219ebc91",
   "metadata": {
    "ExecuteTime": {
     "end_time": "2021-08-11T04:36:21.593981Z",
     "start_time": "2021-08-11T04:36:21.364720Z"
    }
   },
   "outputs": [],
   "source": [
    "import requests\n",
    "from bs4 import BeautifulSoup\n",
    "import json\n",
    "\n",
    "headers = {\n",
    "    'User-Agent': 'Mozilla/5.0',\n",
    "}\n",
    "\n",
    "url = 'https://www.ratemds.com/doctor-ratings/dr-zach-olesinski-toronto-on-ca'\n",
    "url = 'https://www.zocdoc.com/'\n",
    "\n",
    "\n",
    "url = 'https://www.ratemds.com/doctor-ratings/2068/Dr-Katherine+D.-Sherif-Philadelphia-PA.html/?json=true&page=3'\n",
    "r = requests.get(url, headers=headers)\n",
    "# r.status_code\n"
   ]
  },
  {
   "cell_type": "code",
   "execution_count": null,
   "id": "bb9276ed",
   "metadata": {
    "ExecuteTime": {
     "end_time": "2021-08-11T04:36:33.604861Z",
     "start_time": "2021-08-11T04:36:33.594308Z"
    }
   },
   "outputs": [],
   "source": [
    "r.text"
   ]
  },
  {
   "cell_type": "code",
   "execution_count": null,
   "id": "2e340fb5",
   "metadata": {
    "ExecuteTime": {
     "end_time": "2021-08-11T03:17:59.943073Z",
     "start_time": "2021-08-11T03:17:59.933799Z"
    }
   },
   "outputs": [],
   "source": [
    "path = 'Output/MD_Doc2GoogleURL_healthgrades_HealthGraders_s10000_e20000.p'\n",
    "\n",
    "\n",
    "import pandas as pd\n",
    "\n",
    "# pd.read_pickle(path)#.to_csv('tmp.csv')"
   ]
  },
  {
   "cell_type": "markdown",
   "id": "de99db84",
   "metadata": {},
   "source": [
    "# Basic Information"
   ]
  },
  {
   "cell_type": "code",
   "execution_count": null,
   "id": "bb5bd675",
   "metadata": {
    "ExecuteTime": {
     "end_time": "2021-08-11T04:46:36.475174Z",
     "start_time": "2021-08-11T04:46:35.954683Z"
    }
   },
   "outputs": [],
   "source": [
    "import requests\n",
    "import pandas as pd\n",
    "# from bs4 import BeautifulSoup\n",
    "import re\n",
    "import json\n",
    "import requests\n",
    "from scrapy.http import TextResponse\n",
    "from pprint import pprint\n",
    "import cloudscraper\n",
    "import random\n",
    "import time\n",
    "# we need headers to disguise our bot as a browser\n",
    "\n",
    "# HEADERS = {\n",
    "#     \"Connection\": \"keep-alive\",\n",
    "#     \"Cache-Control\": \"max-age=0\",\n",
    "#     \"Accept\": \"text/html,application/xhtml+xml,application/xml;q=0.9,image/webp,*/*;q=0.8\",\n",
    "#     \"User-Agent\": \"Mozilla/5.0 (Windows NT 6.1; WOW64) AppleWebKit/537.36 (KHTML, like Gecko) Chrome/34.0.1847.131 Safari/537.36\",\n",
    "#     \"Accept-Encoding\": \"gzip,deflate,sdch\",\n",
    "#     \"Accept-Language\": \"zh-CN,zh;q=0.8,en-US;q=0.6,en;q=0.4,zh-TW;q=0.2\",\n",
    "# }\n",
    "\n",
    "\n",
    "HEADERS = {'User-Agent': 'Mozilla/5.0 (X11; CrOS x86_64 12871.102.0) AppleWebKit/537.36 (KHTML, like Gecko) Chrome/81.0.4044.141 Safari/537.36',}\n",
    "\n",
    "\n",
    "def scrape_under_cloudflare(url, headers = HEADERS, min_sec = 10):\n",
    "    print(\"Request url: {}\".format(url))\n",
    "    \n",
    "    while True:\n",
    "        scraper = cloudscraper.create_scraper()\n",
    "        scraper = cloudscraper.create_scraper(\n",
    "            browser={\n",
    "                'browser': 'chrome',\n",
    "                'platform': 'android',\n",
    "                'desktop': False\n",
    "            }\n",
    "        )\n",
    "        \n",
    "        r = scraper.get(url, headers = headers)\n",
    "        # load the text to scrapy-type response\n",
    "        response = TextResponse(r.url, body = r.text, encoding = 'utf-8')\n",
    "\n",
    "        if 'Attention Required! | Cloudflare' not in str(response.body.decode()):\n",
    "            print(\"\\tSucc: {}\".format(url))\n",
    "            break\n",
    "        else:\n",
    "            print(\"\\tFail: {}\".format(url))\n",
    "            second = random.randrange(min_sec, min_sec + 1)\n",
    "            time.sleep(second)\n",
    "            \n",
    "    return response\n"
   ]
  },
  {
   "cell_type": "code",
   "execution_count": null,
   "id": "66d4bc97",
   "metadata": {
    "ExecuteTime": {
     "start_time": "2021-08-11T04:46:52.701Z"
    }
   },
   "outputs": [],
   "source": [
    "import cloudscraper\n",
    "\n",
    "\n",
    "url = 'https://www.ratemds.com/doctor-ratings/3447786/KATHERINE+R.-WILSON-Lawrenceville-GA.html/'\n",
    "\n",
    "scraper = cloudscraper.create_scraper(\n",
    "    browser={\n",
    "        'browser': 'chrome',\n",
    "        'platform': 'android',\n",
    "        'desktop': False\n",
    "    }\n",
    ")\n",
    "\n",
    "print(url)\n",
    "r = scraper.get(url, headers = HEADERS)"
   ]
  },
  {
   "cell_type": "code",
   "execution_count": null,
   "id": "d045256b",
   "metadata": {
    "ExecuteTime": {
     "end_time": "2021-08-10T21:06:35.345053Z",
     "start_time": "2021-08-10T21:06:35.215718Z"
    }
   },
   "outputs": [],
   "source": [
    "url = 'https://www.ratemds.com/doctor-ratings/3447786/KATHERINE+R.-WILSON-Lawrenceville-GA.html/'\n",
    "\n",
    "r = requests.get(url, headers = HEADERS)\n",
    "\n",
    "\n",
    "# load the text to scrapy-type response\n",
    "response = TextResponse(r.url, body = r.text, encoding = 'utf-8')\n",
    "\n",
    "# have a look at its body\n",
    "print(str(response.body.decode()))"
   ]
  }
 ],
 "metadata": {
  "kernelspec": {
   "display_name": "Python 3 (ipykernel)",
   "language": "python",
   "name": "python3"
  },
  "language_info": {
   "codemirror_mode": {
    "name": "ipython",
    "version": 3
   },
   "file_extension": ".py",
   "mimetype": "text/x-python",
   "name": "python",
   "nbconvert_exporter": "python",
   "pygments_lexer": "ipython3",
   "version": "3.7.10"
  },
  "toc": {
   "base_numbering": 1,
   "nav_menu": {},
   "number_sections": true,
   "sideBar": true,
   "skip_h1_title": false,
   "title_cell": "Table of Contents",
   "title_sidebar": "Contents",
   "toc_cell": false,
   "toc_position": {},
   "toc_section_display": true,
   "toc_window_display": false
  }
 },
 "nbformat": 4,
 "nbformat_minor": 5
}
